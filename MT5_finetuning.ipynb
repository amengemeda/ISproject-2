{
  "nbformat": 4,
  "nbformat_minor": 0,
  "metadata": {
    "colab": {
      "provenance": [],
      "collapsed_sections": [],
      "include_colab_link": true
    },
    "kernelspec": {
      "name": "python3",
      "display_name": "Python 3"
    },
    "language_info": {
      "name": "python"
    },
    "widgets": {
      "application/vnd.jupyter.widget-state+json": {
        "e8135a44ccc04089b148fcdaaa0ae494": {
          "model_module": "@jupyter-widgets/controls",
          "model_name": "HBoxModel",
          "model_module_version": "1.5.0",
          "state": {
            "_dom_classes": [],
            "_model_module": "@jupyter-widgets/controls",
            "_model_module_version": "1.5.0",
            "_model_name": "HBoxModel",
            "_view_count": null,
            "_view_module": "@jupyter-widgets/controls",
            "_view_module_version": "1.5.0",
            "_view_name": "HBoxView",
            "box_style": "",
            "children": [
              "IPY_MODEL_4ddc3ed2d1124d4387a4ee085140a48f",
              "IPY_MODEL_64db1f5b96b442919240d416e87616f6",
              "IPY_MODEL_c774888785cc4135ae8984fdfa9a1264"
            ],
            "layout": "IPY_MODEL_2f462a0aae494460aa9191ec57042c7d"
          }
        },
        "4ddc3ed2d1124d4387a4ee085140a48f": {
          "model_module": "@jupyter-widgets/controls",
          "model_name": "HTMLModel",
          "model_module_version": "1.5.0",
          "state": {
            "_dom_classes": [],
            "_model_module": "@jupyter-widgets/controls",
            "_model_module_version": "1.5.0",
            "_model_name": "HTMLModel",
            "_view_count": null,
            "_view_module": "@jupyter-widgets/controls",
            "_view_module_version": "1.5.0",
            "_view_name": "HTMLView",
            "description": "",
            "description_tooltip": null,
            "layout": "IPY_MODEL_6006d1688179458db83bb60e930c9f0c",
            "placeholder": "​",
            "style": "IPY_MODEL_dcda76810ece48bb9086fbd5987baccb",
            "value": ""
          }
        },
        "64db1f5b96b442919240d416e87616f6": {
          "model_module": "@jupyter-widgets/controls",
          "model_name": "FloatProgressModel",
          "model_module_version": "1.5.0",
          "state": {
            "_dom_classes": [],
            "_model_module": "@jupyter-widgets/controls",
            "_model_module_version": "1.5.0",
            "_model_name": "FloatProgressModel",
            "_view_count": null,
            "_view_module": "@jupyter-widgets/controls",
            "_view_module_version": "1.5.0",
            "_view_name": "ProgressView",
            "bar_style": "success",
            "description": "",
            "description_tooltip": null,
            "layout": "IPY_MODEL_e1c3ad3cc45741d2a2b761cba4d2d254",
            "max": 1,
            "min": 0,
            "orientation": "horizontal",
            "style": "IPY_MODEL_9acb846a63594c489acbf5e304a16a5b",
            "value": 0
          }
        },
        "c774888785cc4135ae8984fdfa9a1264": {
          "model_module": "@jupyter-widgets/controls",
          "model_name": "HTMLModel",
          "model_module_version": "1.5.0",
          "state": {
            "_dom_classes": [],
            "_model_module": "@jupyter-widgets/controls",
            "_model_module_version": "1.5.0",
            "_model_name": "HTMLModel",
            "_view_count": null,
            "_view_module": "@jupyter-widgets/controls",
            "_view_module_version": "1.5.0",
            "_view_name": "HTMLView",
            "description": "",
            "description_tooltip": null,
            "layout": "IPY_MODEL_4ba4ad46ad5748e9863be66f5356d49c",
            "placeholder": "​",
            "style": "IPY_MODEL_a9a8ea311f1443f6ac0664e38f9182e5",
            "value": " 0/0 [00:00&lt;?, ?it/s]"
          }
        },
        "2f462a0aae494460aa9191ec57042c7d": {
          "model_module": "@jupyter-widgets/base",
          "model_name": "LayoutModel",
          "model_module_version": "1.2.0",
          "state": {
            "_model_module": "@jupyter-widgets/base",
            "_model_module_version": "1.2.0",
            "_model_name": "LayoutModel",
            "_view_count": null,
            "_view_module": "@jupyter-widgets/base",
            "_view_module_version": "1.2.0",
            "_view_name": "LayoutView",
            "align_content": null,
            "align_items": null,
            "align_self": null,
            "border": null,
            "bottom": null,
            "display": null,
            "flex": null,
            "flex_flow": null,
            "grid_area": null,
            "grid_auto_columns": null,
            "grid_auto_flow": null,
            "grid_auto_rows": null,
            "grid_column": null,
            "grid_gap": null,
            "grid_row": null,
            "grid_template_areas": null,
            "grid_template_columns": null,
            "grid_template_rows": null,
            "height": null,
            "justify_content": null,
            "justify_items": null,
            "left": null,
            "margin": null,
            "max_height": null,
            "max_width": null,
            "min_height": null,
            "min_width": null,
            "object_fit": null,
            "object_position": null,
            "order": null,
            "overflow": null,
            "overflow_x": null,
            "overflow_y": null,
            "padding": null,
            "right": null,
            "top": null,
            "visibility": null,
            "width": null
          }
        },
        "6006d1688179458db83bb60e930c9f0c": {
          "model_module": "@jupyter-widgets/base",
          "model_name": "LayoutModel",
          "model_module_version": "1.2.0",
          "state": {
            "_model_module": "@jupyter-widgets/base",
            "_model_module_version": "1.2.0",
            "_model_name": "LayoutModel",
            "_view_count": null,
            "_view_module": "@jupyter-widgets/base",
            "_view_module_version": "1.2.0",
            "_view_name": "LayoutView",
            "align_content": null,
            "align_items": null,
            "align_self": null,
            "border": null,
            "bottom": null,
            "display": null,
            "flex": null,
            "flex_flow": null,
            "grid_area": null,
            "grid_auto_columns": null,
            "grid_auto_flow": null,
            "grid_auto_rows": null,
            "grid_column": null,
            "grid_gap": null,
            "grid_row": null,
            "grid_template_areas": null,
            "grid_template_columns": null,
            "grid_template_rows": null,
            "height": null,
            "justify_content": null,
            "justify_items": null,
            "left": null,
            "margin": null,
            "max_height": null,
            "max_width": null,
            "min_height": null,
            "min_width": null,
            "object_fit": null,
            "object_position": null,
            "order": null,
            "overflow": null,
            "overflow_x": null,
            "overflow_y": null,
            "padding": null,
            "right": null,
            "top": null,
            "visibility": null,
            "width": null
          }
        },
        "dcda76810ece48bb9086fbd5987baccb": {
          "model_module": "@jupyter-widgets/controls",
          "model_name": "DescriptionStyleModel",
          "model_module_version": "1.5.0",
          "state": {
            "_model_module": "@jupyter-widgets/controls",
            "_model_module_version": "1.5.0",
            "_model_name": "DescriptionStyleModel",
            "_view_count": null,
            "_view_module": "@jupyter-widgets/base",
            "_view_module_version": "1.2.0",
            "_view_name": "StyleView",
            "description_width": ""
          }
        },
        "e1c3ad3cc45741d2a2b761cba4d2d254": {
          "model_module": "@jupyter-widgets/base",
          "model_name": "LayoutModel",
          "model_module_version": "1.2.0",
          "state": {
            "_model_module": "@jupyter-widgets/base",
            "_model_module_version": "1.2.0",
            "_model_name": "LayoutModel",
            "_view_count": null,
            "_view_module": "@jupyter-widgets/base",
            "_view_module_version": "1.2.0",
            "_view_name": "LayoutView",
            "align_content": null,
            "align_items": null,
            "align_self": null,
            "border": null,
            "bottom": null,
            "display": null,
            "flex": null,
            "flex_flow": null,
            "grid_area": null,
            "grid_auto_columns": null,
            "grid_auto_flow": null,
            "grid_auto_rows": null,
            "grid_column": null,
            "grid_gap": null,
            "grid_row": null,
            "grid_template_areas": null,
            "grid_template_columns": null,
            "grid_template_rows": null,
            "height": null,
            "justify_content": null,
            "justify_items": null,
            "left": null,
            "margin": null,
            "max_height": null,
            "max_width": null,
            "min_height": null,
            "min_width": null,
            "object_fit": null,
            "object_position": null,
            "order": null,
            "overflow": null,
            "overflow_x": null,
            "overflow_y": null,
            "padding": null,
            "right": null,
            "top": null,
            "visibility": null,
            "width": "20px"
          }
        },
        "9acb846a63594c489acbf5e304a16a5b": {
          "model_module": "@jupyter-widgets/controls",
          "model_name": "ProgressStyleModel",
          "model_module_version": "1.5.0",
          "state": {
            "_model_module": "@jupyter-widgets/controls",
            "_model_module_version": "1.5.0",
            "_model_name": "ProgressStyleModel",
            "_view_count": null,
            "_view_module": "@jupyter-widgets/base",
            "_view_module_version": "1.2.0",
            "_view_name": "StyleView",
            "bar_color": null,
            "description_width": ""
          }
        },
        "4ba4ad46ad5748e9863be66f5356d49c": {
          "model_module": "@jupyter-widgets/base",
          "model_name": "LayoutModel",
          "model_module_version": "1.2.0",
          "state": {
            "_model_module": "@jupyter-widgets/base",
            "_model_module_version": "1.2.0",
            "_model_name": "LayoutModel",
            "_view_count": null,
            "_view_module": "@jupyter-widgets/base",
            "_view_module_version": "1.2.0",
            "_view_name": "LayoutView",
            "align_content": null,
            "align_items": null,
            "align_self": null,
            "border": null,
            "bottom": null,
            "display": null,
            "flex": null,
            "flex_flow": null,
            "grid_area": null,
            "grid_auto_columns": null,
            "grid_auto_flow": null,
            "grid_auto_rows": null,
            "grid_column": null,
            "grid_gap": null,
            "grid_row": null,
            "grid_template_areas": null,
            "grid_template_columns": null,
            "grid_template_rows": null,
            "height": null,
            "justify_content": null,
            "justify_items": null,
            "left": null,
            "margin": null,
            "max_height": null,
            "max_width": null,
            "min_height": null,
            "min_width": null,
            "object_fit": null,
            "object_position": null,
            "order": null,
            "overflow": null,
            "overflow_x": null,
            "overflow_y": null,
            "padding": null,
            "right": null,
            "top": null,
            "visibility": null,
            "width": null
          }
        },
        "a9a8ea311f1443f6ac0664e38f9182e5": {
          "model_module": "@jupyter-widgets/controls",
          "model_name": "DescriptionStyleModel",
          "model_module_version": "1.5.0",
          "state": {
            "_model_module": "@jupyter-widgets/controls",
            "_model_module_version": "1.5.0",
            "_model_name": "DescriptionStyleModel",
            "_view_count": null,
            "_view_module": "@jupyter-widgets/base",
            "_view_module_version": "1.2.0",
            "_view_name": "StyleView",
            "description_width": ""
          }
        },
        "331d723ad7df4853858cf6223c240a9b": {
          "model_module": "@jupyter-widgets/controls",
          "model_name": "HBoxModel",
          "model_module_version": "1.5.0",
          "state": {
            "_dom_classes": [],
            "_model_module": "@jupyter-widgets/controls",
            "_model_module_version": "1.5.0",
            "_model_name": "HBoxModel",
            "_view_count": null,
            "_view_module": "@jupyter-widgets/controls",
            "_view_module_version": "1.5.0",
            "_view_name": "HBoxView",
            "box_style": "",
            "children": [
              "IPY_MODEL_82bcec3516d343ba9b84b939b2aba4ea",
              "IPY_MODEL_125986f759c44b51830f07b0cc5402c5",
              "IPY_MODEL_48855bd5f8034a4ebe4d83296f414f63"
            ],
            "layout": "IPY_MODEL_6d95baa64b1a4eeea0bae63bcd18917e"
          }
        },
        "82bcec3516d343ba9b84b939b2aba4ea": {
          "model_module": "@jupyter-widgets/controls",
          "model_name": "HTMLModel",
          "model_module_version": "1.5.0",
          "state": {
            "_dom_classes": [],
            "_model_module": "@jupyter-widgets/controls",
            "_model_module_version": "1.5.0",
            "_model_name": "HTMLModel",
            "_view_count": null,
            "_view_module": "@jupyter-widgets/controls",
            "_view_module_version": "1.5.0",
            "_view_name": "HTMLView",
            "description": "",
            "description_tooltip": null,
            "layout": "IPY_MODEL_3da6508abe124579b425e31e02575a07",
            "placeholder": "​",
            "style": "IPY_MODEL_bf76bc69f8f842a892562a150e8f7876",
            "value": "100%"
          }
        },
        "125986f759c44b51830f07b0cc5402c5": {
          "model_module": "@jupyter-widgets/controls",
          "model_name": "FloatProgressModel",
          "model_module_version": "1.5.0",
          "state": {
            "_dom_classes": [],
            "_model_module": "@jupyter-widgets/controls",
            "_model_module_version": "1.5.0",
            "_model_name": "FloatProgressModel",
            "_view_count": null,
            "_view_module": "@jupyter-widgets/controls",
            "_view_module_version": "1.5.0",
            "_view_name": "ProgressView",
            "bar_style": "success",
            "description": "",
            "description_tooltip": null,
            "layout": "IPY_MODEL_e3c09c20362c47838ebf72ad0815ab5e",
            "max": 1802,
            "min": 0,
            "orientation": "horizontal",
            "style": "IPY_MODEL_dee1c727366048fb82a0be2b39629b99",
            "value": 1802
          }
        },
        "48855bd5f8034a4ebe4d83296f414f63": {
          "model_module": "@jupyter-widgets/controls",
          "model_name": "HTMLModel",
          "model_module_version": "1.5.0",
          "state": {
            "_dom_classes": [],
            "_model_module": "@jupyter-widgets/controls",
            "_model_module_version": "1.5.0",
            "_model_name": "HTMLModel",
            "_view_count": null,
            "_view_module": "@jupyter-widgets/controls",
            "_view_module_version": "1.5.0",
            "_view_name": "HTMLView",
            "description": "",
            "description_tooltip": null,
            "layout": "IPY_MODEL_38e81b5942a44f2bac4fefd5133e7d6f",
            "placeholder": "​",
            "style": "IPY_MODEL_125a6dfcd7ca4a0fb3d43e9d59612593",
            "value": " 1802/1802 [09:02&lt;00:00,  1.29s/it]"
          }
        },
        "6d95baa64b1a4eeea0bae63bcd18917e": {
          "model_module": "@jupyter-widgets/base",
          "model_name": "LayoutModel",
          "model_module_version": "1.2.0",
          "state": {
            "_model_module": "@jupyter-widgets/base",
            "_model_module_version": "1.2.0",
            "_model_name": "LayoutModel",
            "_view_count": null,
            "_view_module": "@jupyter-widgets/base",
            "_view_module_version": "1.2.0",
            "_view_name": "LayoutView",
            "align_content": null,
            "align_items": null,
            "align_self": null,
            "border": null,
            "bottom": null,
            "display": null,
            "flex": null,
            "flex_flow": null,
            "grid_area": null,
            "grid_auto_columns": null,
            "grid_auto_flow": null,
            "grid_auto_rows": null,
            "grid_column": null,
            "grid_gap": null,
            "grid_row": null,
            "grid_template_areas": null,
            "grid_template_columns": null,
            "grid_template_rows": null,
            "height": null,
            "justify_content": null,
            "justify_items": null,
            "left": null,
            "margin": null,
            "max_height": null,
            "max_width": null,
            "min_height": null,
            "min_width": null,
            "object_fit": null,
            "object_position": null,
            "order": null,
            "overflow": null,
            "overflow_x": null,
            "overflow_y": null,
            "padding": null,
            "right": null,
            "top": null,
            "visibility": null,
            "width": null
          }
        },
        "3da6508abe124579b425e31e02575a07": {
          "model_module": "@jupyter-widgets/base",
          "model_name": "LayoutModel",
          "model_module_version": "1.2.0",
          "state": {
            "_model_module": "@jupyter-widgets/base",
            "_model_module_version": "1.2.0",
            "_model_name": "LayoutModel",
            "_view_count": null,
            "_view_module": "@jupyter-widgets/base",
            "_view_module_version": "1.2.0",
            "_view_name": "LayoutView",
            "align_content": null,
            "align_items": null,
            "align_self": null,
            "border": null,
            "bottom": null,
            "display": null,
            "flex": null,
            "flex_flow": null,
            "grid_area": null,
            "grid_auto_columns": null,
            "grid_auto_flow": null,
            "grid_auto_rows": null,
            "grid_column": null,
            "grid_gap": null,
            "grid_row": null,
            "grid_template_areas": null,
            "grid_template_columns": null,
            "grid_template_rows": null,
            "height": null,
            "justify_content": null,
            "justify_items": null,
            "left": null,
            "margin": null,
            "max_height": null,
            "max_width": null,
            "min_height": null,
            "min_width": null,
            "object_fit": null,
            "object_position": null,
            "order": null,
            "overflow": null,
            "overflow_x": null,
            "overflow_y": null,
            "padding": null,
            "right": null,
            "top": null,
            "visibility": null,
            "width": null
          }
        },
        "bf76bc69f8f842a892562a150e8f7876": {
          "model_module": "@jupyter-widgets/controls",
          "model_name": "DescriptionStyleModel",
          "model_module_version": "1.5.0",
          "state": {
            "_model_module": "@jupyter-widgets/controls",
            "_model_module_version": "1.5.0",
            "_model_name": "DescriptionStyleModel",
            "_view_count": null,
            "_view_module": "@jupyter-widgets/base",
            "_view_module_version": "1.2.0",
            "_view_name": "StyleView",
            "description_width": ""
          }
        },
        "e3c09c20362c47838ebf72ad0815ab5e": {
          "model_module": "@jupyter-widgets/base",
          "model_name": "LayoutModel",
          "model_module_version": "1.2.0",
          "state": {
            "_model_module": "@jupyter-widgets/base",
            "_model_module_version": "1.2.0",
            "_model_name": "LayoutModel",
            "_view_count": null,
            "_view_module": "@jupyter-widgets/base",
            "_view_module_version": "1.2.0",
            "_view_name": "LayoutView",
            "align_content": null,
            "align_items": null,
            "align_self": null,
            "border": null,
            "bottom": null,
            "display": null,
            "flex": null,
            "flex_flow": null,
            "grid_area": null,
            "grid_auto_columns": null,
            "grid_auto_flow": null,
            "grid_auto_rows": null,
            "grid_column": null,
            "grid_gap": null,
            "grid_row": null,
            "grid_template_areas": null,
            "grid_template_columns": null,
            "grid_template_rows": null,
            "height": null,
            "justify_content": null,
            "justify_items": null,
            "left": null,
            "margin": null,
            "max_height": null,
            "max_width": null,
            "min_height": null,
            "min_width": null,
            "object_fit": null,
            "object_position": null,
            "order": null,
            "overflow": null,
            "overflow_x": null,
            "overflow_y": null,
            "padding": null,
            "right": null,
            "top": null,
            "visibility": null,
            "width": null
          }
        },
        "dee1c727366048fb82a0be2b39629b99": {
          "model_module": "@jupyter-widgets/controls",
          "model_name": "ProgressStyleModel",
          "model_module_version": "1.5.0",
          "state": {
            "_model_module": "@jupyter-widgets/controls",
            "_model_module_version": "1.5.0",
            "_model_name": "ProgressStyleModel",
            "_view_count": null,
            "_view_module": "@jupyter-widgets/base",
            "_view_module_version": "1.2.0",
            "_view_name": "StyleView",
            "bar_color": null,
            "description_width": ""
          }
        },
        "38e81b5942a44f2bac4fefd5133e7d6f": {
          "model_module": "@jupyter-widgets/base",
          "model_name": "LayoutModel",
          "model_module_version": "1.2.0",
          "state": {
            "_model_module": "@jupyter-widgets/base",
            "_model_module_version": "1.2.0",
            "_model_name": "LayoutModel",
            "_view_count": null,
            "_view_module": "@jupyter-widgets/base",
            "_view_module_version": "1.2.0",
            "_view_name": "LayoutView",
            "align_content": null,
            "align_items": null,
            "align_self": null,
            "border": null,
            "bottom": null,
            "display": null,
            "flex": null,
            "flex_flow": null,
            "grid_area": null,
            "grid_auto_columns": null,
            "grid_auto_flow": null,
            "grid_auto_rows": null,
            "grid_column": null,
            "grid_gap": null,
            "grid_row": null,
            "grid_template_areas": null,
            "grid_template_columns": null,
            "grid_template_rows": null,
            "height": null,
            "justify_content": null,
            "justify_items": null,
            "left": null,
            "margin": null,
            "max_height": null,
            "max_width": null,
            "min_height": null,
            "min_width": null,
            "object_fit": null,
            "object_position": null,
            "order": null,
            "overflow": null,
            "overflow_x": null,
            "overflow_y": null,
            "padding": null,
            "right": null,
            "top": null,
            "visibility": null,
            "width": null
          }
        },
        "125a6dfcd7ca4a0fb3d43e9d59612593": {
          "model_module": "@jupyter-widgets/controls",
          "model_name": "DescriptionStyleModel",
          "model_module_version": "1.5.0",
          "state": {
            "_model_module": "@jupyter-widgets/controls",
            "_model_module_version": "1.5.0",
            "_model_name": "DescriptionStyleModel",
            "_view_count": null,
            "_view_module": "@jupyter-widgets/base",
            "_view_module_version": "1.2.0",
            "_view_name": "StyleView",
            "description_width": ""
          }
        },
        "2e97abd6b88b4f33819d54ab585839a0": {
          "model_module": "@jupyter-widgets/controls",
          "model_name": "HBoxModel",
          "model_module_version": "1.5.0",
          "state": {
            "_dom_classes": [],
            "_model_module": "@jupyter-widgets/controls",
            "_model_module_version": "1.5.0",
            "_model_name": "HBoxModel",
            "_view_count": null,
            "_view_module": "@jupyter-widgets/controls",
            "_view_module_version": "1.5.0",
            "_view_name": "HBoxView",
            "box_style": "",
            "children": [
              "IPY_MODEL_fb7ec5ae647a4672971f5f17c708905a",
              "IPY_MODEL_2a71dd1ec4524319a56477d2c462a9bf",
              "IPY_MODEL_8ddf98f7311a42f5aa83132bfc8954fb"
            ],
            "layout": "IPY_MODEL_dfa6f83673a94452bcbbca8686bdd586"
          }
        },
        "fb7ec5ae647a4672971f5f17c708905a": {
          "model_module": "@jupyter-widgets/controls",
          "model_name": "HTMLModel",
          "model_module_version": "1.5.0",
          "state": {
            "_dom_classes": [],
            "_model_module": "@jupyter-widgets/controls",
            "_model_module_version": "1.5.0",
            "_model_name": "HTMLModel",
            "_view_count": null,
            "_view_module": "@jupyter-widgets/controls",
            "_view_module_version": "1.5.0",
            "_view_name": "HTMLView",
            "description": "",
            "description_tooltip": null,
            "layout": "IPY_MODEL_d7e66e3536f94799a48b0b771ff4660a",
            "placeholder": "​",
            "style": "IPY_MODEL_431a67e1b6a9425882e3977a6c64d3ac",
            "value": "100%"
          }
        },
        "2a71dd1ec4524319a56477d2c462a9bf": {
          "model_module": "@jupyter-widgets/controls",
          "model_name": "FloatProgressModel",
          "model_module_version": "1.5.0",
          "state": {
            "_dom_classes": [],
            "_model_module": "@jupyter-widgets/controls",
            "_model_module_version": "1.5.0",
            "_model_name": "FloatProgressModel",
            "_view_count": null,
            "_view_module": "@jupyter-widgets/controls",
            "_view_module_version": "1.5.0",
            "_view_name": "ProgressView",
            "bar_style": "success",
            "description": "",
            "description_tooltip": null,
            "layout": "IPY_MODEL_8d4b2b8712924d91994f3526fc07874b",
            "max": 1802,
            "min": 0,
            "orientation": "horizontal",
            "style": "IPY_MODEL_65de7f0ef50d4398bb1b42f65666c1cf",
            "value": 1802
          }
        },
        "8ddf98f7311a42f5aa83132bfc8954fb": {
          "model_module": "@jupyter-widgets/controls",
          "model_name": "HTMLModel",
          "model_module_version": "1.5.0",
          "state": {
            "_dom_classes": [],
            "_model_module": "@jupyter-widgets/controls",
            "_model_module_version": "1.5.0",
            "_model_name": "HTMLModel",
            "_view_count": null,
            "_view_module": "@jupyter-widgets/controls",
            "_view_module_version": "1.5.0",
            "_view_name": "HTMLView",
            "description": "",
            "description_tooltip": null,
            "layout": "IPY_MODEL_1a228eabb6604c8abd27b2b87724e828",
            "placeholder": "​",
            "style": "IPY_MODEL_8bf77d50f8fe4290b6915d1dccec799e",
            "value": " 1802/1802 [08:54&lt;00:00,  1.03it/s]"
          }
        },
        "dfa6f83673a94452bcbbca8686bdd586": {
          "model_module": "@jupyter-widgets/base",
          "model_name": "LayoutModel",
          "model_module_version": "1.2.0",
          "state": {
            "_model_module": "@jupyter-widgets/base",
            "_model_module_version": "1.2.0",
            "_model_name": "LayoutModel",
            "_view_count": null,
            "_view_module": "@jupyter-widgets/base",
            "_view_module_version": "1.2.0",
            "_view_name": "LayoutView",
            "align_content": null,
            "align_items": null,
            "align_self": null,
            "border": null,
            "bottom": null,
            "display": null,
            "flex": null,
            "flex_flow": null,
            "grid_area": null,
            "grid_auto_columns": null,
            "grid_auto_flow": null,
            "grid_auto_rows": null,
            "grid_column": null,
            "grid_gap": null,
            "grid_row": null,
            "grid_template_areas": null,
            "grid_template_columns": null,
            "grid_template_rows": null,
            "height": null,
            "justify_content": null,
            "justify_items": null,
            "left": null,
            "margin": null,
            "max_height": null,
            "max_width": null,
            "min_height": null,
            "min_width": null,
            "object_fit": null,
            "object_position": null,
            "order": null,
            "overflow": null,
            "overflow_x": null,
            "overflow_y": null,
            "padding": null,
            "right": null,
            "top": null,
            "visibility": null,
            "width": null
          }
        },
        "d7e66e3536f94799a48b0b771ff4660a": {
          "model_module": "@jupyter-widgets/base",
          "model_name": "LayoutModel",
          "model_module_version": "1.2.0",
          "state": {
            "_model_module": "@jupyter-widgets/base",
            "_model_module_version": "1.2.0",
            "_model_name": "LayoutModel",
            "_view_count": null,
            "_view_module": "@jupyter-widgets/base",
            "_view_module_version": "1.2.0",
            "_view_name": "LayoutView",
            "align_content": null,
            "align_items": null,
            "align_self": null,
            "border": null,
            "bottom": null,
            "display": null,
            "flex": null,
            "flex_flow": null,
            "grid_area": null,
            "grid_auto_columns": null,
            "grid_auto_flow": null,
            "grid_auto_rows": null,
            "grid_column": null,
            "grid_gap": null,
            "grid_row": null,
            "grid_template_areas": null,
            "grid_template_columns": null,
            "grid_template_rows": null,
            "height": null,
            "justify_content": null,
            "justify_items": null,
            "left": null,
            "margin": null,
            "max_height": null,
            "max_width": null,
            "min_height": null,
            "min_width": null,
            "object_fit": null,
            "object_position": null,
            "order": null,
            "overflow": null,
            "overflow_x": null,
            "overflow_y": null,
            "padding": null,
            "right": null,
            "top": null,
            "visibility": null,
            "width": null
          }
        },
        "431a67e1b6a9425882e3977a6c64d3ac": {
          "model_module": "@jupyter-widgets/controls",
          "model_name": "DescriptionStyleModel",
          "model_module_version": "1.5.0",
          "state": {
            "_model_module": "@jupyter-widgets/controls",
            "_model_module_version": "1.5.0",
            "_model_name": "DescriptionStyleModel",
            "_view_count": null,
            "_view_module": "@jupyter-widgets/base",
            "_view_module_version": "1.2.0",
            "_view_name": "StyleView",
            "description_width": ""
          }
        },
        "8d4b2b8712924d91994f3526fc07874b": {
          "model_module": "@jupyter-widgets/base",
          "model_name": "LayoutModel",
          "model_module_version": "1.2.0",
          "state": {
            "_model_module": "@jupyter-widgets/base",
            "_model_module_version": "1.2.0",
            "_model_name": "LayoutModel",
            "_view_count": null,
            "_view_module": "@jupyter-widgets/base",
            "_view_module_version": "1.2.0",
            "_view_name": "LayoutView",
            "align_content": null,
            "align_items": null,
            "align_self": null,
            "border": null,
            "bottom": null,
            "display": null,
            "flex": null,
            "flex_flow": null,
            "grid_area": null,
            "grid_auto_columns": null,
            "grid_auto_flow": null,
            "grid_auto_rows": null,
            "grid_column": null,
            "grid_gap": null,
            "grid_row": null,
            "grid_template_areas": null,
            "grid_template_columns": null,
            "grid_template_rows": null,
            "height": null,
            "justify_content": null,
            "justify_items": null,
            "left": null,
            "margin": null,
            "max_height": null,
            "max_width": null,
            "min_height": null,
            "min_width": null,
            "object_fit": null,
            "object_position": null,
            "order": null,
            "overflow": null,
            "overflow_x": null,
            "overflow_y": null,
            "padding": null,
            "right": null,
            "top": null,
            "visibility": null,
            "width": null
          }
        },
        "65de7f0ef50d4398bb1b42f65666c1cf": {
          "model_module": "@jupyter-widgets/controls",
          "model_name": "ProgressStyleModel",
          "model_module_version": "1.5.0",
          "state": {
            "_model_module": "@jupyter-widgets/controls",
            "_model_module_version": "1.5.0",
            "_model_name": "ProgressStyleModel",
            "_view_count": null,
            "_view_module": "@jupyter-widgets/base",
            "_view_module_version": "1.2.0",
            "_view_name": "StyleView",
            "bar_color": null,
            "description_width": ""
          }
        },
        "1a228eabb6604c8abd27b2b87724e828": {
          "model_module": "@jupyter-widgets/base",
          "model_name": "LayoutModel",
          "model_module_version": "1.2.0",
          "state": {
            "_model_module": "@jupyter-widgets/base",
            "_model_module_version": "1.2.0",
            "_model_name": "LayoutModel",
            "_view_count": null,
            "_view_module": "@jupyter-widgets/base",
            "_view_module_version": "1.2.0",
            "_view_name": "LayoutView",
            "align_content": null,
            "align_items": null,
            "align_self": null,
            "border": null,
            "bottom": null,
            "display": null,
            "flex": null,
            "flex_flow": null,
            "grid_area": null,
            "grid_auto_columns": null,
            "grid_auto_flow": null,
            "grid_auto_rows": null,
            "grid_column": null,
            "grid_gap": null,
            "grid_row": null,
            "grid_template_areas": null,
            "grid_template_columns": null,
            "grid_template_rows": null,
            "height": null,
            "justify_content": null,
            "justify_items": null,
            "left": null,
            "margin": null,
            "max_height": null,
            "max_width": null,
            "min_height": null,
            "min_width": null,
            "object_fit": null,
            "object_position": null,
            "order": null,
            "overflow": null,
            "overflow_x": null,
            "overflow_y": null,
            "padding": null,
            "right": null,
            "top": null,
            "visibility": null,
            "width": null
          }
        },
        "8bf77d50f8fe4290b6915d1dccec799e": {
          "model_module": "@jupyter-widgets/controls",
          "model_name": "DescriptionStyleModel",
          "model_module_version": "1.5.0",
          "state": {
            "_model_module": "@jupyter-widgets/controls",
            "_model_module_version": "1.5.0",
            "_model_name": "DescriptionStyleModel",
            "_view_count": null,
            "_view_module": "@jupyter-widgets/base",
            "_view_module_version": "1.2.0",
            "_view_name": "StyleView",
            "description_width": ""
          }
        },
        "dee0a9676d4641d69944387c8477ff73": {
          "model_module": "@jupyter-widgets/controls",
          "model_name": "HBoxModel",
          "model_module_version": "1.5.0",
          "state": {
            "_dom_classes": [],
            "_model_module": "@jupyter-widgets/controls",
            "_model_module_version": "1.5.0",
            "_model_name": "HBoxModel",
            "_view_count": null,
            "_view_module": "@jupyter-widgets/controls",
            "_view_module_version": "1.5.0",
            "_view_name": "HBoxView",
            "box_style": "",
            "children": [
              "IPY_MODEL_9497f2662f7a4769afceb57b662f852e",
              "IPY_MODEL_2d7de5e520624655b7cf9ca67a5495c9",
              "IPY_MODEL_3e17c9cf624b4e6a85d299568d284195"
            ],
            "layout": "IPY_MODEL_34f8ef6c60754aa8bc69b3c464080194"
          }
        },
        "9497f2662f7a4769afceb57b662f852e": {
          "model_module": "@jupyter-widgets/controls",
          "model_name": "HTMLModel",
          "model_module_version": "1.5.0",
          "state": {
            "_dom_classes": [],
            "_model_module": "@jupyter-widgets/controls",
            "_model_module_version": "1.5.0",
            "_model_name": "HTMLModel",
            "_view_count": null,
            "_view_module": "@jupyter-widgets/controls",
            "_view_module_version": "1.5.0",
            "_view_name": "HTMLView",
            "description": "",
            "description_tooltip": null,
            "layout": "IPY_MODEL_6a494a8df1024cd497daf53f56203a75",
            "placeholder": "​",
            "style": "IPY_MODEL_a2181060312549999df5f30234cd7330",
            "value": "100%"
          }
        },
        "2d7de5e520624655b7cf9ca67a5495c9": {
          "model_module": "@jupyter-widgets/controls",
          "model_name": "FloatProgressModel",
          "model_module_version": "1.5.0",
          "state": {
            "_dom_classes": [],
            "_model_module": "@jupyter-widgets/controls",
            "_model_module_version": "1.5.0",
            "_model_name": "FloatProgressModel",
            "_view_count": null,
            "_view_module": "@jupyter-widgets/controls",
            "_view_module_version": "1.5.0",
            "_view_name": "ProgressView",
            "bar_style": "success",
            "description": "",
            "description_tooltip": null,
            "layout": "IPY_MODEL_8abb1cd911964f4a9da5630794243834",
            "max": 1802,
            "min": 0,
            "orientation": "horizontal",
            "style": "IPY_MODEL_ccb5f066cfb44516b31a8ab5af2f2a87",
            "value": 1802
          }
        },
        "3e17c9cf624b4e6a85d299568d284195": {
          "model_module": "@jupyter-widgets/controls",
          "model_name": "HTMLModel",
          "model_module_version": "1.5.0",
          "state": {
            "_dom_classes": [],
            "_model_module": "@jupyter-widgets/controls",
            "_model_module_version": "1.5.0",
            "_model_name": "HTMLModel",
            "_view_count": null,
            "_view_module": "@jupyter-widgets/controls",
            "_view_module_version": "1.5.0",
            "_view_name": "HTMLView",
            "description": "",
            "description_tooltip": null,
            "layout": "IPY_MODEL_c4e5d6fcf5d543a7a57c0546590bf609",
            "placeholder": "​",
            "style": "IPY_MODEL_1690fe56a6934205a4498a14fa3243dc",
            "value": " 1802/1802 [08:50&lt;00:00,  1.02s/it]"
          }
        },
        "34f8ef6c60754aa8bc69b3c464080194": {
          "model_module": "@jupyter-widgets/base",
          "model_name": "LayoutModel",
          "model_module_version": "1.2.0",
          "state": {
            "_model_module": "@jupyter-widgets/base",
            "_model_module_version": "1.2.0",
            "_model_name": "LayoutModel",
            "_view_count": null,
            "_view_module": "@jupyter-widgets/base",
            "_view_module_version": "1.2.0",
            "_view_name": "LayoutView",
            "align_content": null,
            "align_items": null,
            "align_self": null,
            "border": null,
            "bottom": null,
            "display": null,
            "flex": null,
            "flex_flow": null,
            "grid_area": null,
            "grid_auto_columns": null,
            "grid_auto_flow": null,
            "grid_auto_rows": null,
            "grid_column": null,
            "grid_gap": null,
            "grid_row": null,
            "grid_template_areas": null,
            "grid_template_columns": null,
            "grid_template_rows": null,
            "height": null,
            "justify_content": null,
            "justify_items": null,
            "left": null,
            "margin": null,
            "max_height": null,
            "max_width": null,
            "min_height": null,
            "min_width": null,
            "object_fit": null,
            "object_position": null,
            "order": null,
            "overflow": null,
            "overflow_x": null,
            "overflow_y": null,
            "padding": null,
            "right": null,
            "top": null,
            "visibility": null,
            "width": null
          }
        },
        "6a494a8df1024cd497daf53f56203a75": {
          "model_module": "@jupyter-widgets/base",
          "model_name": "LayoutModel",
          "model_module_version": "1.2.0",
          "state": {
            "_model_module": "@jupyter-widgets/base",
            "_model_module_version": "1.2.0",
            "_model_name": "LayoutModel",
            "_view_count": null,
            "_view_module": "@jupyter-widgets/base",
            "_view_module_version": "1.2.0",
            "_view_name": "LayoutView",
            "align_content": null,
            "align_items": null,
            "align_self": null,
            "border": null,
            "bottom": null,
            "display": null,
            "flex": null,
            "flex_flow": null,
            "grid_area": null,
            "grid_auto_columns": null,
            "grid_auto_flow": null,
            "grid_auto_rows": null,
            "grid_column": null,
            "grid_gap": null,
            "grid_row": null,
            "grid_template_areas": null,
            "grid_template_columns": null,
            "grid_template_rows": null,
            "height": null,
            "justify_content": null,
            "justify_items": null,
            "left": null,
            "margin": null,
            "max_height": null,
            "max_width": null,
            "min_height": null,
            "min_width": null,
            "object_fit": null,
            "object_position": null,
            "order": null,
            "overflow": null,
            "overflow_x": null,
            "overflow_y": null,
            "padding": null,
            "right": null,
            "top": null,
            "visibility": null,
            "width": null
          }
        },
        "a2181060312549999df5f30234cd7330": {
          "model_module": "@jupyter-widgets/controls",
          "model_name": "DescriptionStyleModel",
          "model_module_version": "1.5.0",
          "state": {
            "_model_module": "@jupyter-widgets/controls",
            "_model_module_version": "1.5.0",
            "_model_name": "DescriptionStyleModel",
            "_view_count": null,
            "_view_module": "@jupyter-widgets/base",
            "_view_module_version": "1.2.0",
            "_view_name": "StyleView",
            "description_width": ""
          }
        },
        "8abb1cd911964f4a9da5630794243834": {
          "model_module": "@jupyter-widgets/base",
          "model_name": "LayoutModel",
          "model_module_version": "1.2.0",
          "state": {
            "_model_module": "@jupyter-widgets/base",
            "_model_module_version": "1.2.0",
            "_model_name": "LayoutModel",
            "_view_count": null,
            "_view_module": "@jupyter-widgets/base",
            "_view_module_version": "1.2.0",
            "_view_name": "LayoutView",
            "align_content": null,
            "align_items": null,
            "align_self": null,
            "border": null,
            "bottom": null,
            "display": null,
            "flex": null,
            "flex_flow": null,
            "grid_area": null,
            "grid_auto_columns": null,
            "grid_auto_flow": null,
            "grid_auto_rows": null,
            "grid_column": null,
            "grid_gap": null,
            "grid_row": null,
            "grid_template_areas": null,
            "grid_template_columns": null,
            "grid_template_rows": null,
            "height": null,
            "justify_content": null,
            "justify_items": null,
            "left": null,
            "margin": null,
            "max_height": null,
            "max_width": null,
            "min_height": null,
            "min_width": null,
            "object_fit": null,
            "object_position": null,
            "order": null,
            "overflow": null,
            "overflow_x": null,
            "overflow_y": null,
            "padding": null,
            "right": null,
            "top": null,
            "visibility": null,
            "width": null
          }
        },
        "ccb5f066cfb44516b31a8ab5af2f2a87": {
          "model_module": "@jupyter-widgets/controls",
          "model_name": "ProgressStyleModel",
          "model_module_version": "1.5.0",
          "state": {
            "_model_module": "@jupyter-widgets/controls",
            "_model_module_version": "1.5.0",
            "_model_name": "ProgressStyleModel",
            "_view_count": null,
            "_view_module": "@jupyter-widgets/base",
            "_view_module_version": "1.2.0",
            "_view_name": "StyleView",
            "bar_color": null,
            "description_width": ""
          }
        },
        "c4e5d6fcf5d543a7a57c0546590bf609": {
          "model_module": "@jupyter-widgets/base",
          "model_name": "LayoutModel",
          "model_module_version": "1.2.0",
          "state": {
            "_model_module": "@jupyter-widgets/base",
            "_model_module_version": "1.2.0",
            "_model_name": "LayoutModel",
            "_view_count": null,
            "_view_module": "@jupyter-widgets/base",
            "_view_module_version": "1.2.0",
            "_view_name": "LayoutView",
            "align_content": null,
            "align_items": null,
            "align_self": null,
            "border": null,
            "bottom": null,
            "display": null,
            "flex": null,
            "flex_flow": null,
            "grid_area": null,
            "grid_auto_columns": null,
            "grid_auto_flow": null,
            "grid_auto_rows": null,
            "grid_column": null,
            "grid_gap": null,
            "grid_row": null,
            "grid_template_areas": null,
            "grid_template_columns": null,
            "grid_template_rows": null,
            "height": null,
            "justify_content": null,
            "justify_items": null,
            "left": null,
            "margin": null,
            "max_height": null,
            "max_width": null,
            "min_height": null,
            "min_width": null,
            "object_fit": null,
            "object_position": null,
            "order": null,
            "overflow": null,
            "overflow_x": null,
            "overflow_y": null,
            "padding": null,
            "right": null,
            "top": null,
            "visibility": null,
            "width": null
          }
        },
        "1690fe56a6934205a4498a14fa3243dc": {
          "model_module": "@jupyter-widgets/controls",
          "model_name": "DescriptionStyleModel",
          "model_module_version": "1.5.0",
          "state": {
            "_model_module": "@jupyter-widgets/controls",
            "_model_module_version": "1.5.0",
            "_model_name": "DescriptionStyleModel",
            "_view_count": null,
            "_view_module": "@jupyter-widgets/base",
            "_view_module_version": "1.2.0",
            "_view_name": "StyleView",
            "description_width": ""
          }
        },
        "9560720031c840cd87b0311d994caf95": {
          "model_module": "@jupyter-widgets/controls",
          "model_name": "HBoxModel",
          "model_module_version": "1.5.0",
          "state": {
            "_dom_classes": [],
            "_model_module": "@jupyter-widgets/controls",
            "_model_module_version": "1.5.0",
            "_model_name": "HBoxModel",
            "_view_count": null,
            "_view_module": "@jupyter-widgets/controls",
            "_view_module_version": "1.5.0",
            "_view_name": "HBoxView",
            "box_style": "",
            "children": [
              "IPY_MODEL_2c9b0ef26b0248dcbdd044d9802534ef",
              "IPY_MODEL_912caa1b03e24ab489dd16e5782fa5f2",
              "IPY_MODEL_055602b494ed400cbef544c63d888759"
            ],
            "layout": "IPY_MODEL_9c30a2d518e84e4c882fb330db92e7f4"
          }
        },
        "2c9b0ef26b0248dcbdd044d9802534ef": {
          "model_module": "@jupyter-widgets/controls",
          "model_name": "HTMLModel",
          "model_module_version": "1.5.0",
          "state": {
            "_dom_classes": [],
            "_model_module": "@jupyter-widgets/controls",
            "_model_module_version": "1.5.0",
            "_model_name": "HTMLModel",
            "_view_count": null,
            "_view_module": "@jupyter-widgets/controls",
            "_view_module_version": "1.5.0",
            "_view_name": "HTMLView",
            "description": "",
            "description_tooltip": null,
            "layout": "IPY_MODEL_12f8dcb109d64a80b596641827465ade",
            "placeholder": "​",
            "style": "IPY_MODEL_269e31467e8b44bd8684b1eeada69454",
            "value": "100%"
          }
        },
        "912caa1b03e24ab489dd16e5782fa5f2": {
          "model_module": "@jupyter-widgets/controls",
          "model_name": "FloatProgressModel",
          "model_module_version": "1.5.0",
          "state": {
            "_dom_classes": [],
            "_model_module": "@jupyter-widgets/controls",
            "_model_module_version": "1.5.0",
            "_model_name": "FloatProgressModel",
            "_view_count": null,
            "_view_module": "@jupyter-widgets/controls",
            "_view_module_version": "1.5.0",
            "_view_name": "ProgressView",
            "bar_style": "success",
            "description": "",
            "description_tooltip": null,
            "layout": "IPY_MODEL_c2ef3bf562a0435a8a78f84de8b3040c",
            "max": 1802,
            "min": 0,
            "orientation": "horizontal",
            "style": "IPY_MODEL_0b9268f7e9674494a984b9bb57fe4074",
            "value": 1802
          }
        },
        "055602b494ed400cbef544c63d888759": {
          "model_module": "@jupyter-widgets/controls",
          "model_name": "HTMLModel",
          "model_module_version": "1.5.0",
          "state": {
            "_dom_classes": [],
            "_model_module": "@jupyter-widgets/controls",
            "_model_module_version": "1.5.0",
            "_model_name": "HTMLModel",
            "_view_count": null,
            "_view_module": "@jupyter-widgets/controls",
            "_view_module_version": "1.5.0",
            "_view_name": "HTMLView",
            "description": "",
            "description_tooltip": null,
            "layout": "IPY_MODEL_8215e56da1c446e2a4e89668355c9f1e",
            "placeholder": "​",
            "style": "IPY_MODEL_6a2c39d908c44d8180a065c1e392514e",
            "value": " 1802/1802 [08:50&lt;00:00,  1.02it/s]"
          }
        },
        "9c30a2d518e84e4c882fb330db92e7f4": {
          "model_module": "@jupyter-widgets/base",
          "model_name": "LayoutModel",
          "model_module_version": "1.2.0",
          "state": {
            "_model_module": "@jupyter-widgets/base",
            "_model_module_version": "1.2.0",
            "_model_name": "LayoutModel",
            "_view_count": null,
            "_view_module": "@jupyter-widgets/base",
            "_view_module_version": "1.2.0",
            "_view_name": "LayoutView",
            "align_content": null,
            "align_items": null,
            "align_self": null,
            "border": null,
            "bottom": null,
            "display": null,
            "flex": null,
            "flex_flow": null,
            "grid_area": null,
            "grid_auto_columns": null,
            "grid_auto_flow": null,
            "grid_auto_rows": null,
            "grid_column": null,
            "grid_gap": null,
            "grid_row": null,
            "grid_template_areas": null,
            "grid_template_columns": null,
            "grid_template_rows": null,
            "height": null,
            "justify_content": null,
            "justify_items": null,
            "left": null,
            "margin": null,
            "max_height": null,
            "max_width": null,
            "min_height": null,
            "min_width": null,
            "object_fit": null,
            "object_position": null,
            "order": null,
            "overflow": null,
            "overflow_x": null,
            "overflow_y": null,
            "padding": null,
            "right": null,
            "top": null,
            "visibility": null,
            "width": null
          }
        },
        "12f8dcb109d64a80b596641827465ade": {
          "model_module": "@jupyter-widgets/base",
          "model_name": "LayoutModel",
          "model_module_version": "1.2.0",
          "state": {
            "_model_module": "@jupyter-widgets/base",
            "_model_module_version": "1.2.0",
            "_model_name": "LayoutModel",
            "_view_count": null,
            "_view_module": "@jupyter-widgets/base",
            "_view_module_version": "1.2.0",
            "_view_name": "LayoutView",
            "align_content": null,
            "align_items": null,
            "align_self": null,
            "border": null,
            "bottom": null,
            "display": null,
            "flex": null,
            "flex_flow": null,
            "grid_area": null,
            "grid_auto_columns": null,
            "grid_auto_flow": null,
            "grid_auto_rows": null,
            "grid_column": null,
            "grid_gap": null,
            "grid_row": null,
            "grid_template_areas": null,
            "grid_template_columns": null,
            "grid_template_rows": null,
            "height": null,
            "justify_content": null,
            "justify_items": null,
            "left": null,
            "margin": null,
            "max_height": null,
            "max_width": null,
            "min_height": null,
            "min_width": null,
            "object_fit": null,
            "object_position": null,
            "order": null,
            "overflow": null,
            "overflow_x": null,
            "overflow_y": null,
            "padding": null,
            "right": null,
            "top": null,
            "visibility": null,
            "width": null
          }
        },
        "269e31467e8b44bd8684b1eeada69454": {
          "model_module": "@jupyter-widgets/controls",
          "model_name": "DescriptionStyleModel",
          "model_module_version": "1.5.0",
          "state": {
            "_model_module": "@jupyter-widgets/controls",
            "_model_module_version": "1.5.0",
            "_model_name": "DescriptionStyleModel",
            "_view_count": null,
            "_view_module": "@jupyter-widgets/base",
            "_view_module_version": "1.2.0",
            "_view_name": "StyleView",
            "description_width": ""
          }
        },
        "c2ef3bf562a0435a8a78f84de8b3040c": {
          "model_module": "@jupyter-widgets/base",
          "model_name": "LayoutModel",
          "model_module_version": "1.2.0",
          "state": {
            "_model_module": "@jupyter-widgets/base",
            "_model_module_version": "1.2.0",
            "_model_name": "LayoutModel",
            "_view_count": null,
            "_view_module": "@jupyter-widgets/base",
            "_view_module_version": "1.2.0",
            "_view_name": "LayoutView",
            "align_content": null,
            "align_items": null,
            "align_self": null,
            "border": null,
            "bottom": null,
            "display": null,
            "flex": null,
            "flex_flow": null,
            "grid_area": null,
            "grid_auto_columns": null,
            "grid_auto_flow": null,
            "grid_auto_rows": null,
            "grid_column": null,
            "grid_gap": null,
            "grid_row": null,
            "grid_template_areas": null,
            "grid_template_columns": null,
            "grid_template_rows": null,
            "height": null,
            "justify_content": null,
            "justify_items": null,
            "left": null,
            "margin": null,
            "max_height": null,
            "max_width": null,
            "min_height": null,
            "min_width": null,
            "object_fit": null,
            "object_position": null,
            "order": null,
            "overflow": null,
            "overflow_x": null,
            "overflow_y": null,
            "padding": null,
            "right": null,
            "top": null,
            "visibility": null,
            "width": null
          }
        },
        "0b9268f7e9674494a984b9bb57fe4074": {
          "model_module": "@jupyter-widgets/controls",
          "model_name": "ProgressStyleModel",
          "model_module_version": "1.5.0",
          "state": {
            "_model_module": "@jupyter-widgets/controls",
            "_model_module_version": "1.5.0",
            "_model_name": "ProgressStyleModel",
            "_view_count": null,
            "_view_module": "@jupyter-widgets/base",
            "_view_module_version": "1.2.0",
            "_view_name": "StyleView",
            "bar_color": null,
            "description_width": ""
          }
        },
        "8215e56da1c446e2a4e89668355c9f1e": {
          "model_module": "@jupyter-widgets/base",
          "model_name": "LayoutModel",
          "model_module_version": "1.2.0",
          "state": {
            "_model_module": "@jupyter-widgets/base",
            "_model_module_version": "1.2.0",
            "_model_name": "LayoutModel",
            "_view_count": null,
            "_view_module": "@jupyter-widgets/base",
            "_view_module_version": "1.2.0",
            "_view_name": "LayoutView",
            "align_content": null,
            "align_items": null,
            "align_self": null,
            "border": null,
            "bottom": null,
            "display": null,
            "flex": null,
            "flex_flow": null,
            "grid_area": null,
            "grid_auto_columns": null,
            "grid_auto_flow": null,
            "grid_auto_rows": null,
            "grid_column": null,
            "grid_gap": null,
            "grid_row": null,
            "grid_template_areas": null,
            "grid_template_columns": null,
            "grid_template_rows": null,
            "height": null,
            "justify_content": null,
            "justify_items": null,
            "left": null,
            "margin": null,
            "max_height": null,
            "max_width": null,
            "min_height": null,
            "min_width": null,
            "object_fit": null,
            "object_position": null,
            "order": null,
            "overflow": null,
            "overflow_x": null,
            "overflow_y": null,
            "padding": null,
            "right": null,
            "top": null,
            "visibility": null,
            "width": null
          }
        },
        "6a2c39d908c44d8180a065c1e392514e": {
          "model_module": "@jupyter-widgets/controls",
          "model_name": "DescriptionStyleModel",
          "model_module_version": "1.5.0",
          "state": {
            "_model_module": "@jupyter-widgets/controls",
            "_model_module_version": "1.5.0",
            "_model_name": "DescriptionStyleModel",
            "_view_count": null,
            "_view_module": "@jupyter-widgets/base",
            "_view_module_version": "1.2.0",
            "_view_name": "StyleView",
            "description_width": ""
          }
        },
        "c7ce44d3c6a94ae39b9d0ff3ab92e4df": {
          "model_module": "@jupyter-widgets/controls",
          "model_name": "HBoxModel",
          "model_module_version": "1.5.0",
          "state": {
            "_dom_classes": [],
            "_model_module": "@jupyter-widgets/controls",
            "_model_module_version": "1.5.0",
            "_model_name": "HBoxModel",
            "_view_count": null,
            "_view_module": "@jupyter-widgets/controls",
            "_view_module_version": "1.5.0",
            "_view_name": "HBoxView",
            "box_style": "",
            "children": [
              "IPY_MODEL_162138cb089844e79c79b06b4ccc4e81",
              "IPY_MODEL_7ef9421aa1cd44f19aed2d55699c800d",
              "IPY_MODEL_3a3da581b3e24863ade8f66f9d0ddded"
            ],
            "layout": "IPY_MODEL_f5bd9f0233c348b99173f44e25ff54d5"
          }
        },
        "162138cb089844e79c79b06b4ccc4e81": {
          "model_module": "@jupyter-widgets/controls",
          "model_name": "HTMLModel",
          "model_module_version": "1.5.0",
          "state": {
            "_dom_classes": [],
            "_model_module": "@jupyter-widgets/controls",
            "_model_module_version": "1.5.0",
            "_model_name": "HTMLModel",
            "_view_count": null,
            "_view_module": "@jupyter-widgets/controls",
            "_view_module_version": "1.5.0",
            "_view_name": "HTMLView",
            "description": "",
            "description_tooltip": null,
            "layout": "IPY_MODEL_b65d8b0315ac4fc1ba30010f310a7f0f",
            "placeholder": "​",
            "style": "IPY_MODEL_cf123786b1ee44d9a3760107b7a2ec31",
            "value": "100%"
          }
        },
        "7ef9421aa1cd44f19aed2d55699c800d": {
          "model_module": "@jupyter-widgets/controls",
          "model_name": "FloatProgressModel",
          "model_module_version": "1.5.0",
          "state": {
            "_dom_classes": [],
            "_model_module": "@jupyter-widgets/controls",
            "_model_module_version": "1.5.0",
            "_model_name": "FloatProgressModel",
            "_view_count": null,
            "_view_module": "@jupyter-widgets/controls",
            "_view_module_version": "1.5.0",
            "_view_name": "ProgressView",
            "bar_style": "success",
            "description": "",
            "description_tooltip": null,
            "layout": "IPY_MODEL_4ee7e801558d4faa985df433f31a75f8",
            "max": 1802,
            "min": 0,
            "orientation": "horizontal",
            "style": "IPY_MODEL_3ef61e59e24d4b76b07275c5b9b4fc06",
            "value": 1802
          }
        },
        "3a3da581b3e24863ade8f66f9d0ddded": {
          "model_module": "@jupyter-widgets/controls",
          "model_name": "HTMLModel",
          "model_module_version": "1.5.0",
          "state": {
            "_dom_classes": [],
            "_model_module": "@jupyter-widgets/controls",
            "_model_module_version": "1.5.0",
            "_model_name": "HTMLModel",
            "_view_count": null,
            "_view_module": "@jupyter-widgets/controls",
            "_view_module_version": "1.5.0",
            "_view_name": "HTMLView",
            "description": "",
            "description_tooltip": null,
            "layout": "IPY_MODEL_22346b66dccf46b2a84c6396e5da41d3",
            "placeholder": "​",
            "style": "IPY_MODEL_463a8dd9468a405f9889053c2974b86f",
            "value": " 1802/1802 [08:48&lt;00:00,  1.03it/s]"
          }
        },
        "f5bd9f0233c348b99173f44e25ff54d5": {
          "model_module": "@jupyter-widgets/base",
          "model_name": "LayoutModel",
          "model_module_version": "1.2.0",
          "state": {
            "_model_module": "@jupyter-widgets/base",
            "_model_module_version": "1.2.0",
            "_model_name": "LayoutModel",
            "_view_count": null,
            "_view_module": "@jupyter-widgets/base",
            "_view_module_version": "1.2.0",
            "_view_name": "LayoutView",
            "align_content": null,
            "align_items": null,
            "align_self": null,
            "border": null,
            "bottom": null,
            "display": null,
            "flex": null,
            "flex_flow": null,
            "grid_area": null,
            "grid_auto_columns": null,
            "grid_auto_flow": null,
            "grid_auto_rows": null,
            "grid_column": null,
            "grid_gap": null,
            "grid_row": null,
            "grid_template_areas": null,
            "grid_template_columns": null,
            "grid_template_rows": null,
            "height": null,
            "justify_content": null,
            "justify_items": null,
            "left": null,
            "margin": null,
            "max_height": null,
            "max_width": null,
            "min_height": null,
            "min_width": null,
            "object_fit": null,
            "object_position": null,
            "order": null,
            "overflow": null,
            "overflow_x": null,
            "overflow_y": null,
            "padding": null,
            "right": null,
            "top": null,
            "visibility": null,
            "width": null
          }
        },
        "b65d8b0315ac4fc1ba30010f310a7f0f": {
          "model_module": "@jupyter-widgets/base",
          "model_name": "LayoutModel",
          "model_module_version": "1.2.0",
          "state": {
            "_model_module": "@jupyter-widgets/base",
            "_model_module_version": "1.2.0",
            "_model_name": "LayoutModel",
            "_view_count": null,
            "_view_module": "@jupyter-widgets/base",
            "_view_module_version": "1.2.0",
            "_view_name": "LayoutView",
            "align_content": null,
            "align_items": null,
            "align_self": null,
            "border": null,
            "bottom": null,
            "display": null,
            "flex": null,
            "flex_flow": null,
            "grid_area": null,
            "grid_auto_columns": null,
            "grid_auto_flow": null,
            "grid_auto_rows": null,
            "grid_column": null,
            "grid_gap": null,
            "grid_row": null,
            "grid_template_areas": null,
            "grid_template_columns": null,
            "grid_template_rows": null,
            "height": null,
            "justify_content": null,
            "justify_items": null,
            "left": null,
            "margin": null,
            "max_height": null,
            "max_width": null,
            "min_height": null,
            "min_width": null,
            "object_fit": null,
            "object_position": null,
            "order": null,
            "overflow": null,
            "overflow_x": null,
            "overflow_y": null,
            "padding": null,
            "right": null,
            "top": null,
            "visibility": null,
            "width": null
          }
        },
        "cf123786b1ee44d9a3760107b7a2ec31": {
          "model_module": "@jupyter-widgets/controls",
          "model_name": "DescriptionStyleModel",
          "model_module_version": "1.5.0",
          "state": {
            "_model_module": "@jupyter-widgets/controls",
            "_model_module_version": "1.5.0",
            "_model_name": "DescriptionStyleModel",
            "_view_count": null,
            "_view_module": "@jupyter-widgets/base",
            "_view_module_version": "1.2.0",
            "_view_name": "StyleView",
            "description_width": ""
          }
        },
        "4ee7e801558d4faa985df433f31a75f8": {
          "model_module": "@jupyter-widgets/base",
          "model_name": "LayoutModel",
          "model_module_version": "1.2.0",
          "state": {
            "_model_module": "@jupyter-widgets/base",
            "_model_module_version": "1.2.0",
            "_model_name": "LayoutModel",
            "_view_count": null,
            "_view_module": "@jupyter-widgets/base",
            "_view_module_version": "1.2.0",
            "_view_name": "LayoutView",
            "align_content": null,
            "align_items": null,
            "align_self": null,
            "border": null,
            "bottom": null,
            "display": null,
            "flex": null,
            "flex_flow": null,
            "grid_area": null,
            "grid_auto_columns": null,
            "grid_auto_flow": null,
            "grid_auto_rows": null,
            "grid_column": null,
            "grid_gap": null,
            "grid_row": null,
            "grid_template_areas": null,
            "grid_template_columns": null,
            "grid_template_rows": null,
            "height": null,
            "justify_content": null,
            "justify_items": null,
            "left": null,
            "margin": null,
            "max_height": null,
            "max_width": null,
            "min_height": null,
            "min_width": null,
            "object_fit": null,
            "object_position": null,
            "order": null,
            "overflow": null,
            "overflow_x": null,
            "overflow_y": null,
            "padding": null,
            "right": null,
            "top": null,
            "visibility": null,
            "width": null
          }
        },
        "3ef61e59e24d4b76b07275c5b9b4fc06": {
          "model_module": "@jupyter-widgets/controls",
          "model_name": "ProgressStyleModel",
          "model_module_version": "1.5.0",
          "state": {
            "_model_module": "@jupyter-widgets/controls",
            "_model_module_version": "1.5.0",
            "_model_name": "ProgressStyleModel",
            "_view_count": null,
            "_view_module": "@jupyter-widgets/base",
            "_view_module_version": "1.2.0",
            "_view_name": "StyleView",
            "bar_color": null,
            "description_width": ""
          }
        },
        "22346b66dccf46b2a84c6396e5da41d3": {
          "model_module": "@jupyter-widgets/base",
          "model_name": "LayoutModel",
          "model_module_version": "1.2.0",
          "state": {
            "_model_module": "@jupyter-widgets/base",
            "_model_module_version": "1.2.0",
            "_model_name": "LayoutModel",
            "_view_count": null,
            "_view_module": "@jupyter-widgets/base",
            "_view_module_version": "1.2.0",
            "_view_name": "LayoutView",
            "align_content": null,
            "align_items": null,
            "align_self": null,
            "border": null,
            "bottom": null,
            "display": null,
            "flex": null,
            "flex_flow": null,
            "grid_area": null,
            "grid_auto_columns": null,
            "grid_auto_flow": null,
            "grid_auto_rows": null,
            "grid_column": null,
            "grid_gap": null,
            "grid_row": null,
            "grid_template_areas": null,
            "grid_template_columns": null,
            "grid_template_rows": null,
            "height": null,
            "justify_content": null,
            "justify_items": null,
            "left": null,
            "margin": null,
            "max_height": null,
            "max_width": null,
            "min_height": null,
            "min_width": null,
            "object_fit": null,
            "object_position": null,
            "order": null,
            "overflow": null,
            "overflow_x": null,
            "overflow_y": null,
            "padding": null,
            "right": null,
            "top": null,
            "visibility": null,
            "width": null
          }
        },
        "463a8dd9468a405f9889053c2974b86f": {
          "model_module": "@jupyter-widgets/controls",
          "model_name": "DescriptionStyleModel",
          "model_module_version": "1.5.0",
          "state": {
            "_model_module": "@jupyter-widgets/controls",
            "_model_module_version": "1.5.0",
            "_model_name": "DescriptionStyleModel",
            "_view_count": null,
            "_view_module": "@jupyter-widgets/base",
            "_view_module_version": "1.2.0",
            "_view_name": "StyleView",
            "description_width": ""
          }
        },
        "10116179c9a547969820f9db59aaf9fa": {
          "model_module": "@jupyter-widgets/controls",
          "model_name": "HBoxModel",
          "model_module_version": "1.5.0",
          "state": {
            "_dom_classes": [],
            "_model_module": "@jupyter-widgets/controls",
            "_model_module_version": "1.5.0",
            "_model_name": "HBoxModel",
            "_view_count": null,
            "_view_module": "@jupyter-widgets/controls",
            "_view_module_version": "1.5.0",
            "_view_name": "HBoxView",
            "box_style": "",
            "children": [
              "IPY_MODEL_9d6d7275f19a4e66963b7c4ef6391fc0",
              "IPY_MODEL_ce43fcaa1acf47f7a39955f8638b5b01",
              "IPY_MODEL_fcc0f13c985f4009b60e981a1a4f640c"
            ],
            "layout": "IPY_MODEL_35aed6243d50406fb17b17a35368820c"
          }
        },
        "9d6d7275f19a4e66963b7c4ef6391fc0": {
          "model_module": "@jupyter-widgets/controls",
          "model_name": "HTMLModel",
          "model_module_version": "1.5.0",
          "state": {
            "_dom_classes": [],
            "_model_module": "@jupyter-widgets/controls",
            "_model_module_version": "1.5.0",
            "_model_name": "HTMLModel",
            "_view_count": null,
            "_view_module": "@jupyter-widgets/controls",
            "_view_module_version": "1.5.0",
            "_view_name": "HTMLView",
            "description": "",
            "description_tooltip": null,
            "layout": "IPY_MODEL_c3caea5b4444491a9f4937387f9bb7c0",
            "placeholder": "​",
            "style": "IPY_MODEL_5d42399bd74c49f0a47c6ad7bd4fcc72",
            "value": "100%"
          }
        },
        "ce43fcaa1acf47f7a39955f8638b5b01": {
          "model_module": "@jupyter-widgets/controls",
          "model_name": "FloatProgressModel",
          "model_module_version": "1.5.0",
          "state": {
            "_dom_classes": [],
            "_model_module": "@jupyter-widgets/controls",
            "_model_module_version": "1.5.0",
            "_model_name": "FloatProgressModel",
            "_view_count": null,
            "_view_module": "@jupyter-widgets/controls",
            "_view_module_version": "1.5.0",
            "_view_name": "ProgressView",
            "bar_style": "success",
            "description": "",
            "description_tooltip": null,
            "layout": "IPY_MODEL_0ffdce36e4bb434788a35c35dc35090c",
            "max": 1802,
            "min": 0,
            "orientation": "horizontal",
            "style": "IPY_MODEL_18f9b5a4ea074c76aa8606f10b2df81c",
            "value": 1802
          }
        },
        "fcc0f13c985f4009b60e981a1a4f640c": {
          "model_module": "@jupyter-widgets/controls",
          "model_name": "HTMLModel",
          "model_module_version": "1.5.0",
          "state": {
            "_dom_classes": [],
            "_model_module": "@jupyter-widgets/controls",
            "_model_module_version": "1.5.0",
            "_model_name": "HTMLModel",
            "_view_count": null,
            "_view_module": "@jupyter-widgets/controls",
            "_view_module_version": "1.5.0",
            "_view_name": "HTMLView",
            "description": "",
            "description_tooltip": null,
            "layout": "IPY_MODEL_1d9d952eccf046c78432a0f3db06c2a4",
            "placeholder": "​",
            "style": "IPY_MODEL_a626b572f5ff4dc9ac29ed8600fb4961",
            "value": " 1802/1802 [08:50&lt;00:00,  1.02s/it]"
          }
        },
        "35aed6243d50406fb17b17a35368820c": {
          "model_module": "@jupyter-widgets/base",
          "model_name": "LayoutModel",
          "model_module_version": "1.2.0",
          "state": {
            "_model_module": "@jupyter-widgets/base",
            "_model_module_version": "1.2.0",
            "_model_name": "LayoutModel",
            "_view_count": null,
            "_view_module": "@jupyter-widgets/base",
            "_view_module_version": "1.2.0",
            "_view_name": "LayoutView",
            "align_content": null,
            "align_items": null,
            "align_self": null,
            "border": null,
            "bottom": null,
            "display": null,
            "flex": null,
            "flex_flow": null,
            "grid_area": null,
            "grid_auto_columns": null,
            "grid_auto_flow": null,
            "grid_auto_rows": null,
            "grid_column": null,
            "grid_gap": null,
            "grid_row": null,
            "grid_template_areas": null,
            "grid_template_columns": null,
            "grid_template_rows": null,
            "height": null,
            "justify_content": null,
            "justify_items": null,
            "left": null,
            "margin": null,
            "max_height": null,
            "max_width": null,
            "min_height": null,
            "min_width": null,
            "object_fit": null,
            "object_position": null,
            "order": null,
            "overflow": null,
            "overflow_x": null,
            "overflow_y": null,
            "padding": null,
            "right": null,
            "top": null,
            "visibility": null,
            "width": null
          }
        },
        "c3caea5b4444491a9f4937387f9bb7c0": {
          "model_module": "@jupyter-widgets/base",
          "model_name": "LayoutModel",
          "model_module_version": "1.2.0",
          "state": {
            "_model_module": "@jupyter-widgets/base",
            "_model_module_version": "1.2.0",
            "_model_name": "LayoutModel",
            "_view_count": null,
            "_view_module": "@jupyter-widgets/base",
            "_view_module_version": "1.2.0",
            "_view_name": "LayoutView",
            "align_content": null,
            "align_items": null,
            "align_self": null,
            "border": null,
            "bottom": null,
            "display": null,
            "flex": null,
            "flex_flow": null,
            "grid_area": null,
            "grid_auto_columns": null,
            "grid_auto_flow": null,
            "grid_auto_rows": null,
            "grid_column": null,
            "grid_gap": null,
            "grid_row": null,
            "grid_template_areas": null,
            "grid_template_columns": null,
            "grid_template_rows": null,
            "height": null,
            "justify_content": null,
            "justify_items": null,
            "left": null,
            "margin": null,
            "max_height": null,
            "max_width": null,
            "min_height": null,
            "min_width": null,
            "object_fit": null,
            "object_position": null,
            "order": null,
            "overflow": null,
            "overflow_x": null,
            "overflow_y": null,
            "padding": null,
            "right": null,
            "top": null,
            "visibility": null,
            "width": null
          }
        },
        "5d42399bd74c49f0a47c6ad7bd4fcc72": {
          "model_module": "@jupyter-widgets/controls",
          "model_name": "DescriptionStyleModel",
          "model_module_version": "1.5.0",
          "state": {
            "_model_module": "@jupyter-widgets/controls",
            "_model_module_version": "1.5.0",
            "_model_name": "DescriptionStyleModel",
            "_view_count": null,
            "_view_module": "@jupyter-widgets/base",
            "_view_module_version": "1.2.0",
            "_view_name": "StyleView",
            "description_width": ""
          }
        },
        "0ffdce36e4bb434788a35c35dc35090c": {
          "model_module": "@jupyter-widgets/base",
          "model_name": "LayoutModel",
          "model_module_version": "1.2.0",
          "state": {
            "_model_module": "@jupyter-widgets/base",
            "_model_module_version": "1.2.0",
            "_model_name": "LayoutModel",
            "_view_count": null,
            "_view_module": "@jupyter-widgets/base",
            "_view_module_version": "1.2.0",
            "_view_name": "LayoutView",
            "align_content": null,
            "align_items": null,
            "align_self": null,
            "border": null,
            "bottom": null,
            "display": null,
            "flex": null,
            "flex_flow": null,
            "grid_area": null,
            "grid_auto_columns": null,
            "grid_auto_flow": null,
            "grid_auto_rows": null,
            "grid_column": null,
            "grid_gap": null,
            "grid_row": null,
            "grid_template_areas": null,
            "grid_template_columns": null,
            "grid_template_rows": null,
            "height": null,
            "justify_content": null,
            "justify_items": null,
            "left": null,
            "margin": null,
            "max_height": null,
            "max_width": null,
            "min_height": null,
            "min_width": null,
            "object_fit": null,
            "object_position": null,
            "order": null,
            "overflow": null,
            "overflow_x": null,
            "overflow_y": null,
            "padding": null,
            "right": null,
            "top": null,
            "visibility": null,
            "width": null
          }
        },
        "18f9b5a4ea074c76aa8606f10b2df81c": {
          "model_module": "@jupyter-widgets/controls",
          "model_name": "ProgressStyleModel",
          "model_module_version": "1.5.0",
          "state": {
            "_model_module": "@jupyter-widgets/controls",
            "_model_module_version": "1.5.0",
            "_model_name": "ProgressStyleModel",
            "_view_count": null,
            "_view_module": "@jupyter-widgets/base",
            "_view_module_version": "1.2.0",
            "_view_name": "StyleView",
            "bar_color": null,
            "description_width": ""
          }
        },
        "1d9d952eccf046c78432a0f3db06c2a4": {
          "model_module": "@jupyter-widgets/base",
          "model_name": "LayoutModel",
          "model_module_version": "1.2.0",
          "state": {
            "_model_module": "@jupyter-widgets/base",
            "_model_module_version": "1.2.0",
            "_model_name": "LayoutModel",
            "_view_count": null,
            "_view_module": "@jupyter-widgets/base",
            "_view_module_version": "1.2.0",
            "_view_name": "LayoutView",
            "align_content": null,
            "align_items": null,
            "align_self": null,
            "border": null,
            "bottom": null,
            "display": null,
            "flex": null,
            "flex_flow": null,
            "grid_area": null,
            "grid_auto_columns": null,
            "grid_auto_flow": null,
            "grid_auto_rows": null,
            "grid_column": null,
            "grid_gap": null,
            "grid_row": null,
            "grid_template_areas": null,
            "grid_template_columns": null,
            "grid_template_rows": null,
            "height": null,
            "justify_content": null,
            "justify_items": null,
            "left": null,
            "margin": null,
            "max_height": null,
            "max_width": null,
            "min_height": null,
            "min_width": null,
            "object_fit": null,
            "object_position": null,
            "order": null,
            "overflow": null,
            "overflow_x": null,
            "overflow_y": null,
            "padding": null,
            "right": null,
            "top": null,
            "visibility": null,
            "width": null
          }
        },
        "a626b572f5ff4dc9ac29ed8600fb4961": {
          "model_module": "@jupyter-widgets/controls",
          "model_name": "DescriptionStyleModel",
          "model_module_version": "1.5.0",
          "state": {
            "_model_module": "@jupyter-widgets/controls",
            "_model_module_version": "1.5.0",
            "_model_name": "DescriptionStyleModel",
            "_view_count": null,
            "_view_module": "@jupyter-widgets/base",
            "_view_module_version": "1.2.0",
            "_view_name": "StyleView",
            "description_width": ""
          }
        },
        "3c9e2b3f5a564d2fbcfa8d96489248c1": {
          "model_module": "@jupyter-widgets/controls",
          "model_name": "HBoxModel",
          "model_module_version": "1.5.0",
          "state": {
            "_dom_classes": [],
            "_model_module": "@jupyter-widgets/controls",
            "_model_module_version": "1.5.0",
            "_model_name": "HBoxModel",
            "_view_count": null,
            "_view_module": "@jupyter-widgets/controls",
            "_view_module_version": "1.5.0",
            "_view_name": "HBoxView",
            "box_style": "",
            "children": [
              "IPY_MODEL_f8246ce4530e4348856eb37d1b89f117",
              "IPY_MODEL_2e28be14d1e546619181b053bfa443ef",
              "IPY_MODEL_d7b5fb5c57444d05a6bf1c2838938dec"
            ],
            "layout": "IPY_MODEL_59d2408944d94c09b300d9b6bff0f2be"
          }
        },
        "f8246ce4530e4348856eb37d1b89f117": {
          "model_module": "@jupyter-widgets/controls",
          "model_name": "HTMLModel",
          "model_module_version": "1.5.0",
          "state": {
            "_dom_classes": [],
            "_model_module": "@jupyter-widgets/controls",
            "_model_module_version": "1.5.0",
            "_model_name": "HTMLModel",
            "_view_count": null,
            "_view_module": "@jupyter-widgets/controls",
            "_view_module_version": "1.5.0",
            "_view_name": "HTMLView",
            "description": "",
            "description_tooltip": null,
            "layout": "IPY_MODEL_58e41d072c8f49c59c3528ca5d9cb247",
            "placeholder": "​",
            "style": "IPY_MODEL_131ac51428f640469f1b3281ef5c14c2",
            "value": "100%"
          }
        },
        "2e28be14d1e546619181b053bfa443ef": {
          "model_module": "@jupyter-widgets/controls",
          "model_name": "FloatProgressModel",
          "model_module_version": "1.5.0",
          "state": {
            "_dom_classes": [],
            "_model_module": "@jupyter-widgets/controls",
            "_model_module_version": "1.5.0",
            "_model_name": "FloatProgressModel",
            "_view_count": null,
            "_view_module": "@jupyter-widgets/controls",
            "_view_module_version": "1.5.0",
            "_view_name": "ProgressView",
            "bar_style": "success",
            "description": "",
            "description_tooltip": null,
            "layout": "IPY_MODEL_5a4fad92eab2428b97a2777f7a3ffb7c",
            "max": 1802,
            "min": 0,
            "orientation": "horizontal",
            "style": "IPY_MODEL_cee67f9bfffa42eeaeb5c0fb67d36359",
            "value": 1802
          }
        },
        "d7b5fb5c57444d05a6bf1c2838938dec": {
          "model_module": "@jupyter-widgets/controls",
          "model_name": "HTMLModel",
          "model_module_version": "1.5.0",
          "state": {
            "_dom_classes": [],
            "_model_module": "@jupyter-widgets/controls",
            "_model_module_version": "1.5.0",
            "_model_name": "HTMLModel",
            "_view_count": null,
            "_view_module": "@jupyter-widgets/controls",
            "_view_module_version": "1.5.0",
            "_view_name": "HTMLView",
            "description": "",
            "description_tooltip": null,
            "layout": "IPY_MODEL_b0e30158d1bc44d1b84fda1ff63322b5",
            "placeholder": "​",
            "style": "IPY_MODEL_cf2f17b3db164b20b0d11812cdff7e7b",
            "value": " 1802/1802 [08:48&lt;00:00,  1.00s/it]"
          }
        },
        "59d2408944d94c09b300d9b6bff0f2be": {
          "model_module": "@jupyter-widgets/base",
          "model_name": "LayoutModel",
          "model_module_version": "1.2.0",
          "state": {
            "_model_module": "@jupyter-widgets/base",
            "_model_module_version": "1.2.0",
            "_model_name": "LayoutModel",
            "_view_count": null,
            "_view_module": "@jupyter-widgets/base",
            "_view_module_version": "1.2.0",
            "_view_name": "LayoutView",
            "align_content": null,
            "align_items": null,
            "align_self": null,
            "border": null,
            "bottom": null,
            "display": null,
            "flex": null,
            "flex_flow": null,
            "grid_area": null,
            "grid_auto_columns": null,
            "grid_auto_flow": null,
            "grid_auto_rows": null,
            "grid_column": null,
            "grid_gap": null,
            "grid_row": null,
            "grid_template_areas": null,
            "grid_template_columns": null,
            "grid_template_rows": null,
            "height": null,
            "justify_content": null,
            "justify_items": null,
            "left": null,
            "margin": null,
            "max_height": null,
            "max_width": null,
            "min_height": null,
            "min_width": null,
            "object_fit": null,
            "object_position": null,
            "order": null,
            "overflow": null,
            "overflow_x": null,
            "overflow_y": null,
            "padding": null,
            "right": null,
            "top": null,
            "visibility": null,
            "width": null
          }
        },
        "58e41d072c8f49c59c3528ca5d9cb247": {
          "model_module": "@jupyter-widgets/base",
          "model_name": "LayoutModel",
          "model_module_version": "1.2.0",
          "state": {
            "_model_module": "@jupyter-widgets/base",
            "_model_module_version": "1.2.0",
            "_model_name": "LayoutModel",
            "_view_count": null,
            "_view_module": "@jupyter-widgets/base",
            "_view_module_version": "1.2.0",
            "_view_name": "LayoutView",
            "align_content": null,
            "align_items": null,
            "align_self": null,
            "border": null,
            "bottom": null,
            "display": null,
            "flex": null,
            "flex_flow": null,
            "grid_area": null,
            "grid_auto_columns": null,
            "grid_auto_flow": null,
            "grid_auto_rows": null,
            "grid_column": null,
            "grid_gap": null,
            "grid_row": null,
            "grid_template_areas": null,
            "grid_template_columns": null,
            "grid_template_rows": null,
            "height": null,
            "justify_content": null,
            "justify_items": null,
            "left": null,
            "margin": null,
            "max_height": null,
            "max_width": null,
            "min_height": null,
            "min_width": null,
            "object_fit": null,
            "object_position": null,
            "order": null,
            "overflow": null,
            "overflow_x": null,
            "overflow_y": null,
            "padding": null,
            "right": null,
            "top": null,
            "visibility": null,
            "width": null
          }
        },
        "131ac51428f640469f1b3281ef5c14c2": {
          "model_module": "@jupyter-widgets/controls",
          "model_name": "DescriptionStyleModel",
          "model_module_version": "1.5.0",
          "state": {
            "_model_module": "@jupyter-widgets/controls",
            "_model_module_version": "1.5.0",
            "_model_name": "DescriptionStyleModel",
            "_view_count": null,
            "_view_module": "@jupyter-widgets/base",
            "_view_module_version": "1.2.0",
            "_view_name": "StyleView",
            "description_width": ""
          }
        },
        "5a4fad92eab2428b97a2777f7a3ffb7c": {
          "model_module": "@jupyter-widgets/base",
          "model_name": "LayoutModel",
          "model_module_version": "1.2.0",
          "state": {
            "_model_module": "@jupyter-widgets/base",
            "_model_module_version": "1.2.0",
            "_model_name": "LayoutModel",
            "_view_count": null,
            "_view_module": "@jupyter-widgets/base",
            "_view_module_version": "1.2.0",
            "_view_name": "LayoutView",
            "align_content": null,
            "align_items": null,
            "align_self": null,
            "border": null,
            "bottom": null,
            "display": null,
            "flex": null,
            "flex_flow": null,
            "grid_area": null,
            "grid_auto_columns": null,
            "grid_auto_flow": null,
            "grid_auto_rows": null,
            "grid_column": null,
            "grid_gap": null,
            "grid_row": null,
            "grid_template_areas": null,
            "grid_template_columns": null,
            "grid_template_rows": null,
            "height": null,
            "justify_content": null,
            "justify_items": null,
            "left": null,
            "margin": null,
            "max_height": null,
            "max_width": null,
            "min_height": null,
            "min_width": null,
            "object_fit": null,
            "object_position": null,
            "order": null,
            "overflow": null,
            "overflow_x": null,
            "overflow_y": null,
            "padding": null,
            "right": null,
            "top": null,
            "visibility": null,
            "width": null
          }
        },
        "cee67f9bfffa42eeaeb5c0fb67d36359": {
          "model_module": "@jupyter-widgets/controls",
          "model_name": "ProgressStyleModel",
          "model_module_version": "1.5.0",
          "state": {
            "_model_module": "@jupyter-widgets/controls",
            "_model_module_version": "1.5.0",
            "_model_name": "ProgressStyleModel",
            "_view_count": null,
            "_view_module": "@jupyter-widgets/base",
            "_view_module_version": "1.2.0",
            "_view_name": "StyleView",
            "bar_color": null,
            "description_width": ""
          }
        },
        "b0e30158d1bc44d1b84fda1ff63322b5": {
          "model_module": "@jupyter-widgets/base",
          "model_name": "LayoutModel",
          "model_module_version": "1.2.0",
          "state": {
            "_model_module": "@jupyter-widgets/base",
            "_model_module_version": "1.2.0",
            "_model_name": "LayoutModel",
            "_view_count": null,
            "_view_module": "@jupyter-widgets/base",
            "_view_module_version": "1.2.0",
            "_view_name": "LayoutView",
            "align_content": null,
            "align_items": null,
            "align_self": null,
            "border": null,
            "bottom": null,
            "display": null,
            "flex": null,
            "flex_flow": null,
            "grid_area": null,
            "grid_auto_columns": null,
            "grid_auto_flow": null,
            "grid_auto_rows": null,
            "grid_column": null,
            "grid_gap": null,
            "grid_row": null,
            "grid_template_areas": null,
            "grid_template_columns": null,
            "grid_template_rows": null,
            "height": null,
            "justify_content": null,
            "justify_items": null,
            "left": null,
            "margin": null,
            "max_height": null,
            "max_width": null,
            "min_height": null,
            "min_width": null,
            "object_fit": null,
            "object_position": null,
            "order": null,
            "overflow": null,
            "overflow_x": null,
            "overflow_y": null,
            "padding": null,
            "right": null,
            "top": null,
            "visibility": null,
            "width": null
          }
        },
        "cf2f17b3db164b20b0d11812cdff7e7b": {
          "model_module": "@jupyter-widgets/controls",
          "model_name": "DescriptionStyleModel",
          "model_module_version": "1.5.0",
          "state": {
            "_model_module": "@jupyter-widgets/controls",
            "_model_module_version": "1.5.0",
            "_model_name": "DescriptionStyleModel",
            "_view_count": null,
            "_view_module": "@jupyter-widgets/base",
            "_view_module_version": "1.2.0",
            "_view_name": "StyleView",
            "description_width": ""
          }
        },
        "d38f1b0f5ea2402ca55bf68385b6fb78": {
          "model_module": "@jupyter-widgets/controls",
          "model_name": "HBoxModel",
          "model_module_version": "1.5.0",
          "state": {
            "_dom_classes": [],
            "_model_module": "@jupyter-widgets/controls",
            "_model_module_version": "1.5.0",
            "_model_name": "HBoxModel",
            "_view_count": null,
            "_view_module": "@jupyter-widgets/controls",
            "_view_module_version": "1.5.0",
            "_view_name": "HBoxView",
            "box_style": "",
            "children": [
              "IPY_MODEL_04a1b2122f884231aa7ba15fb8e1bca5",
              "IPY_MODEL_ce65fd160d54459d87b818fc36d30ff6",
              "IPY_MODEL_4560e160d5544d3da16586b1dc4eb895"
            ],
            "layout": "IPY_MODEL_76324242c6094dea8fa21c78ff40a6fa"
          }
        },
        "04a1b2122f884231aa7ba15fb8e1bca5": {
          "model_module": "@jupyter-widgets/controls",
          "model_name": "HTMLModel",
          "model_module_version": "1.5.0",
          "state": {
            "_dom_classes": [],
            "_model_module": "@jupyter-widgets/controls",
            "_model_module_version": "1.5.0",
            "_model_name": "HTMLModel",
            "_view_count": null,
            "_view_module": "@jupyter-widgets/controls",
            "_view_module_version": "1.5.0",
            "_view_name": "HTMLView",
            "description": "",
            "description_tooltip": null,
            "layout": "IPY_MODEL_3afe82dc22694984a8d42d61dccf3146",
            "placeholder": "​",
            "style": "IPY_MODEL_7c4436cc63b7465fa37b447a5fb34f28",
            "value": "100%"
          }
        },
        "ce65fd160d54459d87b818fc36d30ff6": {
          "model_module": "@jupyter-widgets/controls",
          "model_name": "FloatProgressModel",
          "model_module_version": "1.5.0",
          "state": {
            "_dom_classes": [],
            "_model_module": "@jupyter-widgets/controls",
            "_model_module_version": "1.5.0",
            "_model_name": "FloatProgressModel",
            "_view_count": null,
            "_view_module": "@jupyter-widgets/controls",
            "_view_module_version": "1.5.0",
            "_view_name": "ProgressView",
            "bar_style": "success",
            "description": "",
            "description_tooltip": null,
            "layout": "IPY_MODEL_1f7b9c97e7d240bea1a33e6c82c30e86",
            "max": 1802,
            "min": 0,
            "orientation": "horizontal",
            "style": "IPY_MODEL_44c6c272dff543e6aa48255a995d5643",
            "value": 1802
          }
        },
        "4560e160d5544d3da16586b1dc4eb895": {
          "model_module": "@jupyter-widgets/controls",
          "model_name": "HTMLModel",
          "model_module_version": "1.5.0",
          "state": {
            "_dom_classes": [],
            "_model_module": "@jupyter-widgets/controls",
            "_model_module_version": "1.5.0",
            "_model_name": "HTMLModel",
            "_view_count": null,
            "_view_module": "@jupyter-widgets/controls",
            "_view_module_version": "1.5.0",
            "_view_name": "HTMLView",
            "description": "",
            "description_tooltip": null,
            "layout": "IPY_MODEL_107dc923606b41b4a47831fbffc4cf93",
            "placeholder": "​",
            "style": "IPY_MODEL_8c4c8dc0b93942fa9502351d5b90f6a4",
            "value": " 1802/1802 [09:11&lt;00:00,  1.04s/it]"
          }
        },
        "76324242c6094dea8fa21c78ff40a6fa": {
          "model_module": "@jupyter-widgets/base",
          "model_name": "LayoutModel",
          "model_module_version": "1.2.0",
          "state": {
            "_model_module": "@jupyter-widgets/base",
            "_model_module_version": "1.2.0",
            "_model_name": "LayoutModel",
            "_view_count": null,
            "_view_module": "@jupyter-widgets/base",
            "_view_module_version": "1.2.0",
            "_view_name": "LayoutView",
            "align_content": null,
            "align_items": null,
            "align_self": null,
            "border": null,
            "bottom": null,
            "display": null,
            "flex": null,
            "flex_flow": null,
            "grid_area": null,
            "grid_auto_columns": null,
            "grid_auto_flow": null,
            "grid_auto_rows": null,
            "grid_column": null,
            "grid_gap": null,
            "grid_row": null,
            "grid_template_areas": null,
            "grid_template_columns": null,
            "grid_template_rows": null,
            "height": null,
            "justify_content": null,
            "justify_items": null,
            "left": null,
            "margin": null,
            "max_height": null,
            "max_width": null,
            "min_height": null,
            "min_width": null,
            "object_fit": null,
            "object_position": null,
            "order": null,
            "overflow": null,
            "overflow_x": null,
            "overflow_y": null,
            "padding": null,
            "right": null,
            "top": null,
            "visibility": null,
            "width": null
          }
        },
        "3afe82dc22694984a8d42d61dccf3146": {
          "model_module": "@jupyter-widgets/base",
          "model_name": "LayoutModel",
          "model_module_version": "1.2.0",
          "state": {
            "_model_module": "@jupyter-widgets/base",
            "_model_module_version": "1.2.0",
            "_model_name": "LayoutModel",
            "_view_count": null,
            "_view_module": "@jupyter-widgets/base",
            "_view_module_version": "1.2.0",
            "_view_name": "LayoutView",
            "align_content": null,
            "align_items": null,
            "align_self": null,
            "border": null,
            "bottom": null,
            "display": null,
            "flex": null,
            "flex_flow": null,
            "grid_area": null,
            "grid_auto_columns": null,
            "grid_auto_flow": null,
            "grid_auto_rows": null,
            "grid_column": null,
            "grid_gap": null,
            "grid_row": null,
            "grid_template_areas": null,
            "grid_template_columns": null,
            "grid_template_rows": null,
            "height": null,
            "justify_content": null,
            "justify_items": null,
            "left": null,
            "margin": null,
            "max_height": null,
            "max_width": null,
            "min_height": null,
            "min_width": null,
            "object_fit": null,
            "object_position": null,
            "order": null,
            "overflow": null,
            "overflow_x": null,
            "overflow_y": null,
            "padding": null,
            "right": null,
            "top": null,
            "visibility": null,
            "width": null
          }
        },
        "7c4436cc63b7465fa37b447a5fb34f28": {
          "model_module": "@jupyter-widgets/controls",
          "model_name": "DescriptionStyleModel",
          "model_module_version": "1.5.0",
          "state": {
            "_model_module": "@jupyter-widgets/controls",
            "_model_module_version": "1.5.0",
            "_model_name": "DescriptionStyleModel",
            "_view_count": null,
            "_view_module": "@jupyter-widgets/base",
            "_view_module_version": "1.2.0",
            "_view_name": "StyleView",
            "description_width": ""
          }
        },
        "1f7b9c97e7d240bea1a33e6c82c30e86": {
          "model_module": "@jupyter-widgets/base",
          "model_name": "LayoutModel",
          "model_module_version": "1.2.0",
          "state": {
            "_model_module": "@jupyter-widgets/base",
            "_model_module_version": "1.2.0",
            "_model_name": "LayoutModel",
            "_view_count": null,
            "_view_module": "@jupyter-widgets/base",
            "_view_module_version": "1.2.0",
            "_view_name": "LayoutView",
            "align_content": null,
            "align_items": null,
            "align_self": null,
            "border": null,
            "bottom": null,
            "display": null,
            "flex": null,
            "flex_flow": null,
            "grid_area": null,
            "grid_auto_columns": null,
            "grid_auto_flow": null,
            "grid_auto_rows": null,
            "grid_column": null,
            "grid_gap": null,
            "grid_row": null,
            "grid_template_areas": null,
            "grid_template_columns": null,
            "grid_template_rows": null,
            "height": null,
            "justify_content": null,
            "justify_items": null,
            "left": null,
            "margin": null,
            "max_height": null,
            "max_width": null,
            "min_height": null,
            "min_width": null,
            "object_fit": null,
            "object_position": null,
            "order": null,
            "overflow": null,
            "overflow_x": null,
            "overflow_y": null,
            "padding": null,
            "right": null,
            "top": null,
            "visibility": null,
            "width": null
          }
        },
        "44c6c272dff543e6aa48255a995d5643": {
          "model_module": "@jupyter-widgets/controls",
          "model_name": "ProgressStyleModel",
          "model_module_version": "1.5.0",
          "state": {
            "_model_module": "@jupyter-widgets/controls",
            "_model_module_version": "1.5.0",
            "_model_name": "ProgressStyleModel",
            "_view_count": null,
            "_view_module": "@jupyter-widgets/base",
            "_view_module_version": "1.2.0",
            "_view_name": "StyleView",
            "bar_color": null,
            "description_width": ""
          }
        },
        "107dc923606b41b4a47831fbffc4cf93": {
          "model_module": "@jupyter-widgets/base",
          "model_name": "LayoutModel",
          "model_module_version": "1.2.0",
          "state": {
            "_model_module": "@jupyter-widgets/base",
            "_model_module_version": "1.2.0",
            "_model_name": "LayoutModel",
            "_view_count": null,
            "_view_module": "@jupyter-widgets/base",
            "_view_module_version": "1.2.0",
            "_view_name": "LayoutView",
            "align_content": null,
            "align_items": null,
            "align_self": null,
            "border": null,
            "bottom": null,
            "display": null,
            "flex": null,
            "flex_flow": null,
            "grid_area": null,
            "grid_auto_columns": null,
            "grid_auto_flow": null,
            "grid_auto_rows": null,
            "grid_column": null,
            "grid_gap": null,
            "grid_row": null,
            "grid_template_areas": null,
            "grid_template_columns": null,
            "grid_template_rows": null,
            "height": null,
            "justify_content": null,
            "justify_items": null,
            "left": null,
            "margin": null,
            "max_height": null,
            "max_width": null,
            "min_height": null,
            "min_width": null,
            "object_fit": null,
            "object_position": null,
            "order": null,
            "overflow": null,
            "overflow_x": null,
            "overflow_y": null,
            "padding": null,
            "right": null,
            "top": null,
            "visibility": null,
            "width": null
          }
        },
        "8c4c8dc0b93942fa9502351d5b90f6a4": {
          "model_module": "@jupyter-widgets/controls",
          "model_name": "DescriptionStyleModel",
          "model_module_version": "1.5.0",
          "state": {
            "_model_module": "@jupyter-widgets/controls",
            "_model_module_version": "1.5.0",
            "_model_name": "DescriptionStyleModel",
            "_view_count": null,
            "_view_module": "@jupyter-widgets/base",
            "_view_module_version": "1.2.0",
            "_view_name": "StyleView",
            "description_width": ""
          }
        },
        "8ba0c417cf694ac287cb8f6ba85e45fc": {
          "model_module": "@jupyter-widgets/controls",
          "model_name": "HBoxModel",
          "model_module_version": "1.5.0",
          "state": {
            "_dom_classes": [],
            "_model_module": "@jupyter-widgets/controls",
            "_model_module_version": "1.5.0",
            "_model_name": "HBoxModel",
            "_view_count": null,
            "_view_module": "@jupyter-widgets/controls",
            "_view_module_version": "1.5.0",
            "_view_name": "HBoxView",
            "box_style": "",
            "children": [
              "IPY_MODEL_57ac296c7e864c16aa43e2ba10883fcf",
              "IPY_MODEL_913f12e6241844f6a9d511da6d32d0ad",
              "IPY_MODEL_bfdb4c3f23af4581a4afce0046f358d7"
            ],
            "layout": "IPY_MODEL_9bdaeaadc0014552a52be18d3903583f"
          }
        },
        "57ac296c7e864c16aa43e2ba10883fcf": {
          "model_module": "@jupyter-widgets/controls",
          "model_name": "HTMLModel",
          "model_module_version": "1.5.0",
          "state": {
            "_dom_classes": [],
            "_model_module": "@jupyter-widgets/controls",
            "_model_module_version": "1.5.0",
            "_model_name": "HTMLModel",
            "_view_count": null,
            "_view_module": "@jupyter-widgets/controls",
            "_view_module_version": "1.5.0",
            "_view_name": "HTMLView",
            "description": "",
            "description_tooltip": null,
            "layout": "IPY_MODEL_468de307b0314450872ac17ca1c66e24",
            "placeholder": "​",
            "style": "IPY_MODEL_91c413bbac914f78923d000bd3682684",
            "value": "100%"
          }
        },
        "913f12e6241844f6a9d511da6d32d0ad": {
          "model_module": "@jupyter-widgets/controls",
          "model_name": "FloatProgressModel",
          "model_module_version": "1.5.0",
          "state": {
            "_dom_classes": [],
            "_model_module": "@jupyter-widgets/controls",
            "_model_module_version": "1.5.0",
            "_model_name": "FloatProgressModel",
            "_view_count": null,
            "_view_module": "@jupyter-widgets/controls",
            "_view_module_version": "1.5.0",
            "_view_name": "ProgressView",
            "bar_style": "success",
            "description": "",
            "description_tooltip": null,
            "layout": "IPY_MODEL_09712f75983742be9fbfa1e794bda179",
            "max": 1802,
            "min": 0,
            "orientation": "horizontal",
            "style": "IPY_MODEL_adededb551ce4be999218a43189bf231",
            "value": 1802
          }
        },
        "bfdb4c3f23af4581a4afce0046f358d7": {
          "model_module": "@jupyter-widgets/controls",
          "model_name": "HTMLModel",
          "model_module_version": "1.5.0",
          "state": {
            "_dom_classes": [],
            "_model_module": "@jupyter-widgets/controls",
            "_model_module_version": "1.5.0",
            "_model_name": "HTMLModel",
            "_view_count": null,
            "_view_module": "@jupyter-widgets/controls",
            "_view_module_version": "1.5.0",
            "_view_name": "HTMLView",
            "description": "",
            "description_tooltip": null,
            "layout": "IPY_MODEL_76a19159ce8447d69b7dbe2cd67c0be7",
            "placeholder": "​",
            "style": "IPY_MODEL_864043785b1d47f4874ab784bbde23ad",
            "value": " 1802/1802 [08:47&lt;00:00,  1.01it/s]"
          }
        },
        "9bdaeaadc0014552a52be18d3903583f": {
          "model_module": "@jupyter-widgets/base",
          "model_name": "LayoutModel",
          "model_module_version": "1.2.0",
          "state": {
            "_model_module": "@jupyter-widgets/base",
            "_model_module_version": "1.2.0",
            "_model_name": "LayoutModel",
            "_view_count": null,
            "_view_module": "@jupyter-widgets/base",
            "_view_module_version": "1.2.0",
            "_view_name": "LayoutView",
            "align_content": null,
            "align_items": null,
            "align_self": null,
            "border": null,
            "bottom": null,
            "display": null,
            "flex": null,
            "flex_flow": null,
            "grid_area": null,
            "grid_auto_columns": null,
            "grid_auto_flow": null,
            "grid_auto_rows": null,
            "grid_column": null,
            "grid_gap": null,
            "grid_row": null,
            "grid_template_areas": null,
            "grid_template_columns": null,
            "grid_template_rows": null,
            "height": null,
            "justify_content": null,
            "justify_items": null,
            "left": null,
            "margin": null,
            "max_height": null,
            "max_width": null,
            "min_height": null,
            "min_width": null,
            "object_fit": null,
            "object_position": null,
            "order": null,
            "overflow": null,
            "overflow_x": null,
            "overflow_y": null,
            "padding": null,
            "right": null,
            "top": null,
            "visibility": null,
            "width": null
          }
        },
        "468de307b0314450872ac17ca1c66e24": {
          "model_module": "@jupyter-widgets/base",
          "model_name": "LayoutModel",
          "model_module_version": "1.2.0",
          "state": {
            "_model_module": "@jupyter-widgets/base",
            "_model_module_version": "1.2.0",
            "_model_name": "LayoutModel",
            "_view_count": null,
            "_view_module": "@jupyter-widgets/base",
            "_view_module_version": "1.2.0",
            "_view_name": "LayoutView",
            "align_content": null,
            "align_items": null,
            "align_self": null,
            "border": null,
            "bottom": null,
            "display": null,
            "flex": null,
            "flex_flow": null,
            "grid_area": null,
            "grid_auto_columns": null,
            "grid_auto_flow": null,
            "grid_auto_rows": null,
            "grid_column": null,
            "grid_gap": null,
            "grid_row": null,
            "grid_template_areas": null,
            "grid_template_columns": null,
            "grid_template_rows": null,
            "height": null,
            "justify_content": null,
            "justify_items": null,
            "left": null,
            "margin": null,
            "max_height": null,
            "max_width": null,
            "min_height": null,
            "min_width": null,
            "object_fit": null,
            "object_position": null,
            "order": null,
            "overflow": null,
            "overflow_x": null,
            "overflow_y": null,
            "padding": null,
            "right": null,
            "top": null,
            "visibility": null,
            "width": null
          }
        },
        "91c413bbac914f78923d000bd3682684": {
          "model_module": "@jupyter-widgets/controls",
          "model_name": "DescriptionStyleModel",
          "model_module_version": "1.5.0",
          "state": {
            "_model_module": "@jupyter-widgets/controls",
            "_model_module_version": "1.5.0",
            "_model_name": "DescriptionStyleModel",
            "_view_count": null,
            "_view_module": "@jupyter-widgets/base",
            "_view_module_version": "1.2.0",
            "_view_name": "StyleView",
            "description_width": ""
          }
        },
        "09712f75983742be9fbfa1e794bda179": {
          "model_module": "@jupyter-widgets/base",
          "model_name": "LayoutModel",
          "model_module_version": "1.2.0",
          "state": {
            "_model_module": "@jupyter-widgets/base",
            "_model_module_version": "1.2.0",
            "_model_name": "LayoutModel",
            "_view_count": null,
            "_view_module": "@jupyter-widgets/base",
            "_view_module_version": "1.2.0",
            "_view_name": "LayoutView",
            "align_content": null,
            "align_items": null,
            "align_self": null,
            "border": null,
            "bottom": null,
            "display": null,
            "flex": null,
            "flex_flow": null,
            "grid_area": null,
            "grid_auto_columns": null,
            "grid_auto_flow": null,
            "grid_auto_rows": null,
            "grid_column": null,
            "grid_gap": null,
            "grid_row": null,
            "grid_template_areas": null,
            "grid_template_columns": null,
            "grid_template_rows": null,
            "height": null,
            "justify_content": null,
            "justify_items": null,
            "left": null,
            "margin": null,
            "max_height": null,
            "max_width": null,
            "min_height": null,
            "min_width": null,
            "object_fit": null,
            "object_position": null,
            "order": null,
            "overflow": null,
            "overflow_x": null,
            "overflow_y": null,
            "padding": null,
            "right": null,
            "top": null,
            "visibility": null,
            "width": null
          }
        },
        "adededb551ce4be999218a43189bf231": {
          "model_module": "@jupyter-widgets/controls",
          "model_name": "ProgressStyleModel",
          "model_module_version": "1.5.0",
          "state": {
            "_model_module": "@jupyter-widgets/controls",
            "_model_module_version": "1.5.0",
            "_model_name": "ProgressStyleModel",
            "_view_count": null,
            "_view_module": "@jupyter-widgets/base",
            "_view_module_version": "1.2.0",
            "_view_name": "StyleView",
            "bar_color": null,
            "description_width": ""
          }
        },
        "76a19159ce8447d69b7dbe2cd67c0be7": {
          "model_module": "@jupyter-widgets/base",
          "model_name": "LayoutModel",
          "model_module_version": "1.2.0",
          "state": {
            "_model_module": "@jupyter-widgets/base",
            "_model_module_version": "1.2.0",
            "_model_name": "LayoutModel",
            "_view_count": null,
            "_view_module": "@jupyter-widgets/base",
            "_view_module_version": "1.2.0",
            "_view_name": "LayoutView",
            "align_content": null,
            "align_items": null,
            "align_self": null,
            "border": null,
            "bottom": null,
            "display": null,
            "flex": null,
            "flex_flow": null,
            "grid_area": null,
            "grid_auto_columns": null,
            "grid_auto_flow": null,
            "grid_auto_rows": null,
            "grid_column": null,
            "grid_gap": null,
            "grid_row": null,
            "grid_template_areas": null,
            "grid_template_columns": null,
            "grid_template_rows": null,
            "height": null,
            "justify_content": null,
            "justify_items": null,
            "left": null,
            "margin": null,
            "max_height": null,
            "max_width": null,
            "min_height": null,
            "min_width": null,
            "object_fit": null,
            "object_position": null,
            "order": null,
            "overflow": null,
            "overflow_x": null,
            "overflow_y": null,
            "padding": null,
            "right": null,
            "top": null,
            "visibility": null,
            "width": null
          }
        },
        "864043785b1d47f4874ab784bbde23ad": {
          "model_module": "@jupyter-widgets/controls",
          "model_name": "DescriptionStyleModel",
          "model_module_version": "1.5.0",
          "state": {
            "_model_module": "@jupyter-widgets/controls",
            "_model_module_version": "1.5.0",
            "_model_name": "DescriptionStyleModel",
            "_view_count": null,
            "_view_module": "@jupyter-widgets/base",
            "_view_module_version": "1.2.0",
            "_view_name": "StyleView",
            "description_width": ""
          }
        },
        "40a892a1d6dc4e47b50c883f4a8b169e": {
          "model_module": "@jupyter-widgets/controls",
          "model_name": "HBoxModel",
          "model_module_version": "1.5.0",
          "state": {
            "_dom_classes": [],
            "_model_module": "@jupyter-widgets/controls",
            "_model_module_version": "1.5.0",
            "_model_name": "HBoxModel",
            "_view_count": null,
            "_view_module": "@jupyter-widgets/controls",
            "_view_module_version": "1.5.0",
            "_view_name": "HBoxView",
            "box_style": "",
            "children": [
              "IPY_MODEL_a451b9f443114076952e6a25513485fa",
              "IPY_MODEL_d25828be4f204071b6cb98e86607cb18",
              "IPY_MODEL_4b47e1a120434d95a3311b9beae76cfa"
            ],
            "layout": "IPY_MODEL_98bc00b2576349e49fc371d319ccbb63"
          }
        },
        "a451b9f443114076952e6a25513485fa": {
          "model_module": "@jupyter-widgets/controls",
          "model_name": "HTMLModel",
          "model_module_version": "1.5.0",
          "state": {
            "_dom_classes": [],
            "_model_module": "@jupyter-widgets/controls",
            "_model_module_version": "1.5.0",
            "_model_name": "HTMLModel",
            "_view_count": null,
            "_view_module": "@jupyter-widgets/controls",
            "_view_module_version": "1.5.0",
            "_view_name": "HTMLView",
            "description": "",
            "description_tooltip": null,
            "layout": "IPY_MODEL_7f9ed9e15da04c22ae2ac04c5cb0ecf4",
            "placeholder": "​",
            "style": "IPY_MODEL_e758eab964c441b88abcf15faed506ed",
            "value": "100%"
          }
        },
        "d25828be4f204071b6cb98e86607cb18": {
          "model_module": "@jupyter-widgets/controls",
          "model_name": "FloatProgressModel",
          "model_module_version": "1.5.0",
          "state": {
            "_dom_classes": [],
            "_model_module": "@jupyter-widgets/controls",
            "_model_module_version": "1.5.0",
            "_model_name": "FloatProgressModel",
            "_view_count": null,
            "_view_module": "@jupyter-widgets/controls",
            "_view_module_version": "1.5.0",
            "_view_name": "ProgressView",
            "bar_style": "success",
            "description": "",
            "description_tooltip": null,
            "layout": "IPY_MODEL_d34d6957176d438fbc4a40345bd6a130",
            "max": 1802,
            "min": 0,
            "orientation": "horizontal",
            "style": "IPY_MODEL_110adf8d8b304115a885c55c439a1211",
            "value": 1802
          }
        },
        "4b47e1a120434d95a3311b9beae76cfa": {
          "model_module": "@jupyter-widgets/controls",
          "model_name": "HTMLModel",
          "model_module_version": "1.5.0",
          "state": {
            "_dom_classes": [],
            "_model_module": "@jupyter-widgets/controls",
            "_model_module_version": "1.5.0",
            "_model_name": "HTMLModel",
            "_view_count": null,
            "_view_module": "@jupyter-widgets/controls",
            "_view_module_version": "1.5.0",
            "_view_name": "HTMLView",
            "description": "",
            "description_tooltip": null,
            "layout": "IPY_MODEL_81d6ab4e53c146869c8e38ce4ab39f96",
            "placeholder": "​",
            "style": "IPY_MODEL_6ece8fa76a1d412b9d2190f5101f763f",
            "value": " 1802/1802 [08:48&lt;00:00,  1.04it/s]"
          }
        },
        "98bc00b2576349e49fc371d319ccbb63": {
          "model_module": "@jupyter-widgets/base",
          "model_name": "LayoutModel",
          "model_module_version": "1.2.0",
          "state": {
            "_model_module": "@jupyter-widgets/base",
            "_model_module_version": "1.2.0",
            "_model_name": "LayoutModel",
            "_view_count": null,
            "_view_module": "@jupyter-widgets/base",
            "_view_module_version": "1.2.0",
            "_view_name": "LayoutView",
            "align_content": null,
            "align_items": null,
            "align_self": null,
            "border": null,
            "bottom": null,
            "display": null,
            "flex": null,
            "flex_flow": null,
            "grid_area": null,
            "grid_auto_columns": null,
            "grid_auto_flow": null,
            "grid_auto_rows": null,
            "grid_column": null,
            "grid_gap": null,
            "grid_row": null,
            "grid_template_areas": null,
            "grid_template_columns": null,
            "grid_template_rows": null,
            "height": null,
            "justify_content": null,
            "justify_items": null,
            "left": null,
            "margin": null,
            "max_height": null,
            "max_width": null,
            "min_height": null,
            "min_width": null,
            "object_fit": null,
            "object_position": null,
            "order": null,
            "overflow": null,
            "overflow_x": null,
            "overflow_y": null,
            "padding": null,
            "right": null,
            "top": null,
            "visibility": null,
            "width": null
          }
        },
        "7f9ed9e15da04c22ae2ac04c5cb0ecf4": {
          "model_module": "@jupyter-widgets/base",
          "model_name": "LayoutModel",
          "model_module_version": "1.2.0",
          "state": {
            "_model_module": "@jupyter-widgets/base",
            "_model_module_version": "1.2.0",
            "_model_name": "LayoutModel",
            "_view_count": null,
            "_view_module": "@jupyter-widgets/base",
            "_view_module_version": "1.2.0",
            "_view_name": "LayoutView",
            "align_content": null,
            "align_items": null,
            "align_self": null,
            "border": null,
            "bottom": null,
            "display": null,
            "flex": null,
            "flex_flow": null,
            "grid_area": null,
            "grid_auto_columns": null,
            "grid_auto_flow": null,
            "grid_auto_rows": null,
            "grid_column": null,
            "grid_gap": null,
            "grid_row": null,
            "grid_template_areas": null,
            "grid_template_columns": null,
            "grid_template_rows": null,
            "height": null,
            "justify_content": null,
            "justify_items": null,
            "left": null,
            "margin": null,
            "max_height": null,
            "max_width": null,
            "min_height": null,
            "min_width": null,
            "object_fit": null,
            "object_position": null,
            "order": null,
            "overflow": null,
            "overflow_x": null,
            "overflow_y": null,
            "padding": null,
            "right": null,
            "top": null,
            "visibility": null,
            "width": null
          }
        },
        "e758eab964c441b88abcf15faed506ed": {
          "model_module": "@jupyter-widgets/controls",
          "model_name": "DescriptionStyleModel",
          "model_module_version": "1.5.0",
          "state": {
            "_model_module": "@jupyter-widgets/controls",
            "_model_module_version": "1.5.0",
            "_model_name": "DescriptionStyleModel",
            "_view_count": null,
            "_view_module": "@jupyter-widgets/base",
            "_view_module_version": "1.2.0",
            "_view_name": "StyleView",
            "description_width": ""
          }
        },
        "d34d6957176d438fbc4a40345bd6a130": {
          "model_module": "@jupyter-widgets/base",
          "model_name": "LayoutModel",
          "model_module_version": "1.2.0",
          "state": {
            "_model_module": "@jupyter-widgets/base",
            "_model_module_version": "1.2.0",
            "_model_name": "LayoutModel",
            "_view_count": null,
            "_view_module": "@jupyter-widgets/base",
            "_view_module_version": "1.2.0",
            "_view_name": "LayoutView",
            "align_content": null,
            "align_items": null,
            "align_self": null,
            "border": null,
            "bottom": null,
            "display": null,
            "flex": null,
            "flex_flow": null,
            "grid_area": null,
            "grid_auto_columns": null,
            "grid_auto_flow": null,
            "grid_auto_rows": null,
            "grid_column": null,
            "grid_gap": null,
            "grid_row": null,
            "grid_template_areas": null,
            "grid_template_columns": null,
            "grid_template_rows": null,
            "height": null,
            "justify_content": null,
            "justify_items": null,
            "left": null,
            "margin": null,
            "max_height": null,
            "max_width": null,
            "min_height": null,
            "min_width": null,
            "object_fit": null,
            "object_position": null,
            "order": null,
            "overflow": null,
            "overflow_x": null,
            "overflow_y": null,
            "padding": null,
            "right": null,
            "top": null,
            "visibility": null,
            "width": null
          }
        },
        "110adf8d8b304115a885c55c439a1211": {
          "model_module": "@jupyter-widgets/controls",
          "model_name": "ProgressStyleModel",
          "model_module_version": "1.5.0",
          "state": {
            "_model_module": "@jupyter-widgets/controls",
            "_model_module_version": "1.5.0",
            "_model_name": "ProgressStyleModel",
            "_view_count": null,
            "_view_module": "@jupyter-widgets/base",
            "_view_module_version": "1.2.0",
            "_view_name": "StyleView",
            "bar_color": null,
            "description_width": ""
          }
        },
        "81d6ab4e53c146869c8e38ce4ab39f96": {
          "model_module": "@jupyter-widgets/base",
          "model_name": "LayoutModel",
          "model_module_version": "1.2.0",
          "state": {
            "_model_module": "@jupyter-widgets/base",
            "_model_module_version": "1.2.0",
            "_model_name": "LayoutModel",
            "_view_count": null,
            "_view_module": "@jupyter-widgets/base",
            "_view_module_version": "1.2.0",
            "_view_name": "LayoutView",
            "align_content": null,
            "align_items": null,
            "align_self": null,
            "border": null,
            "bottom": null,
            "display": null,
            "flex": null,
            "flex_flow": null,
            "grid_area": null,
            "grid_auto_columns": null,
            "grid_auto_flow": null,
            "grid_auto_rows": null,
            "grid_column": null,
            "grid_gap": null,
            "grid_row": null,
            "grid_template_areas": null,
            "grid_template_columns": null,
            "grid_template_rows": null,
            "height": null,
            "justify_content": null,
            "justify_items": null,
            "left": null,
            "margin": null,
            "max_height": null,
            "max_width": null,
            "min_height": null,
            "min_width": null,
            "object_fit": null,
            "object_position": null,
            "order": null,
            "overflow": null,
            "overflow_x": null,
            "overflow_y": null,
            "padding": null,
            "right": null,
            "top": null,
            "visibility": null,
            "width": null
          }
        },
        "6ece8fa76a1d412b9d2190f5101f763f": {
          "model_module": "@jupyter-widgets/controls",
          "model_name": "DescriptionStyleModel",
          "model_module_version": "1.5.0",
          "state": {
            "_model_module": "@jupyter-widgets/controls",
            "_model_module_version": "1.5.0",
            "_model_name": "DescriptionStyleModel",
            "_view_count": null,
            "_view_module": "@jupyter-widgets/base",
            "_view_module_version": "1.2.0",
            "_view_name": "StyleView",
            "description_width": ""
          }
        },
        "8a83f81dc14b4d77898105e6c5cdab80": {
          "model_module": "@jupyter-widgets/controls",
          "model_name": "HBoxModel",
          "model_module_version": "1.5.0",
          "state": {
            "_dom_classes": [],
            "_model_module": "@jupyter-widgets/controls",
            "_model_module_version": "1.5.0",
            "_model_name": "HBoxModel",
            "_view_count": null,
            "_view_module": "@jupyter-widgets/controls",
            "_view_module_version": "1.5.0",
            "_view_name": "HBoxView",
            "box_style": "",
            "children": [
              "IPY_MODEL_f63a5935063c4a1aab2d177b47a8b332",
              "IPY_MODEL_b6f7a31bef5c4aa1a866aa24f93080bd",
              "IPY_MODEL_4648d7a1e0f5482593f3f359d1b3831f"
            ],
            "layout": "IPY_MODEL_2cb5a47ad9f84d0fbd41aa81aabec0d6"
          }
        },
        "f63a5935063c4a1aab2d177b47a8b332": {
          "model_module": "@jupyter-widgets/controls",
          "model_name": "HTMLModel",
          "model_module_version": "1.5.0",
          "state": {
            "_dom_classes": [],
            "_model_module": "@jupyter-widgets/controls",
            "_model_module_version": "1.5.0",
            "_model_name": "HTMLModel",
            "_view_count": null,
            "_view_module": "@jupyter-widgets/controls",
            "_view_module_version": "1.5.0",
            "_view_name": "HTMLView",
            "description": "",
            "description_tooltip": null,
            "layout": "IPY_MODEL_19fee5f04cb94798881df827db8f5672",
            "placeholder": "​",
            "style": "IPY_MODEL_31c42d46abad4845941a71e4fc9de82b",
            "value": "100%"
          }
        },
        "b6f7a31bef5c4aa1a866aa24f93080bd": {
          "model_module": "@jupyter-widgets/controls",
          "model_name": "FloatProgressModel",
          "model_module_version": "1.5.0",
          "state": {
            "_dom_classes": [],
            "_model_module": "@jupyter-widgets/controls",
            "_model_module_version": "1.5.0",
            "_model_name": "FloatProgressModel",
            "_view_count": null,
            "_view_module": "@jupyter-widgets/controls",
            "_view_module_version": "1.5.0",
            "_view_name": "ProgressView",
            "bar_style": "success",
            "description": "",
            "description_tooltip": null,
            "layout": "IPY_MODEL_52bb0e62bc3d433599e47b181aef2a49",
            "max": 200,
            "min": 0,
            "orientation": "horizontal",
            "style": "IPY_MODEL_0c49c4ddb2b94aa280ced7eb786307f0",
            "value": 200
          }
        },
        "4648d7a1e0f5482593f3f359d1b3831f": {
          "model_module": "@jupyter-widgets/controls",
          "model_name": "HTMLModel",
          "model_module_version": "1.5.0",
          "state": {
            "_dom_classes": [],
            "_model_module": "@jupyter-widgets/controls",
            "_model_module_version": "1.5.0",
            "_model_name": "HTMLModel",
            "_view_count": null,
            "_view_module": "@jupyter-widgets/controls",
            "_view_module_version": "1.5.0",
            "_view_name": "HTMLView",
            "description": "",
            "description_tooltip": null,
            "layout": "IPY_MODEL_649e17cf741d41e0afd2163b3a44a800",
            "placeholder": "​",
            "style": "IPY_MODEL_97ac175680ac4a34a051ccdb09275367",
            "value": " 200/200 [30:28&lt;00:00,  8.77s/it]"
          }
        },
        "2cb5a47ad9f84d0fbd41aa81aabec0d6": {
          "model_module": "@jupyter-widgets/base",
          "model_name": "LayoutModel",
          "model_module_version": "1.2.0",
          "state": {
            "_model_module": "@jupyter-widgets/base",
            "_model_module_version": "1.2.0",
            "_model_name": "LayoutModel",
            "_view_count": null,
            "_view_module": "@jupyter-widgets/base",
            "_view_module_version": "1.2.0",
            "_view_name": "LayoutView",
            "align_content": null,
            "align_items": null,
            "align_self": null,
            "border": null,
            "bottom": null,
            "display": null,
            "flex": null,
            "flex_flow": null,
            "grid_area": null,
            "grid_auto_columns": null,
            "grid_auto_flow": null,
            "grid_auto_rows": null,
            "grid_column": null,
            "grid_gap": null,
            "grid_row": null,
            "grid_template_areas": null,
            "grid_template_columns": null,
            "grid_template_rows": null,
            "height": null,
            "justify_content": null,
            "justify_items": null,
            "left": null,
            "margin": null,
            "max_height": null,
            "max_width": null,
            "min_height": null,
            "min_width": null,
            "object_fit": null,
            "object_position": null,
            "order": null,
            "overflow": null,
            "overflow_x": null,
            "overflow_y": null,
            "padding": null,
            "right": null,
            "top": null,
            "visibility": null,
            "width": null
          }
        },
        "19fee5f04cb94798881df827db8f5672": {
          "model_module": "@jupyter-widgets/base",
          "model_name": "LayoutModel",
          "model_module_version": "1.2.0",
          "state": {
            "_model_module": "@jupyter-widgets/base",
            "_model_module_version": "1.2.0",
            "_model_name": "LayoutModel",
            "_view_count": null,
            "_view_module": "@jupyter-widgets/base",
            "_view_module_version": "1.2.0",
            "_view_name": "LayoutView",
            "align_content": null,
            "align_items": null,
            "align_self": null,
            "border": null,
            "bottom": null,
            "display": null,
            "flex": null,
            "flex_flow": null,
            "grid_area": null,
            "grid_auto_columns": null,
            "grid_auto_flow": null,
            "grid_auto_rows": null,
            "grid_column": null,
            "grid_gap": null,
            "grid_row": null,
            "grid_template_areas": null,
            "grid_template_columns": null,
            "grid_template_rows": null,
            "height": null,
            "justify_content": null,
            "justify_items": null,
            "left": null,
            "margin": null,
            "max_height": null,
            "max_width": null,
            "min_height": null,
            "min_width": null,
            "object_fit": null,
            "object_position": null,
            "order": null,
            "overflow": null,
            "overflow_x": null,
            "overflow_y": null,
            "padding": null,
            "right": null,
            "top": null,
            "visibility": null,
            "width": null
          }
        },
        "31c42d46abad4845941a71e4fc9de82b": {
          "model_module": "@jupyter-widgets/controls",
          "model_name": "DescriptionStyleModel",
          "model_module_version": "1.5.0",
          "state": {
            "_model_module": "@jupyter-widgets/controls",
            "_model_module_version": "1.5.0",
            "_model_name": "DescriptionStyleModel",
            "_view_count": null,
            "_view_module": "@jupyter-widgets/base",
            "_view_module_version": "1.2.0",
            "_view_name": "StyleView",
            "description_width": ""
          }
        },
        "52bb0e62bc3d433599e47b181aef2a49": {
          "model_module": "@jupyter-widgets/base",
          "model_name": "LayoutModel",
          "model_module_version": "1.2.0",
          "state": {
            "_model_module": "@jupyter-widgets/base",
            "_model_module_version": "1.2.0",
            "_model_name": "LayoutModel",
            "_view_count": null,
            "_view_module": "@jupyter-widgets/base",
            "_view_module_version": "1.2.0",
            "_view_name": "LayoutView",
            "align_content": null,
            "align_items": null,
            "align_self": null,
            "border": null,
            "bottom": null,
            "display": null,
            "flex": null,
            "flex_flow": null,
            "grid_area": null,
            "grid_auto_columns": null,
            "grid_auto_flow": null,
            "grid_auto_rows": null,
            "grid_column": null,
            "grid_gap": null,
            "grid_row": null,
            "grid_template_areas": null,
            "grid_template_columns": null,
            "grid_template_rows": null,
            "height": null,
            "justify_content": null,
            "justify_items": null,
            "left": null,
            "margin": null,
            "max_height": null,
            "max_width": null,
            "min_height": null,
            "min_width": null,
            "object_fit": null,
            "object_position": null,
            "order": null,
            "overflow": null,
            "overflow_x": null,
            "overflow_y": null,
            "padding": null,
            "right": null,
            "top": null,
            "visibility": null,
            "width": null
          }
        },
        "0c49c4ddb2b94aa280ced7eb786307f0": {
          "model_module": "@jupyter-widgets/controls",
          "model_name": "ProgressStyleModel",
          "model_module_version": "1.5.0",
          "state": {
            "_model_module": "@jupyter-widgets/controls",
            "_model_module_version": "1.5.0",
            "_model_name": "ProgressStyleModel",
            "_view_count": null,
            "_view_module": "@jupyter-widgets/base",
            "_view_module_version": "1.2.0",
            "_view_name": "StyleView",
            "bar_color": null,
            "description_width": ""
          }
        },
        "649e17cf741d41e0afd2163b3a44a800": {
          "model_module": "@jupyter-widgets/base",
          "model_name": "LayoutModel",
          "model_module_version": "1.2.0",
          "state": {
            "_model_module": "@jupyter-widgets/base",
            "_model_module_version": "1.2.0",
            "_model_name": "LayoutModel",
            "_view_count": null,
            "_view_module": "@jupyter-widgets/base",
            "_view_module_version": "1.2.0",
            "_view_name": "LayoutView",
            "align_content": null,
            "align_items": null,
            "align_self": null,
            "border": null,
            "bottom": null,
            "display": null,
            "flex": null,
            "flex_flow": null,
            "grid_area": null,
            "grid_auto_columns": null,
            "grid_auto_flow": null,
            "grid_auto_rows": null,
            "grid_column": null,
            "grid_gap": null,
            "grid_row": null,
            "grid_template_areas": null,
            "grid_template_columns": null,
            "grid_template_rows": null,
            "height": null,
            "justify_content": null,
            "justify_items": null,
            "left": null,
            "margin": null,
            "max_height": null,
            "max_width": null,
            "min_height": null,
            "min_width": null,
            "object_fit": null,
            "object_position": null,
            "order": null,
            "overflow": null,
            "overflow_x": null,
            "overflow_y": null,
            "padding": null,
            "right": null,
            "top": null,
            "visibility": null,
            "width": null
          }
        },
        "97ac175680ac4a34a051ccdb09275367": {
          "model_module": "@jupyter-widgets/controls",
          "model_name": "DescriptionStyleModel",
          "model_module_version": "1.5.0",
          "state": {
            "_model_module": "@jupyter-widgets/controls",
            "_model_module_version": "1.5.0",
            "_model_name": "DescriptionStyleModel",
            "_view_count": null,
            "_view_module": "@jupyter-widgets/base",
            "_view_module_version": "1.2.0",
            "_view_name": "StyleView",
            "description_width": ""
          }
        }
      }
    },
    "accelerator": "GPU"
  },
  "cells": [
    {
      "cell_type": "markdown",
      "metadata": {
        "id": "view-in-github",
        "colab_type": "text"
      },
      "source": [
        "<a href=\"https://colab.research.google.com/github/amengemeda/ISproject-2/blob/main/MT5_finetuning.ipynb\" target=\"_parent\"><img src=\"https://colab.research.google.com/assets/colab-badge.svg\" alt=\"Open In Colab\"/></a>"
      ]
    },
    {
      "cell_type": "markdown",
      "metadata": {
        "id": "-s4I9ta0GPmY"
      },
      "source": [
        "**Load libraries and data**"
      ]
    },
    {
      "cell_type": "code",
      "metadata": {
        "colab": {
          "base_uri": "https://localhost:8080/"
        },
        "id": "vH7jHPiCHIvI",
        "outputId": "cf5baf66-c876-4381-fd0e-dfdfd9f4adc7"
      },
      "source": [
        "!pip install klib sentencepiece transformers "
      ],
      "execution_count": null,
      "outputs": [
        {
          "output_type": "stream",
          "name": "stdout",
          "text": [
            "Looking in indexes: https://pypi.org/simple, https://us-python.pkg.dev/colab-wheels/public/simple/\n",
            "Collecting klib\n",
            "  Downloading klib-1.0.1-py3-none-any.whl (20 kB)\n",
            "Collecting sentencepiece\n",
            "  Downloading sentencepiece-0.1.97-cp37-cp37m-manylinux_2_17_x86_64.manylinux2014_x86_64.whl (1.3 MB)\n",
            "\u001b[K     |████████████████████████████████| 1.3 MB 30.9 MB/s \n",
            "\u001b[?25hCollecting transformers\n",
            "  Downloading transformers-4.22.1-py3-none-any.whl (4.9 MB)\n",
            "\u001b[K     |████████████████████████████████| 4.9 MB 62.9 MB/s \n",
            "\u001b[?25hRequirement already satisfied: scipy<2.0.0,>=1.1.0 in /usr/local/lib/python3.7/dist-packages (from klib) (1.7.3)\n",
            "Collecting Jinja2<4.0.0,>=3.0.3\n",
            "  Downloading Jinja2-3.1.2-py3-none-any.whl (133 kB)\n",
            "\u001b[K     |████████████████████████████████| 133 kB 68.4 MB/s \n",
            "\u001b[?25hRequirement already satisfied: numpy<2.0.0,>=1.16.3 in /usr/local/lib/python3.7/dist-packages (from klib) (1.21.6)\n",
            "Requirement already satisfied: seaborn<0.12.0,>=0.11.1 in /usr/local/lib/python3.7/dist-packages (from klib) (0.11.2)\n",
            "Requirement already satisfied: pandas<2.0.0,>=1.1.2 in /usr/local/lib/python3.7/dist-packages (from klib) (1.3.5)\n",
            "Requirement already satisfied: matplotlib<4.0.0,>=3.0.3 in /usr/local/lib/python3.7/dist-packages (from klib) (3.2.2)\n",
            "Requirement already satisfied: MarkupSafe>=2.0 in /usr/local/lib/python3.7/dist-packages (from Jinja2<4.0.0,>=3.0.3->klib) (2.0.1)\n",
            "Requirement already satisfied: kiwisolver>=1.0.1 in /usr/local/lib/python3.7/dist-packages (from matplotlib<4.0.0,>=3.0.3->klib) (1.4.4)\n",
            "Requirement already satisfied: python-dateutil>=2.1 in /usr/local/lib/python3.7/dist-packages (from matplotlib<4.0.0,>=3.0.3->klib) (2.8.2)\n",
            "Requirement already satisfied: pyparsing!=2.0.4,!=2.1.2,!=2.1.6,>=2.0.1 in /usr/local/lib/python3.7/dist-packages (from matplotlib<4.0.0,>=3.0.3->klib) (3.0.9)\n",
            "Requirement already satisfied: cycler>=0.10 in /usr/local/lib/python3.7/dist-packages (from matplotlib<4.0.0,>=3.0.3->klib) (0.11.0)\n",
            "Requirement already satisfied: typing-extensions in /usr/local/lib/python3.7/dist-packages (from kiwisolver>=1.0.1->matplotlib<4.0.0,>=3.0.3->klib) (4.1.1)\n",
            "Requirement already satisfied: pytz>=2017.3 in /usr/local/lib/python3.7/dist-packages (from pandas<2.0.0,>=1.1.2->klib) (2022.2.1)\n",
            "Requirement already satisfied: six>=1.5 in /usr/local/lib/python3.7/dist-packages (from python-dateutil>=2.1->matplotlib<4.0.0,>=3.0.3->klib) (1.15.0)\n",
            "Requirement already satisfied: packaging>=20.0 in /usr/local/lib/python3.7/dist-packages (from transformers) (21.3)\n",
            "Requirement already satisfied: importlib-metadata in /usr/local/lib/python3.7/dist-packages (from transformers) (4.12.0)\n",
            "Requirement already satisfied: requests in /usr/local/lib/python3.7/dist-packages (from transformers) (2.23.0)\n",
            "Requirement already satisfied: tqdm>=4.27 in /usr/local/lib/python3.7/dist-packages (from transformers) (4.64.1)\n",
            "Requirement already satisfied: pyyaml>=5.1 in /usr/local/lib/python3.7/dist-packages (from transformers) (6.0)\n",
            "Requirement already satisfied: filelock in /usr/local/lib/python3.7/dist-packages (from transformers) (3.8.0)\n",
            "Requirement already satisfied: regex!=2019.12.17 in /usr/local/lib/python3.7/dist-packages (from transformers) (2022.6.2)\n",
            "Collecting tokenizers!=0.11.3,<0.13,>=0.11.1\n",
            "  Downloading tokenizers-0.12.1-cp37-cp37m-manylinux_2_12_x86_64.manylinux2010_x86_64.whl (6.6 MB)\n",
            "\u001b[K     |████████████████████████████████| 6.6 MB 43.5 MB/s \n",
            "\u001b[?25hCollecting huggingface-hub<1.0,>=0.9.0\n",
            "  Downloading huggingface_hub-0.9.1-py3-none-any.whl (120 kB)\n",
            "\u001b[K     |████████████████████████████████| 120 kB 71.9 MB/s \n",
            "\u001b[?25hRequirement already satisfied: zipp>=0.5 in /usr/local/lib/python3.7/dist-packages (from importlib-metadata->transformers) (3.8.1)\n",
            "Requirement already satisfied: chardet<4,>=3.0.2 in /usr/local/lib/python3.7/dist-packages (from requests->transformers) (3.0.4)\n",
            "Requirement already satisfied: certifi>=2017.4.17 in /usr/local/lib/python3.7/dist-packages (from requests->transformers) (2022.6.15)\n",
            "Requirement already satisfied: idna<3,>=2.5 in /usr/local/lib/python3.7/dist-packages (from requests->transformers) (2.10)\n",
            "Requirement already satisfied: urllib3!=1.25.0,!=1.25.1,<1.26,>=1.21.1 in /usr/local/lib/python3.7/dist-packages (from requests->transformers) (1.24.3)\n",
            "Installing collected packages: tokenizers, Jinja2, huggingface-hub, transformers, sentencepiece, klib\n",
            "  Attempting uninstall: Jinja2\n",
            "    Found existing installation: Jinja2 2.11.3\n",
            "    Uninstalling Jinja2-2.11.3:\n",
            "      Successfully uninstalled Jinja2-2.11.3\n",
            "\u001b[31mERROR: pip's dependency resolver does not currently take into account all the packages that are installed. This behaviour is the source of the following dependency conflicts.\n",
            "flask 1.1.4 requires Jinja2<3.0,>=2.10.1, but you have jinja2 3.1.2 which is incompatible.\u001b[0m\n",
            "Successfully installed Jinja2-3.1.2 huggingface-hub-0.9.1 klib-1.0.1 sentencepiece-0.1.97 tokenizers-0.12.1 transformers-4.22.1\n"
          ]
        }
      ]
    },
    {
      "cell_type": "code",
      "metadata": {
        "id": "L-AqhygdayjO",
        "colab": {
          "base_uri": "https://localhost:8080/",
          "height": 104,
          "referenced_widgets": [
            "e8135a44ccc04089b148fcdaaa0ae494",
            "4ddc3ed2d1124d4387a4ee085140a48f",
            "64db1f5b96b442919240d416e87616f6",
            "c774888785cc4135ae8984fdfa9a1264",
            "2f462a0aae494460aa9191ec57042c7d",
            "6006d1688179458db83bb60e930c9f0c",
            "dcda76810ece48bb9086fbd5987baccb",
            "e1c3ad3cc45741d2a2b761cba4d2d254",
            "9acb846a63594c489acbf5e304a16a5b",
            "4ba4ad46ad5748e9863be66f5356d49c",
            "a9a8ea311f1443f6ac0664e38f9182e5"
          ]
        },
        "outputId": "17c0639a-9421-40f9-c47f-24b25a312dee"
      },
      "source": [
        "import pandas as pd\n",
        "from sklearn.model_selection import train_test_split\n",
        "import klib\n",
        "from google.colab import drive\n",
        "import matplotlib.pyplot as plt\n",
        "import numpy as np\n",
        "import torch\n",
        "from torch import optim\n",
        "from transformers import AdamW, AutoModelForSeq2SeqLM, AutoTokenizer\n",
        "from transformers import get_linear_schedule_with_warmup\n",
        "from transformers import T5Tokenizer, MT5ForConditionalGeneration\n",
        "from tqdm.notebook import tqdm as tqdm_notebook_\n",
        "from scipy.signal import savgol_filter\n",
        "import random\n",
        "import copy\n",
        "import os"
      ],
      "execution_count": null,
      "outputs": [
        {
          "output_type": "stream",
          "name": "stderr",
          "text": [
            "The cache for model files in Transformers v4.22.0 has been updated. Migrating your old cache. This is a one-time only operation. You can interrupt this and resume the migration later on by calling `transformers.utils.move_cache()`.\n"
          ]
        },
        {
          "output_type": "stream",
          "name": "stdout",
          "text": [
            "Moving 0 files to the new cache system\n"
          ]
        },
        {
          "output_type": "display_data",
          "data": {
            "text/plain": [
              "0it [00:00, ?it/s]"
            ],
            "application/vnd.jupyter.widget-view+json": {
              "version_major": 2,
              "version_minor": 0,
              "model_id": "e8135a44ccc04089b148fcdaaa0ae494"
            }
          },
          "metadata": {}
        }
      ]
    },
    {
      "cell_type": "code",
      "metadata": {
        "colab": {
          "base_uri": "https://localhost:8080/"
        },
        "id": "B4jpz4I7TSuS",
        "outputId": "bc4acca4-662b-4dff-a2bf-72ec915fbff2"
      },
      "source": [
        "# Mounting the google drive\n",
        "\n",
        "drive.mount('/content/drive')"
      ],
      "execution_count": null,
      "outputs": [
        {
          "output_type": "stream",
          "name": "stdout",
          "text": [
            "Mounted at /content/drive\n"
          ]
        }
      ]
    },
    {
      "cell_type": "code",
      "source": [
        "#fetch the dataset from the drive\n",
        "Labels=pd.read_csv('/content/drive/MyDrive/Machine Learning/Data/Amharic-Hate-Speech-Dataset/Labels.txt',header=None)\n",
        "Posts=pd.read_csv('/content/drive/MyDrive/Machine Learning/Data/Amharic-Hate-Speech-Dataset/Posts.txt',header=None)"
      ],
      "metadata": {
        "id": "dkA1gHn6pwMD"
      },
      "execution_count": null,
      "outputs": []
    },
    {
      "cell_type": "code",
      "execution_count": null,
      "metadata": {
        "id": "ti6Xtr1y47zj"
      },
      "outputs": [],
      "source": [
        "#naming the columns\n",
        "Labels.columns = [\"target_text\"]\n",
        "Posts.columns = [\"input_text\"]"
      ]
    },
    {
      "cell_type": "code",
      "execution_count": null,
      "metadata": {
        "id": "k4GGAdMxjxoQ"
      },
      "outputs": [],
      "source": [
        "#encoding the classes into numerical data\n",
        "Labels = Labels.replace(['Free', 'Free ','Hate'],['Free','Free','Hate']) "
      ]
    },
    {
      "cell_type": "code",
      "execution_count": null,
      "metadata": {
        "id": "hh3MnC_O6E-4"
      },
      "outputs": [],
      "source": [
        "#merge the datasets\n",
        "Frames = [Posts,Labels]\n",
        "Merged = pd.concat(Frames, axis=1)\n"
      ]
    },
    {
      "cell_type": "code",
      "execution_count": null,
      "metadata": {
        "id": "rmeOZhfb2REM",
        "colab": {
          "base_uri": "https://localhost:8080/",
          "height": 380
        },
        "outputId": "6b7ceb13-1dfd-4ca6-8e9d-c70ddff54a44"
      },
      "outputs": [
        {
          "output_type": "stream",
          "name": "stdout",
          "text": [
            "Shape of the Dataframe:  (30000, 2)\n"
          ]
        },
        {
          "output_type": "execute_result",
          "data": {
            "text/plain": [
              "                                          input_text target_text\n",
              "0  አስቀድሜ ጥያቄዬ በጨዋነት በውስጥ መስመር እንዲደርስዎ አድርጌ ፍትህን ለ...        Free\n",
              "1   እነዚህን ወሳኝ ጉዳዮችን የሚያስፈፅም አካል እንዲቋቋምና ክትትል እንዲደ...        Free\n",
              "2  የአማራ ህዝብ በአእምሮ ክንፉ ያልበረረበት ጥበብና ፍልስፍና ያልከፈተው የ...        Free\n",
              "3  ከአማራ ህዝብ የሀገሪቱ ዘርፈ ብዙ እውቀት መንጭቶ የሞላበትከሙላቱም በመል...        Free\n",
              "4  ዛሬ በየትኛውም መለኪያ ይሁን መመዘኛ ኢትዮጵያዊነት የሚንፀባረቀው በአማራ...        Hate\n",
              "5  በአማራ ህዝብ ግን ደም የገበረባትአጥንት የከሰከሰባት ሰንደቅአላማ ናትና ...        Free\n",
              "6  የኢትዮጵያ ብሄራዊ ቡድን በመቀሌ እስታዲየም ሲጫወት የገቡት ደጋፊዎች በፍ...        Free\n",
              "7  ዛሬም የአርሰናሉን ፔፔን የቶተንሀሙን ሰርጅ አውሪር ይዞ የገባው ኮትዲሾዋ...        Free\n",
              "8  ስማ ለምን ኡነተኛ ታሪክ አታወራም ለምንስ የሰው ታሪክ ትሰርቃላቹ የኢትዮ...        Hate\n",
              "9  ሀገራዊ ወግ ያለው ለሁሉ የሆነ አስገድዶ ሳይሆን በፍቅርና በልዩ ሰዋዊ አ...        Free"
            ],
            "text/html": [
              "\n",
              "  <div id=\"df-d65d4ff1-d314-4cf5-9f83-affa6628b4d8\">\n",
              "    <div class=\"colab-df-container\">\n",
              "      <div>\n",
              "<style scoped>\n",
              "    .dataframe tbody tr th:only-of-type {\n",
              "        vertical-align: middle;\n",
              "    }\n",
              "\n",
              "    .dataframe tbody tr th {\n",
              "        vertical-align: top;\n",
              "    }\n",
              "\n",
              "    .dataframe thead th {\n",
              "        text-align: right;\n",
              "    }\n",
              "</style>\n",
              "<table border=\"1\" class=\"dataframe\">\n",
              "  <thead>\n",
              "    <tr style=\"text-align: right;\">\n",
              "      <th></th>\n",
              "      <th>input_text</th>\n",
              "      <th>target_text</th>\n",
              "    </tr>\n",
              "  </thead>\n",
              "  <tbody>\n",
              "    <tr>\n",
              "      <th>0</th>\n",
              "      <td>አስቀድሜ ጥያቄዬ በጨዋነት በውስጥ መስመር እንዲደርስዎ አድርጌ ፍትህን ለ...</td>\n",
              "      <td>Free</td>\n",
              "    </tr>\n",
              "    <tr>\n",
              "      <th>1</th>\n",
              "      <td>እነዚህን ወሳኝ ጉዳዮችን የሚያስፈፅም አካል እንዲቋቋምና ክትትል እንዲደ...</td>\n",
              "      <td>Free</td>\n",
              "    </tr>\n",
              "    <tr>\n",
              "      <th>2</th>\n",
              "      <td>የአማራ ህዝብ በአእምሮ ክንፉ ያልበረረበት ጥበብና ፍልስፍና ያልከፈተው የ...</td>\n",
              "      <td>Free</td>\n",
              "    </tr>\n",
              "    <tr>\n",
              "      <th>3</th>\n",
              "      <td>ከአማራ ህዝብ የሀገሪቱ ዘርፈ ብዙ እውቀት መንጭቶ የሞላበትከሙላቱም በመል...</td>\n",
              "      <td>Free</td>\n",
              "    </tr>\n",
              "    <tr>\n",
              "      <th>4</th>\n",
              "      <td>ዛሬ በየትኛውም መለኪያ ይሁን መመዘኛ ኢትዮጵያዊነት የሚንፀባረቀው በአማራ...</td>\n",
              "      <td>Hate</td>\n",
              "    </tr>\n",
              "    <tr>\n",
              "      <th>5</th>\n",
              "      <td>በአማራ ህዝብ ግን ደም የገበረባትአጥንት የከሰከሰባት ሰንደቅአላማ ናትና ...</td>\n",
              "      <td>Free</td>\n",
              "    </tr>\n",
              "    <tr>\n",
              "      <th>6</th>\n",
              "      <td>የኢትዮጵያ ብሄራዊ ቡድን በመቀሌ እስታዲየም ሲጫወት የገቡት ደጋፊዎች በፍ...</td>\n",
              "      <td>Free</td>\n",
              "    </tr>\n",
              "    <tr>\n",
              "      <th>7</th>\n",
              "      <td>ዛሬም የአርሰናሉን ፔፔን የቶተንሀሙን ሰርጅ አውሪር ይዞ የገባው ኮትዲሾዋ...</td>\n",
              "      <td>Free</td>\n",
              "    </tr>\n",
              "    <tr>\n",
              "      <th>8</th>\n",
              "      <td>ስማ ለምን ኡነተኛ ታሪክ አታወራም ለምንስ የሰው ታሪክ ትሰርቃላቹ የኢትዮ...</td>\n",
              "      <td>Hate</td>\n",
              "    </tr>\n",
              "    <tr>\n",
              "      <th>9</th>\n",
              "      <td>ሀገራዊ ወግ ያለው ለሁሉ የሆነ አስገድዶ ሳይሆን በፍቅርና በልዩ ሰዋዊ አ...</td>\n",
              "      <td>Free</td>\n",
              "    </tr>\n",
              "  </tbody>\n",
              "</table>\n",
              "</div>\n",
              "      <button class=\"colab-df-convert\" onclick=\"convertToInteractive('df-d65d4ff1-d314-4cf5-9f83-affa6628b4d8')\"\n",
              "              title=\"Convert this dataframe to an interactive table.\"\n",
              "              style=\"display:none;\">\n",
              "        \n",
              "  <svg xmlns=\"http://www.w3.org/2000/svg\" height=\"24px\"viewBox=\"0 0 24 24\"\n",
              "       width=\"24px\">\n",
              "    <path d=\"M0 0h24v24H0V0z\" fill=\"none\"/>\n",
              "    <path d=\"M18.56 5.44l.94 2.06.94-2.06 2.06-.94-2.06-.94-.94-2.06-.94 2.06-2.06.94zm-11 1L8.5 8.5l.94-2.06 2.06-.94-2.06-.94L8.5 2.5l-.94 2.06-2.06.94zm10 10l.94 2.06.94-2.06 2.06-.94-2.06-.94-.94-2.06-.94 2.06-2.06.94z\"/><path d=\"M17.41 7.96l-1.37-1.37c-.4-.4-.92-.59-1.43-.59-.52 0-1.04.2-1.43.59L10.3 9.45l-7.72 7.72c-.78.78-.78 2.05 0 2.83L4 21.41c.39.39.9.59 1.41.59.51 0 1.02-.2 1.41-.59l7.78-7.78 2.81-2.81c.8-.78.8-2.07 0-2.86zM5.41 20L4 18.59l7.72-7.72 1.47 1.35L5.41 20z\"/>\n",
              "  </svg>\n",
              "      </button>\n",
              "      \n",
              "  <style>\n",
              "    .colab-df-container {\n",
              "      display:flex;\n",
              "      flex-wrap:wrap;\n",
              "      gap: 12px;\n",
              "    }\n",
              "\n",
              "    .colab-df-convert {\n",
              "      background-color: #E8F0FE;\n",
              "      border: none;\n",
              "      border-radius: 50%;\n",
              "      cursor: pointer;\n",
              "      display: none;\n",
              "      fill: #1967D2;\n",
              "      height: 32px;\n",
              "      padding: 0 0 0 0;\n",
              "      width: 32px;\n",
              "    }\n",
              "\n",
              "    .colab-df-convert:hover {\n",
              "      background-color: #E2EBFA;\n",
              "      box-shadow: 0px 1px 2px rgba(60, 64, 67, 0.3), 0px 1px 3px 1px rgba(60, 64, 67, 0.15);\n",
              "      fill: #174EA6;\n",
              "    }\n",
              "\n",
              "    [theme=dark] .colab-df-convert {\n",
              "      background-color: #3B4455;\n",
              "      fill: #D2E3FC;\n",
              "    }\n",
              "\n",
              "    [theme=dark] .colab-df-convert:hover {\n",
              "      background-color: #434B5C;\n",
              "      box-shadow: 0px 1px 3px 1px rgba(0, 0, 0, 0.15);\n",
              "      filter: drop-shadow(0px 1px 2px rgba(0, 0, 0, 0.3));\n",
              "      fill: #FFFFFF;\n",
              "    }\n",
              "  </style>\n",
              "\n",
              "      <script>\n",
              "        const buttonEl =\n",
              "          document.querySelector('#df-d65d4ff1-d314-4cf5-9f83-affa6628b4d8 button.colab-df-convert');\n",
              "        buttonEl.style.display =\n",
              "          google.colab.kernel.accessAllowed ? 'block' : 'none';\n",
              "\n",
              "        async function convertToInteractive(key) {\n",
              "          const element = document.querySelector('#df-d65d4ff1-d314-4cf5-9f83-affa6628b4d8');\n",
              "          const dataTable =\n",
              "            await google.colab.kernel.invokeFunction('convertToInteractive',\n",
              "                                                     [key], {});\n",
              "          if (!dataTable) return;\n",
              "\n",
              "          const docLinkHtml = 'Like what you see? Visit the ' +\n",
              "            '<a target=\"_blank\" href=https://colab.research.google.com/notebooks/data_table.ipynb>data table notebook</a>'\n",
              "            + ' to learn more about interactive tables.';\n",
              "          element.innerHTML = '';\n",
              "          dataTable['output_type'] = 'display_data';\n",
              "          await google.colab.output.renderOutput(dataTable, element);\n",
              "          const docLink = document.createElement('div');\n",
              "          docLink.innerHTML = docLinkHtml;\n",
              "          element.appendChild(docLink);\n",
              "        }\n",
              "      </script>\n",
              "    </div>\n",
              "  </div>\n",
              "  "
            ]
          },
          "metadata": {},
          "execution_count": 28
        }
      ],
      "source": [
        "#preview of merged data\n",
        "print('Shape of the Dataframe: ', Merged.shape)\n",
        "Merged.head(10)"
      ]
    },
    {
      "cell_type": "code",
      "metadata": {
        "id": "zTXLlF29JzJ9"
      },
      "source": [
        "# Upload the 'xnli15.tsv' file to the colab directory before running the cell\n",
        "\n",
        "# df = pd.read_csv('xnli15.tsv', sep='\\t')\n",
        "# print('Shape of the Dataframe: ', df.shape)\n",
        "# display(df.head())"
      ],
      "execution_count": null,
      "outputs": []
    },
    {
      "cell_type": "code",
      "metadata": {
        "id": "x0K8D8DQJ_DO"
      },
      "source": [
        "# Display the column headers represening each language\n",
        "# print(df.columns)"
      ],
      "execution_count": null,
      "outputs": []
    },
    {
      "cell_type": "code",
      "source": [
        "print(Merged.columns)"
      ],
      "metadata": {
        "colab": {
          "base_uri": "https://localhost:8080/"
        },
        "id": "12JC67VkrIbB",
        "outputId": "5b5f6606-00f1-4f23-9d7d-9e3bc0315681"
      },
      "execution_count": null,
      "outputs": [
        {
          "output_type": "stream",
          "name": "stdout",
          "text": [
            "Index(['input_text', 'target_text'], dtype='object')\n"
          ]
        }
      ]
    },
    {
      "cell_type": "code",
      "metadata": {
        "id": "idb2gFRHKO4X"
      },
      "source": [
        "# Modify the structure of the dataframe for the required downstream task\n",
        "# data_prep = [] \n",
        "# for col in df.columns:\n",
        "#   for row in df[col]:\n",
        "#     data_prep.append([row, col])\n",
        "\n",
        "# dataframe = pd.DataFrame(data_prep, columns=['input_text','target_text'])\n",
        "# display(dataframe)\n"
      ],
      "execution_count": null,
      "outputs": []
    },
    {
      "cell_type": "code",
      "metadata": {
        "id": "Ujq9hbWrfpRQ"
      },
      "source": [
        "# Data cleaning \n",
        "# dataframe=klib.data_cleaning(dataframe)\n",
        "# dataframe=dataframe.drop_duplicates(subset='input_text', keep=False)\n"
      ],
      "execution_count": null,
      "outputs": []
    },
    {
      "cell_type": "code",
      "metadata": {
        "id": "vTRQepiWs63g"
      },
      "source": [
        "# Adding prefix text to the input, which helps the model to understand the fine-tuning task objective\n",
        "# dataframe['input_text'] = '<idf.lang> '+dataframe['input_text'] \n",
        "# display(dataframe)"
      ],
      "execution_count": null,
      "outputs": []
    },
    {
      "cell_type": "code",
      "source": [
        "Merged['target_text'].hist(bins=len(Merged.columns))"
      ],
      "metadata": {
        "colab": {
          "base_uri": "https://localhost:8080/",
          "height": 282
        },
        "id": "1SkUAVNmvod_",
        "outputId": "1134cdec-f1d7-413d-cc7a-fe0be5a0b9de"
      },
      "execution_count": null,
      "outputs": [
        {
          "output_type": "execute_result",
          "data": {
            "text/plain": [
              "<matplotlib.axes._subplots.AxesSubplot at 0x7f4816ccaed0>"
            ]
          },
          "metadata": {},
          "execution_count": 30
        },
        {
          "output_type": "display_data",
          "data": {
            "text/plain": [
              "<Figure size 432x288 with 1 Axes>"
            ],
            "image/png": "[encoded data removed]"
          },
          "metadata": {
            "needs_background": "light"
          }
        }
      ]
    },
    {
      "cell_type": "code",
      "metadata": {
        "id": "xzwR0EgeZYOe"
      },
      "source": [
        "# Visualizing the distribution of the examples in each language\n",
        "# dataframe['target_text'].hist(bins=len(df.columns))"
      ],
      "execution_count": null,
      "outputs": []
    },
    {
      "cell_type": "code",
      "metadata": {
        "colab": {
          "base_uri": "https://localhost:8080/"
        },
        "id": "gBrVyPul8ZOd",
        "outputId": "b11999af-abd0-4d91-f33c-e3ec14eeaf67"
      },
      "source": [
        "# Splitting the dataset into train, validation, and test\n",
        "train_val_df, test_df = train_test_split(Merged, test_size=0.21, random_state=42)\n",
        "train_df, eval_df = train_test_split(train_val_df, test_size=0.24, random_state=42)\n",
        "print('Training dataset shape: ', train_df.shape)\n",
        "print('Validation dataset shape: ', eval_df.shape)\n",
        "print('Testing dataset shape: ', test_df.shape)\n"
      ],
      "execution_count": null,
      "outputs": [
        {
          "output_type": "stream",
          "name": "stdout",
          "text": [
            "Training dataset shape:  (18012, 2)\n",
            "Validation dataset shape:  (5688, 2)\n",
            "Testing dataset shape:  (6300, 2)\n"
          ]
        }
      ]
    },
    {
      "cell_type": "code",
      "metadata": {
        "id": "PuqbK6u1Tyg6"
      },
      "source": [
        "model_repo = 'google/mt5-small'\n",
        "model_path = '/content/drive/MyDrive/Machine Learning/fine-tuned_mt5/'\n",
        "if not os.path.exists(model_path):\n",
        "  os.mkdir(model_path)"
      ],
      "execution_count": null,
      "outputs": []
    },
    {
      "cell_type": "markdown",
      "metadata": {
        "id": "8MhINZXXGiKc"
      },
      "source": [
        "**Load tokenizer and model**"
      ]
    },
    {
      "cell_type": "code",
      "metadata": {
        "id": "5t9oG6eNiZOd",
        "colab": {
          "base_uri": "https://localhost:8080/"
        },
        "outputId": "3b5919ee-57bb-4bcd-dcfb-abc7f068f1e8"
      },
      "source": [
        "# Loading the tokenizer and the model\n",
        "tokenizer = AutoTokenizer.from_pretrained(model_repo)\n",
        "model = MT5ForConditionalGeneration.from_pretrained(model_repo)\n",
        "model = model.cuda()"
      ],
      "execution_count": null,
      "outputs": [
        {
          "output_type": "stream",
          "name": "stderr",
          "text": [
            "/usr/local/lib/python3.7/dist-packages/transformers/convert_slow_tokenizer.py:447: UserWarning: The sentencepiece tokenizer that you are converting to a fast tokenizer uses the byte fallback option which is not implemented in the fast tokenizers. In practice this means that the fast version of the tokenizer can produce unknown tokens whereas the sentencepiece version would have converted these unknown tokens into a sequence of byte tokens matching the original piece of text.\n",
            "  \"The sentencepiece tokenizer that you are converting to a fast tokenizer uses the byte fallback option\"\n"
          ]
        }
      ]
    },
    {
      "cell_type": "markdown",
      "metadata": {
        "id": "eLT1hsybGpj3"
      },
      "source": [
        "**Add prefixes to tokenizer**"
      ]
    },
    {
      "cell_type": "code",
      "metadata": {
        "colab": {
          "base_uri": "https://localhost:8080/"
        },
        "id": "6_8t0gdmUZCB",
        "outputId": "fe445f3c-4727-41cf-a466-87bcc9998de3"
      },
      "source": [
        "len(tokenizer.vocab)"
      ],
      "execution_count": null,
      "outputs": [
        {
          "output_type": "execute_result",
          "data": {
            "text/plain": [
              "250100"
            ]
          },
          "metadata": {},
          "execution_count": 36
        }
      ]
    },
    {
      "cell_type": "code",
      "metadata": {
        "colab": {
          "base_uri": "https://localhost:8080/"
        },
        "id": "UXDmVLqUWyqB",
        "outputId": "713dc052-1d79-4570-dd4d-a53be4c42ced"
      },
      "source": [
        "print(model.config.max_length)"
      ],
      "execution_count": null,
      "outputs": [
        {
          "output_type": "stream",
          "name": "stdout",
          "text": [
            "20\n"
          ]
        }
      ]
    },
    {
      "cell_type": "code",
      "metadata": {
        "colab": {
          "base_uri": "https://localhost:8080/"
        },
        "id": "88XY_99NYhmJ",
        "outputId": "a0969a27-186f-4290-8ae4-339a73d452a6"
      },
      "source": [
        "# Adding the prefix <idf.lang> as a special token\n",
        "# LANG_TOKEN_MAPPING = {\n",
        "#     'identify language': '<idf.lang>'\n",
        "# }\n",
        "# special_tokens_dict = {'additional_special_tokens': list(LANG_TOKEN_MAPPING.values())}\n",
        "# special_tokens_dict"
      ],
      "execution_count": null,
      "outputs": [
        {
          "output_type": "execute_result",
          "data": {
            "text/plain": [
              "{'additional_special_tokens': ['<idf.lang>']}"
            ]
          },
          "metadata": {},
          "execution_count": 15
        }
      ]
    },
    {
      "cell_type": "code",
      "metadata": {
        "colab": {
          "base_uri": "https://localhost:8080/"
        },
        "id": "AK5B07SjZB64",
        "outputId": "163f9bd1-e744-41d5-f8e1-367908b890ec"
      },
      "source": [
        "# Adding the special tokens to the tokenizer\n",
        "# tokenizer.add_special_tokens(special_tokens_dict)"
      ],
      "execution_count": null,
      "outputs": [
        {
          "output_type": "execute_result",
          "data": {
            "text/plain": [
              "1"
            ]
          },
          "metadata": {},
          "execution_count": 16
        }
      ]
    },
    {
      "cell_type": "code",
      "metadata": {
        "colab": {
          "base_uri": "https://localhost:8080/"
        },
        "id": "AM1E8FogaIaJ",
        "outputId": "85652544-0ea0-48e8-e305-96743626cd41"
      },
      "source": [
        "len(tokenizer)"
      ],
      "execution_count": null,
      "outputs": [
        {
          "output_type": "execute_result",
          "data": {
            "text/plain": [
              "250100"
            ]
          },
          "metadata": {},
          "execution_count": 37
        }
      ]
    },
    {
      "cell_type": "code",
      "metadata": {
        "colab": {
          "base_uri": "https://localhost:8080/"
        },
        "id": "pwVuu0-maM_H",
        "outputId": "2c486de8-dac6-4d77-d949-2a1af06bdcbd"
      },
      "source": [
        "# display all special tokens\n",
        "tokenizer.all_special_tokens"
      ],
      "execution_count": null,
      "outputs": [
        {
          "output_type": "execute_result",
          "data": {
            "text/plain": [
              "['</s>', '<unk>', '<pad>']"
            ]
          },
          "metadata": {},
          "execution_count": 38
        }
      ]
    },
    {
      "cell_type": "code",
      "metadata": {
        "colab": {
          "base_uri": "https://localhost:8080/"
        },
        "id": "FyR2vk58aP0n",
        "outputId": "44e9c5e1-a8c7-43a0-c18a-2757e6329a4c"
      },
      "source": [
        "model.config.vocab_size"
      ],
      "execution_count": null,
      "outputs": [
        {
          "output_type": "execute_result",
          "data": {
            "text/plain": [
              "250112"
            ]
          },
          "metadata": {},
          "execution_count": 39
        }
      ]
    },
    {
      "cell_type": "code",
      "metadata": {
        "colab": {
          "base_uri": "https://localhost:8080/"
        },
        "id": "HMPjGf9XacoX",
        "outputId": "bf56f169-be3a-4d9b-824f-9b6a88341c3b"
      },
      "source": [
        "# resize the input token embeddings of the model if len(tokenizer) != model.config.vocab_size\n",
        "model.resize_token_embeddings(len(tokenizer))"
      ],
      "execution_count": null,
      "outputs": [
        {
          "output_type": "execute_result",
          "data": {
            "text/plain": [
              "Embedding(250100, 512)"
            ]
          },
          "metadata": {},
          "execution_count": 40
        }
      ]
    },
    {
      "cell_type": "markdown",
      "metadata": {
        "id": "k1K4SOLyci7_"
      },
      "source": [
        "**Encode Inputs**"
      ]
    },
    {
      "cell_type": "code",
      "metadata": {
        "colab": {
          "base_uri": "https://localhost:8080/",
          "height": 640
        },
        "id": "VrBAEyRTiBX4",
        "outputId": "f7a070c3-220b-4409-fb1d-252211b24a27"
      },
      "source": [
        "# This cell encodes all the entries in the dataset to plot the token lengths histogram of \n",
        "# i/p and o/p texts, and hence execution will be little bit time consuming.\n",
        "\n",
        "# The maximun input and output token lengths of the model are task-specific.\n",
        "# Given the dataset, analyze the required token lengths for fine-tuning.\n",
        "\n",
        "token_len = []\n",
        "\n",
        "for row in Merged['input_text']:\n",
        "  input_ids = tokenizer.encode(row, return_tensors='pt').cuda()\n",
        "  token_len.append(len(input_ids[0]))\n",
        "\n",
        "token_len.sort(reverse=True)\n",
        "\n",
        "plt.figure(figsize=(6, 4),tight_layout=True, dpi=80)\n",
        "plt.hist(token_len)\n",
        "plt.xlabel('input token ids length')\n",
        "plt.ylabel('frequency')\n",
        "plt.savefig('/content/drive/MyDrive/Machine Learning/ip_tokens_len.jpg')\n",
        "\n",
        "\n",
        "label_len = []\n",
        "\n",
        "for row in Merged['target_text']:\n",
        "  input_ids = tokenizer.encode(row, return_tensors='pt').cuda()\n",
        "  label_len.append(len(input_ids[0]))\n",
        "  \n",
        "\n",
        "label_len.sort(reverse=True)\n",
        "\n",
        "plt.figure(figsize=(6, 4),tight_layout=True, dpi=80)\n",
        "plt.hist(label_len)\n",
        "plt.xlabel('target token ids length')\n",
        "plt.ylabel('frequency')\n",
        "plt.savefig('/content/drive/MyDrive/Machine Learning/op_tokens_len.jpg')"
      ],
      "execution_count": null,
      "outputs": [
        {
          "output_type": "display_data",
          "data": {
            "text/plain": [
              "<Figure size 480x320 with 1 Axes>"
            ],
            "image/png": "[encoded data removed]"
          },
          "metadata": {
            "needs_background": "light"
          }
        },
        {
          "output_type": "display_data",
          "data": {
            "text/plain": [
              "<Figure size 480x320 with 1 Axes>"
            ],
            "image/png": "[encoded data removed]"
          },
          "metadata": {
            "needs_background": "light"
          }
        }
      ]
    },
    {
      "cell_type": "code",
      "metadata": {
        "id": "TbZAem0ruS-V"
      },
      "source": [
        "# Large input sequence length makes the training computationally very intensive\n",
        "# Choose a decent value by analyzing the histogram above\n",
        "max_inp_seq_len = 200\n",
        "max_tar_seq_len = 3"
      ],
      "execution_count": null,
      "outputs": []
    },
    {
      "cell_type": "code",
      "metadata": {
        "id": "x6CMhaDFctf1"
      },
      "source": [
        "# function to encode a given string and return token ids\n",
        "\n",
        "def encode_str(text, tokenizer, seq_len):  \n",
        "  \"\"\" Tokenize, pad to max length and encode to ids \n",
        "      Returns tensor with token ids \"\"\"\n",
        "  input_ids = tokenizer.encode(\n",
        "      text=text,\n",
        "      return_tensors = 'pt',\n",
        "      padding = 'max_length',\n",
        "      truncation = True,\n",
        "      max_length = seq_len)\n",
        "\n",
        "  return input_ids[0]"
      ],
      "execution_count": null,
      "outputs": []
    },
    {
      "cell_type": "code",
      "metadata": {
        "colab": {
          "base_uri": "https://localhost:8080/"
        },
        "id": "YfWKQuQWcvM_",
        "outputId": "5699362a-3256-43d2-d831-43d47f215eeb"
      },
      "source": [
        "# Testing the encode_str function\n",
        "\n",
        "print(train_df['input_text'].iloc[0])\n",
        "t1 = encode_str(train_df['input_text'].iloc[0],tokenizer,max_inp_seq_len)\n",
        "print(t1)\n",
        "tokens = tokenizer.convert_ids_to_tokens(t1)\n",
        "print(tokens)"
      ],
      "execution_count": null,
      "outputs": [
        {
          "output_type": "stream",
          "name": "stdout",
          "text": [
            "አማራ የሚለው ቃል አማረኝ ከሚለው የመጣ ነው ሁሉም ነው የሚያምራችሁ\n",
            "tensor([ 1876, 48830,  4986, 10817,   259, 52466,   259, 93566,  4079, 10257,\n",
            "        83498, 10817,  1237, 55029,  4476,   259,  5045,  3328,  1116,  4476,\n",
            "        32241,  1116,  3035, 60103,     1,     0,     0,     0,     0,     0,\n",
            "            0,     0,     0,     0,     0,     0,     0,     0,     0,     0,\n",
            "            0,     0,     0,     0,     0,     0,     0,     0,     0,     0,\n",
            "            0,     0,     0,     0,     0,     0,     0,     0,     0,     0,\n",
            "            0,     0,     0,     0,     0,     0,     0,     0,     0,     0,\n",
            "            0,     0,     0,     0,     0,     0,     0,     0,     0,     0,\n",
            "            0,     0,     0,     0,     0,     0,     0,     0,     0,     0,\n",
            "            0,     0,     0,     0,     0,     0,     0,     0,     0,     0,\n",
            "            0,     0,     0,     0,     0,     0,     0,     0,     0,     0,\n",
            "            0,     0,     0,     0,     0,     0,     0,     0,     0,     0,\n",
            "            0,     0,     0,     0,     0,     0,     0,     0,     0,     0,\n",
            "            0,     0,     0,     0,     0,     0,     0,     0,     0,     0,\n",
            "            0,     0,     0,     0,     0,     0,     0,     0,     0,     0,\n",
            "            0,     0,     0,     0,     0,     0,     0,     0,     0,     0,\n",
            "            0,     0,     0,     0,     0,     0,     0,     0,     0,     0,\n",
            "            0,     0,     0,     0,     0,     0,     0,     0,     0,     0,\n",
            "            0,     0,     0,     0,     0,     0,     0,     0,     0,     0,\n",
            "            0,     0,     0,     0,     0,     0,     0,     0,     0,     0])\n",
            "['▁አ', 'ማራ', '▁የሚ', 'ለው', '▁', 'ቃል', '▁', 'አማ', 'ረ', 'ኝ', '▁ከሚ', 'ለው', '▁የ', 'መጣ', '▁ነው', '▁', 'ሁ', 'ሉ', 'ም', '▁ነው', '▁የሚያ', 'ም', 'ራ', 'ችሁ', '</s>', '<pad>', '<pad>', '<pad>', '<pad>', '<pad>', '<pad>', '<pad>', '<pad>', '<pad>', '<pad>', '<pad>', '<pad>', '<pad>', '<pad>', '<pad>', '<pad>', '<pad>', '<pad>', '<pad>', '<pad>', '<pad>', '<pad>', '<pad>', '<pad>', '<pad>', '<pad>', '<pad>', '<pad>', '<pad>', '<pad>', '<pad>', '<pad>', '<pad>', '<pad>', '<pad>', '<pad>', '<pad>', '<pad>', '<pad>', '<pad>', '<pad>', '<pad>', '<pad>', '<pad>', '<pad>', '<pad>', '<pad>', '<pad>', '<pad>', '<pad>', '<pad>', '<pad>', '<pad>', '<pad>', '<pad>', '<pad>', '<pad>', '<pad>', '<pad>', '<pad>', '<pad>', '<pad>', '<pad>', '<pad>', '<pad>', '<pad>', '<pad>', '<pad>', '<pad>', '<pad>', '<pad>', '<pad>', '<pad>', '<pad>', '<pad>', '<pad>', '<pad>', '<pad>', '<pad>', '<pad>', '<pad>', '<pad>', '<pad>', '<pad>', '<pad>', '<pad>', '<pad>', '<pad>', '<pad>', '<pad>', '<pad>', '<pad>', '<pad>', '<pad>', '<pad>', '<pad>', '<pad>', '<pad>', '<pad>', '<pad>', '<pad>', '<pad>', '<pad>', '<pad>', '<pad>', '<pad>', '<pad>', '<pad>', '<pad>', '<pad>', '<pad>', '<pad>', '<pad>', '<pad>', '<pad>', '<pad>', '<pad>', '<pad>', '<pad>', '<pad>', '<pad>', '<pad>', '<pad>', '<pad>', '<pad>', '<pad>', '<pad>', '<pad>', '<pad>', '<pad>', '<pad>', '<pad>', '<pad>', '<pad>', '<pad>', '<pad>', '<pad>', '<pad>', '<pad>', '<pad>', '<pad>', '<pad>', '<pad>', '<pad>', '<pad>', '<pad>', '<pad>', '<pad>', '<pad>', '<pad>', '<pad>', '<pad>', '<pad>', '<pad>', '<pad>', '<pad>', '<pad>', '<pad>', '<pad>', '<pad>', '<pad>', '<pad>', '<pad>', '<pad>', '<pad>', '<pad>', '<pad>', '<pad>', '<pad>', '<pad>', '<pad>', '<pad>', '<pad>', '<pad>', '<pad>']\n"
          ]
        }
      ]
    },
    {
      "cell_type": "code",
      "metadata": {
        "colab": {
          "base_uri": "https://localhost:8080/"
        },
        "id": "-TnHuP7CjH01",
        "outputId": "a8389c4f-fe29-4077-95c8-d249252ead6e"
      },
      "source": [
        "# Visualizing how the target texts are tokenized\n",
        "\n",
        "uniq_lab = Merged['target_text'].unique()\n",
        "for uni in uniq_lab:\n",
        "  t1 = encode_str(uni,tokenizer,max_tar_seq_len)\n",
        "  tokens = tokenizer.convert_ids_to_tokens(t1)\n",
        "  print('Input ID: ',t1,', Tokens: ', tokens,', Decoded text: ',tokenizer.decode(t1))"
      ],
      "execution_count": null,
      "outputs": [
        {
          "output_type": "stream",
          "name": "stdout",
          "text": [
            "Input ID:  tensor([1893,    1,    0]) , Tokens:  ['▁Free', '</s>', '<pad>'] , Decoded text:  Free</s><pad>\n",
            "Input ID:  tensor([18982,   265,     1]) , Tokens:  ['▁Hat', 'e', '</s>'] , Decoded text:  Hate</s>\n"
          ]
        }
      ]
    },
    {
      "cell_type": "code",
      "metadata": {
        "id": "98c_dvam00hE"
      },
      "source": [
        "# function to encode a given row from the dataset, containing 'input_text' and 'target_text'\n",
        "# returns input and target token ids\n",
        "\n",
        "def encode_row(row, tokenizer, seq_inp_len, seq_tar_len):\n",
        "  \"\"\"Encode input and tagret texts from single row\"\"\"\n",
        "  \"\"\"Returns input and output token ids\"\"\"\n",
        "  input_text = row['input_text']\n",
        "  target_text = row['target_text']\n",
        "\n",
        "  if input_text is None or target_text is None:\n",
        "    return None\n",
        "\n",
        "  input_token_ids = encode_str(\n",
        "      input_text, tokenizer, seq_inp_len)\n",
        "  \n",
        "  target_token_ids = encode_str(\n",
        "      target_text, tokenizer, seq_tar_len)\n",
        "\n",
        "  return input_token_ids, target_token_ids"
      ],
      "execution_count": null,
      "outputs": []
    },
    {
      "cell_type": "code",
      "metadata": {
        "id": "nuZlXGFW1Mnj"
      },
      "source": [
        "# function to encode a single batch and return input and output batch token ids\n",
        "\n",
        "def encode_batch(batch, tokenizer):\n",
        "  \"\"\"Encode a single batch\"\"\"\n",
        "  \"\"\"Returns input and output batch token ids\"\"\"\n",
        "  inputs = []\n",
        "  targets = []\n",
        "  for index, row in batch.iterrows():\n",
        "    #gets input and output tocken ids\n",
        "    formatted_data = encode_row(\n",
        "        row, tokenizer, max_inp_seq_len, max_tar_seq_len)\n",
        "#    print(\"i/o tocken ids:\",formatted_data)    \n",
        "    if formatted_data is None:\n",
        "      continue\n",
        "    \n",
        "    input_ids, target_ids = formatted_data\n",
        "    #unsqueeze(input, dim) returns a new tensor with a dimension of size one inserted at the specified position\n",
        "    inputs.append(input_ids.unsqueeze(0))\n",
        "    targets.append(target_ids.unsqueeze(0))\n",
        "#  print('squeezed tocken ids:',inputs)\n",
        "  \n",
        "#Concatenate the given sequence of seq tensors in the given dimension    \n",
        "  batch_input_ids = torch.cat(inputs).cuda()\n",
        "  batch_target_ids = torch.cat(targets).cuda()\n",
        "\n",
        "  return batch_input_ids, batch_target_ids"
      ],
      "execution_count": null,
      "outputs": []
    },
    {
      "cell_type": "code",
      "metadata": {
        "id": "H1fij94e8UKs"
      },
      "source": [
        "# function to create a generator object to generate batches of data\n",
        "\n",
        "def data_generator(dataset, tokenizer, batch_size=32):\n",
        "  \"\"\"\"generates batches\"\"\"\n",
        "  #shuffle the data\n",
        "  dataset=dataset.sample(frac=1).reset_index(drop=True)\n",
        "\n",
        "  for i in range(0, len(dataset), batch_size):\n",
        "    raw_batch = dataset[i:i+batch_size]\n",
        "    yield encode_batch(raw_batch, tokenizer)"
      ],
      "execution_count": null,
      "outputs": []
    },
    {
      "cell_type": "code",
      "metadata": {
        "colab": {
          "base_uri": "https://localhost:8080/"
        },
        "id": "z7K42aKP8caS",
        "outputId": "a6b477cb-9cac-4cd1-9ecb-1d6fe68690c5"
      },
      "source": [
        "# Testing data generator\n",
        "\n",
        "data_gen = data_generator(train_df, tokenizer, 8)\n",
        "data_batch = next(data_gen)\n",
        "#print('data_batch:',data_batch)\n",
        "print('Input shape:', data_batch[0].shape)\n",
        "print('Output shape:', data_batch[1].shape)\n"
      ],
      "execution_count": null,
      "outputs": [
        {
          "output_type": "stream",
          "name": "stdout",
          "text": [
            "Input shape: torch.Size([8, 200])\n",
            "Output shape: torch.Size([8, 3])\n"
          ]
        }
      ]
    },
    {
      "cell_type": "markdown",
      "metadata": {
        "id": "iQhzVdFLA2Oe"
      },
      "source": [
        "**Training**\n"
      ]
    },
    {
      "cell_type": "code",
      "metadata": {
        "id": "rZ167VzPAvOi"
      },
      "source": [
        "# defining the parameters required for fine-tuning\n",
        "\n",
        "n_epochs = 10\n",
        "train_batch_size = 10\n",
        "eval_batch_size = 8\n",
        "lr = 5e-4 \n",
        "\n",
        "n_batches = int(np.ceil(len(train_df) / train_batch_size)) \n",
        "total_steps = n_epochs * n_batches \n",
        "n_warmup_steps = int(total_steps * 0.01) \n",
        "\n",
        "val_freq = np.ceil(10*eval_batch_size*n_batches/len(eval_df))*2\n",
        "while val_freq%5 != 0:\n",
        "  val_freq += 1\n",
        "val_freq = round(val_freq)\n",
        "\n",
        "print_freq = val_freq\n",
        "\n",
        "checkpoint_freq = np.ceil(n_batches/10)\n",
        "while checkpoint_freq%100 != 0:\n",
        "  checkpoint_freq -= 1\n",
        "checkpoint_freq = round(checkpoint_freq)\n"
      ],
      "execution_count": null,
      "outputs": []
    },
    {
      "cell_type": "code",
      "metadata": {
        "colab": {
          "base_uri": "https://localhost:8080/"
        },
        "id": "jm8piZJ0A9EL",
        "outputId": "3b648eeb-6230-4993-aac4-6360a5ffa4b1"
      },
      "source": [
        "print('Total Training Steps(Batches) per Epoch: '+str(n_batches))\n",
        "print('Printing & Validation Frequency: '+str(val_freq))\n",
        "print('Checkpoint Saving Frequency: '+str(checkpoint_freq))"
      ],
      "execution_count": null,
      "outputs": [
        {
          "output_type": "stream",
          "name": "stdout",
          "text": [
            "Total Training Steps(Batches) per Epoch: 1802\n",
            "Printing & Validation Frequency: 55\n",
            "Checkpoint Saving Frequency: 100\n"
          ]
        }
      ]
    },
    {
      "cell_type": "code",
      "metadata": {
        "id": "-rBYk3gpBEGJ"
      },
      "source": [
        "# Optimizer\n",
        "optimizer = AdamW(model.parameters(), lr=lr)\n",
        "# Create a schedule with a learning rate that decreases linearly from the initial lr set in the optimizer to 0, \n",
        "# after a warmup period during which it increases linearly from 0 to the initial lr set in the optimizer.\n",
        "# Warmup is a way to reduce the primacy effect of the early training examples.\n",
        "scheduler = get_linear_schedule_with_warmup(\n",
        "    optimizer, n_warmup_steps, total_steps)"
      ],
      "execution_count": null,
      "outputs": []
    },
    {
      "cell_type": "code",
      "metadata": {
        "id": "N0j7T7-9BZc5"
      },
      "source": [
        "# list to store the training and validation losses \n",
        "\n",
        "losses = []\n",
        "val_losses = []"
      ],
      "execution_count": null,
      "outputs": []
    },
    {
      "cell_type": "code",
      "metadata": {
        "id": "KGZLk50XCK36"
      },
      "source": [
        "# function to evaluate the model during training at a given frequency\n",
        "\n",
        "def eval_model(model, val_generator_object, max_iters=6):\n",
        "  \"\"\"evaluate the model on small validation data\"\"\"\n",
        "  \n",
        "  eval_losses = []\n",
        "  for i, (input_batch, label_batch) in enumerate(val_generator_object):\n",
        "    if i >= max_iters:\n",
        "      break\n",
        "\n",
        "    model_out = model.forward(\n",
        "        input_ids = input_batch,\n",
        "        labels = label_batch)\n",
        "    eval_losses.append(model_out.loss.item()) \n",
        "\n",
        "  return np.mean(eval_losses)"
      ],
      "execution_count": null,
      "outputs": []
    },
    {
      "cell_type": "code",
      "metadata": {
        "colab": {
          "base_uri": "https://localhost:8080/",
          "height": 1000,
          "referenced_widgets": [
            "331d723ad7df4853858cf6223c240a9b",
            "82bcec3516d343ba9b84b939b2aba4ea",
            "125986f759c44b51830f07b0cc5402c5",
            "48855bd5f8034a4ebe4d83296f414f63",
            "6d95baa64b1a4eeea0bae63bcd18917e",
            "3da6508abe124579b425e31e02575a07",
            "bf76bc69f8f842a892562a150e8f7876",
            "e3c09c20362c47838ebf72ad0815ab5e",
            "dee1c727366048fb82a0be2b39629b99",
            "38e81b5942a44f2bac4fefd5133e7d6f",
            "125a6dfcd7ca4a0fb3d43e9d59612593",
            "2e97abd6b88b4f33819d54ab585839a0",
            "fb7ec5ae647a4672971f5f17c708905a",
            "2a71dd1ec4524319a56477d2c462a9bf",
            "8ddf98f7311a42f5aa83132bfc8954fb",
            "dfa6f83673a94452bcbbca8686bdd586",
            "d7e66e3536f94799a48b0b771ff4660a",
            "431a67e1b6a9425882e3977a6c64d3ac",
            "8d4b2b8712924d91994f3526fc07874b",
            "65de7f0ef50d4398bb1b42f65666c1cf",
            "1a228eabb6604c8abd27b2b87724e828",
            "8bf77d50f8fe4290b6915d1dccec799e",
            "dee0a9676d4641d69944387c8477ff73",
            "9497f2662f7a4769afceb57b662f852e",
            "2d7de5e520624655b7cf9ca67a5495c9",
            "3e17c9cf624b4e6a85d299568d284195",
            "34f8ef6c60754aa8bc69b3c464080194",
            "6a494a8df1024cd497daf53f56203a75",
            "a2181060312549999df5f30234cd7330",
            "8abb1cd911964f4a9da5630794243834",
            "ccb5f066cfb44516b31a8ab5af2f2a87",
            "c4e5d6fcf5d543a7a57c0546590bf609",
            "1690fe56a6934205a4498a14fa3243dc",
            "9560720031c840cd87b0311d994caf95",
            "2c9b0ef26b0248dcbdd044d9802534ef",
            "912caa1b03e24ab489dd16e5782fa5f2",
            "055602b494ed400cbef544c63d888759",
            "9c30a2d518e84e4c882fb330db92e7f4",
            "12f8dcb109d64a80b596641827465ade",
            "269e31467e8b44bd8684b1eeada69454",
            "c2ef3bf562a0435a8a78f84de8b3040c",
            "0b9268f7e9674494a984b9bb57fe4074",
            "8215e56da1c446e2a4e89668355c9f1e",
            "6a2c39d908c44d8180a065c1e392514e",
            "c7ce44d3c6a94ae39b9d0ff3ab92e4df",
            "162138cb089844e79c79b06b4ccc4e81",
            "7ef9421aa1cd44f19aed2d55699c800d",
            "3a3da581b3e24863ade8f66f9d0ddded",
            "f5bd9f0233c348b99173f44e25ff54d5",
            "b65d8b0315ac4fc1ba30010f310a7f0f",
            "cf123786b1ee44d9a3760107b7a2ec31",
            "4ee7e801558d4faa985df433f31a75f8",
            "3ef61e59e24d4b76b07275c5b9b4fc06",
            "22346b66dccf46b2a84c6396e5da41d3",
            "463a8dd9468a405f9889053c2974b86f",
            "10116179c9a547969820f9db59aaf9fa",
            "9d6d7275f19a4e66963b7c4ef6391fc0",
            "ce43fcaa1acf47f7a39955f8638b5b01",
            "fcc0f13c985f4009b60e981a1a4f640c",
            "35aed6243d50406fb17b17a35368820c",
            "c3caea5b4444491a9f4937387f9bb7c0",
            "5d42399bd74c49f0a47c6ad7bd4fcc72",
            "0ffdce36e4bb434788a35c35dc35090c",
            "18f9b5a4ea074c76aa8606f10b2df81c",
            "1d9d952eccf046c78432a0f3db06c2a4",
            "a626b572f5ff4dc9ac29ed8600fb4961",
            "3c9e2b3f5a564d2fbcfa8d96489248c1",
            "f8246ce4530e4348856eb37d1b89f117",
            "2e28be14d1e546619181b053bfa443ef",
            "d7b5fb5c57444d05a6bf1c2838938dec",
            "59d2408944d94c09b300d9b6bff0f2be",
            "58e41d072c8f49c59c3528ca5d9cb247",
            "131ac51428f640469f1b3281ef5c14c2",
            "5a4fad92eab2428b97a2777f7a3ffb7c",
            "cee67f9bfffa42eeaeb5c0fb67d36359",
            "b0e30158d1bc44d1b84fda1ff63322b5",
            "cf2f17b3db164b20b0d11812cdff7e7b",
            "d38f1b0f5ea2402ca55bf68385b6fb78",
            "04a1b2122f884231aa7ba15fb8e1bca5",
            "ce65fd160d54459d87b818fc36d30ff6",
            "4560e160d5544d3da16586b1dc4eb895",
            "76324242c6094dea8fa21c78ff40a6fa",
            "3afe82dc22694984a8d42d61dccf3146",
            "7c4436cc63b7465fa37b447a5fb34f28",
            "1f7b9c97e7d240bea1a33e6c82c30e86",
            "44c6c272dff543e6aa48255a995d5643",
            "107dc923606b41b4a47831fbffc4cf93",
            "8c4c8dc0b93942fa9502351d5b90f6a4",
            "8ba0c417cf694ac287cb8f6ba85e45fc",
            "57ac296c7e864c16aa43e2ba10883fcf",
            "913f12e6241844f6a9d511da6d32d0ad",
            "bfdb4c3f23af4581a4afce0046f358d7",
            "9bdaeaadc0014552a52be18d3903583f",
            "468de307b0314450872ac17ca1c66e24",
            "91c413bbac914f78923d000bd3682684",
            "09712f75983742be9fbfa1e794bda179",
            "adededb551ce4be999218a43189bf231",
            "76a19159ce8447d69b7dbe2cd67c0be7",
            "864043785b1d47f4874ab784bbde23ad",
            "40a892a1d6dc4e47b50c883f4a8b169e",
            "a451b9f443114076952e6a25513485fa",
            "d25828be4f204071b6cb98e86607cb18",
            "4b47e1a120434d95a3311b9beae76cfa",
            "98bc00b2576349e49fc371d319ccbb63",
            "7f9ed9e15da04c22ae2ac04c5cb0ecf4",
            "e758eab964c441b88abcf15faed506ed",
            "d34d6957176d438fbc4a40345bd6a130",
            "110adf8d8b304115a885c55c439a1211",
            "81d6ab4e53c146869c8e38ce4ab39f96",
            "6ece8fa76a1d412b9d2190f5101f763f"
          ]
        },
        "id": "yD6vNtWSCOCJ",
        "outputId": "ec307fac-ce63-4ecc-e1b0-2302e309ad46"
      },
      "source": [
        "# fine-tuning the model and save the checkpoints\n",
        "\n",
        "for epoch_idx in range(n_epochs):\n",
        "  # generate batch data\n",
        "  train_generator = data_generator(train_df, tokenizer, train_batch_size)\n",
        "  val_generator = data_generator(eval_df, tokenizer, eval_batch_size)\n",
        "                \n",
        "  for batch_idx, (input_batch, label_batch) in tqdm_notebook_(enumerate(train_generator), total=n_batches):\n",
        "    #zeroes all the gradients before the calculation\n",
        "    optimizer.zero_grad()\n",
        "\n",
        "    # Forward pass\n",
        "    model_out = model.forward(input_ids = input_batch, labels = label_batch)\n",
        "\n",
        "    # Calculate loss\n",
        "    loss = model_out.loss\n",
        "    # loss.item() gets the scalar value held in the loss.  item() turns a Tensor into a Python number\n",
        "    losses.append(loss.item())\n",
        "    #backpropagation - computing the gradient of the loss function with respect to each weight\n",
        "    loss.backward()\n",
        "    # updating weights to minimize loss\n",
        "    optimizer.step()\n",
        "    #You call scheduler.step() every batch, right after optimizer.step(), to update the learning rate.\n",
        "    scheduler.step()\n",
        "\n",
        "    # Print training update info\n",
        "    # At an interval of print_freq or val_freq\n",
        "    if (batch_idx + 1) % print_freq == 0:\n",
        "      #average loss for the last 'print_freq' batches\n",
        "      avg_loss = np.mean(losses[-print_freq:])\n",
        "      val_loss = eval_model(model, val_generator)\n",
        "      print('Epoch: {} | Step: {} | Avg. train loss: {:.3f} | Avg. val loss: {:.3f} | lr: {}'.format(\n",
        "          epoch_idx+1, batch_idx+1, avg_loss, val_loss, scheduler.get_last_lr()[0]))\n",
        "      val_losses.append(val_loss)\n",
        "      \n",
        "\n",
        "    # save the model for every 'checkpoint_freq' steps\n",
        "    if (batch_idx + 1) % checkpoint_freq == 0:      \n",
        "      torch.save(model.state_dict(), os.path.join(model_path+ 'Step-{}_checkpoint_lang_pred.pt'.format(batch_idx + 1)))\n",
        "\n",
        "torch.save(model.state_dict(), os.path.join(model_path+ 'Step-{}_checkpoint_lang_pred.pt'.format(batch_idx + 1)))"
      ],
      "execution_count": null,
      "outputs": [
        {
          "output_type": "display_data",
          "data": {
            "text/plain": [
              "  0%|          | 0/1802 [00:00<?, ?it/s]"
            ],
            "application/vnd.jupyter.widget-view+json": {
              "version_major": 2,
              "version_minor": 0,
              "model_id": "331d723ad7df4853858cf6223c240a9b"
            }
          },
          "metadata": {}
        },
        {
          "output_type": "stream",
          "name": "stdout",
          "text": [
            "Epoch: 1 | Step: 55 | Avg. train loss: 0.011 | Avg. val loss: 0.678 | lr: 0.0001527777777777778\n",
            "Epoch: 1 | Step: 110 | Avg. train loss: 0.014 | Avg. val loss: 0.462 | lr: 0.0003055555555555556\n",
            "Epoch: 1 | Step: 165 | Avg. train loss: 0.038 | Avg. val loss: 0.375 | lr: 0.0004583333333333333\n",
            "Epoch: 1 | Step: 220 | Avg. train loss: 0.047 | Avg. val loss: 0.409 | lr: 0.0004988789237668162\n",
            "Epoch: 1 | Step: 275 | Avg. train loss: 0.131 | Avg. val loss: 0.289 | lr: 0.0004973374439461883\n",
            "Epoch: 1 | Step: 330 | Avg. train loss: 0.156 | Avg. val loss: 0.235 | lr: 0.0004957959641255606\n",
            "Epoch: 1 | Step: 385 | Avg. train loss: 0.131 | Avg. val loss: 0.210 | lr: 0.0004942544843049327\n",
            "Epoch: 1 | Step: 440 | Avg. train loss: 0.144 | Avg. val loss: 0.272 | lr: 0.000492713004484305\n",
            "Epoch: 1 | Step: 495 | Avg. train loss: 0.162 | Avg. val loss: 0.229 | lr: 0.0004911715246636772\n",
            "Epoch: 1 | Step: 550 | Avg. train loss: 0.143 | Avg. val loss: 0.264 | lr: 0.0004896300448430493\n",
            "Epoch: 1 | Step: 605 | Avg. train loss: 0.163 | Avg. val loss: 0.243 | lr: 0.00048808856502242156\n",
            "Epoch: 1 | Step: 660 | Avg. train loss: 0.162 | Avg. val loss: 0.238 | lr: 0.00048654708520179374\n",
            "Epoch: 1 | Step: 715 | Avg. train loss: 0.159 | Avg. val loss: 0.197 | lr: 0.00048500560538116593\n",
            "Epoch: 1 | Step: 770 | Avg. train loss: 0.165 | Avg. val loss: 0.333 | lr: 0.00048346412556053817\n",
            "Epoch: 1 | Step: 825 | Avg. train loss: 0.160 | Avg. val loss: 0.338 | lr: 0.00048192264573991035\n",
            "Epoch: 1 | Step: 880 | Avg. train loss: 0.166 | Avg. val loss: 0.259 | lr: 0.00048038116591928254\n",
            "Epoch: 1 | Step: 935 | Avg. train loss: 0.159 | Avg. val loss: 0.289 | lr: 0.00047883968609865467\n",
            "Epoch: 1 | Step: 990 | Avg. train loss: 0.159 | Avg. val loss: 0.272 | lr: 0.0004772982062780269\n",
            "Epoch: 1 | Step: 1045 | Avg. train loss: 0.166 | Avg. val loss: 0.290 | lr: 0.0004757567264573991\n",
            "Epoch: 1 | Step: 1100 | Avg. train loss: 0.174 | Avg. val loss: 0.254 | lr: 0.0004742152466367713\n",
            "Epoch: 1 | Step: 1155 | Avg. train loss: 0.176 | Avg. val loss: 0.326 | lr: 0.00047267376681614347\n",
            "Epoch: 1 | Step: 1210 | Avg. train loss: 0.176 | Avg. val loss: 0.241 | lr: 0.0004711322869955157\n",
            "Epoch: 1 | Step: 1265 | Avg. train loss: 0.143 | Avg. val loss: 0.291 | lr: 0.0004695908071748879\n",
            "Epoch: 1 | Step: 1320 | Avg. train loss: 0.167 | Avg. val loss: 0.273 | lr: 0.0004680493273542601\n",
            "Epoch: 1 | Step: 1375 | Avg. train loss: 0.190 | Avg. val loss: 0.249 | lr: 0.0004665078475336323\n",
            "Epoch: 1 | Step: 1430 | Avg. train loss: 0.159 | Avg. val loss: 0.274 | lr: 0.0004649663677130045\n",
            "Epoch: 1 | Step: 1485 | Avg. train loss: 0.169 | Avg. val loss: 0.253 | lr: 0.0004634248878923767\n",
            "Epoch: 1 | Step: 1540 | Avg. train loss: 0.170 | Avg. val loss: 0.229 | lr: 0.0004618834080717489\n",
            "Epoch: 1 | Step: 1595 | Avg. train loss: 0.176 | Avg. val loss: 0.242 | lr: 0.0004603419282511211\n",
            "Epoch: 1 | Step: 1650 | Avg. train loss: 0.187 | Avg. val loss: 0.192 | lr: 0.0004588004484304933\n",
            "Epoch: 1 | Step: 1705 | Avg. train loss: 0.177 | Avg. val loss: 0.189 | lr: 0.0004572589686098655\n",
            "Epoch: 1 | Step: 1760 | Avg. train loss: 0.177 | Avg. val loss: 0.226 | lr: 0.00045571748878923767\n"
          ]
        },
        {
          "output_type": "display_data",
          "data": {
            "text/plain": [
              "  0%|          | 0/1802 [00:00<?, ?it/s]"
            ],
            "application/vnd.jupyter.widget-view+json": {
              "version_major": 2,
              "version_minor": 0,
              "model_id": "2e97abd6b88b4f33819d54ab585839a0"
            }
          },
          "metadata": {}
        },
        {
          "output_type": "stream",
          "name": "stdout",
          "text": [
            "Epoch: 2 | Step: 55 | Avg. train loss: 0.109 | Avg. val loss: 0.289 | lr: 0.00045299887892376686\n",
            "Epoch: 2 | Step: 110 | Avg. train loss: 0.114 | Avg. val loss: 0.206 | lr: 0.00045145739910313904\n",
            "Epoch: 2 | Step: 165 | Avg. train loss: 0.125 | Avg. val loss: 0.280 | lr: 0.00044991591928251123\n",
            "Epoch: 2 | Step: 220 | Avg. train loss: 0.152 | Avg. val loss: 0.229 | lr: 0.00044837443946188347\n",
            "Epoch: 2 | Step: 275 | Avg. train loss: 0.126 | Avg. val loss: 0.250 | lr: 0.0004468329596412556\n",
            "Epoch: 2 | Step: 330 | Avg. train loss: 0.141 | Avg. val loss: 0.312 | lr: 0.0004452914798206278\n",
            "Epoch: 2 | Step: 385 | Avg. train loss: 0.135 | Avg. val loss: 0.291 | lr: 0.00044374999999999997\n",
            "Epoch: 2 | Step: 440 | Avg. train loss: 0.148 | Avg. val loss: 0.191 | lr: 0.0004422085201793722\n",
            "Epoch: 2 | Step: 495 | Avg. train loss: 0.161 | Avg. val loss: 0.309 | lr: 0.0004406670403587444\n",
            "Epoch: 2 | Step: 550 | Avg. train loss: 0.144 | Avg. val loss: 0.251 | lr: 0.0004391255605381166\n",
            "Epoch: 2 | Step: 605 | Avg. train loss: 0.146 | Avg. val loss: 0.241 | lr: 0.00043758408071748877\n",
            "Epoch: 2 | Step: 660 | Avg. train loss: 0.156 | Avg. val loss: 0.238 | lr: 0.000436042600896861\n",
            "Epoch: 2 | Step: 715 | Avg. train loss: 0.163 | Avg. val loss: 0.218 | lr: 0.0004345011210762332\n",
            "Epoch: 2 | Step: 770 | Avg. train loss: 0.163 | Avg. val loss: 0.182 | lr: 0.0004329596412556054\n",
            "Epoch: 2 | Step: 825 | Avg. train loss: 0.154 | Avg. val loss: 0.204 | lr: 0.00043141816143497756\n",
            "Epoch: 2 | Step: 880 | Avg. train loss: 0.452 | Avg. val loss: 0.237 | lr: 0.0004298766816143498\n",
            "Epoch: 2 | Step: 935 | Avg. train loss: 0.216 | Avg. val loss: 0.213 | lr: 0.000428335201793722\n",
            "Epoch: 2 | Step: 990 | Avg. train loss: 0.208 | Avg. val loss: 0.209 | lr: 0.0004267937219730942\n",
            "Epoch: 2 | Step: 1045 | Avg. train loss: 0.208 | Avg. val loss: 0.200 | lr: 0.00042525224215246636\n",
            "Epoch: 2 | Step: 1100 | Avg. train loss: 0.200 | Avg. val loss: 0.213 | lr: 0.0004237107623318386\n",
            "Epoch: 2 | Step: 1155 | Avg. train loss: 0.208 | Avg. val loss: 0.209 | lr: 0.0004221692825112108\n",
            "Epoch: 2 | Step: 1210 | Avg. train loss: 0.207 | Avg. val loss: 0.243 | lr: 0.00042062780269058297\n",
            "Epoch: 2 | Step: 1265 | Avg. train loss: 0.213 | Avg. val loss: 0.247 | lr: 0.0004190863228699552\n",
            "Epoch: 2 | Step: 1320 | Avg. train loss: 0.194 | Avg. val loss: 0.217 | lr: 0.0004175448430493274\n",
            "Epoch: 2 | Step: 1375 | Avg. train loss: 0.202 | Avg. val loss: 0.238 | lr: 0.0004160033632286996\n",
            "Epoch: 2 | Step: 1430 | Avg. train loss: 0.186 | Avg. val loss: 0.230 | lr: 0.00041446188340807177\n",
            "Epoch: 2 | Step: 1485 | Avg. train loss: 0.195 | Avg. val loss: 0.203 | lr: 0.000412920403587444\n",
            "Epoch: 2 | Step: 1540 | Avg. train loss: 0.186 | Avg. val loss: 0.206 | lr: 0.00041137892376681614\n",
            "Epoch: 2 | Step: 1595 | Avg. train loss: 0.190 | Avg. val loss: 0.248 | lr: 0.0004098374439461883\n",
            "Epoch: 2 | Step: 1650 | Avg. train loss: 0.195 | Avg. val loss: 0.191 | lr: 0.0004082959641255605\n",
            "Epoch: 2 | Step: 1705 | Avg. train loss: 0.201 | Avg. val loss: 0.190 | lr: 0.00040675448430493275\n",
            "Epoch: 2 | Step: 1760 | Avg. train loss: 0.188 | Avg. val loss: 0.187 | lr: 0.00040521300448430493\n"
          ]
        },
        {
          "output_type": "display_data",
          "data": {
            "text/plain": [
              "  0%|          | 0/1802 [00:00<?, ?it/s]"
            ],
            "application/vnd.jupyter.widget-view+json": {
              "version_major": 2,
              "version_minor": 0,
              "model_id": "dee0a9676d4641d69944387c8477ff73"
            }
          },
          "metadata": {}
        },
        {
          "output_type": "stream",
          "name": "stdout",
          "text": [
            "Epoch: 3 | Step: 55 | Avg. train loss: 0.139 | Avg. val loss: 0.218 | lr: 0.00040249439461883407\n",
            "Epoch: 3 | Step: 110 | Avg. train loss: 0.138 | Avg. val loss: 0.266 | lr: 0.00040095291479820625\n",
            "Epoch: 3 | Step: 165 | Avg. train loss: 0.151 | Avg. val loss: 0.306 | lr: 0.0003994114349775785\n",
            "Epoch: 3 | Step: 220 | Avg. train loss: 0.133 | Avg. val loss: 0.207 | lr: 0.0003978699551569507\n",
            "Epoch: 3 | Step: 275 | Avg. train loss: 0.136 | Avg. val loss: 0.184 | lr: 0.00039632847533632286\n",
            "Epoch: 3 | Step: 330 | Avg. train loss: 0.138 | Avg. val loss: 0.221 | lr: 0.0003947869955156951\n",
            "Epoch: 3 | Step: 385 | Avg. train loss: 0.131 | Avg. val loss: 0.254 | lr: 0.0003932455156950673\n",
            "Epoch: 3 | Step: 440 | Avg. train loss: 0.166 | Avg. val loss: 0.256 | lr: 0.0003917040358744395\n",
            "Epoch: 3 | Step: 495 | Avg. train loss: 0.181 | Avg. val loss: 0.242 | lr: 0.00039016255605381166\n",
            "Epoch: 3 | Step: 550 | Avg. train loss: 0.180 | Avg. val loss: 0.224 | lr: 0.0003886210762331839\n",
            "Epoch: 3 | Step: 605 | Avg. train loss: 0.180 | Avg. val loss: 0.248 | lr: 0.0003870795964125561\n",
            "Epoch: 3 | Step: 660 | Avg. train loss: 0.169 | Avg. val loss: 0.223 | lr: 0.00038553811659192827\n",
            "Epoch: 3 | Step: 715 | Avg. train loss: 0.179 | Avg. val loss: 0.246 | lr: 0.00038399663677130046\n",
            "Epoch: 3 | Step: 770 | Avg. train loss: 0.169 | Avg. val loss: 0.200 | lr: 0.0003824551569506727\n",
            "Epoch: 3 | Step: 825 | Avg. train loss: 0.163 | Avg. val loss: 0.160 | lr: 0.0003809136771300449\n",
            "Epoch: 3 | Step: 880 | Avg. train loss: 0.155 | Avg. val loss: 0.271 | lr: 0.000379372197309417\n",
            "Epoch: 3 | Step: 935 | Avg. train loss: 0.162 | Avg. val loss: 0.253 | lr: 0.0003778307174887892\n",
            "Epoch: 3 | Step: 990 | Avg. train loss: 0.164 | Avg. val loss: 0.166 | lr: 0.00037628923766816144\n",
            "Epoch: 3 | Step: 1045 | Avg. train loss: 0.148 | Avg. val loss: 0.295 | lr: 0.0003747477578475336\n",
            "Epoch: 3 | Step: 1100 | Avg. train loss: 0.146 | Avg. val loss: 0.174 | lr: 0.0003732062780269058\n",
            "Epoch: 3 | Step: 1155 | Avg. train loss: 0.157 | Avg. val loss: 0.185 | lr: 0.000371664798206278\n",
            "Epoch: 3 | Step: 1210 | Avg. train loss: 0.151 | Avg. val loss: 0.253 | lr: 0.00037012331838565024\n",
            "Epoch: 3 | Step: 1265 | Avg. train loss: 0.154 | Avg. val loss: 0.187 | lr: 0.0003685818385650224\n",
            "Epoch: 3 | Step: 1320 | Avg. train loss: 0.159 | Avg. val loss: 0.223 | lr: 0.0003670403587443946\n",
            "Epoch: 3 | Step: 1375 | Avg. train loss: 0.166 | Avg. val loss: 0.228 | lr: 0.00036549887892376685\n",
            "Epoch: 3 | Step: 1430 | Avg. train loss: 0.145 | Avg. val loss: 0.224 | lr: 0.00036395739910313903\n",
            "Epoch: 3 | Step: 1485 | Avg. train loss: 0.150 | Avg. val loss: 0.321 | lr: 0.0003624159192825112\n",
            "Epoch: 3 | Step: 1540 | Avg. train loss: 0.165 | Avg. val loss: 0.306 | lr: 0.0003608744394618834\n",
            "Epoch: 3 | Step: 1595 | Avg. train loss: 0.158 | Avg. val loss: 0.220 | lr: 0.00035933295964125564\n",
            "Epoch: 3 | Step: 1650 | Avg. train loss: 0.149 | Avg. val loss: 0.243 | lr: 0.00035779147982062783\n",
            "Epoch: 3 | Step: 1705 | Avg. train loss: 0.152 | Avg. val loss: 0.199 | lr: 0.00035625\n",
            "Epoch: 3 | Step: 1760 | Avg. train loss: 0.157 | Avg. val loss: 0.157 | lr: 0.0003547085201793722\n"
          ]
        },
        {
          "output_type": "display_data",
          "data": {
            "text/plain": [
              "  0%|          | 0/1802 [00:00<?, ?it/s]"
            ],
            "application/vnd.jupyter.widget-view+json": {
              "version_major": 2,
              "version_minor": 0,
              "model_id": "9560720031c840cd87b0311d994caf95"
            }
          },
          "metadata": {}
        },
        {
          "output_type": "stream",
          "name": "stdout",
          "text": [
            "Epoch: 4 | Step: 55 | Avg. train loss: 0.102 | Avg. val loss: 0.274 | lr: 0.0003519899103139014\n",
            "Epoch: 4 | Step: 110 | Avg. train loss: 0.088 | Avg. val loss: 0.290 | lr: 0.0003504484304932736\n",
            "Epoch: 4 | Step: 165 | Avg. train loss: 0.080 | Avg. val loss: 0.419 | lr: 0.00034890695067264576\n",
            "Epoch: 4 | Step: 220 | Avg. train loss: 0.092 | Avg. val loss: 0.309 | lr: 0.00034736547085201794\n",
            "Epoch: 4 | Step: 275 | Avg. train loss: 0.094 | Avg. val loss: 0.315 | lr: 0.00034582399103139013\n",
            "Epoch: 4 | Step: 330 | Avg. train loss: 0.081 | Avg. val loss: 0.329 | lr: 0.0003442825112107623\n",
            "Epoch: 4 | Step: 385 | Avg. train loss: 0.085 | Avg. val loss: 0.269 | lr: 0.0003427410313901345\n",
            "Epoch: 4 | Step: 440 | Avg. train loss: 0.082 | Avg. val loss: 0.336 | lr: 0.00034119955156950674\n",
            "Epoch: 4 | Step: 495 | Avg. train loss: 0.097 | Avg. val loss: 0.418 | lr: 0.0003396580717488789\n",
            "Epoch: 4 | Step: 550 | Avg. train loss: 0.093 | Avg. val loss: 0.315 | lr: 0.0003381165919282511\n",
            "Epoch: 4 | Step: 605 | Avg. train loss: 0.093 | Avg. val loss: 0.399 | lr: 0.0003365751121076233\n",
            "Epoch: 4 | Step: 660 | Avg. train loss: 0.095 | Avg. val loss: 0.304 | lr: 0.00033503363228699554\n",
            "Epoch: 4 | Step: 715 | Avg. train loss: 0.102 | Avg. val loss: 0.219 | lr: 0.0003334921524663677\n",
            "Epoch: 4 | Step: 770 | Avg. train loss: 0.116 | Avg. val loss: 0.274 | lr: 0.0003319506726457399\n",
            "Epoch: 4 | Step: 825 | Avg. train loss: 0.125 | Avg. val loss: 0.282 | lr: 0.0003304091928251121\n",
            "Epoch: 4 | Step: 880 | Avg. train loss: 0.109 | Avg. val loss: 0.325 | lr: 0.00032886771300448433\n",
            "Epoch: 4 | Step: 935 | Avg. train loss: 0.098 | Avg. val loss: 0.250 | lr: 0.0003273262331838565\n",
            "Epoch: 4 | Step: 990 | Avg. train loss: 0.113 | Avg. val loss: 0.248 | lr: 0.0003257847533632287\n",
            "Epoch: 4 | Step: 1045 | Avg. train loss: 0.110 | Avg. val loss: 0.385 | lr: 0.0003242432735426009\n",
            "Epoch: 4 | Step: 1100 | Avg. train loss: 0.112 | Avg. val loss: 0.256 | lr: 0.00032270179372197313\n",
            "Epoch: 4 | Step: 1155 | Avg. train loss: 0.091 | Avg. val loss: 0.336 | lr: 0.0003211603139013453\n",
            "Epoch: 4 | Step: 1210 | Avg. train loss: 0.121 | Avg. val loss: 0.242 | lr: 0.0003196188340807175\n",
            "Epoch: 4 | Step: 1265 | Avg. train loss: 0.100 | Avg. val loss: 0.315 | lr: 0.00031807735426008974\n",
            "Epoch: 4 | Step: 1320 | Avg. train loss: 0.118 | Avg. val loss: 0.239 | lr: 0.0003165358744394619\n",
            "Epoch: 4 | Step: 1375 | Avg. train loss: 0.125 | Avg. val loss: 0.306 | lr: 0.0003149943946188341\n",
            "Epoch: 4 | Step: 1430 | Avg. train loss: 0.133 | Avg. val loss: 0.317 | lr: 0.0003134529147982063\n",
            "Epoch: 4 | Step: 1485 | Avg. train loss: 0.124 | Avg. val loss: 0.244 | lr: 0.0003119114349775785\n",
            "Epoch: 4 | Step: 1540 | Avg. train loss: 0.115 | Avg. val loss: 0.294 | lr: 0.00031036995515695067\n",
            "Epoch: 4 | Step: 1595 | Avg. train loss: 0.128 | Avg. val loss: 0.171 | lr: 0.00030882847533632285\n",
            "Epoch: 4 | Step: 1650 | Avg. train loss: 0.116 | Avg. val loss: 0.395 | lr: 0.00030728699551569504\n",
            "Epoch: 4 | Step: 1705 | Avg. train loss: 0.117 | Avg. val loss: 0.224 | lr: 0.0003057455156950673\n",
            "Epoch: 4 | Step: 1760 | Avg. train loss: 0.129 | Avg. val loss: 0.287 | lr: 0.00030420403587443946\n"
          ]
        },
        {
          "output_type": "display_data",
          "data": {
            "text/plain": [
              "  0%|          | 0/1802 [00:00<?, ?it/s]"
            ],
            "application/vnd.jupyter.widget-view+json": {
              "version_major": 2,
              "version_minor": 0,
              "model_id": "c7ce44d3c6a94ae39b9d0ff3ab92e4df"
            }
          },
          "metadata": {}
        },
        {
          "output_type": "stream",
          "name": "stdout",
          "text": [
            "Epoch: 5 | Step: 55 | Avg. train loss: 0.057 | Avg. val loss: 0.322 | lr: 0.0003014854260089686\n",
            "Epoch: 5 | Step: 110 | Avg. train loss: 0.043 | Avg. val loss: 0.527 | lr: 0.0002999439461883408\n",
            "Epoch: 5 | Step: 165 | Avg. train loss: 0.042 | Avg. val loss: 0.627 | lr: 0.000298402466367713\n",
            "Epoch: 5 | Step: 220 | Avg. train loss: 0.057 | Avg. val loss: 0.191 | lr: 0.0002968609865470852\n",
            "Epoch: 5 | Step: 275 | Avg. train loss: 0.050 | Avg. val loss: 0.476 | lr: 0.0002953195067264574\n",
            "Epoch: 5 | Step: 330 | Avg. train loss: 0.065 | Avg. val loss: 0.397 | lr: 0.00029377802690582963\n",
            "Epoch: 5 | Step: 385 | Avg. train loss: 0.052 | Avg. val loss: 0.279 | lr: 0.0002922365470852018\n",
            "Epoch: 5 | Step: 440 | Avg. train loss: 0.050 | Avg. val loss: 0.278 | lr: 0.000290695067264574\n",
            "Epoch: 5 | Step: 495 | Avg. train loss: 0.078 | Avg. val loss: 0.353 | lr: 0.0002891535874439462\n",
            "Epoch: 5 | Step: 550 | Avg. train loss: 0.076 | Avg. val loss: 0.370 | lr: 0.00028761210762331843\n",
            "Epoch: 5 | Step: 605 | Avg. train loss: 0.074 | Avg. val loss: 0.251 | lr: 0.0002860706278026906\n",
            "Epoch: 5 | Step: 660 | Avg. train loss: 0.069 | Avg. val loss: 0.259 | lr: 0.0002845291479820628\n",
            "Epoch: 5 | Step: 715 | Avg. train loss: 0.073 | Avg. val loss: 0.240 | lr: 0.000282987668161435\n",
            "Epoch: 5 | Step: 770 | Avg. train loss: 0.069 | Avg. val loss: 0.500 | lr: 0.0002814461883408072\n",
            "Epoch: 5 | Step: 825 | Avg. train loss: 0.071 | Avg. val loss: 0.438 | lr: 0.00027990470852017936\n",
            "Epoch: 5 | Step: 880 | Avg. train loss: 0.073 | Avg. val loss: 0.262 | lr: 0.00027836322869955154\n",
            "Epoch: 5 | Step: 935 | Avg. train loss: 0.076 | Avg. val loss: 0.357 | lr: 0.00027682174887892373\n",
            "Epoch: 5 | Step: 990 | Avg. train loss: 0.094 | Avg. val loss: 0.279 | lr: 0.00027528026905829597\n",
            "Epoch: 5 | Step: 1045 | Avg. train loss: 0.090 | Avg. val loss: 0.270 | lr: 0.00027373878923766815\n",
            "Epoch: 5 | Step: 1100 | Avg. train loss: 0.083 | Avg. val loss: 0.405 | lr: 0.00027219730941704034\n",
            "Epoch: 5 | Step: 1155 | Avg. train loss: 0.091 | Avg. val loss: 0.245 | lr: 0.0002706558295964125\n",
            "Epoch: 5 | Step: 1210 | Avg. train loss: 0.091 | Avg. val loss: 0.313 | lr: 0.00026911434977578476\n",
            "Epoch: 5 | Step: 1265 | Avg. train loss: 0.070 | Avg. val loss: 0.565 | lr: 0.00026757286995515695\n",
            "Epoch: 5 | Step: 1320 | Avg. train loss: 0.093 | Avg. val loss: 0.308 | lr: 0.00026603139013452914\n",
            "Epoch: 5 | Step: 1375 | Avg. train loss: 0.098 | Avg. val loss: 0.314 | lr: 0.0002644899103139014\n",
            "Epoch: 5 | Step: 1430 | Avg. train loss: 0.091 | Avg. val loss: 0.288 | lr: 0.00026294843049327356\n",
            "Epoch: 5 | Step: 1485 | Avg. train loss: 0.088 | Avg. val loss: 0.353 | lr: 0.00026140695067264575\n",
            "Epoch: 5 | Step: 1540 | Avg. train loss: 0.071 | Avg. val loss: 0.316 | lr: 0.00025986547085201793\n",
            "Epoch: 5 | Step: 1595 | Avg. train loss: 0.098 | Avg. val loss: 0.249 | lr: 0.00025832399103139017\n",
            "Epoch: 5 | Step: 1650 | Avg. train loss: 0.088 | Avg. val loss: 0.177 | lr: 0.00025678251121076236\n",
            "Epoch: 5 | Step: 1705 | Avg. train loss: 0.098 | Avg. val loss: 0.263 | lr: 0.00025524103139013454\n",
            "Epoch: 5 | Step: 1760 | Avg. train loss: 0.082 | Avg. val loss: 0.444 | lr: 0.00025369955156950673\n"
          ]
        },
        {
          "output_type": "display_data",
          "data": {
            "text/plain": [
              "  0%|          | 0/1802 [00:00<?, ?it/s]"
            ],
            "application/vnd.jupyter.widget-view+json": {
              "version_major": 2,
              "version_minor": 0,
              "model_id": "10116179c9a547969820f9db59aaf9fa"
            }
          },
          "metadata": {}
        },
        {
          "output_type": "stream",
          "name": "stdout",
          "text": [
            "Epoch: 6 | Step: 55 | Avg. train loss: 0.047 | Avg. val loss: 0.480 | lr: 0.0002509809417040359\n",
            "Epoch: 6 | Step: 110 | Avg. train loss: 0.036 | Avg. val loss: 0.312 | lr: 0.0002494394618834081\n",
            "Epoch: 6 | Step: 165 | Avg. train loss: 0.037 | Avg. val loss: 0.578 | lr: 0.0002478979820627803\n",
            "Epoch: 6 | Step: 220 | Avg. train loss: 0.057 | Avg. val loss: 0.430 | lr: 0.0002463565022421525\n",
            "Epoch: 6 | Step: 275 | Avg. train loss: 0.047 | Avg. val loss: 0.499 | lr: 0.00024481502242152466\n",
            "Epoch: 6 | Step: 330 | Avg. train loss: 0.044 | Avg. val loss: 0.249 | lr: 0.00024327354260089687\n",
            "Epoch: 6 | Step: 385 | Avg. train loss: 0.044 | Avg. val loss: 0.385 | lr: 0.00024173206278026908\n",
            "Epoch: 6 | Step: 440 | Avg. train loss: 0.070 | Avg. val loss: 0.394 | lr: 0.00024019058295964127\n",
            "Epoch: 6 | Step: 495 | Avg. train loss: 0.057 | Avg. val loss: 0.228 | lr: 0.00023864910313901345\n",
            "Epoch: 6 | Step: 550 | Avg. train loss: 0.051 | Avg. val loss: 0.347 | lr: 0.00023710762331838564\n",
            "Epoch: 6 | Step: 605 | Avg. train loss: 0.063 | Avg. val loss: 0.355 | lr: 0.00023556614349775785\n",
            "Epoch: 6 | Step: 660 | Avg. train loss: 0.058 | Avg. val loss: 0.371 | lr: 0.00023402466367713004\n",
            "Epoch: 6 | Step: 715 | Avg. train loss: 0.052 | Avg. val loss: 0.389 | lr: 0.00023248318385650225\n",
            "Epoch: 6 | Step: 770 | Avg. train loss: 0.071 | Avg. val loss: 0.390 | lr: 0.00023094170403587444\n",
            "Epoch: 6 | Step: 825 | Avg. train loss: 0.061 | Avg. val loss: 0.414 | lr: 0.00022940022421524665\n",
            "Epoch: 6 | Step: 880 | Avg. train loss: 0.064 | Avg. val loss: 0.422 | lr: 0.00022785874439461883\n",
            "Epoch: 6 | Step: 935 | Avg. train loss: 0.063 | Avg. val loss: 0.279 | lr: 0.00022631726457399105\n",
            "Epoch: 6 | Step: 990 | Avg. train loss: 0.072 | Avg. val loss: 0.353 | lr: 0.00022477578475336323\n",
            "Epoch: 6 | Step: 1045 | Avg. train loss: 0.060 | Avg. val loss: 0.315 | lr: 0.00022323430493273545\n",
            "Epoch: 6 | Step: 1100 | Avg. train loss: 0.063 | Avg. val loss: 0.394 | lr: 0.0002216928251121076\n",
            "Epoch: 6 | Step: 1155 | Avg. train loss: 0.090 | Avg. val loss: 0.246 | lr: 0.00022015134529147982\n",
            "Epoch: 6 | Step: 1210 | Avg. train loss: 0.059 | Avg. val loss: 0.314 | lr: 0.000218609865470852\n",
            "Epoch: 6 | Step: 1265 | Avg. train loss: 0.054 | Avg. val loss: 0.299 | lr: 0.00021706838565022421\n",
            "Epoch: 6 | Step: 1320 | Avg. train loss: 0.071 | Avg. val loss: 0.307 | lr: 0.00021552690582959643\n",
            "Epoch: 6 | Step: 1375 | Avg. train loss: 0.084 | Avg. val loss: 0.429 | lr: 0.0002139854260089686\n",
            "Epoch: 6 | Step: 1430 | Avg. train loss: 0.065 | Avg. val loss: 0.256 | lr: 0.00021244394618834082\n",
            "Epoch: 6 | Step: 1485 | Avg. train loss: 0.081 | Avg. val loss: 0.291 | lr: 0.000210902466367713\n",
            "Epoch: 6 | Step: 1540 | Avg. train loss: 0.090 | Avg. val loss: 0.233 | lr: 0.00020936098654708522\n",
            "Epoch: 6 | Step: 1595 | Avg. train loss: 0.064 | Avg. val loss: 0.405 | lr: 0.0002078195067264574\n",
            "Epoch: 6 | Step: 1650 | Avg. train loss: 0.072 | Avg. val loss: 0.249 | lr: 0.00020627802690582962\n",
            "Epoch: 6 | Step: 1705 | Avg. train loss: 0.071 | Avg. val loss: 0.306 | lr: 0.00020473654708520178\n",
            "Epoch: 6 | Step: 1760 | Avg. train loss: 0.073 | Avg. val loss: 0.296 | lr: 0.000203195067264574\n"
          ]
        },
        {
          "output_type": "display_data",
          "data": {
            "text/plain": [
              "  0%|          | 0/1802 [00:00<?, ?it/s]"
            ],
            "application/vnd.jupyter.widget-view+json": {
              "version_major": 2,
              "version_minor": 0,
              "model_id": "3c9e2b3f5a564d2fbcfa8d96489248c1"
            }
          },
          "metadata": {}
        },
        {
          "output_type": "stream",
          "name": "stdout",
          "text": [
            "Epoch: 7 | Step: 55 | Avg. train loss: 0.039 | Avg. val loss: 0.221 | lr: 0.00020047645739910313\n",
            "Epoch: 7 | Step: 110 | Avg. train loss: 0.028 | Avg. val loss: 0.410 | lr: 0.00019893497757847534\n",
            "Epoch: 7 | Step: 165 | Avg. train loss: 0.022 | Avg. val loss: 0.323 | lr: 0.00019739349775784755\n",
            "Epoch: 7 | Step: 220 | Avg. train loss: 0.024 | Avg. val loss: 0.719 | lr: 0.00019585201793721974\n",
            "Epoch: 7 | Step: 275 | Avg. train loss: 0.031 | Avg. val loss: 0.311 | lr: 0.00019431053811659195\n",
            "Epoch: 7 | Step: 330 | Avg. train loss: 0.035 | Avg. val loss: 0.282 | lr: 0.00019276905829596414\n",
            "Epoch: 7 | Step: 385 | Avg. train loss: 0.046 | Avg. val loss: 0.223 | lr: 0.00019122757847533635\n",
            "Epoch: 7 | Step: 440 | Avg. train loss: 0.033 | Avg. val loss: 0.571 | lr: 0.0001896860986547085\n",
            "Epoch: 7 | Step: 495 | Avg. train loss: 0.025 | Avg. val loss: 0.575 | lr: 0.00018814461883408072\n",
            "Epoch: 7 | Step: 550 | Avg. train loss: 0.032 | Avg. val loss: 0.267 | lr: 0.0001866031390134529\n",
            "Epoch: 7 | Step: 605 | Avg. train loss: 0.032 | Avg. val loss: 0.213 | lr: 0.00018506165919282512\n",
            "Epoch: 7 | Step: 660 | Avg. train loss: 0.071 | Avg. val loss: 0.282 | lr: 0.0001835201793721973\n",
            "Epoch: 7 | Step: 715 | Avg. train loss: 0.054 | Avg. val loss: 0.185 | lr: 0.00018197869955156952\n",
            "Epoch: 7 | Step: 770 | Avg. train loss: 0.043 | Avg. val loss: 0.449 | lr: 0.0001804372197309417\n",
            "Epoch: 7 | Step: 825 | Avg. train loss: 0.053 | Avg. val loss: 0.313 | lr: 0.00017889573991031391\n",
            "Epoch: 7 | Step: 880 | Avg. train loss: 0.067 | Avg. val loss: 0.243 | lr: 0.0001773542600896861\n",
            "Epoch: 7 | Step: 935 | Avg. train loss: 0.058 | Avg. val loss: 0.229 | lr: 0.0001758127802690583\n",
            "Epoch: 7 | Step: 990 | Avg. train loss: 0.051 | Avg. val loss: 0.388 | lr: 0.0001742713004484305\n",
            "Epoch: 7 | Step: 1045 | Avg. train loss: 0.042 | Avg. val loss: 0.368 | lr: 0.00017272982062780268\n",
            "Epoch: 7 | Step: 1100 | Avg. train loss: 0.056 | Avg. val loss: 0.239 | lr: 0.00017118834080717487\n",
            "Epoch: 7 | Step: 1155 | Avg. train loss: 0.056 | Avg. val loss: 0.240 | lr: 0.00016964686098654708\n",
            "Epoch: 7 | Step: 1210 | Avg. train loss: 0.045 | Avg. val loss: 0.420 | lr: 0.0001681053811659193\n",
            "Epoch: 7 | Step: 1265 | Avg. train loss: 0.046 | Avg. val loss: 0.568 | lr: 0.00016656390134529148\n",
            "Epoch: 7 | Step: 1320 | Avg. train loss: 0.049 | Avg. val loss: 0.266 | lr: 0.0001650224215246637\n",
            "Epoch: 7 | Step: 1375 | Avg. train loss: 0.041 | Avg. val loss: 0.373 | lr: 0.00016348094170403588\n",
            "Epoch: 7 | Step: 1430 | Avg. train loss: 0.043 | Avg. val loss: 0.359 | lr: 0.0001619394618834081\n",
            "Epoch: 7 | Step: 1485 | Avg. train loss: 0.050 | Avg. val loss: 0.329 | lr: 0.00016039798206278028\n",
            "Epoch: 7 | Step: 1540 | Avg. train loss: 0.053 | Avg. val loss: 0.482 | lr: 0.0001588565022421525\n",
            "Epoch: 7 | Step: 1595 | Avg. train loss: 0.059 | Avg. val loss: 0.322 | lr: 0.00015731502242152467\n",
            "Epoch: 7 | Step: 1650 | Avg. train loss: 0.042 | Avg. val loss: 0.428 | lr: 0.00015577354260089686\n",
            "Epoch: 7 | Step: 1705 | Avg. train loss: 0.053 | Avg. val loss: 0.423 | lr: 0.00015423206278026904\n",
            "Epoch: 7 | Step: 1760 | Avg. train loss: 0.050 | Avg. val loss: 0.185 | lr: 0.00015269058295964126\n"
          ]
        },
        {
          "output_type": "display_data",
          "data": {
            "text/plain": [
              "  0%|          | 0/1802 [00:00<?, ?it/s]"
            ],
            "application/vnd.jupyter.widget-view+json": {
              "version_major": 2,
              "version_minor": 0,
              "model_id": "d38f1b0f5ea2402ca55bf68385b6fb78"
            }
          },
          "metadata": {}
        },
        {
          "output_type": "stream",
          "name": "stdout",
          "text": [
            "Epoch: 8 | Step: 55 | Avg. train loss: 0.022 | Avg. val loss: 0.423 | lr: 0.0001499719730941704\n",
            "Epoch: 8 | Step: 110 | Avg. train loss: 0.017 | Avg. val loss: 0.586 | lr: 0.0001484304932735426\n",
            "Epoch: 8 | Step: 165 | Avg. train loss: 0.025 | Avg. val loss: 0.414 | lr: 0.00014688901345291482\n",
            "Epoch: 8 | Step: 220 | Avg. train loss: 0.021 | Avg. val loss: 0.226 | lr: 0.000145347533632287\n",
            "Epoch: 8 | Step: 275 | Avg. train loss: 0.023 | Avg. val loss: 0.429 | lr: 0.00014380605381165921\n",
            "Epoch: 8 | Step: 330 | Avg. train loss: 0.021 | Avg. val loss: 0.381 | lr: 0.0001422645739910314\n",
            "Epoch: 8 | Step: 385 | Avg. train loss: 0.021 | Avg. val loss: 0.246 | lr: 0.0001407230941704036\n",
            "Epoch: 8 | Step: 440 | Avg. train loss: 0.022 | Avg. val loss: 0.308 | lr: 0.00013918161434977577\n",
            "Epoch: 8 | Step: 495 | Avg. train loss: 0.013 | Avg. val loss: 0.456 | lr: 0.00013764013452914798\n",
            "Epoch: 8 | Step: 550 | Avg. train loss: 0.028 | Avg. val loss: 0.509 | lr: 0.00013609865470852017\n",
            "Epoch: 8 | Step: 605 | Avg. train loss: 0.020 | Avg. val loss: 0.343 | lr: 0.00013455717488789238\n",
            "Epoch: 8 | Step: 660 | Avg. train loss: 0.024 | Avg. val loss: 0.460 | lr: 0.00013301569506726457\n",
            "Epoch: 8 | Step: 715 | Avg. train loss: 0.019 | Avg. val loss: 0.408 | lr: 0.00013147421524663678\n",
            "Epoch: 8 | Step: 770 | Avg. train loss: 0.019 | Avg. val loss: 0.290 | lr: 0.00012993273542600897\n",
            "Epoch: 8 | Step: 825 | Avg. train loss: 0.015 | Avg. val loss: 0.431 | lr: 0.00012839125560538118\n",
            "Epoch: 8 | Step: 880 | Avg. train loss: 0.026 | Avg. val loss: 0.457 | lr: 0.00012684977578475336\n",
            "Epoch: 8 | Step: 935 | Avg. train loss: 0.025 | Avg. val loss: 0.457 | lr: 0.00012530829596412558\n",
            "Epoch: 8 | Step: 990 | Avg. train loss: 0.023 | Avg. val loss: 0.425 | lr: 0.00012376681614349776\n",
            "Epoch: 8 | Step: 1045 | Avg. train loss: 0.026 | Avg. val loss: 0.372 | lr: 0.00012222533632286995\n",
            "Epoch: 8 | Step: 1100 | Avg. train loss: 0.037 | Avg. val loss: 0.396 | lr: 0.00012068385650224216\n",
            "Epoch: 8 | Step: 1155 | Avg. train loss: 0.031 | Avg. val loss: 0.449 | lr: 0.00011914237668161436\n",
            "Epoch: 8 | Step: 1210 | Avg. train loss: 0.032 | Avg. val loss: 0.365 | lr: 0.00011760089686098654\n",
            "Epoch: 8 | Step: 1265 | Avg. train loss: 0.034 | Avg. val loss: 0.403 | lr: 0.00011605941704035874\n",
            "Epoch: 8 | Step: 1320 | Avg. train loss: 0.018 | Avg. val loss: 0.351 | lr: 0.00011451793721973094\n",
            "Epoch: 8 | Step: 1375 | Avg. train loss: 0.024 | Avg. val loss: 0.154 | lr: 0.00011297645739910314\n",
            "Epoch: 8 | Step: 1430 | Avg. train loss: 0.032 | Avg. val loss: 0.490 | lr: 0.00011143497757847534\n",
            "Epoch: 8 | Step: 1485 | Avg. train loss: 0.026 | Avg. val loss: 0.214 | lr: 0.00010989349775784753\n",
            "Epoch: 8 | Step: 1540 | Avg. train loss: 0.040 | Avg. val loss: 0.397 | lr: 0.00010835201793721973\n",
            "Epoch: 8 | Step: 1595 | Avg. train loss: 0.030 | Avg. val loss: 0.257 | lr: 0.00010681053811659192\n",
            "Epoch: 8 | Step: 1650 | Avg. train loss: 0.032 | Avg. val loss: 0.539 | lr: 0.00010526905829596412\n",
            "Epoch: 8 | Step: 1705 | Avg. train loss: 0.031 | Avg. val loss: 0.499 | lr: 0.00010372757847533632\n",
            "Epoch: 8 | Step: 1760 | Avg. train loss: 0.027 | Avg. val loss: 0.440 | lr: 0.00010218609865470853\n"
          ]
        },
        {
          "output_type": "display_data",
          "data": {
            "text/plain": [
              "  0%|          | 0/1802 [00:00<?, ?it/s]"
            ],
            "application/vnd.jupyter.widget-view+json": {
              "version_major": 2,
              "version_minor": 0,
              "model_id": "8ba0c417cf694ac287cb8f6ba85e45fc"
            }
          },
          "metadata": {}
        },
        {
          "output_type": "stream",
          "name": "stdout",
          "text": [
            "Epoch: 9 | Step: 55 | Avg. train loss: 0.016 | Avg. val loss: 0.378 | lr: 9.946748878923767e-05\n",
            "Epoch: 9 | Step: 110 | Avg. train loss: 0.011 | Avg. val loss: 0.464 | lr: 9.792600896860987e-05\n",
            "Epoch: 9 | Step: 165 | Avg. train loss: 0.015 | Avg. val loss: 0.429 | lr: 9.638452914798207e-05\n",
            "Epoch: 9 | Step: 220 | Avg. train loss: 0.015 | Avg. val loss: 0.234 | lr: 9.484304932735425e-05\n",
            "Epoch: 9 | Step: 275 | Avg. train loss: 0.012 | Avg. val loss: 0.520 | lr: 9.330156950672645e-05\n",
            "Epoch: 9 | Step: 330 | Avg. train loss: 0.015 | Avg. val loss: 0.382 | lr: 9.176008968609865e-05\n",
            "Epoch: 9 | Step: 385 | Avg. train loss: 0.021 | Avg. val loss: 0.505 | lr: 9.021860986547085e-05\n",
            "Epoch: 9 | Step: 440 | Avg. train loss: 0.016 | Avg. val loss: 0.352 | lr: 8.867713004484305e-05\n",
            "Epoch: 9 | Step: 495 | Avg. train loss: 0.013 | Avg. val loss: 0.421 | lr: 8.713565022421525e-05\n",
            "Epoch: 9 | Step: 550 | Avg. train loss: 0.018 | Avg. val loss: 0.522 | lr: 8.559417040358743e-05\n",
            "Epoch: 9 | Step: 605 | Avg. train loss: 0.012 | Avg. val loss: 0.619 | lr: 8.405269058295965e-05\n",
            "Epoch: 9 | Step: 660 | Avg. train loss: 0.016 | Avg. val loss: 0.472 | lr: 8.251121076233185e-05\n",
            "Epoch: 9 | Step: 715 | Avg. train loss: 0.021 | Avg. val loss: 0.410 | lr: 8.096973094170404e-05\n",
            "Epoch: 9 | Step: 770 | Avg. train loss: 0.014 | Avg. val loss: 0.449 | lr: 7.942825112107624e-05\n",
            "Epoch: 9 | Step: 825 | Avg. train loss: 0.013 | Avg. val loss: 0.383 | lr: 7.788677130044843e-05\n",
            "Epoch: 9 | Step: 880 | Avg. train loss: 0.021 | Avg. val loss: 0.465 | lr: 7.634529147982063e-05\n",
            "Epoch: 9 | Step: 935 | Avg. train loss: 0.024 | Avg. val loss: 0.589 | lr: 7.480381165919283e-05\n",
            "Epoch: 9 | Step: 990 | Avg. train loss: 0.017 | Avg. val loss: 0.351 | lr: 7.326233183856503e-05\n",
            "Epoch: 9 | Step: 1045 | Avg. train loss: 0.015 | Avg. val loss: 0.327 | lr: 7.172085201793723e-05\n",
            "Epoch: 9 | Step: 1100 | Avg. train loss: 0.016 | Avg. val loss: 0.606 | lr: 7.017937219730942e-05\n",
            "Epoch: 9 | Step: 1155 | Avg. train loss: 0.019 | Avg. val loss: 0.420 | lr: 6.863789237668161e-05\n",
            "Epoch: 9 | Step: 1210 | Avg. train loss: 0.019 | Avg. val loss: 0.341 | lr: 6.709641255605381e-05\n",
            "Epoch: 9 | Step: 1265 | Avg. train loss: 0.021 | Avg. val loss: 0.577 | lr: 6.555493273542601e-05\n",
            "Epoch: 9 | Step: 1320 | Avg. train loss: 0.018 | Avg. val loss: 0.279 | lr: 6.401345291479821e-05\n",
            "Epoch: 9 | Step: 1375 | Avg. train loss: 0.017 | Avg. val loss: 0.483 | lr: 6.24719730941704e-05\n",
            "Epoch: 9 | Step: 1430 | Avg. train loss: 0.025 | Avg. val loss: 0.719 | lr: 6.09304932735426e-05\n",
            "Epoch: 9 | Step: 1485 | Avg. train loss: 0.020 | Avg. val loss: 0.359 | lr: 5.9389013452914804e-05\n",
            "Epoch: 9 | Step: 1540 | Avg. train loss: 0.018 | Avg. val loss: 0.500 | lr: 5.7847533632286996e-05\n",
            "Epoch: 9 | Step: 1595 | Avg. train loss: 0.024 | Avg. val loss: 0.379 | lr: 5.6306053811659196e-05\n",
            "Epoch: 9 | Step: 1650 | Avg. train loss: 0.022 | Avg. val loss: 0.423 | lr: 5.4764573991031395e-05\n",
            "Epoch: 9 | Step: 1705 | Avg. train loss: 0.015 | Avg. val loss: 0.519 | lr: 5.322309417040359e-05\n",
            "Epoch: 9 | Step: 1760 | Avg. train loss: 0.026 | Avg. val loss: 0.633 | lr: 5.1681614349775786e-05\n"
          ]
        },
        {
          "output_type": "display_data",
          "data": {
            "text/plain": [
              "  0%|          | 0/1802 [00:00<?, ?it/s]"
            ],
            "application/vnd.jupyter.widget-view+json": {
              "version_major": 2,
              "version_minor": 0,
              "model_id": "40a892a1d6dc4e47b50c883f4a8b169e"
            }
          },
          "metadata": {}
        },
        {
          "output_type": "stream",
          "name": "stdout",
          "text": [
            "Epoch: 10 | Step: 55 | Avg. train loss: 0.015 | Avg. val loss: 0.622 | lr: 4.8963004484304934e-05\n",
            "Epoch: 10 | Step: 110 | Avg. train loss: 0.009 | Avg. val loss: 0.584 | lr: 4.742152466367713e-05\n",
            "Epoch: 10 | Step: 165 | Avg. train loss: 0.009 | Avg. val loss: 0.745 | lr: 4.5880044843049326e-05\n",
            "Epoch: 10 | Step: 220 | Avg. train loss: 0.011 | Avg. val loss: 0.752 | lr: 4.4338565022421525e-05\n",
            "Epoch: 10 | Step: 275 | Avg. train loss: 0.009 | Avg. val loss: 0.486 | lr: 4.279708520179372e-05\n",
            "Epoch: 10 | Step: 330 | Avg. train loss: 0.009 | Avg. val loss: 0.771 | lr: 4.125560538116592e-05\n",
            "Epoch: 10 | Step: 385 | Avg. train loss: 0.012 | Avg. val loss: 0.481 | lr: 3.971412556053812e-05\n",
            "Epoch: 10 | Step: 440 | Avg. train loss: 0.010 | Avg. val loss: 0.287 | lr: 3.8172645739910314e-05\n",
            "Epoch: 10 | Step: 495 | Avg. train loss: 0.013 | Avg. val loss: 0.751 | lr: 3.663116591928251e-05\n",
            "Epoch: 10 | Step: 550 | Avg. train loss: 0.012 | Avg. val loss: 0.515 | lr: 3.508968609865471e-05\n",
            "Epoch: 10 | Step: 605 | Avg. train loss: 0.006 | Avg. val loss: 0.319 | lr: 3.3548206278026905e-05\n",
            "Epoch: 10 | Step: 660 | Avg. train loss: 0.010 | Avg. val loss: 0.293 | lr: 3.2006726457399104e-05\n",
            "Epoch: 10 | Step: 715 | Avg. train loss: 0.017 | Avg. val loss: 0.795 | lr: 3.04652466367713e-05\n",
            "Epoch: 10 | Step: 770 | Avg. train loss: 0.009 | Avg. val loss: 0.747 | lr: 2.8923766816143498e-05\n",
            "Epoch: 10 | Step: 825 | Avg. train loss: 0.009 | Avg. val loss: 0.603 | lr: 2.7382286995515697e-05\n",
            "Epoch: 10 | Step: 880 | Avg. train loss: 0.014 | Avg. val loss: 0.458 | lr: 2.5840807174887893e-05\n",
            "Epoch: 10 | Step: 935 | Avg. train loss: 0.009 | Avg. val loss: 0.641 | lr: 2.429932735426009e-05\n",
            "Epoch: 10 | Step: 990 | Avg. train loss: 0.009 | Avg. val loss: 1.085 | lr: 2.2757847533632284e-05\n",
            "Epoch: 10 | Step: 1045 | Avg. train loss: 0.012 | Avg. val loss: 0.732 | lr: 2.1216367713004487e-05\n",
            "Epoch: 10 | Step: 1100 | Avg. train loss: 0.007 | Avg. val loss: 0.933 | lr: 1.9674887892376682e-05\n",
            "Epoch: 10 | Step: 1155 | Avg. train loss: 0.013 | Avg. val loss: 0.639 | lr: 1.8133408071748878e-05\n",
            "Epoch: 10 | Step: 1210 | Avg. train loss: 0.009 | Avg. val loss: 0.924 | lr: 1.6591928251121077e-05\n",
            "Epoch: 10 | Step: 1265 | Avg. train loss: 0.010 | Avg. val loss: 0.747 | lr: 1.5050448430493274e-05\n",
            "Epoch: 10 | Step: 1320 | Avg. train loss: 0.012 | Avg. val loss: 0.911 | lr: 1.350896860986547e-05\n",
            "Epoch: 10 | Step: 1375 | Avg. train loss: 0.013 | Avg. val loss: 0.642 | lr: 1.1967488789237669e-05\n",
            "Epoch: 10 | Step: 1430 | Avg. train loss: 0.015 | Avg. val loss: 0.745 | lr: 1.0426008968609865e-05\n",
            "Epoch: 10 | Step: 1485 | Avg. train loss: 0.009 | Avg. val loss: 0.571 | lr: 8.884529147982064e-06\n",
            "Epoch: 10 | Step: 1540 | Avg. train loss: 0.011 | Avg. val loss: 0.708 | lr: 7.34304932735426e-06\n",
            "Epoch: 10 | Step: 1595 | Avg. train loss: 0.020 | Avg. val loss: 0.385 | lr: 5.801569506726458e-06\n",
            "Epoch: 10 | Step: 1650 | Avg. train loss: 0.012 | Avg. val loss: 0.608 | lr: 4.260089686098654e-06\n",
            "Epoch: 10 | Step: 1705 | Avg. train loss: 0.015 | Avg. val loss: 0.836 | lr: 2.718609865470852e-06\n",
            "Epoch: 10 | Step: 1760 | Avg. train loss: 0.016 | Avg. val loss: 0.721 | lr: 1.1771300448430494e-06\n"
          ]
        }
      ]
    },
    {
      "cell_type": "code",
      "metadata": {
        "id": "NCzXIOHVGPP6"
      },
      "source": [
        "# save the training and validation loss values\n",
        "\n",
        "if not os.path.exists('/content/drive/MyDrive/Machine Learning/Loss'):\n",
        "  os.mkdir('/content/drive/MyDrive/Machine Learning/Loss')\n",
        "\n",
        "pd.DataFrame(losses).to_csv(\"/content/drive/MyDrive/Machine Learning/Loss/train_loss.csv\")\n",
        "pd.DataFrame(val_losses).to_csv(\"/content/drive/MyDrive/Machine Learning/Loss/val_loss.csv\")"
      ],
      "execution_count": null,
      "outputs": []
    },
    {
      "cell_type": "code",
      "metadata": {
        "id": "8SCq_QvOfpO7"
      },
      "source": [
        "# Load the loss values\n",
        "\n",
        "train_loss_= pd.read_csv('/content/drive/MyDrive/Machine Learning/Loss/train_loss.csv', index_col=0)\n",
        "val_loss_= pd.read_csv('/content/drive/MyDrive/Machine Learning/Loss/val_loss.csv', index_col=0)\n"
      ],
      "execution_count": null,
      "outputs": []
    },
    {
      "cell_type": "code",
      "metadata": {
        "colab": {
          "base_uri": "https://localhost:8080/",
          "height": 367
        },
        "id": "wFHZzOxc6VmG",
        "outputId": "919c16d3-6151-4de1-9895-73bec04c7ca1"
      },
      "source": [
        "# visualizing the training and validation losses\n",
        "\n",
        "# Actual training loss with low opacity\n",
        "fig = plt.figure(figsize=(10, 5), dpi=80)\n",
        "plt.plot(train_loss_, alpha=0.15, color='orange')\n",
        "\n",
        "# smoothening the training loss\n",
        "# window size is chosen depending upon the amount of smoothening required\n",
        "window = 11\n",
        "order = 1\n",
        "y_ = savgol_filter(train_loss_['0'], window, order)\n",
        "plt.plot(y_, color='orange', label='Training loss (smoothened)')\n",
        "\n",
        "# Validation loss\n",
        "val_loss_df = copy.deepcopy(val_loss_) \n",
        "val_loss_df.index = (val_loss_.index+1)*val_freq\n",
        "plt.plot(val_loss_df, label='Validation loss')\n",
        "\n",
        "plt.legend(loc=\"upper right\")\n",
        "plt.xlabel('Steps')\n",
        "\n",
        "# save the plot if needed\n",
        "fig.savefig('/content/drive/MyDrive/Machine Learning/Loss/Loss_Plot.png', dpi=fig.dpi)"
      ],
      "execution_count": null,
      "outputs": [
        {
          "output_type": "display_data",
          "data": {
            "text/plain": [
              "<Figure size 800x400 with 1 Axes>"
            ],
            "image/png": "[encoded data removed]"
          },
          "metadata": {
            "needs_background": "light"
          }
        }
      ]
    },
    {
      "cell_type": "markdown",
      "metadata": {
        "id": "GAEfzPmftaUl"
      },
      "source": [
        "**Model Testing**"
      ]
    },
    {
      "cell_type": "code",
      "metadata": {
        "id": "z7YwXhXcH411"
      },
      "source": [
        "# function to test the model on 'max_iter' examples \n",
        "\n",
        "def test_model(test_df, tokenizer, wrong_prediction, max_iter):\n",
        "\n",
        "  max_test_iters = max_iter\n",
        "  correct_predictions = 0\n",
        "\n",
        "  for _ in range(max_test_iters):\n",
        "    num = random.randint(0,len(test_df['input_text'])-1)\n",
        "    test = test_df.iloc[num]\n",
        "\n",
        "    input_ids = encode_str(text = test['input_text'], tokenizer = tokenizer, seq_len = 40)\n",
        "    input_ids = input_ids.unsqueeze(0).cuda()\n",
        "\n",
        "    #print('Truncated input text:', tokenizer.convert_tokens_to_string(\n",
        "    #  tokenizer.convert_ids_to_tokens(input_ids[0])))\n",
        "\n",
        "    output_tokens = model.generate(input_ids, num_beams=10, num_return_sequences=1, length_penalty = 1, no_repeat_ngram_size=2)\n",
        "    # print(output_tokens)\n",
        "    for token_set in output_tokens:\n",
        "      prediction = tokenizer.decode(token_set,skip_special_tokens=True)\n",
        "      if prediction == test['target_text']:\n",
        "        correct_predictions += 1\n",
        "      else:\n",
        "        wrong_prediction.append([test['input_text'], test['target_text'], prediction])\n",
        "\n",
        "  return correct_predictions/max_test_iters, wrong_prediction"
      ],
      "execution_count": null,
      "outputs": []
    },
    {
      "cell_type": "code",
      "metadata": {
        "id": "u4xBWZ_6uYQs",
        "colab": {
          "base_uri": "https://localhost:8080/",
          "height": 101,
          "referenced_widgets": [
            "8a83f81dc14b4d77898105e6c5cdab80",
            "f63a5935063c4a1aab2d177b47a8b332",
            "b6f7a31bef5c4aa1a866aa24f93080bd",
            "4648d7a1e0f5482593f3f359d1b3831f",
            "2cb5a47ad9f84d0fbd41aa81aabec0d6",
            "19fee5f04cb94798881df827db8f5672",
            "31c42d46abad4845941a71e4fc9de82b",
            "52bb0e62bc3d433599e47b181aef2a49",
            "0c49c4ddb2b94aa280ced7eb786307f0",
            "649e17cf741d41e0afd2163b3a44a800",
            "97ac175680ac4a34a051ccdb09275367"
          ]
        },
        "outputId": "1434e27f-ab01-47d9-fbfd-36d6acb7d298"
      },
      "source": [
        "# test the model on multiple batches to find average test accuracy.\n",
        "# wrong predictions are saved to 'wrong_predictions.csv' file for further analysis.\n",
        "\n",
        "Test_acc_values = []\n",
        "wrong_pred = []\n",
        "test_n_batches = 200\n",
        "print('Model testing on test dataset: \\n')\n",
        "for _ in tqdm_notebook_(range(test_n_batches)):\n",
        "  acc, wrong_pred = test_model(test_df, tokenizer, wrong_pred, max_iter=50)\n",
        "  Test_acc_values.append(acc)\n",
        "\n",
        "\n",
        "print('Avg. Test Accuracy: {:.4f}'.format(np.mean(Test_acc_values))) \n",
        "wrong_pred_df = pd.DataFrame (wrong_pred, columns = ['Input_text', 'True_target', 'Predicted'])\n",
        "# wrong_pred_df.to_csv(\"/content/drive/MyDrive/Machine Learning/wrong_predictions.csv\")\n"
      ],
      "execution_count": null,
      "outputs": [
        {
          "output_type": "stream",
          "name": "stdout",
          "text": [
            "Model testing on test dataset: \n",
            "\n"
          ]
        },
        {
          "output_type": "display_data",
          "data": {
            "text/plain": [
              "  0%|          | 0/200 [00:00<?, ?it/s]"
            ],
            "application/vnd.jupyter.widget-view+json": {
              "version_major": 2,
              "version_minor": 0,
              "model_id": "8a83f81dc14b4d77898105e6c5cdab80"
            }
          },
          "metadata": {}
        },
        {
          "output_type": "stream",
          "name": "stdout",
          "text": [
            "Avg. Test Accuracy: 0.6337\n"
          ]
        }
      ]
    },
    {
      "cell_type": "markdown",
      "metadata": {
        "id": "OztPWgXOG2I0"
      },
      "source": [
        "**Load the weights (post-training part)**"
      ]
    },
    {
      "cell_type": "code",
      "metadata": {
        "colab": {
          "base_uri": "https://localhost:8080/"
        },
        "id": "yuCnGbxg-dX4",
        "outputId": "c68d36b0-d4a0-4cb2-9f81-9e2727b723f1"
      },
      "source": [
        "# After fine-tuning, if we need to load the saved model checkpoint.\n",
        "# If using different checkpoint saving frequency during training, then make sure to change the corresponding filename.\n",
        "\n",
        "# model_name=model_path+'Step-5623_checkpoint_lang_pred.pt'\n",
        "# model.load_state_dict(torch.load(model_name))"
      ],
      "execution_count": null,
      "outputs": [
        {
          "output_type": "execute_result",
          "data": {
            "text/plain": [
              "<All keys matched successfully>"
            ]
          },
          "metadata": {},
          "execution_count": 44
        }
      ]
    },
    {
      "cell_type": "code",
      "metadata": {
        "id": "sqg3Jz3R-j1V"
      },
      "source": [],
      "execution_count": null,
      "outputs": []
    }
  ]
}