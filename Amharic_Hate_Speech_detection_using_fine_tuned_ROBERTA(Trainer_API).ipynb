{
  "cells": [
    {
      "cell_type": "markdown",
      "metadata": {
        "id": "view-in-github",
        "colab_type": "text"
      },
      "source": [
        "<a href=\"https://colab.research.google.com/github/amengemeda/ISproject-2/blob/main/Amharic_Hate_Speech_detection_using_fine_tuned_ROBERTA(Trainer_API).ipynb\" target=\"_parent\"><img src=\"https://colab.research.google.com/assets/colab-badge.svg\" alt=\"Open In Colab\"/></a>"
      ]
    },
    {
      "cell_type": "code",
      "execution_count": 1,
      "metadata": {
        "colab": {
          "base_uri": "https://localhost:8080/"
        },
        "id": "BNsNbBRTsfRi",
        "outputId": "6b61e57d-da1d-4e3e-a41a-c6b278b5fec2"
      },
      "outputs": [
        {
          "output_type": "stream",
          "name": "stdout",
          "text": [
            "Looking in indexes: https://pypi.org/simple, https://us-python.pkg.dev/colab-wheels/public/simple/\n",
            "Collecting transformers\n",
            "  Downloading transformers-4.25.1-py3-none-any.whl (5.8 MB)\n",
            "\u001b[K     |████████████████████████████████| 5.8 MB 5.2 MB/s \n",
            "\u001b[?25hRequirement already satisfied: tqdm>=4.27 in /usr/local/lib/python3.8/dist-packages (from transformers) (4.64.1)\n",
            "Requirement already satisfied: numpy>=1.17 in /usr/local/lib/python3.8/dist-packages (from transformers) (1.21.6)\n",
            "Collecting tokenizers!=0.11.3,<0.14,>=0.11.1\n",
            "  Downloading tokenizers-0.13.2-cp38-cp38-manylinux_2_17_x86_64.manylinux2014_x86_64.whl (7.6 MB)\n",
            "\u001b[K     |████████████████████████████████| 7.6 MB 50.3 MB/s \n",
            "\u001b[?25hRequirement already satisfied: regex!=2019.12.17 in /usr/local/lib/python3.8/dist-packages (from transformers) (2022.6.2)\n",
            "Requirement already satisfied: pyyaml>=5.1 in /usr/local/lib/python3.8/dist-packages (from transformers) (6.0)\n",
            "Requirement already satisfied: requests in /usr/local/lib/python3.8/dist-packages (from transformers) (2.23.0)\n",
            "Requirement already satisfied: packaging>=20.0 in /usr/local/lib/python3.8/dist-packages (from transformers) (21.3)\n",
            "Collecting huggingface-hub<1.0,>=0.10.0\n",
            "  Downloading huggingface_hub-0.11.1-py3-none-any.whl (182 kB)\n",
            "\u001b[K     |████████████████████████████████| 182 kB 67.9 MB/s \n",
            "\u001b[?25hRequirement already satisfied: filelock in /usr/local/lib/python3.8/dist-packages (from transformers) (3.8.0)\n",
            "Requirement already satisfied: typing-extensions>=3.7.4.3 in /usr/local/lib/python3.8/dist-packages (from huggingface-hub<1.0,>=0.10.0->transformers) (4.4.0)\n",
            "Requirement already satisfied: pyparsing!=3.0.5,>=2.0.2 in /usr/local/lib/python3.8/dist-packages (from packaging>=20.0->transformers) (3.0.9)\n",
            "Requirement already satisfied: urllib3!=1.25.0,!=1.25.1,<1.26,>=1.21.1 in /usr/local/lib/python3.8/dist-packages (from requests->transformers) (1.24.3)\n",
            "Requirement already satisfied: certifi>=2017.4.17 in /usr/local/lib/python3.8/dist-packages (from requests->transformers) (2022.9.24)\n",
            "Requirement already satisfied: chardet<4,>=3.0.2 in /usr/local/lib/python3.8/dist-packages (from requests->transformers) (3.0.4)\n",
            "Requirement already satisfied: idna<3,>=2.5 in /usr/local/lib/python3.8/dist-packages (from requests->transformers) (2.10)\n",
            "Installing collected packages: tokenizers, huggingface-hub, transformers\n",
            "Successfully installed huggingface-hub-0.11.1 tokenizers-0.13.2 transformers-4.25.1\n"
          ]
        }
      ],
      "source": [
        "#installing the transformers package\n",
        "!pip install transformers"
      ]
    },
    {
      "cell_type": "code",
      "execution_count": 2,
      "metadata": {
        "colab": {
          "base_uri": "https://localhost:8080/"
        },
        "id": "f2Kr3hxFH-Y2",
        "outputId": "df2c1ba4-b55c-43f3-efc4-8c2bf7ffef83"
      },
      "outputs": [
        {
          "output_type": "stream",
          "name": "stdout",
          "text": [
            "Looking in indexes: https://pypi.org/simple, https://us-python.pkg.dev/colab-wheels/public/simple/\n",
            "Collecting datasets\n",
            "  Downloading datasets-2.7.1-py3-none-any.whl (451 kB)\n",
            "\u001b[K     |████████████████████████████████| 451 kB 3.5 MB/s \n",
            "\u001b[?25hRequirement already satisfied: numpy>=1.17 in /usr/local/lib/python3.8/dist-packages (from datasets) (1.21.6)\n",
            "Requirement already satisfied: dill<0.3.7 in /usr/local/lib/python3.8/dist-packages (from datasets) (0.3.6)\n",
            "Requirement already satisfied: fsspec[http]>=2021.11.1 in /usr/local/lib/python3.8/dist-packages (from datasets) (2022.11.0)\n",
            "Requirement already satisfied: packaging in /usr/local/lib/python3.8/dist-packages (from datasets) (21.3)\n",
            "Collecting responses<0.19\n",
            "  Downloading responses-0.18.0-py3-none-any.whl (38 kB)\n",
            "Collecting xxhash\n",
            "  Downloading xxhash-3.1.0-cp38-cp38-manylinux_2_17_x86_64.manylinux2014_x86_64.whl (212 kB)\n",
            "\u001b[K     |████████████████████████████████| 212 kB 51.0 MB/s \n",
            "\u001b[?25hRequirement already satisfied: pyarrow>=6.0.0 in /usr/local/lib/python3.8/dist-packages (from datasets) (9.0.0)\n",
            "Requirement already satisfied: tqdm>=4.62.1 in /usr/local/lib/python3.8/dist-packages (from datasets) (4.64.1)\n",
            "Requirement already satisfied: huggingface-hub<1.0.0,>=0.2.0 in /usr/local/lib/python3.8/dist-packages (from datasets) (0.11.1)\n",
            "Requirement already satisfied: requests>=2.19.0 in /usr/local/lib/python3.8/dist-packages (from datasets) (2.23.0)\n",
            "Requirement already satisfied: pyyaml>=5.1 in /usr/local/lib/python3.8/dist-packages (from datasets) (6.0)\n",
            "Requirement already satisfied: pandas in /usr/local/lib/python3.8/dist-packages (from datasets) (1.3.5)\n",
            "Requirement already satisfied: aiohttp in /usr/local/lib/python3.8/dist-packages (from datasets) (3.8.3)\n",
            "Collecting multiprocess\n",
            "  Downloading multiprocess-0.70.14-py38-none-any.whl (132 kB)\n",
            "\u001b[K     |████████████████████████████████| 132 kB 53.4 MB/s \n",
            "\u001b[?25hRequirement already satisfied: charset-normalizer<3.0,>=2.0 in /usr/local/lib/python3.8/dist-packages (from aiohttp->datasets) (2.1.1)\n",
            "Requirement already satisfied: yarl<2.0,>=1.0 in /usr/local/lib/python3.8/dist-packages (from aiohttp->datasets) (1.8.2)\n",
            "Requirement already satisfied: frozenlist>=1.1.1 in /usr/local/lib/python3.8/dist-packages (from aiohttp->datasets) (1.3.3)\n",
            "Requirement already satisfied: aiosignal>=1.1.2 in /usr/local/lib/python3.8/dist-packages (from aiohttp->datasets) (1.3.1)\n",
            "Requirement already satisfied: attrs>=17.3.0 in /usr/local/lib/python3.8/dist-packages (from aiohttp->datasets) (22.1.0)\n",
            "Requirement already satisfied: async-timeout<5.0,>=4.0.0a3 in /usr/local/lib/python3.8/dist-packages (from aiohttp->datasets) (4.0.2)\n",
            "Requirement already satisfied: multidict<7.0,>=4.5 in /usr/local/lib/python3.8/dist-packages (from aiohttp->datasets) (6.0.3)\n",
            "Requirement already satisfied: typing-extensions>=3.7.4.3 in /usr/local/lib/python3.8/dist-packages (from huggingface-hub<1.0.0,>=0.2.0->datasets) (4.4.0)\n",
            "Requirement already satisfied: filelock in /usr/local/lib/python3.8/dist-packages (from huggingface-hub<1.0.0,>=0.2.0->datasets) (3.8.0)\n",
            "Requirement already satisfied: pyparsing!=3.0.5,>=2.0.2 in /usr/local/lib/python3.8/dist-packages (from packaging->datasets) (3.0.9)\n",
            "Requirement already satisfied: idna<3,>=2.5 in /usr/local/lib/python3.8/dist-packages (from requests>=2.19.0->datasets) (2.10)\n",
            "Requirement already satisfied: urllib3!=1.25.0,!=1.25.1,<1.26,>=1.21.1 in /usr/local/lib/python3.8/dist-packages (from requests>=2.19.0->datasets) (1.24.3)\n",
            "Requirement already satisfied: certifi>=2017.4.17 in /usr/local/lib/python3.8/dist-packages (from requests>=2.19.0->datasets) (2022.9.24)\n",
            "Requirement already satisfied: chardet<4,>=3.0.2 in /usr/local/lib/python3.8/dist-packages (from requests>=2.19.0->datasets) (3.0.4)\n",
            "Collecting urllib3!=1.25.0,!=1.25.1,<1.26,>=1.21.1\n",
            "  Downloading urllib3-1.25.11-py2.py3-none-any.whl (127 kB)\n",
            "\u001b[K     |████████████████████████████████| 127 kB 65.0 MB/s \n",
            "\u001b[?25hRequirement already satisfied: pytz>=2017.3 in /usr/local/lib/python3.8/dist-packages (from pandas->datasets) (2022.6)\n",
            "Requirement already satisfied: python-dateutil>=2.7.3 in /usr/local/lib/python3.8/dist-packages (from pandas->datasets) (2.8.2)\n",
            "Requirement already satisfied: six>=1.5 in /usr/local/lib/python3.8/dist-packages (from python-dateutil>=2.7.3->pandas->datasets) (1.15.0)\n",
            "Installing collected packages: urllib3, xxhash, responses, multiprocess, datasets\n",
            "  Attempting uninstall: urllib3\n",
            "    Found existing installation: urllib3 1.24.3\n",
            "    Uninstalling urllib3-1.24.3:\n",
            "      Successfully uninstalled urllib3-1.24.3\n",
            "Successfully installed datasets-2.7.1 multiprocess-0.70.14 responses-0.18.0 urllib3-1.25.11 xxhash-3.1.0\n"
          ]
        }
      ],
      "source": [
        "#installing the datasets package\n",
        "!pip install datasets"
      ]
    },
    {
      "cell_type": "code",
      "execution_count": 3,
      "metadata": {
        "id": "Bnfla8DsyBhM"
      },
      "outputs": [],
      "source": [
        "#importing the datasets package\n",
        "from datasets import Dataset\n",
        "import datasets\n",
        "#import load metric for model evaluation\n",
        "from datasets import load_metric"
      ]
    },
    {
      "cell_type": "code",
      "execution_count": 4,
      "metadata": {
        "id": "sfB-ohyp3pA6"
      },
      "outputs": [],
      "source": [
        "#import numpy and pandas for mathematical computation and data manipulation respectively \n",
        "import numpy as np\n",
        "import pandas as pd\n",
        "#import drive package to connect this colab file with the drive where the data will be retrived from\n",
        "from google.colab import drive\n",
        "#import the pipeline of transformers\n",
        "from transformers import pipeline\n",
        "#import AutoTokenizer for tokenization purposes\n",
        "from transformers import AutoTokenizer\n"
      ]
    },
    {
      "cell_type": "code",
      "execution_count": 5,
      "metadata": {
        "id": "E9HwjYvqBz7S"
      },
      "outputs": [],
      "source": [
        "#import torch\n",
        "import torch\n",
        "#import Data loader from torch\n",
        "from torch.utils.data import DataLoader\n",
        "#import an optimizer\n",
        "from torch.optim import AdamW\n",
        "#import tqdm for a progress bar\n",
        "from tqdm.auto import tqdm"
      ]
    },
    {
      "cell_type": "code",
      "execution_count": 5,
      "metadata": {
        "id": "YdwugV9S10XF"
      },
      "outputs": [],
      "source": []
    },
    {
      "cell_type": "code",
      "execution_count": 6,
      "metadata": {
        "id": "aECkq4Fguzfb"
      },
      "outputs": [],
      "source": [
        "from sklearn.model_selection import train_test_split"
      ]
    },
    {
      "cell_type": "code",
      "execution_count": 7,
      "metadata": {
        "colab": {
          "base_uri": "https://localhost:8080/"
        },
        "id": "X-Yp1xAuWgXQ",
        "outputId": "4a2db29a-849e-44d9-a416-d5234a803d5a"
      },
      "outputs": [
        {
          "output_type": "stream",
          "name": "stdout",
          "text": [
            "Mounted at /content/drive\n"
          ]
        }
      ],
      "source": [
        "#mount google drive to access the dataset directly from the drive\n",
        "drive.mount('/content/drive') "
      ]
    },
    {
      "cell_type": "code",
      "execution_count": 8,
      "metadata": {
        "id": "eXBLcBgSWl7A"
      },
      "outputs": [],
      "source": [
        "#fetch the dataset from the drive\n",
        "Labels=pd.read_csv('/content/drive/MyDrive/Machine Learning/Data/Amharic-Hate-Speech-Dataset/Labels.txt',header=None)\n",
        "Posts=pd.read_csv('/content/drive/MyDrive/Machine Learning/Data/Amharic-Hate-Speech-Dataset/Posts.txt',header=None)"
      ]
    },
    {
      "cell_type": "code",
      "execution_count": 9,
      "metadata": {
        "id": "ti6Xtr1y47zj"
      },
      "outputs": [],
      "source": [
        "#naming the columns\n",
        "Labels.columns = [\"labels\"]\n",
        "Posts.columns = [\"post\"]"
      ]
    },
    {
      "cell_type": "code",
      "execution_count": 10,
      "metadata": {
        "id": "k4GGAdMxjxoQ"
      },
      "outputs": [],
      "source": [
        "#encoding the classes into numerical data\n",
        "Labels = Labels.replace(['Free', 'Free ','Hate'],[0,0,1]) "
      ]
    },
    {
      "cell_type": "code",
      "execution_count": 11,
      "metadata": {
        "colab": {
          "base_uri": "https://localhost:8080/",
          "height": 363
        },
        "id": "JuIzyozFkWL4",
        "outputId": "e129fec1-b550-4b87-fc11-41cf73861fca"
      },
      "outputs": [
        {
          "output_type": "execute_result",
          "data": {
            "text/plain": [
              "   labels\n",
              "0       0\n",
              "1       0\n",
              "2       0\n",
              "3       0\n",
              "4       1\n",
              "5       0\n",
              "6       0\n",
              "7       0\n",
              "8       1\n",
              "9       0"
            ],
            "text/html": [
              "\n",
              "  <div id=\"df-7b204ea1-83f5-476f-b445-3f4b535a4993\">\n",
              "    <div class=\"colab-df-container\">\n",
              "      <div>\n",
              "<style scoped>\n",
              "    .dataframe tbody tr th:only-of-type {\n",
              "        vertical-align: middle;\n",
              "    }\n",
              "\n",
              "    .dataframe tbody tr th {\n",
              "        vertical-align: top;\n",
              "    }\n",
              "\n",
              "    .dataframe thead th {\n",
              "        text-align: right;\n",
              "    }\n",
              "</style>\n",
              "<table border=\"1\" class=\"dataframe\">\n",
              "  <thead>\n",
              "    <tr style=\"text-align: right;\">\n",
              "      <th></th>\n",
              "      <th>labels</th>\n",
              "    </tr>\n",
              "  </thead>\n",
              "  <tbody>\n",
              "    <tr>\n",
              "      <th>0</th>\n",
              "      <td>0</td>\n",
              "    </tr>\n",
              "    <tr>\n",
              "      <th>1</th>\n",
              "      <td>0</td>\n",
              "    </tr>\n",
              "    <tr>\n",
              "      <th>2</th>\n",
              "      <td>0</td>\n",
              "    </tr>\n",
              "    <tr>\n",
              "      <th>3</th>\n",
              "      <td>0</td>\n",
              "    </tr>\n",
              "    <tr>\n",
              "      <th>4</th>\n",
              "      <td>1</td>\n",
              "    </tr>\n",
              "    <tr>\n",
              "      <th>5</th>\n",
              "      <td>0</td>\n",
              "    </tr>\n",
              "    <tr>\n",
              "      <th>6</th>\n",
              "      <td>0</td>\n",
              "    </tr>\n",
              "    <tr>\n",
              "      <th>7</th>\n",
              "      <td>0</td>\n",
              "    </tr>\n",
              "    <tr>\n",
              "      <th>8</th>\n",
              "      <td>1</td>\n",
              "    </tr>\n",
              "    <tr>\n",
              "      <th>9</th>\n",
              "      <td>0</td>\n",
              "    </tr>\n",
              "  </tbody>\n",
              "</table>\n",
              "</div>\n",
              "      <button class=\"colab-df-convert\" onclick=\"convertToInteractive('df-7b204ea1-83f5-476f-b445-3f4b535a4993')\"\n",
              "              title=\"Convert this dataframe to an interactive table.\"\n",
              "              style=\"display:none;\">\n",
              "        \n",
              "  <svg xmlns=\"http://www.w3.org/2000/svg\" height=\"24px\"viewBox=\"0 0 24 24\"\n",
              "       width=\"24px\">\n",
              "    <path d=\"M0 0h24v24H0V0z\" fill=\"none\"/>\n",
              "    <path d=\"M18.56 5.44l.94 2.06.94-2.06 2.06-.94-2.06-.94-.94-2.06-.94 2.06-2.06.94zm-11 1L8.5 8.5l.94-2.06 2.06-.94-2.06-.94L8.5 2.5l-.94 2.06-2.06.94zm10 10l.94 2.06.94-2.06 2.06-.94-2.06-.94-.94-2.06-.94 2.06-2.06.94z\"/><path d=\"M17.41 7.96l-1.37-1.37c-.4-.4-.92-.59-1.43-.59-.52 0-1.04.2-1.43.59L10.3 9.45l-7.72 7.72c-.78.78-.78 2.05 0 2.83L4 21.41c.39.39.9.59 1.41.59.51 0 1.02-.2 1.41-.59l7.78-7.78 2.81-2.81c.8-.78.8-2.07 0-2.86zM5.41 20L4 18.59l7.72-7.72 1.47 1.35L5.41 20z\"/>\n",
              "  </svg>\n",
              "      </button>\n",
              "      \n",
              "  <style>\n",
              "    .colab-df-container {\n",
              "      display:flex;\n",
              "      flex-wrap:wrap;\n",
              "      gap: 12px;\n",
              "    }\n",
              "\n",
              "    .colab-df-convert {\n",
              "      background-color: #E8F0FE;\n",
              "      border: none;\n",
              "      border-radius: 50%;\n",
              "      cursor: pointer;\n",
              "      display: none;\n",
              "      fill: #1967D2;\n",
              "      height: 32px;\n",
              "      padding: 0 0 0 0;\n",
              "      width: 32px;\n",
              "    }\n",
              "\n",
              "    .colab-df-convert:hover {\n",
              "      background-color: #E2EBFA;\n",
              "      box-shadow: 0px 1px 2px rgba(60, 64, 67, 0.3), 0px 1px 3px 1px rgba(60, 64, 67, 0.15);\n",
              "      fill: #174EA6;\n",
              "    }\n",
              "\n",
              "    [theme=dark] .colab-df-convert {\n",
              "      background-color: #3B4455;\n",
              "      fill: #D2E3FC;\n",
              "    }\n",
              "\n",
              "    [theme=dark] .colab-df-convert:hover {\n",
              "      background-color: #434B5C;\n",
              "      box-shadow: 0px 1px 3px 1px rgba(0, 0, 0, 0.15);\n",
              "      filter: drop-shadow(0px 1px 2px rgba(0, 0, 0, 0.3));\n",
              "      fill: #FFFFFF;\n",
              "    }\n",
              "  </style>\n",
              "\n",
              "      <script>\n",
              "        const buttonEl =\n",
              "          document.querySelector('#df-7b204ea1-83f5-476f-b445-3f4b535a4993 button.colab-df-convert');\n",
              "        buttonEl.style.display =\n",
              "          google.colab.kernel.accessAllowed ? 'block' : 'none';\n",
              "\n",
              "        async function convertToInteractive(key) {\n",
              "          const element = document.querySelector('#df-7b204ea1-83f5-476f-b445-3f4b535a4993');\n",
              "          const dataTable =\n",
              "            await google.colab.kernel.invokeFunction('convertToInteractive',\n",
              "                                                     [key], {});\n",
              "          if (!dataTable) return;\n",
              "\n",
              "          const docLinkHtml = 'Like what you see? Visit the ' +\n",
              "            '<a target=\"_blank\" href=https://colab.research.google.com/notebooks/data_table.ipynb>data table notebook</a>'\n",
              "            + ' to learn more about interactive tables.';\n",
              "          element.innerHTML = '';\n",
              "          dataTable['output_type'] = 'display_data';\n",
              "          await google.colab.output.renderOutput(dataTable, element);\n",
              "          const docLink = document.createElement('div');\n",
              "          docLink.innerHTML = docLinkHtml;\n",
              "          element.appendChild(docLink);\n",
              "        }\n",
              "      </script>\n",
              "    </div>\n",
              "  </div>\n",
              "  "
            ]
          },
          "metadata": {},
          "execution_count": 11
        }
      ],
      "source": [
        "#check the encoded label data\n",
        "Labels.head(10)"
      ]
    },
    {
      "cell_type": "code",
      "execution_count": 12,
      "metadata": {
        "colab": {
          "base_uri": "https://localhost:8080/",
          "height": 424
        },
        "id": "B1pVXp1E7WtG",
        "outputId": "c65a2680-72fc-4b73-a16b-648237e1bb03"
      },
      "outputs": [
        {
          "output_type": "execute_result",
          "data": {
            "text/plain": [
              "                                                  post\n",
              "0    አስቀድሜ ጥያቄዬ በጨዋነት በውስጥ መስመር እንዲደርስዎ አድርጌ ፍትህን ለ...\n",
              "1     እነዚህን ወሳኝ ጉዳዮችን የሚያስፈፅም አካል እንዲቋቋምና ክትትል እንዲደ...\n",
              "2    የአማራ ህዝብ በአእምሮ ክንፉ ያልበረረበት ጥበብና ፍልስፍና ያልከፈተው የ...\n",
              "3    ከአማራ ህዝብ የሀገሪቱ ዘርፈ ብዙ እውቀት መንጭቶ የሞላበትከሙላቱም በመል...\n",
              "4    ዛሬ በየትኛውም መለኪያ ይሁን መመዘኛ ኢትዮጵያዊነት የሚንፀባረቀው በአማራ...\n",
              "..                                                 ...\n",
              "995  መፈንቅለመንግስት ከሽፏልእንዴ የየክልሉ ህዝብ ምን ይጠብቃል ሆ ብሎ ሄዶ ...\n",
              "996  ሰው በሩን እንደፈለገ መክፈት እንደፈለገ መዝጋት ይችላል  የምን አውቅልሻ...\n",
              "997                ክክክክክ የሱዳን ዜጋ ናችሁ እንዴ ባለ ነጠላ ጎጃሜ ሁላ\n",
              "998                            የምን ማለቃቀስ ነው ምድረ ፎካሪ ሁላ\n",
              "999                                       መግስት ሀልባ አገር\n",
              "\n",
              "[1000 rows x 1 columns]"
            ],
            "text/html": [
              "\n",
              "  <div id=\"df-7730930c-1eee-48d9-8f42-038b63521b9f\">\n",
              "    <div class=\"colab-df-container\">\n",
              "      <div>\n",
              "<style scoped>\n",
              "    .dataframe tbody tr th:only-of-type {\n",
              "        vertical-align: middle;\n",
              "    }\n",
              "\n",
              "    .dataframe tbody tr th {\n",
              "        vertical-align: top;\n",
              "    }\n",
              "\n",
              "    .dataframe thead th {\n",
              "        text-align: right;\n",
              "    }\n",
              "</style>\n",
              "<table border=\"1\" class=\"dataframe\">\n",
              "  <thead>\n",
              "    <tr style=\"text-align: right;\">\n",
              "      <th></th>\n",
              "      <th>post</th>\n",
              "    </tr>\n",
              "  </thead>\n",
              "  <tbody>\n",
              "    <tr>\n",
              "      <th>0</th>\n",
              "      <td>አስቀድሜ ጥያቄዬ በጨዋነት በውስጥ መስመር እንዲደርስዎ አድርጌ ፍትህን ለ...</td>\n",
              "    </tr>\n",
              "    <tr>\n",
              "      <th>1</th>\n",
              "      <td>እነዚህን ወሳኝ ጉዳዮችን የሚያስፈፅም አካል እንዲቋቋምና ክትትል እንዲደ...</td>\n",
              "    </tr>\n",
              "    <tr>\n",
              "      <th>2</th>\n",
              "      <td>የአማራ ህዝብ በአእምሮ ክንፉ ያልበረረበት ጥበብና ፍልስፍና ያልከፈተው የ...</td>\n",
              "    </tr>\n",
              "    <tr>\n",
              "      <th>3</th>\n",
              "      <td>ከአማራ ህዝብ የሀገሪቱ ዘርፈ ብዙ እውቀት መንጭቶ የሞላበትከሙላቱም በመል...</td>\n",
              "    </tr>\n",
              "    <tr>\n",
              "      <th>4</th>\n",
              "      <td>ዛሬ በየትኛውም መለኪያ ይሁን መመዘኛ ኢትዮጵያዊነት የሚንፀባረቀው በአማራ...</td>\n",
              "    </tr>\n",
              "    <tr>\n",
              "      <th>...</th>\n",
              "      <td>...</td>\n",
              "    </tr>\n",
              "    <tr>\n",
              "      <th>995</th>\n",
              "      <td>መፈንቅለመንግስት ከሽፏልእንዴ የየክልሉ ህዝብ ምን ይጠብቃል ሆ ብሎ ሄዶ ...</td>\n",
              "    </tr>\n",
              "    <tr>\n",
              "      <th>996</th>\n",
              "      <td>ሰው በሩን እንደፈለገ መክፈት እንደፈለገ መዝጋት ይችላል  የምን አውቅልሻ...</td>\n",
              "    </tr>\n",
              "    <tr>\n",
              "      <th>997</th>\n",
              "      <td>ክክክክክ የሱዳን ዜጋ ናችሁ እንዴ ባለ ነጠላ ጎጃሜ ሁላ</td>\n",
              "    </tr>\n",
              "    <tr>\n",
              "      <th>998</th>\n",
              "      <td>የምን ማለቃቀስ ነው ምድረ ፎካሪ ሁላ</td>\n",
              "    </tr>\n",
              "    <tr>\n",
              "      <th>999</th>\n",
              "      <td>መግስት ሀልባ አገር</td>\n",
              "    </tr>\n",
              "  </tbody>\n",
              "</table>\n",
              "<p>1000 rows × 1 columns</p>\n",
              "</div>\n",
              "      <button class=\"colab-df-convert\" onclick=\"convertToInteractive('df-7730930c-1eee-48d9-8f42-038b63521b9f')\"\n",
              "              title=\"Convert this dataframe to an interactive table.\"\n",
              "              style=\"display:none;\">\n",
              "        \n",
              "  <svg xmlns=\"http://www.w3.org/2000/svg\" height=\"24px\"viewBox=\"0 0 24 24\"\n",
              "       width=\"24px\">\n",
              "    <path d=\"M0 0h24v24H0V0z\" fill=\"none\"/>\n",
              "    <path d=\"M18.56 5.44l.94 2.06.94-2.06 2.06-.94-2.06-.94-.94-2.06-.94 2.06-2.06.94zm-11 1L8.5 8.5l.94-2.06 2.06-.94-2.06-.94L8.5 2.5l-.94 2.06-2.06.94zm10 10l.94 2.06.94-2.06 2.06-.94-2.06-.94-.94-2.06-.94 2.06-2.06.94z\"/><path d=\"M17.41 7.96l-1.37-1.37c-.4-.4-.92-.59-1.43-.59-.52 0-1.04.2-1.43.59L10.3 9.45l-7.72 7.72c-.78.78-.78 2.05 0 2.83L4 21.41c.39.39.9.59 1.41.59.51 0 1.02-.2 1.41-.59l7.78-7.78 2.81-2.81c.8-.78.8-2.07 0-2.86zM5.41 20L4 18.59l7.72-7.72 1.47 1.35L5.41 20z\"/>\n",
              "  </svg>\n",
              "      </button>\n",
              "      \n",
              "  <style>\n",
              "    .colab-df-container {\n",
              "      display:flex;\n",
              "      flex-wrap:wrap;\n",
              "      gap: 12px;\n",
              "    }\n",
              "\n",
              "    .colab-df-convert {\n",
              "      background-color: #E8F0FE;\n",
              "      border: none;\n",
              "      border-radius: 50%;\n",
              "      cursor: pointer;\n",
              "      display: none;\n",
              "      fill: #1967D2;\n",
              "      height: 32px;\n",
              "      padding: 0 0 0 0;\n",
              "      width: 32px;\n",
              "    }\n",
              "\n",
              "    .colab-df-convert:hover {\n",
              "      background-color: #E2EBFA;\n",
              "      box-shadow: 0px 1px 2px rgba(60, 64, 67, 0.3), 0px 1px 3px 1px rgba(60, 64, 67, 0.15);\n",
              "      fill: #174EA6;\n",
              "    }\n",
              "\n",
              "    [theme=dark] .colab-df-convert {\n",
              "      background-color: #3B4455;\n",
              "      fill: #D2E3FC;\n",
              "    }\n",
              "\n",
              "    [theme=dark] .colab-df-convert:hover {\n",
              "      background-color: #434B5C;\n",
              "      box-shadow: 0px 1px 3px 1px rgba(0, 0, 0, 0.15);\n",
              "      filter: drop-shadow(0px 1px 2px rgba(0, 0, 0, 0.3));\n",
              "      fill: #FFFFFF;\n",
              "    }\n",
              "  </style>\n",
              "\n",
              "      <script>\n",
              "        const buttonEl =\n",
              "          document.querySelector('#df-7730930c-1eee-48d9-8f42-038b63521b9f button.colab-df-convert');\n",
              "        buttonEl.style.display =\n",
              "          google.colab.kernel.accessAllowed ? 'block' : 'none';\n",
              "\n",
              "        async function convertToInteractive(key) {\n",
              "          const element = document.querySelector('#df-7730930c-1eee-48d9-8f42-038b63521b9f');\n",
              "          const dataTable =\n",
              "            await google.colab.kernel.invokeFunction('convertToInteractive',\n",
              "                                                     [key], {});\n",
              "          if (!dataTable) return;\n",
              "\n",
              "          const docLinkHtml = 'Like what you see? Visit the ' +\n",
              "            '<a target=\"_blank\" href=https://colab.research.google.com/notebooks/data_table.ipynb>data table notebook</a>'\n",
              "            + ' to learn more about interactive tables.';\n",
              "          element.innerHTML = '';\n",
              "          dataTable['output_type'] = 'display_data';\n",
              "          await google.colab.output.renderOutput(dataTable, element);\n",
              "          const docLink = document.createElement('div');\n",
              "          docLink.innerHTML = docLinkHtml;\n",
              "          element.appendChild(docLink);\n",
              "        }\n",
              "      </script>\n",
              "    </div>\n",
              "  </div>\n",
              "  "
            ]
          },
          "metadata": {},
          "execution_count": 12
        }
      ],
      "source": [
        "#check the Amharic data\n",
        "Posts.head(1000)"
      ]
    },
    {
      "cell_type": "code",
      "execution_count": 13,
      "metadata": {
        "id": "hh3MnC_O6E-4"
      },
      "outputs": [],
      "source": [
        "#merge the datasets\n",
        "Frames = [Labels, Posts]\n",
        "Merged = pd.concat(Frames, axis=1)\n"
      ]
    },
    {
      "cell_type": "code",
      "execution_count": 54,
      "metadata": {
        "colab": {
          "base_uri": "https://localhost:8080/",
          "height": 424
        },
        "id": "rmeOZhfb2REM",
        "outputId": "c75e46fd-887c-44ee-c11c-f4aa7e4ed51d"
      },
      "outputs": [
        {
          "output_type": "execute_result",
          "data": {
            "text/plain": [
              "       labels                                               post\n",
              "0           0  አስቀድሜ ጥያቄዬ በጨዋነት በውስጥ መስመር እንዲደርስዎ አድርጌ ፍትህን ለ...\n",
              "1           0   እነዚህን ወሳኝ ጉዳዮችን የሚያስፈፅም አካል እንዲቋቋምና ክትትል እንዲደ...\n",
              "2           0  የአማራ ህዝብ በአእምሮ ክንፉ ያልበረረበት ጥበብና ፍልስፍና ያልከፈተው የ...\n",
              "3           0  ከአማራ ህዝብ የሀገሪቱ ዘርፈ ብዙ እውቀት መንጭቶ የሞላበትከሙላቱም በመል...\n",
              "4           1  ዛሬ በየትኛውም መለኪያ ይሁን መመዘኛ ኢትዮጵያዊነት የሚንፀባረቀው በአማራ...\n",
              "...       ...                                                ...\n",
              "29995       1         በአሉ የሁሉም ኢትዮጵያዊ ስላልሆነ በኦሮምኛው ቢለፋደድ ምን አገባን\n",
              "29996       0             ተባረክ አብቹ ፈር ቀዳጅ ስለሆንህ መጋረጃው መቀደድ ስለጀመረ\n",
              "29997       0   እስከ አሁን አንተ ብቻ ነው በ   መፅሀፍ ያልቻልከው  አንተም ታሪክ እ...\n",
              "29998       1   ህገወጥት ጠቅላይ ሚንስትር ፅቤት የተፈቀደ ሆኖ ህዝብን እንዴት ህግ አክ...\n",
              "29999       1  ደነዙ ጠቅላይ ሚንስትር ፅቤት ህገመንግስት ሳይሻሻል በህግ የተወሰነዉን የ...\n",
              "\n",
              "[30000 rows x 2 columns]"
            ],
            "text/html": [
              "\n",
              "  <div id=\"df-c0ee8cd2-fe8d-4b55-980d-805df4cb2c70\">\n",
              "    <div class=\"colab-df-container\">\n",
              "      <div>\n",
              "<style scoped>\n",
              "    .dataframe tbody tr th:only-of-type {\n",
              "        vertical-align: middle;\n",
              "    }\n",
              "\n",
              "    .dataframe tbody tr th {\n",
              "        vertical-align: top;\n",
              "    }\n",
              "\n",
              "    .dataframe thead th {\n",
              "        text-align: right;\n",
              "    }\n",
              "</style>\n",
              "<table border=\"1\" class=\"dataframe\">\n",
              "  <thead>\n",
              "    <tr style=\"text-align: right;\">\n",
              "      <th></th>\n",
              "      <th>labels</th>\n",
              "      <th>post</th>\n",
              "    </tr>\n",
              "  </thead>\n",
              "  <tbody>\n",
              "    <tr>\n",
              "      <th>0</th>\n",
              "      <td>0</td>\n",
              "      <td>አስቀድሜ ጥያቄዬ በጨዋነት በውስጥ መስመር እንዲደርስዎ አድርጌ ፍትህን ለ...</td>\n",
              "    </tr>\n",
              "    <tr>\n",
              "      <th>1</th>\n",
              "      <td>0</td>\n",
              "      <td>እነዚህን ወሳኝ ጉዳዮችን የሚያስፈፅም አካል እንዲቋቋምና ክትትል እንዲደ...</td>\n",
              "    </tr>\n",
              "    <tr>\n",
              "      <th>2</th>\n",
              "      <td>0</td>\n",
              "      <td>የአማራ ህዝብ በአእምሮ ክንፉ ያልበረረበት ጥበብና ፍልስፍና ያልከፈተው የ...</td>\n",
              "    </tr>\n",
              "    <tr>\n",
              "      <th>3</th>\n",
              "      <td>0</td>\n",
              "      <td>ከአማራ ህዝብ የሀገሪቱ ዘርፈ ብዙ እውቀት መንጭቶ የሞላበትከሙላቱም በመል...</td>\n",
              "    </tr>\n",
              "    <tr>\n",
              "      <th>4</th>\n",
              "      <td>1</td>\n",
              "      <td>ዛሬ በየትኛውም መለኪያ ይሁን መመዘኛ ኢትዮጵያዊነት የሚንፀባረቀው በአማራ...</td>\n",
              "    </tr>\n",
              "    <tr>\n",
              "      <th>...</th>\n",
              "      <td>...</td>\n",
              "      <td>...</td>\n",
              "    </tr>\n",
              "    <tr>\n",
              "      <th>29995</th>\n",
              "      <td>1</td>\n",
              "      <td>በአሉ የሁሉም ኢትዮጵያዊ ስላልሆነ በኦሮምኛው ቢለፋደድ ምን አገባን</td>\n",
              "    </tr>\n",
              "    <tr>\n",
              "      <th>29996</th>\n",
              "      <td>0</td>\n",
              "      <td>ተባረክ አብቹ ፈር ቀዳጅ ስለሆንህ መጋረጃው መቀደድ ስለጀመረ</td>\n",
              "    </tr>\n",
              "    <tr>\n",
              "      <th>29997</th>\n",
              "      <td>0</td>\n",
              "      <td>እስከ አሁን አንተ ብቻ ነው በ   መፅሀፍ ያልቻልከው  አንተም ታሪክ እ...</td>\n",
              "    </tr>\n",
              "    <tr>\n",
              "      <th>29998</th>\n",
              "      <td>1</td>\n",
              "      <td>ህገወጥት ጠቅላይ ሚንስትር ፅቤት የተፈቀደ ሆኖ ህዝብን እንዴት ህግ አክ...</td>\n",
              "    </tr>\n",
              "    <tr>\n",
              "      <th>29999</th>\n",
              "      <td>1</td>\n",
              "      <td>ደነዙ ጠቅላይ ሚንስትር ፅቤት ህገመንግስት ሳይሻሻል በህግ የተወሰነዉን የ...</td>\n",
              "    </tr>\n",
              "  </tbody>\n",
              "</table>\n",
              "<p>30000 rows × 2 columns</p>\n",
              "</div>\n",
              "      <button class=\"colab-df-convert\" onclick=\"convertToInteractive('df-c0ee8cd2-fe8d-4b55-980d-805df4cb2c70')\"\n",
              "              title=\"Convert this dataframe to an interactive table.\"\n",
              "              style=\"display:none;\">\n",
              "        \n",
              "  <svg xmlns=\"http://www.w3.org/2000/svg\" height=\"24px\"viewBox=\"0 0 24 24\"\n",
              "       width=\"24px\">\n",
              "    <path d=\"M0 0h24v24H0V0z\" fill=\"none\"/>\n",
              "    <path d=\"M18.56 5.44l.94 2.06.94-2.06 2.06-.94-2.06-.94-.94-2.06-.94 2.06-2.06.94zm-11 1L8.5 8.5l.94-2.06 2.06-.94-2.06-.94L8.5 2.5l-.94 2.06-2.06.94zm10 10l.94 2.06.94-2.06 2.06-.94-2.06-.94-.94-2.06-.94 2.06-2.06.94z\"/><path d=\"M17.41 7.96l-1.37-1.37c-.4-.4-.92-.59-1.43-.59-.52 0-1.04.2-1.43.59L10.3 9.45l-7.72 7.72c-.78.78-.78 2.05 0 2.83L4 21.41c.39.39.9.59 1.41.59.51 0 1.02-.2 1.41-.59l7.78-7.78 2.81-2.81c.8-.78.8-2.07 0-2.86zM5.41 20L4 18.59l7.72-7.72 1.47 1.35L5.41 20z\"/>\n",
              "  </svg>\n",
              "      </button>\n",
              "      \n",
              "  <style>\n",
              "    .colab-df-container {\n",
              "      display:flex;\n",
              "      flex-wrap:wrap;\n",
              "      gap: 12px;\n",
              "    }\n",
              "\n",
              "    .colab-df-convert {\n",
              "      background-color: #E8F0FE;\n",
              "      border: none;\n",
              "      border-radius: 50%;\n",
              "      cursor: pointer;\n",
              "      display: none;\n",
              "      fill: #1967D2;\n",
              "      height: 32px;\n",
              "      padding: 0 0 0 0;\n",
              "      width: 32px;\n",
              "    }\n",
              "\n",
              "    .colab-df-convert:hover {\n",
              "      background-color: #E2EBFA;\n",
              "      box-shadow: 0px 1px 2px rgba(60, 64, 67, 0.3), 0px 1px 3px 1px rgba(60, 64, 67, 0.15);\n",
              "      fill: #174EA6;\n",
              "    }\n",
              "\n",
              "    [theme=dark] .colab-df-convert {\n",
              "      background-color: #3B4455;\n",
              "      fill: #D2E3FC;\n",
              "    }\n",
              "\n",
              "    [theme=dark] .colab-df-convert:hover {\n",
              "      background-color: #434B5C;\n",
              "      box-shadow: 0px 1px 3px 1px rgba(0, 0, 0, 0.15);\n",
              "      filter: drop-shadow(0px 1px 2px rgba(0, 0, 0, 0.3));\n",
              "      fill: #FFFFFF;\n",
              "    }\n",
              "  </style>\n",
              "\n",
              "      <script>\n",
              "        const buttonEl =\n",
              "          document.querySelector('#df-c0ee8cd2-fe8d-4b55-980d-805df4cb2c70 button.colab-df-convert');\n",
              "        buttonEl.style.display =\n",
              "          google.colab.kernel.accessAllowed ? 'block' : 'none';\n",
              "\n",
              "        async function convertToInteractive(key) {\n",
              "          const element = document.querySelector('#df-c0ee8cd2-fe8d-4b55-980d-805df4cb2c70');\n",
              "          const dataTable =\n",
              "            await google.colab.kernel.invokeFunction('convertToInteractive',\n",
              "                                                     [key], {});\n",
              "          if (!dataTable) return;\n",
              "\n",
              "          const docLinkHtml = 'Like what you see? Visit the ' +\n",
              "            '<a target=\"_blank\" href=https://colab.research.google.com/notebooks/data_table.ipynb>data table notebook</a>'\n",
              "            + ' to learn more about interactive tables.';\n",
              "          element.innerHTML = '';\n",
              "          dataTable['output_type'] = 'display_data';\n",
              "          await google.colab.output.renderOutput(dataTable, element);\n",
              "          const docLink = document.createElement('div');\n",
              "          docLink.innerHTML = docLinkHtml;\n",
              "          element.appendChild(docLink);\n",
              "        }\n",
              "      </script>\n",
              "    </div>\n",
              "  </div>\n",
              "  "
            ]
          },
          "metadata": {},
          "execution_count": 54
        }
      ],
      "source": [
        "#preview of merged data\n",
        "Merged"
      ]
    },
    {
      "cell_type": "code",
      "execution_count": 55,
      "metadata": {
        "colab": {
          "base_uri": "https://localhost:8080/"
        },
        "id": "Zf4paAEe1eYX",
        "outputId": "34c6fbd1-0a90-4cbd-854c-d902eb134d59"
      },
      "outputs": [
        {
          "output_type": "stream",
          "name": "stdout",
          "text": [
            "Training dataset shape:  (21600, 2)\n",
            "Validation dataset shape:  (2400, 2)\n",
            "Testing dataset shape:  (6000, 2)\n"
          ]
        }
      ],
      "source": [
        "train_val_df, test_dataset = train_test_split(Merged, test_size=0.20, random_state=42)\n",
        "train_dataset, evaluation_dataset = train_test_split(train_val_df, test_size=0.10, random_state=42)\n",
        "print('Training dataset shape: ', train_dataset.shape)\n",
        "print('Validation dataset shape: ', evaluation_dataset.shape)\n",
        "print('Testing dataset shape: ', test_dataset.shape)"
      ]
    },
    {
      "cell_type": "code",
      "execution_count": 56,
      "metadata": {
        "id": "ZVfzGbMLJqq4"
      },
      "outputs": [],
      "source": [
        "#Divide the dataset into train and test categories \n",
        "msk = np.random.rand(len(Merged)) < 0.8\n",
        "train_dataset = Merged[msk]\n",
        "test_dataset = Merged[~msk]"
      ]
    },
    {
      "cell_type": "code",
      "execution_count": 57,
      "metadata": {
        "id": "oFPHgSEM1Dk7"
      },
      "outputs": [],
      "source": [
        "#convert format of the dataset to HuggingFace Dataset from Pandas DataFrame\n",
        "test_dataset=Dataset.from_pandas(test_dataset)"
      ]
    },
    {
      "cell_type": "code",
      "execution_count": 58,
      "metadata": {
        "id": "8AjJWpMzNY5O"
      },
      "outputs": [],
      "source": [
        "#convert the format of the dataset to HuggingFace Dataset from Pandas DataFrame\n",
        "train_dataset=Dataset.from_pandas(train_dataset)"
      ]
    },
    {
      "cell_type": "code",
      "execution_count": 59,
      "metadata": {
        "id": "BKcbCLrb6_Fb"
      },
      "outputs": [],
      "source": [
        "#convert the format of the dataset to HuggingFace Dataset from Pandas DataFrame\n",
        "evaluation_dataset=Dataset.from_pandas(evaluation_dataset)"
      ]
    },
    {
      "cell_type": "code",
      "execution_count": 60,
      "metadata": {
        "colab": {
          "base_uri": "https://localhost:8080/"
        },
        "id": "5tjTu_uTMbH2",
        "outputId": "936f0216-6482-4517-dd5c-41cd7af832b2"
      },
      "outputs": [
        {
          "output_type": "execute_result",
          "data": {
            "text/plain": [
              "Dataset({\n",
              "    features: ['labels', 'post', '__index_level_0__'],\n",
              "    num_rows: 5983\n",
              "})"
            ]
          },
          "metadata": {},
          "execution_count": 60
        }
      ],
      "source": [
        "#preview of the dataset after conversion\n",
        "(test_dataset)"
      ]
    },
    {
      "cell_type": "code",
      "execution_count": 61,
      "metadata": {
        "id": "8lmUdwFjkEvS"
      },
      "outputs": [],
      "source": [
        "#remove unnecessary column\n",
        "test_dataset=test_dataset.remove_columns(\"__index_level_0__\")\n",
        "train_dataset=train_dataset.remove_columns(\"__index_level_0__\")\n",
        "evaluation_dataset=evaluation_dataset.remove_columns(\"__index_level_0__\")"
      ]
    },
    {
      "cell_type": "code",
      "execution_count": 62,
      "metadata": {
        "id": "xMd8ZWLwOacB"
      },
      "outputs": [],
      "source": [
        "#combine the train and test dataset into one datset\n",
        "main_dataset= datasets.DatasetDict({\n",
        "    'train': train_dataset,\n",
        "    'test': test_dataset,\n",
        "    'evaluate': evaluation_dataset\n",
        "})"
      ]
    },
    {
      "cell_type": "code",
      "execution_count": 63,
      "metadata": {
        "colab": {
          "base_uri": "https://localhost:8080/"
        },
        "id": "FQphi9G4Qnca",
        "outputId": "5d0e5b55-ac37-4212-e2c6-ccd9d6577c02"
      },
      "outputs": [
        {
          "output_type": "execute_result",
          "data": {
            "text/plain": [
              "DatasetDict({\n",
              "    train: Dataset({\n",
              "        features: ['labels', 'post'],\n",
              "        num_rows: 24017\n",
              "    })\n",
              "    test: Dataset({\n",
              "        features: ['labels', 'post'],\n",
              "        num_rows: 5983\n",
              "    })\n",
              "    evaluate: Dataset({\n",
              "        features: ['labels', 'post'],\n",
              "        num_rows: 2400\n",
              "    })\n",
              "})"
            ]
          },
          "metadata": {},
          "execution_count": 63
        }
      ],
      "source": [
        "#preview of the dataset after merging\n",
        "main_dataset"
      ]
    },
    {
      "cell_type": "code",
      "execution_count": 64,
      "metadata": {
        "id": "nid9zbCnJ-M5"
      },
      "outputs": [],
      "source": [
        "# training and testing data size\n",
        "training_data_size = main_dataset['train'].num_rows\n",
        "testing_data_size = main_dataset['test'].num_rows\n",
        "evaluation_data_size = main_dataset['evaluate'].num_rows"
      ]
    },
    {
      "cell_type": "code",
      "execution_count": 65,
      "metadata": {
        "id": "g-arFaACbefl",
        "colab": {
          "base_uri": "https://localhost:8080/"
        },
        "outputId": "2640fa31-808d-4693-8d67-c3506036cf4a"
      },
      "outputs": [
        {
          "output_type": "stream",
          "name": "stderr",
          "text": [
            "loading file vocab.txt from cache at /root/.cache/huggingface/hub/models--israel--AmharicRoBERTa/snapshots/00692edb3619168e324cd49db01f2789ab49cf4a/vocab.txt\n",
            "loading file tokenizer.json from cache at /root/.cache/huggingface/hub/models--israel--AmharicRoBERTa/snapshots/00692edb3619168e324cd49db01f2789ab49cf4a/tokenizer.json\n",
            "loading file added_tokens.json from cache at None\n",
            "loading file special_tokens_map.json from cache at /root/.cache/huggingface/hub/models--israel--AmharicRoBERTa/snapshots/00692edb3619168e324cd49db01f2789ab49cf4a/special_tokens_map.json\n",
            "loading file tokenizer_config.json from cache at /root/.cache/huggingface/hub/models--israel--AmharicRoBERTa/snapshots/00692edb3619168e324cd49db01f2789ab49cf4a/tokenizer_config.json\n"
          ]
        }
      ],
      "source": [
        "#loading a tokenizer from the pretrained model\n",
        "tokenizer = AutoTokenizer.from_pretrained(\"israel/AmharicRoBERTa\")"
      ]
    },
    {
      "cell_type": "code",
      "execution_count": 66,
      "metadata": {
        "id": "ceAd2-Svu-Kb"
      },
      "outputs": [],
      "source": [
        "#Have a tokenizer function that uses the tokenizer \n",
        "def tokenize_function(data):\n",
        "    return tokenizer(data[\"post\"], padding=\"max_length\", truncation=True)"
      ]
    },
    {
      "cell_type": "code",
      "execution_count": 67,
      "metadata": {
        "id": "Lwb78oGCRkeG",
        "colab": {
          "base_uri": "https://localhost:8080/",
          "height": 168,
          "referenced_widgets": [
            "31450c63063d438d969a10a397877c90",
            "c9c831f452a84714b1c876b0ebc6ecfe",
            "bd3d5fdb4ca84291b06e4d2f9d5f8655",
            "638b3fd8f37342cd91b9d9fa3a81fe19",
            "3bfcb33486584c0195fd599d9ecbe064",
            "fc517c23495c461db5d601799875e143",
            "1c583d43a8b04b498c1c3bdf4e925929",
            "358e4815e6344a2f9e60bee4bd3d784b",
            "9863b21a227241328311fec72387eeed",
            "0b5e798230e349358cb3a910b502a8f9",
            "d529e86bdb77483f9609fe35c6d117a9",
            "04b5abd8c7364a889f95a87b231db5c8",
            "f61538665fe6443d95cf979b7103d26e",
            "df3b82e8e95246c8b6039be40d7be531",
            "fcd2f44708764567969e27d8ea44cc79",
            "8146cde462604f13932a76b3bd7345ad",
            "342e8cafb9bd459c8faf721beb12d237",
            "fb70438f640349b6912606532b10ebd2",
            "340553f724e14126925ae23a47e62491",
            "43ff16fd282a4c58b9b39169eae9be26",
            "b7eeba6319bc40038ecbefba33a9d31a",
            "ac11ba51390b4fd799a761cbfb990454",
            "80a95070bd3e4c679e3dceca46b2664b",
            "fa1af414b7d54ad2990ec1996aad1e6d",
            "5d266811825648a28544248f75b74b97",
            "b2d63982a02d427fb370195b23c3f9da",
            "ce58167b53a343ebaf59458a70345cdf",
            "a66fc1d8f3d64ffea1f84933490c5851",
            "2ddb182144364722a329ad6629c1be2a",
            "b50c41f9c0bd461babc342196754ba0e",
            "0a967c24b0c043c69e1ac465d98cd4ce",
            "bdecd854307741e39538c4582e73c7d5",
            "b1a05a1096eb4824ae225af2b418716f"
          ]
        },
        "outputId": "dc8a12f4-a288-49d9-9b99-9db5c631379d"
      },
      "outputs": [
        {
          "output_type": "display_data",
          "data": {
            "text/plain": [
              "  0%|          | 0/24017 [00:00<?, ?ex/s]"
            ],
            "application/vnd.jupyter.widget-view+json": {
              "version_major": 2,
              "version_minor": 0,
              "model_id": "31450c63063d438d969a10a397877c90"
            }
          },
          "metadata": {}
        },
        {
          "output_type": "stream",
          "name": "stderr",
          "text": [
            "Asking to pad to max_length but no maximum length is provided and the model has no predefined maximum length. Default to no padding.\n",
            "Asking to truncate to max_length but no maximum length is provided and the model has no predefined maximum length. Default to no truncation.\n"
          ]
        },
        {
          "output_type": "display_data",
          "data": {
            "text/plain": [
              "  0%|          | 0/5983 [00:00<?, ?ex/s]"
            ],
            "application/vnd.jupyter.widget-view+json": {
              "version_major": 2,
              "version_minor": 0,
              "model_id": "04b5abd8c7364a889f95a87b231db5c8"
            }
          },
          "metadata": {}
        },
        {
          "output_type": "display_data",
          "data": {
            "text/plain": [
              "  0%|          | 0/2400 [00:00<?, ?ex/s]"
            ],
            "application/vnd.jupyter.widget-view+json": {
              "version_major": 2,
              "version_minor": 0,
              "model_id": "80a95070bd3e4c679e3dceca46b2664b"
            }
          },
          "metadata": {}
        }
      ],
      "source": [
        "#Tokenize all the data using the mapping functionality\n",
        "tokenized_datasets = main_dataset.map(tokenize_function)\n"
      ]
    },
    {
      "cell_type": "code",
      "execution_count": 68,
      "metadata": {
        "id": "2-JJ9yRaOVGC"
      },
      "outputs": [],
      "source": [
        "#empty cache\n",
        "torch.cuda.empty_cache()"
      ]
    },
    {
      "cell_type": "code",
      "execution_count": 69,
      "metadata": {
        "id": "kbrulB12Oycv"
      },
      "outputs": [],
      "source": [
        "#remove the posts column as it is no longer needed\n",
        "tokenized_datasets = tokenized_datasets.remove_columns([\"post\"])"
      ]
    },
    {
      "cell_type": "code",
      "execution_count": 70,
      "metadata": {
        "id": "zHQL4mR3PDXD"
      },
      "outputs": [],
      "source": [
        "#changing the format of the tokenized dataset to torch\n",
        "tokenized_datasets.set_format(\"torch\")"
      ]
    },
    {
      "cell_type": "code",
      "execution_count": 71,
      "metadata": {
        "id": "AAtKn5fMPJX4"
      },
      "outputs": [],
      "source": [
        "#shuffeling and selecting the needed size of dataset for training and evaluating the model\n",
        "small_train_dataset = tokenized_datasets[\"train\"].shuffle(seed=42).select(range(training_data_size))\n",
        "small_test_dataset = tokenized_datasets[\"test\"].shuffle(seed=42).select(range(testing_data_size))\n",
        "small_eval_dataset = tokenized_datasets[\"evaluate\"].shuffle(seed=42).select(range(evaluation_data_size))"
      ]
    },
    {
      "cell_type": "code",
      "execution_count": 72,
      "metadata": {
        "id": "iiiKJ7QNR8gd",
        "colab": {
          "base_uri": "https://localhost:8080/"
        },
        "outputId": "10babec4-12b4-4dd2-c296-5b46098c736b"
      },
      "outputs": [
        {
          "output_type": "execute_result",
          "data": {
            "text/plain": [
              "Dataset({\n",
              "    features: ['labels', 'input_ids', 'token_type_ids', 'attention_mask'],\n",
              "    num_rows: 2400\n",
              "})"
            ]
          },
          "metadata": {},
          "execution_count": 72
        }
      ],
      "source": [
        "# preview of the shuffeled and selected evaluation dataset\n",
        "small_eval_dataset"
      ]
    },
    {
      "cell_type": "code",
      "execution_count": 73,
      "metadata": {
        "id": "Iw2fYFD1SFe_",
        "colab": {
          "base_uri": "https://localhost:8080/"
        },
        "outputId": "5efe4c25-4441-439c-f29b-9ef584c14a80"
      },
      "outputs": [
        {
          "output_type": "execute_result",
          "data": {
            "text/plain": [
              "Dataset({\n",
              "    features: ['labels', 'input_ids', 'token_type_ids', 'attention_mask'],\n",
              "    num_rows: 24017\n",
              "})"
            ]
          },
          "metadata": {},
          "execution_count": 73
        }
      ],
      "source": [
        "# preview of the shuffeled and selected training dataset\n",
        "small_train_dataset"
      ]
    },
    {
      "cell_type": "code",
      "execution_count": 74,
      "metadata": {
        "id": "JzrnrKZq77Wk",
        "colab": {
          "base_uri": "https://localhost:8080/"
        },
        "outputId": "585b86ed-6b17-41fe-d2f8-9c59a2b3b2c0"
      },
      "outputs": [
        {
          "output_type": "execute_result",
          "data": {
            "text/plain": [
              "Dataset({\n",
              "    features: ['labels', 'input_ids', 'token_type_ids', 'attention_mask'],\n",
              "    num_rows: 5983\n",
              "})"
            ]
          },
          "metadata": {},
          "execution_count": 74
        }
      ],
      "source": [
        "# preview of the shuffeled and selected testing dataset\n",
        "small_test_dataset"
      ]
    },
    {
      "cell_type": "code",
      "execution_count": 75,
      "metadata": {
        "id": "Qs3RA2VkRcNL"
      },
      "outputs": [],
      "source": [
        "#load the dataset using DataLoader\n",
        "train_dataloader = DataLoader(small_train_dataset, shuffle=True, batch_size=4)\n",
        "eval_dataloader = DataLoader(small_eval_dataset, batch_size=4)\n",
        "test_dataloader = DataLoader(small_test_dataset, batch_size=4)"
      ]
    },
    {
      "cell_type": "code",
      "execution_count": 76,
      "metadata": {
        "colab": {
          "base_uri": "https://localhost:8080/"
        },
        "id": "UiIYAeKoRlid",
        "outputId": "fd601fc7-e786-4dec-a3f9-dea9eb159568"
      },
      "outputs": [
        {
          "output_type": "stream",
          "name": "stderr",
          "text": [
            "loading configuration file config.json from cache at /root/.cache/huggingface/hub/models--israel--AmharicRoBERTa/snapshots/00692edb3619168e324cd49db01f2789ab49cf4a/config.json\n",
            "Model config RobertaConfig {\n",
            "  \"_name_or_path\": \"israel/AmharicRoBERTa\",\n",
            "  \"architectures\": [\n",
            "    \"RobertaForMaskedLM\"\n",
            "  ],\n",
            "  \"attention_probs_dropout_prob\": 0.1,\n",
            "  \"bos_token_id\": 0,\n",
            "  \"classifier_dropout\": null,\n",
            "  \"eos_token_id\": 2,\n",
            "  \"hidden_act\": \"gelu\",\n",
            "  \"hidden_dropout_prob\": 0.1,\n",
            "  \"hidden_size\": 768,\n",
            "  \"initializer_range\": 0.02,\n",
            "  \"intermediate_size\": 3072,\n",
            "  \"layer_norm_eps\": 1e-12,\n",
            "  \"max_position_embeddings\": 514,\n",
            "  \"model_type\": \"roberta\",\n",
            "  \"num_attention_heads\": 12,\n",
            "  \"num_hidden_layers\": 6,\n",
            "  \"pad_token_id\": 1,\n",
            "  \"position_embedding_type\": \"absolute\",\n",
            "  \"torch_dtype\": \"float32\",\n",
            "  \"transformers_version\": \"4.25.1\",\n",
            "  \"type_vocab_size\": 1,\n",
            "  \"use_cache\": true,\n",
            "  \"vocab_size\": 30000\n",
            "}\n",
            "\n",
            "loading weights file pytorch_model.bin from cache at /root/.cache/huggingface/hub/models--israel--AmharicRoBERTa/snapshots/00692edb3619168e324cd49db01f2789ab49cf4a/pytorch_model.bin\n",
            "Some weights of the model checkpoint at israel/AmharicRoBERTa were not used when initializing RobertaForSequenceClassification: ['lm_head.dense.bias', 'lm_head.bias', 'lm_head.layer_norm.weight', 'lm_head.layer_norm.bias', 'lm_head.dense.weight']\n",
            "- This IS expected if you are initializing RobertaForSequenceClassification from the checkpoint of a model trained on another task or with another architecture (e.g. initializing a BertForSequenceClassification model from a BertForPreTraining model).\n",
            "- This IS NOT expected if you are initializing RobertaForSequenceClassification from the checkpoint of a model that you expect to be exactly identical (initializing a BertForSequenceClassification model from a BertForSequenceClassification model).\n",
            "Some weights of RobertaForSequenceClassification were not initialized from the model checkpoint at israel/AmharicRoBERTa and are newly initialized: ['classifier.dense.bias', 'classifier.dense.weight', 'classifier.out_proj.bias', 'classifier.out_proj.weight']\n",
            "You should probably TRAIN this model on a down-stream task to be able to use it for predictions and inference.\n"
          ]
        }
      ],
      "source": [
        "#Load auto mode classifier from the pretrained model \n",
        "from transformers import AutoModelForSequenceClassification\n",
        "model = AutoModelForSequenceClassification.from_pretrained(\"israel/AmharicRoBERTa\", num_labels=2)\n",
        "# model = AutoModelForSequenceClassification.from_pretrained(\"Davlan/afro-xlmr-large\", num_labels=2)"
      ]
    },
    {
      "cell_type": "code",
      "execution_count": 77,
      "metadata": {
        "id": "mRY3ntTtCSJf",
        "colab": {
          "base_uri": "https://localhost:8080/"
        },
        "outputId": "dade8690-a5b9-4ede-d3c0-fed388d4b6b7"
      },
      "outputs": [
        {
          "output_type": "stream",
          "name": "stderr",
          "text": [
            "PyTorch: setting up devices\n",
            "The default value for the training argument `--report_to` will change in v5 (from all installed integrations to none). In v5, you will need to use `--report_to all` to get the same behavior as now. You should start updating your code and make this info disappear :-).\n"
          ]
        }
      ],
      "source": [
        "# #load an optimizer\n",
        "# optimizer = AdamW(model.parameters(), lr=5e-5)\n",
        "from transformers import TrainingArguments\n",
        "\n",
        "training_args = TrainingArguments(output_dir=\"test_trainer\")"
      ]
    },
    {
      "cell_type": "code",
      "execution_count": 99,
      "metadata": {
        "id": "hHOIwoGTnKnu"
      },
      "outputs": [],
      "source": [
        "import numpy as np\n",
        "from datasets import load_metric\n",
        "\n",
        "metric = load_metric(\"f1\",\"accuracy\")"
      ]
    },
    {
      "cell_type": "code",
      "execution_count": 95,
      "metadata": {
        "id": "sRyD2M95nRuB"
      },
      "outputs": [],
      "source": [
        "def compute_metrics(eval_pred):\n",
        "    logits, labels = eval_pred\n",
        "    predictions = np.argmax(logits, axis=-1)\n",
        "    return metric.compute(predictions=predictions, references=labels)"
      ]
    },
    {
      "cell_type": "code",
      "execution_count": 80,
      "metadata": {
        "id": "piRD3_5-n2_O"
      },
      "outputs": [],
      "source": [
        "from transformers import TrainingArguments, Trainer"
      ]
    },
    {
      "cell_type": "code",
      "execution_count": 81,
      "metadata": {
        "id": "pUBDrhFBdsSB"
      },
      "outputs": [],
      "source": [
        "from transformers import EarlyStoppingCallback, IntervalStrategy"
      ]
    },
    {
      "cell_type": "code",
      "execution_count": 41,
      "metadata": {
        "id": "-dqbsbTcc415"
      },
      "outputs": [],
      "source": [
        "# training_args = TrainingArguments(output_dir=\"test_trainer\", evaluation_strategy=\"epoch\", num_train_epochs=2)"
      ]
    },
    {
      "cell_type": "code",
      "execution_count": 100,
      "metadata": {
        "id": "W9DEZ5Vxc4qn",
        "colab": {
          "base_uri": "https://localhost:8080/"
        },
        "outputId": "38a9dafe-b181-4bc5-ad7b-5e5b89a54028"
      },
      "outputs": [
        {
          "output_type": "stream",
          "name": "stderr",
          "text": [
            "PyTorch: setting up devices\n",
            "The default value for the training argument `--report_to` will change in v5 (from all installed integrations to none). In v5, you will need to use `--report_to all` to get the same behavior as now. You should start updating your code and make this info disappear :-).\n"
          ]
        }
      ],
      "source": [
        "training_args = TrainingArguments(\n",
        "   f\"training_with_callbacks\",\n",
        "   evaluation_strategy = IntervalStrategy.STEPS, # \"steps\"\n",
        "   warmup_steps=500,                # number of warmup steps for learning rate  \n",
        "   save_steps=2000,\n",
        "   eval_steps = 2000, # Evaluation and Save happens every 50 steps\n",
        "   save_total_limit = 3, # Only last 5 models are saved. Older ones are deleted.\n",
        "   learning_rate=1e-5,\n",
        "   per_device_train_batch_size=1,\n",
        "   per_device_eval_batch_size=1,\n",
        "   num_train_epochs=5,\n",
        "   weight_decay=0.01,\n",
        "   push_to_hub=False,\n",
        "   metric_for_best_model = 'f1',\n",
        "   load_best_model_at_end=True)"
      ]
    },
    {
      "cell_type": "code",
      "execution_count": 101,
      "metadata": {
        "id": "2bFFRWbLn99O"
      },
      "outputs": [],
      "source": [
        "trainer = Trainer(\n",
        "    model=model,\n",
        "    args=training_args,\n",
        "    train_dataset=small_train_dataset,\n",
        "    eval_dataset=small_eval_dataset,\n",
        "    compute_metrics=compute_metrics,\n",
        "    callbacks = [EarlyStoppingCallback(early_stopping_patience=10)],\n",
        ")"
      ]
    },
    {
      "cell_type": "code",
      "execution_count": 43,
      "metadata": {
        "id": "0s3Xy6i9c0it"
      },
      "outputs": [],
      "source": []
    },
    {
      "cell_type": "code",
      "execution_count": 84,
      "metadata": {
        "id": "h4n7RGgUoB13",
        "colab": {
          "base_uri": "https://localhost:8080/",
          "height": 1000
        },
        "outputId": "39165a9a-b187-4271-f749-162ca93d532a"
      },
      "outputs": [
        {
          "output_type": "stream",
          "name": "stderr",
          "text": [
            "/usr/local/lib/python3.8/dist-packages/transformers/optimization.py:306: FutureWarning: This implementation of AdamW is deprecated and will be removed in a future version. Use the PyTorch implementation torch.optim.AdamW instead, or set `no_deprecation_warning=True` to disable this warning\n",
            "  warnings.warn(\n",
            "***** Running training *****\n",
            "  Num examples = 24017\n",
            "  Num Epochs = 5\n",
            "  Instantaneous batch size per device = 1\n",
            "  Total train batch size (w. parallel, distributed & accumulation) = 1\n",
            "  Gradient Accumulation steps = 1\n",
            "  Total optimization steps = 120085\n",
            "  Number of trainable parameters = 66556418\n"
          ]
        },
        {
          "output_type": "display_data",
          "data": {
            "text/plain": [
              "<IPython.core.display.HTML object>"
            ],
            "text/html": [
              "\n",
              "    <div>\n",
              "      \n",
              "      <progress value='120085' max='120085' style='width:300px; height:20px; vertical-align: middle;'></progress>\n",
              "      [120085/120085 1:46:45, Epoch 5/5]\n",
              "    </div>\n",
              "    <table border=\"1\" class=\"dataframe\">\n",
              "  <thead>\n",
              " <tr style=\"text-align: left;\">\n",
              "      <th>Step</th>\n",
              "      <th>Training Loss</th>\n",
              "      <th>Validation Loss</th>\n",
              "      <th>F1</th>\n",
              "    </tr>\n",
              "  </thead>\n",
              "  <tbody>\n",
              "    <tr>\n",
              "      <td>2000</td>\n",
              "      <td>1.380200</td>\n",
              "      <td>1.263784</td>\n",
              "      <td>0.719481</td>\n",
              "    </tr>\n",
              "    <tr>\n",
              "      <td>4000</td>\n",
              "      <td>1.340500</td>\n",
              "      <td>1.356597</td>\n",
              "      <td>0.642526</td>\n",
              "    </tr>\n",
              "    <tr>\n",
              "      <td>6000</td>\n",
              "      <td>1.283800</td>\n",
              "      <td>1.338232</td>\n",
              "      <td>0.715676</td>\n",
              "    </tr>\n",
              "    <tr>\n",
              "      <td>8000</td>\n",
              "      <td>1.361000</td>\n",
              "      <td>1.469770</td>\n",
              "      <td>0.670501</td>\n",
              "    </tr>\n",
              "    <tr>\n",
              "      <td>10000</td>\n",
              "      <td>1.511100</td>\n",
              "      <td>1.217923</td>\n",
              "      <td>0.679182</td>\n",
              "    </tr>\n",
              "    <tr>\n",
              "      <td>12000</td>\n",
              "      <td>1.329500</td>\n",
              "      <td>1.296401</td>\n",
              "      <td>0.693257</td>\n",
              "    </tr>\n",
              "    <tr>\n",
              "      <td>14000</td>\n",
              "      <td>1.377500</td>\n",
              "      <td>1.277777</td>\n",
              "      <td>0.692082</td>\n",
              "    </tr>\n",
              "    <tr>\n",
              "      <td>16000</td>\n",
              "      <td>1.390200</td>\n",
              "      <td>1.232271</td>\n",
              "      <td>0.740824</td>\n",
              "    </tr>\n",
              "    <tr>\n",
              "      <td>18000</td>\n",
              "      <td>1.347500</td>\n",
              "      <td>1.302099</td>\n",
              "      <td>0.667261</td>\n",
              "    </tr>\n",
              "    <tr>\n",
              "      <td>20000</td>\n",
              "      <td>1.293700</td>\n",
              "      <td>1.164994</td>\n",
              "      <td>0.744689</td>\n",
              "    </tr>\n",
              "    <tr>\n",
              "      <td>22000</td>\n",
              "      <td>1.506500</td>\n",
              "      <td>1.113446</td>\n",
              "      <td>0.746594</td>\n",
              "    </tr>\n",
              "    <tr>\n",
              "      <td>24000</td>\n",
              "      <td>1.438500</td>\n",
              "      <td>1.185146</td>\n",
              "      <td>0.703881</td>\n",
              "    </tr>\n",
              "    <tr>\n",
              "      <td>26000</td>\n",
              "      <td>1.203300</td>\n",
              "      <td>1.397195</td>\n",
              "      <td>0.718256</td>\n",
              "    </tr>\n",
              "    <tr>\n",
              "      <td>28000</td>\n",
              "      <td>1.244500</td>\n",
              "      <td>1.145541</td>\n",
              "      <td>0.761377</td>\n",
              "    </tr>\n",
              "    <tr>\n",
              "      <td>30000</td>\n",
              "      <td>1.240300</td>\n",
              "      <td>1.109661</td>\n",
              "      <td>0.733333</td>\n",
              "    </tr>\n",
              "    <tr>\n",
              "      <td>32000</td>\n",
              "      <td>1.095800</td>\n",
              "      <td>1.108008</td>\n",
              "      <td>0.760771</td>\n",
              "    </tr>\n",
              "    <tr>\n",
              "      <td>34000</td>\n",
              "      <td>1.240100</td>\n",
              "      <td>1.076699</td>\n",
              "      <td>0.775656</td>\n",
              "    </tr>\n",
              "    <tr>\n",
              "      <td>36000</td>\n",
              "      <td>1.072100</td>\n",
              "      <td>1.069751</td>\n",
              "      <td>0.781600</td>\n",
              "    </tr>\n",
              "    <tr>\n",
              "      <td>38000</td>\n",
              "      <td>1.238900</td>\n",
              "      <td>0.966917</td>\n",
              "      <td>0.778502</td>\n",
              "    </tr>\n",
              "    <tr>\n",
              "      <td>40000</td>\n",
              "      <td>1.152100</td>\n",
              "      <td>1.049681</td>\n",
              "      <td>0.801063</td>\n",
              "    </tr>\n",
              "    <tr>\n",
              "      <td>42000</td>\n",
              "      <td>1.289000</td>\n",
              "      <td>0.917524</td>\n",
              "      <td>0.806439</td>\n",
              "    </tr>\n",
              "    <tr>\n",
              "      <td>44000</td>\n",
              "      <td>1.149300</td>\n",
              "      <td>1.049299</td>\n",
              "      <td>0.787304</td>\n",
              "    </tr>\n",
              "    <tr>\n",
              "      <td>46000</td>\n",
              "      <td>1.244500</td>\n",
              "      <td>0.985242</td>\n",
              "      <td>0.795576</td>\n",
              "    </tr>\n",
              "    <tr>\n",
              "      <td>48000</td>\n",
              "      <td>1.171600</td>\n",
              "      <td>0.997140</td>\n",
              "      <td>0.798199</td>\n",
              "    </tr>\n",
              "    <tr>\n",
              "      <td>50000</td>\n",
              "      <td>0.879100</td>\n",
              "      <td>0.945602</td>\n",
              "      <td>0.834499</td>\n",
              "    </tr>\n",
              "    <tr>\n",
              "      <td>52000</td>\n",
              "      <td>1.065300</td>\n",
              "      <td>0.905916</td>\n",
              "      <td>0.837466</td>\n",
              "    </tr>\n",
              "    <tr>\n",
              "      <td>54000</td>\n",
              "      <td>0.669900</td>\n",
              "      <td>0.985092</td>\n",
              "      <td>0.841980</td>\n",
              "    </tr>\n",
              "    <tr>\n",
              "      <td>56000</td>\n",
              "      <td>0.777300</td>\n",
              "      <td>0.896116</td>\n",
              "      <td>0.849805</td>\n",
              "    </tr>\n",
              "    <tr>\n",
              "      <td>58000</td>\n",
              "      <td>0.853700</td>\n",
              "      <td>0.870269</td>\n",
              "      <td>0.848604</td>\n",
              "    </tr>\n",
              "    <tr>\n",
              "      <td>60000</td>\n",
              "      <td>0.932500</td>\n",
              "      <td>0.762889</td>\n",
              "      <td>0.857255</td>\n",
              "    </tr>\n",
              "    <tr>\n",
              "      <td>62000</td>\n",
              "      <td>0.962100</td>\n",
              "      <td>0.910981</td>\n",
              "      <td>0.829742</td>\n",
              "    </tr>\n",
              "    <tr>\n",
              "      <td>64000</td>\n",
              "      <td>0.865400</td>\n",
              "      <td>0.822063</td>\n",
              "      <td>0.856092</td>\n",
              "    </tr>\n",
              "    <tr>\n",
              "      <td>66000</td>\n",
              "      <td>0.902700</td>\n",
              "      <td>0.741515</td>\n",
              "      <td>0.862179</td>\n",
              "    </tr>\n",
              "    <tr>\n",
              "      <td>68000</td>\n",
              "      <td>0.902800</td>\n",
              "      <td>0.743486</td>\n",
              "      <td>0.866771</td>\n",
              "    </tr>\n",
              "    <tr>\n",
              "      <td>70000</td>\n",
              "      <td>0.905300</td>\n",
              "      <td>0.725552</td>\n",
              "      <td>0.869391</td>\n",
              "    </tr>\n",
              "    <tr>\n",
              "      <td>72000</td>\n",
              "      <td>0.904100</td>\n",
              "      <td>0.705573</td>\n",
              "      <td>0.874803</td>\n",
              "    </tr>\n",
              "    <tr>\n",
              "      <td>74000</td>\n",
              "      <td>0.559900</td>\n",
              "      <td>0.780125</td>\n",
              "      <td>0.879489</td>\n",
              "    </tr>\n",
              "    <tr>\n",
              "      <td>76000</td>\n",
              "      <td>0.544000</td>\n",
              "      <td>0.820941</td>\n",
              "      <td>0.873881</td>\n",
              "    </tr>\n",
              "    <tr>\n",
              "      <td>78000</td>\n",
              "      <td>0.684700</td>\n",
              "      <td>0.712399</td>\n",
              "      <td>0.882400</td>\n",
              "    </tr>\n",
              "    <tr>\n",
              "      <td>80000</td>\n",
              "      <td>0.560200</td>\n",
              "      <td>0.783400</td>\n",
              "      <td>0.882329</td>\n",
              "    </tr>\n",
              "    <tr>\n",
              "      <td>82000</td>\n",
              "      <td>0.569500</td>\n",
              "      <td>0.732740</td>\n",
              "      <td>0.885273</td>\n",
              "    </tr>\n",
              "    <tr>\n",
              "      <td>84000</td>\n",
              "      <td>0.683800</td>\n",
              "      <td>0.698331</td>\n",
              "      <td>0.887813</td>\n",
              "    </tr>\n",
              "    <tr>\n",
              "      <td>86000</td>\n",
              "      <td>0.594100</td>\n",
              "      <td>0.673129</td>\n",
              "      <td>0.891967</td>\n",
              "    </tr>\n",
              "    <tr>\n",
              "      <td>88000</td>\n",
              "      <td>0.736500</td>\n",
              "      <td>0.648581</td>\n",
              "      <td>0.894525</td>\n",
              "    </tr>\n",
              "    <tr>\n",
              "      <td>90000</td>\n",
              "      <td>0.669700</td>\n",
              "      <td>0.692866</td>\n",
              "      <td>0.895740</td>\n",
              "    </tr>\n",
              "    <tr>\n",
              "      <td>92000</td>\n",
              "      <td>0.759100</td>\n",
              "      <td>0.671831</td>\n",
              "      <td>0.893046</td>\n",
              "    </tr>\n",
              "    <tr>\n",
              "      <td>94000</td>\n",
              "      <td>0.618700</td>\n",
              "      <td>0.653298</td>\n",
              "      <td>0.898305</td>\n",
              "    </tr>\n",
              "    <tr>\n",
              "      <td>96000</td>\n",
              "      <td>0.539600</td>\n",
              "      <td>0.648853</td>\n",
              "      <td>0.901038</td>\n",
              "    </tr>\n",
              "    <tr>\n",
              "      <td>98000</td>\n",
              "      <td>0.432100</td>\n",
              "      <td>0.689072</td>\n",
              "      <td>0.901408</td>\n",
              "    </tr>\n",
              "    <tr>\n",
              "      <td>100000</td>\n",
              "      <td>0.406000</td>\n",
              "      <td>0.695587</td>\n",
              "      <td>0.901329</td>\n",
              "    </tr>\n",
              "    <tr>\n",
              "      <td>102000</td>\n",
              "      <td>0.399600</td>\n",
              "      <td>0.716930</td>\n",
              "      <td>0.897227</td>\n",
              "    </tr>\n",
              "    <tr>\n",
              "      <td>104000</td>\n",
              "      <td>0.426100</td>\n",
              "      <td>0.696288</td>\n",
              "      <td>0.904165</td>\n",
              "    </tr>\n",
              "    <tr>\n",
              "      <td>106000</td>\n",
              "      <td>0.518300</td>\n",
              "      <td>0.696485</td>\n",
              "      <td>0.900000</td>\n",
              "    </tr>\n",
              "    <tr>\n",
              "      <td>108000</td>\n",
              "      <td>0.511400</td>\n",
              "      <td>0.696914</td>\n",
              "      <td>0.902548</td>\n",
              "    </tr>\n",
              "    <tr>\n",
              "      <td>110000</td>\n",
              "      <td>0.491500</td>\n",
              "      <td>0.690404</td>\n",
              "      <td>0.902135</td>\n",
              "    </tr>\n",
              "    <tr>\n",
              "      <td>112000</td>\n",
              "      <td>0.308700</td>\n",
              "      <td>0.696713</td>\n",
              "      <td>0.903096</td>\n",
              "    </tr>\n",
              "    <tr>\n",
              "      <td>114000</td>\n",
              "      <td>0.341000</td>\n",
              "      <td>0.683712</td>\n",
              "      <td>0.904362</td>\n",
              "    </tr>\n",
              "    <tr>\n",
              "      <td>116000</td>\n",
              "      <td>0.389800</td>\n",
              "      <td>0.665229</td>\n",
              "      <td>0.905614</td>\n",
              "    </tr>\n",
              "    <tr>\n",
              "      <td>118000</td>\n",
              "      <td>0.432000</td>\n",
              "      <td>0.665787</td>\n",
              "      <td>0.904645</td>\n",
              "    </tr>\n",
              "    <tr>\n",
              "      <td>120000</td>\n",
              "      <td>0.556800</td>\n",
              "      <td>0.657505</td>\n",
              "      <td>0.906580</td>\n",
              "    </tr>\n",
              "  </tbody>\n",
              "</table><p>"
            ]
          },
          "metadata": {}
        },
        {
          "output_type": "stream",
          "name": "stderr",
          "text": [
            "***** Running Evaluation *****\n",
            "  Num examples = 2400\n",
            "  Batch size = 1\n",
            "Saving model checkpoint to training_with_callbacks/checkpoint-2000\n",
            "Configuration saved in training_with_callbacks/checkpoint-2000/config.json\n",
            "Model weights saved in training_with_callbacks/checkpoint-2000/pytorch_model.bin\n",
            "Deleting older checkpoint [training_with_callbacks/checkpoint-4000] due to args.save_total_limit\n",
            "***** Running Evaluation *****\n",
            "  Num examples = 2400\n",
            "  Batch size = 1\n",
            "Saving model checkpoint to training_with_callbacks/checkpoint-4000\n",
            "Configuration saved in training_with_callbacks/checkpoint-4000/config.json\n",
            "Model weights saved in training_with_callbacks/checkpoint-4000/pytorch_model.bin\n",
            "Deleting older checkpoint [training_with_callbacks/checkpoint-6000] due to args.save_total_limit\n",
            "***** Running Evaluation *****\n",
            "  Num examples = 2400\n",
            "  Batch size = 1\n",
            "Saving model checkpoint to training_with_callbacks/checkpoint-6000\n",
            "Configuration saved in training_with_callbacks/checkpoint-6000/config.json\n",
            "Model weights saved in training_with_callbacks/checkpoint-6000/pytorch_model.bin\n",
            "Deleting older checkpoint [training_with_callbacks/checkpoint-8000] due to args.save_total_limit\n",
            "***** Running Evaluation *****\n",
            "  Num examples = 2400\n",
            "  Batch size = 1\n",
            "Saving model checkpoint to training_with_callbacks/checkpoint-8000\n",
            "Configuration saved in training_with_callbacks/checkpoint-8000/config.json\n",
            "Model weights saved in training_with_callbacks/checkpoint-8000/pytorch_model.bin\n",
            "Deleting older checkpoint [training_with_callbacks/checkpoint-4000] due to args.save_total_limit\n",
            "***** Running Evaluation *****\n",
            "  Num examples = 2400\n",
            "  Batch size = 1\n",
            "Saving model checkpoint to training_with_callbacks/checkpoint-10000\n",
            "Configuration saved in training_with_callbacks/checkpoint-10000/config.json\n",
            "Model weights saved in training_with_callbacks/checkpoint-10000/pytorch_model.bin\n",
            "Deleting older checkpoint [training_with_callbacks/checkpoint-6000] due to args.save_total_limit\n",
            "***** Running Evaluation *****\n",
            "  Num examples = 2400\n",
            "  Batch size = 1\n",
            "Saving model checkpoint to training_with_callbacks/checkpoint-12000\n",
            "Configuration saved in training_with_callbacks/checkpoint-12000/config.json\n",
            "Model weights saved in training_with_callbacks/checkpoint-12000/pytorch_model.bin\n",
            "Deleting older checkpoint [training_with_callbacks/checkpoint-8000] due to args.save_total_limit\n",
            "***** Running Evaluation *****\n",
            "  Num examples = 2400\n",
            "  Batch size = 1\n",
            "Saving model checkpoint to training_with_callbacks/checkpoint-14000\n",
            "Configuration saved in training_with_callbacks/checkpoint-14000/config.json\n",
            "Model weights saved in training_with_callbacks/checkpoint-14000/pytorch_model.bin\n",
            "Deleting older checkpoint [training_with_callbacks/checkpoint-10000] due to args.save_total_limit\n",
            "***** Running Evaluation *****\n",
            "  Num examples = 2400\n",
            "  Batch size = 1\n",
            "Saving model checkpoint to training_with_callbacks/checkpoint-16000\n",
            "Configuration saved in training_with_callbacks/checkpoint-16000/config.json\n",
            "Model weights saved in training_with_callbacks/checkpoint-16000/pytorch_model.bin\n",
            "Deleting older checkpoint [training_with_callbacks/checkpoint-2000] due to args.save_total_limit\n",
            "***** Running Evaluation *****\n",
            "  Num examples = 2400\n",
            "  Batch size = 1\n",
            "Saving model checkpoint to training_with_callbacks/checkpoint-18000\n",
            "Configuration saved in training_with_callbacks/checkpoint-18000/config.json\n",
            "Model weights saved in training_with_callbacks/checkpoint-18000/pytorch_model.bin\n",
            "Deleting older checkpoint [training_with_callbacks/checkpoint-12000] due to args.save_total_limit\n",
            "***** Running Evaluation *****\n",
            "  Num examples = 2400\n",
            "  Batch size = 1\n",
            "Saving model checkpoint to training_with_callbacks/checkpoint-20000\n",
            "Configuration saved in training_with_callbacks/checkpoint-20000/config.json\n",
            "Model weights saved in training_with_callbacks/checkpoint-20000/pytorch_model.bin\n",
            "Deleting older checkpoint [training_with_callbacks/checkpoint-14000] due to args.save_total_limit\n",
            "***** Running Evaluation *****\n",
            "  Num examples = 2400\n",
            "  Batch size = 1\n",
            "Saving model checkpoint to training_with_callbacks/checkpoint-22000\n",
            "Configuration saved in training_with_callbacks/checkpoint-22000/config.json\n",
            "Model weights saved in training_with_callbacks/checkpoint-22000/pytorch_model.bin\n",
            "Deleting older checkpoint [training_with_callbacks/checkpoint-16000] due to args.save_total_limit\n",
            "***** Running Evaluation *****\n",
            "  Num examples = 2400\n",
            "  Batch size = 1\n",
            "Saving model checkpoint to training_with_callbacks/checkpoint-24000\n",
            "Configuration saved in training_with_callbacks/checkpoint-24000/config.json\n",
            "Model weights saved in training_with_callbacks/checkpoint-24000/pytorch_model.bin\n",
            "Deleting older checkpoint [training_with_callbacks/checkpoint-18000] due to args.save_total_limit\n",
            "***** Running Evaluation *****\n",
            "  Num examples = 2400\n",
            "  Batch size = 1\n",
            "Saving model checkpoint to training_with_callbacks/checkpoint-26000\n",
            "Configuration saved in training_with_callbacks/checkpoint-26000/config.json\n",
            "Model weights saved in training_with_callbacks/checkpoint-26000/pytorch_model.bin\n",
            "Deleting older checkpoint [training_with_callbacks/checkpoint-20000] due to args.save_total_limit\n",
            "***** Running Evaluation *****\n",
            "  Num examples = 2400\n",
            "  Batch size = 1\n",
            "Saving model checkpoint to training_with_callbacks/checkpoint-28000\n",
            "Configuration saved in training_with_callbacks/checkpoint-28000/config.json\n",
            "Model weights saved in training_with_callbacks/checkpoint-28000/pytorch_model.bin\n",
            "Deleting older checkpoint [training_with_callbacks/checkpoint-22000] due to args.save_total_limit\n",
            "***** Running Evaluation *****\n",
            "  Num examples = 2400\n",
            "  Batch size = 1\n",
            "Saving model checkpoint to training_with_callbacks/checkpoint-30000\n",
            "Configuration saved in training_with_callbacks/checkpoint-30000/config.json\n",
            "Model weights saved in training_with_callbacks/checkpoint-30000/pytorch_model.bin\n",
            "Deleting older checkpoint [training_with_callbacks/checkpoint-24000] due to args.save_total_limit\n",
            "***** Running Evaluation *****\n",
            "  Num examples = 2400\n",
            "  Batch size = 1\n",
            "Saving model checkpoint to training_with_callbacks/checkpoint-32000\n",
            "Configuration saved in training_with_callbacks/checkpoint-32000/config.json\n",
            "Model weights saved in training_with_callbacks/checkpoint-32000/pytorch_model.bin\n",
            "Deleting older checkpoint [training_with_callbacks/checkpoint-26000] due to args.save_total_limit\n",
            "***** Running Evaluation *****\n",
            "  Num examples = 2400\n",
            "  Batch size = 1\n",
            "Saving model checkpoint to training_with_callbacks/checkpoint-34000\n",
            "Configuration saved in training_with_callbacks/checkpoint-34000/config.json\n",
            "Model weights saved in training_with_callbacks/checkpoint-34000/pytorch_model.bin\n",
            "Deleting older checkpoint [training_with_callbacks/checkpoint-28000] due to args.save_total_limit\n",
            "***** Running Evaluation *****\n",
            "  Num examples = 2400\n",
            "  Batch size = 1\n",
            "Saving model checkpoint to training_with_callbacks/checkpoint-36000\n",
            "Configuration saved in training_with_callbacks/checkpoint-36000/config.json\n",
            "Model weights saved in training_with_callbacks/checkpoint-36000/pytorch_model.bin\n",
            "Deleting older checkpoint [training_with_callbacks/checkpoint-30000] due to args.save_total_limit\n",
            "***** Running Evaluation *****\n",
            "  Num examples = 2400\n",
            "  Batch size = 1\n",
            "Saving model checkpoint to training_with_callbacks/checkpoint-38000\n",
            "Configuration saved in training_with_callbacks/checkpoint-38000/config.json\n",
            "Model weights saved in training_with_callbacks/checkpoint-38000/pytorch_model.bin\n",
            "Deleting older checkpoint [training_with_callbacks/checkpoint-32000] due to args.save_total_limit\n",
            "***** Running Evaluation *****\n",
            "  Num examples = 2400\n",
            "  Batch size = 1\n",
            "Saving model checkpoint to training_with_callbacks/checkpoint-40000\n",
            "Configuration saved in training_with_callbacks/checkpoint-40000/config.json\n",
            "Model weights saved in training_with_callbacks/checkpoint-40000/pytorch_model.bin\n",
            "Deleting older checkpoint [training_with_callbacks/checkpoint-34000] due to args.save_total_limit\n",
            "***** Running Evaluation *****\n",
            "  Num examples = 2400\n",
            "  Batch size = 1\n",
            "Saving model checkpoint to training_with_callbacks/checkpoint-42000\n",
            "Configuration saved in training_with_callbacks/checkpoint-42000/config.json\n",
            "Model weights saved in training_with_callbacks/checkpoint-42000/pytorch_model.bin\n",
            "Deleting older checkpoint [training_with_callbacks/checkpoint-36000] due to args.save_total_limit\n",
            "***** Running Evaluation *****\n",
            "  Num examples = 2400\n",
            "  Batch size = 1\n",
            "Saving model checkpoint to training_with_callbacks/checkpoint-44000\n",
            "Configuration saved in training_with_callbacks/checkpoint-44000/config.json\n",
            "Model weights saved in training_with_callbacks/checkpoint-44000/pytorch_model.bin\n",
            "Deleting older checkpoint [training_with_callbacks/checkpoint-38000] due to args.save_total_limit\n",
            "***** Running Evaluation *****\n",
            "  Num examples = 2400\n",
            "  Batch size = 1\n",
            "Saving model checkpoint to training_with_callbacks/checkpoint-46000\n",
            "Configuration saved in training_with_callbacks/checkpoint-46000/config.json\n",
            "Model weights saved in training_with_callbacks/checkpoint-46000/pytorch_model.bin\n",
            "Deleting older checkpoint [training_with_callbacks/checkpoint-40000] due to args.save_total_limit\n",
            "***** Running Evaluation *****\n",
            "  Num examples = 2400\n",
            "  Batch size = 1\n",
            "Saving model checkpoint to training_with_callbacks/checkpoint-48000\n",
            "Configuration saved in training_with_callbacks/checkpoint-48000/config.json\n",
            "Model weights saved in training_with_callbacks/checkpoint-48000/pytorch_model.bin\n",
            "Deleting older checkpoint [training_with_callbacks/checkpoint-44000] due to args.save_total_limit\n",
            "***** Running Evaluation *****\n",
            "  Num examples = 2400\n",
            "  Batch size = 1\n",
            "Saving model checkpoint to training_with_callbacks/checkpoint-50000\n",
            "Configuration saved in training_with_callbacks/checkpoint-50000/config.json\n",
            "Model weights saved in training_with_callbacks/checkpoint-50000/pytorch_model.bin\n",
            "Deleting older checkpoint [training_with_callbacks/checkpoint-42000] due to args.save_total_limit\n",
            "***** Running Evaluation *****\n",
            "  Num examples = 2400\n",
            "  Batch size = 1\n",
            "Saving model checkpoint to training_with_callbacks/checkpoint-52000\n",
            "Configuration saved in training_with_callbacks/checkpoint-52000/config.json\n",
            "Model weights saved in training_with_callbacks/checkpoint-52000/pytorch_model.bin\n",
            "Deleting older checkpoint [training_with_callbacks/checkpoint-46000] due to args.save_total_limit\n",
            "***** Running Evaluation *****\n",
            "  Num examples = 2400\n",
            "  Batch size = 1\n",
            "Saving model checkpoint to training_with_callbacks/checkpoint-54000\n",
            "Configuration saved in training_with_callbacks/checkpoint-54000/config.json\n",
            "Model weights saved in training_with_callbacks/checkpoint-54000/pytorch_model.bin\n",
            "Deleting older checkpoint [training_with_callbacks/checkpoint-48000] due to args.save_total_limit\n",
            "***** Running Evaluation *****\n",
            "  Num examples = 2400\n",
            "  Batch size = 1\n",
            "Saving model checkpoint to training_with_callbacks/checkpoint-56000\n",
            "Configuration saved in training_with_callbacks/checkpoint-56000/config.json\n",
            "Model weights saved in training_with_callbacks/checkpoint-56000/pytorch_model.bin\n",
            "Deleting older checkpoint [training_with_callbacks/checkpoint-50000] due to args.save_total_limit\n",
            "***** Running Evaluation *****\n",
            "  Num examples = 2400\n",
            "  Batch size = 1\n",
            "Saving model checkpoint to training_with_callbacks/checkpoint-58000\n",
            "Configuration saved in training_with_callbacks/checkpoint-58000/config.json\n",
            "Model weights saved in training_with_callbacks/checkpoint-58000/pytorch_model.bin\n",
            "Deleting older checkpoint [training_with_callbacks/checkpoint-52000] due to args.save_total_limit\n",
            "***** Running Evaluation *****\n",
            "  Num examples = 2400\n",
            "  Batch size = 1\n",
            "Saving model checkpoint to training_with_callbacks/checkpoint-60000\n",
            "Configuration saved in training_with_callbacks/checkpoint-60000/config.json\n",
            "Model weights saved in training_with_callbacks/checkpoint-60000/pytorch_model.bin\n",
            "Deleting older checkpoint [training_with_callbacks/checkpoint-54000] due to args.save_total_limit\n",
            "***** Running Evaluation *****\n",
            "  Num examples = 2400\n",
            "  Batch size = 1\n",
            "Saving model checkpoint to training_with_callbacks/checkpoint-62000\n",
            "Configuration saved in training_with_callbacks/checkpoint-62000/config.json\n",
            "Model weights saved in training_with_callbacks/checkpoint-62000/pytorch_model.bin\n",
            "Deleting older checkpoint [training_with_callbacks/checkpoint-56000] due to args.save_total_limit\n",
            "***** Running Evaluation *****\n",
            "  Num examples = 2400\n",
            "  Batch size = 1\n",
            "Saving model checkpoint to training_with_callbacks/checkpoint-64000\n",
            "Configuration saved in training_with_callbacks/checkpoint-64000/config.json\n",
            "Model weights saved in training_with_callbacks/checkpoint-64000/pytorch_model.bin\n",
            "Deleting older checkpoint [training_with_callbacks/checkpoint-58000] due to args.save_total_limit\n",
            "***** Running Evaluation *****\n",
            "  Num examples = 2400\n",
            "  Batch size = 1\n",
            "Saving model checkpoint to training_with_callbacks/checkpoint-66000\n",
            "Configuration saved in training_with_callbacks/checkpoint-66000/config.json\n",
            "Model weights saved in training_with_callbacks/checkpoint-66000/pytorch_model.bin\n",
            "Deleting older checkpoint [training_with_callbacks/checkpoint-60000] due to args.save_total_limit\n",
            "***** Running Evaluation *****\n",
            "  Num examples = 2400\n",
            "  Batch size = 1\n",
            "Saving model checkpoint to training_with_callbacks/checkpoint-68000\n",
            "Configuration saved in training_with_callbacks/checkpoint-68000/config.json\n",
            "Model weights saved in training_with_callbacks/checkpoint-68000/pytorch_model.bin\n",
            "Deleting older checkpoint [training_with_callbacks/checkpoint-62000] due to args.save_total_limit\n",
            "***** Running Evaluation *****\n",
            "  Num examples = 2400\n",
            "  Batch size = 1\n",
            "Saving model checkpoint to training_with_callbacks/checkpoint-70000\n",
            "Configuration saved in training_with_callbacks/checkpoint-70000/config.json\n",
            "Model weights saved in training_with_callbacks/checkpoint-70000/pytorch_model.bin\n",
            "Deleting older checkpoint [training_with_callbacks/checkpoint-64000] due to args.save_total_limit\n",
            "***** Running Evaluation *****\n",
            "  Num examples = 2400\n",
            "  Batch size = 1\n",
            "Saving model checkpoint to training_with_callbacks/checkpoint-72000\n",
            "Configuration saved in training_with_callbacks/checkpoint-72000/config.json\n",
            "Model weights saved in training_with_callbacks/checkpoint-72000/pytorch_model.bin\n",
            "Deleting older checkpoint [training_with_callbacks/checkpoint-66000] due to args.save_total_limit\n",
            "***** Running Evaluation *****\n",
            "  Num examples = 2400\n",
            "  Batch size = 1\n",
            "Saving model checkpoint to training_with_callbacks/checkpoint-74000\n",
            "Configuration saved in training_with_callbacks/checkpoint-74000/config.json\n",
            "Model weights saved in training_with_callbacks/checkpoint-74000/pytorch_model.bin\n",
            "Deleting older checkpoint [training_with_callbacks/checkpoint-68000] due to args.save_total_limit\n",
            "***** Running Evaluation *****\n",
            "  Num examples = 2400\n",
            "  Batch size = 1\n",
            "Saving model checkpoint to training_with_callbacks/checkpoint-76000\n",
            "Configuration saved in training_with_callbacks/checkpoint-76000/config.json\n",
            "Model weights saved in training_with_callbacks/checkpoint-76000/pytorch_model.bin\n",
            "Deleting older checkpoint [training_with_callbacks/checkpoint-70000] due to args.save_total_limit\n",
            "***** Running Evaluation *****\n",
            "  Num examples = 2400\n",
            "  Batch size = 1\n",
            "Saving model checkpoint to training_with_callbacks/checkpoint-78000\n",
            "Configuration saved in training_with_callbacks/checkpoint-78000/config.json\n",
            "Model weights saved in training_with_callbacks/checkpoint-78000/pytorch_model.bin\n",
            "Deleting older checkpoint [training_with_callbacks/checkpoint-72000] due to args.save_total_limit\n",
            "***** Running Evaluation *****\n",
            "  Num examples = 2400\n",
            "  Batch size = 1\n",
            "Saving model checkpoint to training_with_callbacks/checkpoint-80000\n",
            "Configuration saved in training_with_callbacks/checkpoint-80000/config.json\n",
            "Model weights saved in training_with_callbacks/checkpoint-80000/pytorch_model.bin\n",
            "Deleting older checkpoint [training_with_callbacks/checkpoint-74000] due to args.save_total_limit\n",
            "***** Running Evaluation *****\n",
            "  Num examples = 2400\n",
            "  Batch size = 1\n",
            "Saving model checkpoint to training_with_callbacks/checkpoint-82000\n",
            "Configuration saved in training_with_callbacks/checkpoint-82000/config.json\n",
            "Model weights saved in training_with_callbacks/checkpoint-82000/pytorch_model.bin\n",
            "Deleting older checkpoint [training_with_callbacks/checkpoint-76000] due to args.save_total_limit\n",
            "***** Running Evaluation *****\n",
            "  Num examples = 2400\n",
            "  Batch size = 1\n",
            "Saving model checkpoint to training_with_callbacks/checkpoint-84000\n",
            "Configuration saved in training_with_callbacks/checkpoint-84000/config.json\n",
            "Model weights saved in training_with_callbacks/checkpoint-84000/pytorch_model.bin\n",
            "Deleting older checkpoint [training_with_callbacks/checkpoint-78000] due to args.save_total_limit\n",
            "***** Running Evaluation *****\n",
            "  Num examples = 2400\n",
            "  Batch size = 1\n",
            "Saving model checkpoint to training_with_callbacks/checkpoint-86000\n",
            "Configuration saved in training_with_callbacks/checkpoint-86000/config.json\n",
            "Model weights saved in training_with_callbacks/checkpoint-86000/pytorch_model.bin\n",
            "Deleting older checkpoint [training_with_callbacks/checkpoint-80000] due to args.save_total_limit\n",
            "***** Running Evaluation *****\n",
            "  Num examples = 2400\n",
            "  Batch size = 1\n",
            "Saving model checkpoint to training_with_callbacks/checkpoint-88000\n",
            "Configuration saved in training_with_callbacks/checkpoint-88000/config.json\n",
            "Model weights saved in training_with_callbacks/checkpoint-88000/pytorch_model.bin\n",
            "Deleting older checkpoint [training_with_callbacks/checkpoint-82000] due to args.save_total_limit\n",
            "***** Running Evaluation *****\n",
            "  Num examples = 2400\n",
            "  Batch size = 1\n",
            "Saving model checkpoint to training_with_callbacks/checkpoint-90000\n",
            "Configuration saved in training_with_callbacks/checkpoint-90000/config.json\n",
            "Model weights saved in training_with_callbacks/checkpoint-90000/pytorch_model.bin\n",
            "Deleting older checkpoint [training_with_callbacks/checkpoint-84000] due to args.save_total_limit\n",
            "***** Running Evaluation *****\n",
            "  Num examples = 2400\n",
            "  Batch size = 1\n",
            "Saving model checkpoint to training_with_callbacks/checkpoint-92000\n",
            "Configuration saved in training_with_callbacks/checkpoint-92000/config.json\n",
            "Model weights saved in training_with_callbacks/checkpoint-92000/pytorch_model.bin\n",
            "Deleting older checkpoint [training_with_callbacks/checkpoint-86000] due to args.save_total_limit\n",
            "***** Running Evaluation *****\n",
            "  Num examples = 2400\n",
            "  Batch size = 1\n",
            "Saving model checkpoint to training_with_callbacks/checkpoint-94000\n",
            "Configuration saved in training_with_callbacks/checkpoint-94000/config.json\n",
            "Model weights saved in training_with_callbacks/checkpoint-94000/pytorch_model.bin\n",
            "Deleting older checkpoint [training_with_callbacks/checkpoint-88000] due to args.save_total_limit\n",
            "***** Running Evaluation *****\n",
            "  Num examples = 2400\n",
            "  Batch size = 1\n",
            "Saving model checkpoint to training_with_callbacks/checkpoint-96000\n",
            "Configuration saved in training_with_callbacks/checkpoint-96000/config.json\n",
            "Model weights saved in training_with_callbacks/checkpoint-96000/pytorch_model.bin\n",
            "Deleting older checkpoint [training_with_callbacks/checkpoint-90000] due to args.save_total_limit\n",
            "***** Running Evaluation *****\n",
            "  Num examples = 2400\n",
            "  Batch size = 1\n",
            "Saving model checkpoint to training_with_callbacks/checkpoint-98000\n",
            "Configuration saved in training_with_callbacks/checkpoint-98000/config.json\n",
            "Model weights saved in training_with_callbacks/checkpoint-98000/pytorch_model.bin\n",
            "Deleting older checkpoint [training_with_callbacks/checkpoint-92000] due to args.save_total_limit\n",
            "***** Running Evaluation *****\n",
            "  Num examples = 2400\n",
            "  Batch size = 1\n",
            "Saving model checkpoint to training_with_callbacks/checkpoint-100000\n",
            "Configuration saved in training_with_callbacks/checkpoint-100000/config.json\n",
            "Model weights saved in training_with_callbacks/checkpoint-100000/pytorch_model.bin\n",
            "Deleting older checkpoint [training_with_callbacks/checkpoint-94000] due to args.save_total_limit\n",
            "***** Running Evaluation *****\n",
            "  Num examples = 2400\n",
            "  Batch size = 1\n",
            "Saving model checkpoint to training_with_callbacks/checkpoint-102000\n",
            "Configuration saved in training_with_callbacks/checkpoint-102000/config.json\n",
            "Model weights saved in training_with_callbacks/checkpoint-102000/pytorch_model.bin\n",
            "Deleting older checkpoint [training_with_callbacks/checkpoint-96000] due to args.save_total_limit\n",
            "***** Running Evaluation *****\n",
            "  Num examples = 2400\n",
            "  Batch size = 1\n",
            "Saving model checkpoint to training_with_callbacks/checkpoint-104000\n",
            "Configuration saved in training_with_callbacks/checkpoint-104000/config.json\n",
            "Model weights saved in training_with_callbacks/checkpoint-104000/pytorch_model.bin\n",
            "Deleting older checkpoint [training_with_callbacks/checkpoint-98000] due to args.save_total_limit\n",
            "***** Running Evaluation *****\n",
            "  Num examples = 2400\n",
            "  Batch size = 1\n",
            "Saving model checkpoint to training_with_callbacks/checkpoint-106000\n",
            "Configuration saved in training_with_callbacks/checkpoint-106000/config.json\n",
            "Model weights saved in training_with_callbacks/checkpoint-106000/pytorch_model.bin\n",
            "Deleting older checkpoint [training_with_callbacks/checkpoint-100000] due to args.save_total_limit\n",
            "***** Running Evaluation *****\n",
            "  Num examples = 2400\n",
            "  Batch size = 1\n",
            "Saving model checkpoint to training_with_callbacks/checkpoint-108000\n",
            "Configuration saved in training_with_callbacks/checkpoint-108000/config.json\n",
            "Model weights saved in training_with_callbacks/checkpoint-108000/pytorch_model.bin\n",
            "Deleting older checkpoint [training_with_callbacks/checkpoint-102000] due to args.save_total_limit\n",
            "***** Running Evaluation *****\n",
            "  Num examples = 2400\n",
            "  Batch size = 1\n",
            "Saving model checkpoint to training_with_callbacks/checkpoint-110000\n",
            "Configuration saved in training_with_callbacks/checkpoint-110000/config.json\n",
            "Model weights saved in training_with_callbacks/checkpoint-110000/pytorch_model.bin\n",
            "Deleting older checkpoint [training_with_callbacks/checkpoint-106000] due to args.save_total_limit\n",
            "***** Running Evaluation *****\n",
            "  Num examples = 2400\n",
            "  Batch size = 1\n",
            "Saving model checkpoint to training_with_callbacks/checkpoint-112000\n",
            "Configuration saved in training_with_callbacks/checkpoint-112000/config.json\n",
            "Model weights saved in training_with_callbacks/checkpoint-112000/pytorch_model.bin\n",
            "Deleting older checkpoint [training_with_callbacks/checkpoint-108000] due to args.save_total_limit\n",
            "***** Running Evaluation *****\n",
            "  Num examples = 2400\n",
            "  Batch size = 1\n",
            "Saving model checkpoint to training_with_callbacks/checkpoint-114000\n",
            "Configuration saved in training_with_callbacks/checkpoint-114000/config.json\n",
            "Model weights saved in training_with_callbacks/checkpoint-114000/pytorch_model.bin\n",
            "Deleting older checkpoint [training_with_callbacks/checkpoint-104000] due to args.save_total_limit\n",
            "***** Running Evaluation *****\n",
            "  Num examples = 2400\n",
            "  Batch size = 1\n",
            "Saving model checkpoint to training_with_callbacks/checkpoint-116000\n",
            "Configuration saved in training_with_callbacks/checkpoint-116000/config.json\n",
            "Model weights saved in training_with_callbacks/checkpoint-116000/pytorch_model.bin\n",
            "Deleting older checkpoint [training_with_callbacks/checkpoint-110000] due to args.save_total_limit\n",
            "***** Running Evaluation *****\n",
            "  Num examples = 2400\n",
            "  Batch size = 1\n",
            "Saving model checkpoint to training_with_callbacks/checkpoint-118000\n",
            "Configuration saved in training_with_callbacks/checkpoint-118000/config.json\n",
            "Model weights saved in training_with_callbacks/checkpoint-118000/pytorch_model.bin\n",
            "Deleting older checkpoint [training_with_callbacks/checkpoint-112000] due to args.save_total_limit\n",
            "***** Running Evaluation *****\n",
            "  Num examples = 2400\n",
            "  Batch size = 1\n",
            "Saving model checkpoint to training_with_callbacks/checkpoint-120000\n",
            "Configuration saved in training_with_callbacks/checkpoint-120000/config.json\n",
            "Model weights saved in training_with_callbacks/checkpoint-120000/pytorch_model.bin\n",
            "Deleting older checkpoint [training_with_callbacks/checkpoint-114000] due to args.save_total_limit\n",
            "\n",
            "\n",
            "Training completed. Do not forget to share your model on huggingface.co/models =)\n",
            "\n",
            "\n",
            "Loading best model from training_with_callbacks/checkpoint-120000 (score: 0.9065800162469536).\n"
          ]
        },
        {
          "output_type": "execute_result",
          "data": {
            "text/plain": [
              "TrainOutput(global_step=120085, training_loss=0.9068586176756186, metrics={'train_runtime': 6405.9982, 'train_samples_per_second': 18.746, 'train_steps_per_second': 18.746, 'total_flos': 927539571368580.0, 'train_loss': 0.9068586176756186, 'epoch': 5.0})"
            ]
          },
          "metadata": {},
          "execution_count": 84
        }
      ],
      "source": [
        "trainer.train()"
      ]
    },
    {
      "cell_type": "code",
      "execution_count": 102,
      "metadata": {
        "id": "4uK2afSroMcn",
        "colab": {
          "base_uri": "https://localhost:8080/",
          "height": 176
        },
        "outputId": "1c9d38f1-c247-46ad-d7cd-20fe36cd3771"
      },
      "outputs": [
        {
          "output_type": "stream",
          "name": "stderr",
          "text": [
            "***** Running Evaluation *****\n",
            "  Num examples = 2400\n",
            "  Batch size = 1\n"
          ]
        },
        {
          "output_type": "display_data",
          "data": {
            "text/plain": [
              "<IPython.core.display.HTML object>"
            ],
            "text/html": [
              "\n",
              "    <div>\n",
              "      \n",
              "      <progress value='2400' max='2400' style='width:300px; height:20px; vertical-align: middle;'></progress>\n",
              "      [2400/2400 00:22]\n",
              "    </div>\n",
              "    "
            ]
          },
          "metadata": {}
        },
        {
          "output_type": "execute_result",
          "data": {
            "text/plain": [
              "{'eval_loss': 0.6575053334236145,\n",
              " 'eval_f1': 0.9065800162469536,\n",
              " 'eval_runtime': 22.6922,\n",
              " 'eval_samples_per_second': 105.763,\n",
              " 'eval_steps_per_second': 105.763}"
            ]
          },
          "metadata": {},
          "execution_count": 102
        }
      ],
      "source": [
        "trainer.evaluate(small_test_dataset)"
      ]
    },
    {
      "cell_type": "code",
      "execution_count": 87,
      "metadata": {
        "id": "fmvb9G-tq1wb",
        "colab": {
          "base_uri": "https://localhost:8080/"
        },
        "outputId": "36096991-60c8-41a3-db68-b472728b0119"
      },
      "outputs": [
        {
          "output_type": "stream",
          "name": "stdout",
          "text": [
            "Looking in indexes: https://pypi.org/simple, https://us-python.pkg.dev/colab-wheels/public/simple/\n",
            "Requirement already satisfied: huggingface_hub in /usr/local/lib/python3.8/dist-packages (0.11.1)\n",
            "Requirement already satisfied: requests in /usr/local/lib/python3.8/dist-packages (from huggingface_hub) (2.23.0)\n",
            "Requirement already satisfied: filelock in /usr/local/lib/python3.8/dist-packages (from huggingface_hub) (3.8.0)\n",
            "Requirement already satisfied: typing-extensions>=3.7.4.3 in /usr/local/lib/python3.8/dist-packages (from huggingface_hub) (4.4.0)\n",
            "Requirement already satisfied: pyyaml>=5.1 in /usr/local/lib/python3.8/dist-packages (from huggingface_hub) (6.0)\n",
            "Requirement already satisfied: packaging>=20.9 in /usr/local/lib/python3.8/dist-packages (from huggingface_hub) (21.3)\n",
            "Requirement already satisfied: tqdm in /usr/local/lib/python3.8/dist-packages (from huggingface_hub) (4.64.1)\n",
            "Requirement already satisfied: pyparsing!=3.0.5,>=2.0.2 in /usr/local/lib/python3.8/dist-packages (from packaging>=20.9->huggingface_hub) (3.0.9)\n",
            "Requirement already satisfied: chardet<4,>=3.0.2 in /usr/local/lib/python3.8/dist-packages (from requests->huggingface_hub) (3.0.4)\n",
            "Requirement already satisfied: certifi>=2017.4.17 in /usr/local/lib/python3.8/dist-packages (from requests->huggingface_hub) (2022.9.24)\n",
            "Requirement already satisfied: urllib3!=1.25.0,!=1.25.1,<1.26,>=1.21.1 in /usr/local/lib/python3.8/dist-packages (from requests->huggingface_hub) (1.25.11)\n",
            "Requirement already satisfied: idna<3,>=2.5 in /usr/local/lib/python3.8/dist-packages (from requests->huggingface_hub) (2.10)\n"
          ]
        }
      ],
      "source": [
        "#install huggingface_hub package to interact with huggingface platform\n",
        "!pip install huggingface_hub"
      ]
    },
    {
      "cell_type": "code",
      "execution_count": 89,
      "metadata": {
        "id": "vYz3n9rlMu7Q"
      },
      "outputs": [],
      "source": [
        "from huggingface_hub import notebook_login"
      ]
    },
    {
      "cell_type": "code",
      "execution_count": 90,
      "metadata": {
        "id": "K3tx48fLq5BX",
        "colab": {
          "base_uri": "https://localhost:8080/",
          "height": 415,
          "referenced_widgets": [
            "d8a8197b9f054264be9fc82c78ded7d1",
            "d6f1977a64124689ab9401687b06f2dc",
            "079b442d215943a698a2db2c418d3f6d",
            "ebeabaa3d1c847458239e154288ffd7e",
            "a2d4699a35fa4395993260ba03626e87",
            "70e4121f9c2f4ee48f6f8bf88a329f6a",
            "9119c101791148cbb84258b5e42628b0",
            "4049eae8f89041ffa5db6e5f77c5770d",
            "50ea09a76ace4852bc361e0765ca7668",
            "edabfa3951184ac9b5ee0f84e85d821d",
            "6d16e221160f4c0584bc686a605563fb",
            "76eb60cb57c2419ea15f0f05578189cc",
            "2f74352817114869a3d03941399aae2c",
            "65e718ab3db146b08f7559761267d9c5",
            "b96d2b1986c34d0d95ef1087f82220b4",
            "236175b213134256bc5f37a5a0a242ea",
            "5ee06bb983ae4c64a17dadf6b35c4b8c"
          ]
        },
        "outputId": "e10a477d-195c-42f4-de72-94bc87fd6122"
      },
      "outputs": [
        {
          "output_type": "stream",
          "name": "stdout",
          "text": [
            "Token is valid.\n",
            "Your token has been saved in your configured git credential helpers (store).\n",
            "Your token has been saved to /root/.huggingface/token\n",
            "Login successful\n"
          ]
        }
      ],
      "source": [
        "#login to huggingface\n",
        "notebook_login()"
      ]
    },
    {
      "cell_type": "code",
      "execution_count": 91,
      "metadata": {
        "id": "_F8ILd6Rrzdh",
        "colab": {
          "base_uri": "https://localhost:8080/"
        },
        "outputId": "ca037c2f-06a3-4299-8015-b3fab73ba375"
      },
      "outputs": [
        {
          "output_type": "stream",
          "name": "stderr",
          "text": [
            "Configuration saved in path/to/amharic-hate-speech-detection-finetuned-Roberta/config.json\n",
            "Model weights saved in path/to/amharic-hate-speech-detection-finetuned-Roberta/pytorch_model.bin\n",
            "tokenizer config file saved in path/to/amharic-hate-speech-detection-finetuned-Roberta/tokenizer_config.json\n",
            "Special tokens file saved in path/to/amharic-hate-speech-detection-finetuned-Roberta/special_tokens_map.json\n"
          ]
        },
        {
          "output_type": "execute_result",
          "data": {
            "text/plain": [
              "('path/to/amharic-hate-speech-detection-finetuned-Roberta/tokenizer_config.json',\n",
              " 'path/to/amharic-hate-speech-detection-finetuned-Roberta/special_tokens_map.json',\n",
              " 'path/to/amharic-hate-speech-detection-finetuned-Roberta/vocab.txt',\n",
              " 'path/to/amharic-hate-speech-detection-finetuned-Roberta/added_tokens.json',\n",
              " 'path/to/amharic-hate-speech-detection-finetuned-Roberta/tokenizer.json')"
            ]
          },
          "metadata": {},
          "execution_count": 91
        }
      ],
      "source": [
        "#specify the path for the trainde model and tokenizer to huggingface repository\n",
        "model.save_pretrained(\"path/to/amharic-hate-speech-detection-finetuned-Roberta\")\n",
        "tokenizer.save_pretrained(\"path/to/amharic-hate-speech-detection-finetuned-Roberta\")"
      ]
    },
    {
      "cell_type": "code",
      "execution_count": 92,
      "metadata": {
        "id": "S0bd_ZLtut3Y",
        "colab": {
          "base_uri": "https://localhost:8080/"
        },
        "outputId": "8ad87084-172e-47e4-ac16-f0bbf596d803"
      },
      "outputs": [
        {
          "output_type": "stream",
          "name": "stderr",
          "text": [
            "Configuration saved in /tmp/tmpjsdr_p6z/config.json\n",
            "Model weights saved in /tmp/tmpjsdr_p6z/pytorch_model.bin\n",
            "Uploading the following files to amengemeda/amharic-hate-speech-detection-finetuned-Roberta: config.json,pytorch_model.bin\n"
          ]
        },
        {
          "output_type": "execute_result",
          "data": {
            "text/plain": [
              "CommitInfo(commit_url='https://huggingface.co/amengemeda/amharic-hate-speech-detection-finetuned-Roberta/commit/7117a6cdd8cce48d9a5c68af67d8f4c15c2ef961', commit_message='Upload RobertaForSequenceClassification', commit_description='', oid='7117a6cdd8cce48d9a5c68af67d8f4c15c2ef961', pr_url=None, pr_revision=None, pr_num=None)"
            ]
          },
          "metadata": {},
          "execution_count": 92
        }
      ],
      "source": [
        "#push the trained model to huggingface repository\n",
        "model.push_to_hub(\"amharic-hate-speech-detection-finetuned-Roberta\")"
      ]
    },
    {
      "cell_type": "code",
      "execution_count": 93,
      "metadata": {
        "id": "MVJTbIC0x39L",
        "colab": {
          "base_uri": "https://localhost:8080/"
        },
        "outputId": "435e1660-072e-4775-b2cc-f36739b084fc"
      },
      "outputs": [
        {
          "output_type": "stream",
          "name": "stderr",
          "text": [
            "tokenizer config file saved in /tmp/tmp2i6digfm/tokenizer_config.json\n",
            "Special tokens file saved in /tmp/tmp2i6digfm/special_tokens_map.json\n",
            "Uploading the following files to amengemeda/amharic-hate-speech-detection-finetuned-Roberta: tokenizer.json,vocab.txt,tokenizer_config.json,special_tokens_map.json\n"
          ]
        },
        {
          "output_type": "execute_result",
          "data": {
            "text/plain": [
              "CommitInfo(commit_url='https://huggingface.co/amengemeda/amharic-hate-speech-detection-finetuned-Roberta/commit/828147d99e7ee75fe4d3fe90c0716db87737482d', commit_message='Upload tokenizer', commit_description='', oid='828147d99e7ee75fe4d3fe90c0716db87737482d', pr_url=None, pr_revision=None, pr_num=None)"
            ]
          },
          "metadata": {},
          "execution_count": 93
        }
      ],
      "source": [
        "#push the tokenizer to huggingface repository\n",
        "tokenizer.push_to_hub(\"amharic-hate-speech-detection-finetuned-Roberta\")"
      ]
    },
    {
      "cell_type": "code",
      "execution_count": 49,
      "metadata": {
        "id": "vl1L-xqeR7CS",
        "colab": {
          "base_uri": "https://localhost:8080/"
        },
        "outputId": "22669d42-f886-4301-f3a8-62e87ee24419"
      },
      "outputs": [
        {
          "output_type": "stream",
          "name": "stderr",
          "text": [
            "Configuration saved in /content/drive/MyDrive/Machine Learning/fine-tuned_BERT/model_5/config.json\n",
            "Model weights saved in /content/drive/MyDrive/Machine Learning/fine-tuned_BERT/model_5/pytorch_model.bin\n"
          ]
        }
      ],
      "source": [
        "model.save_pretrained(\"/content/drive/MyDrive/Machine Learning/fine-tuned_BERT/model_5\")"
      ]
    }
  ],
  "metadata": {
    "accelerator": "GPU",
    "colab": {
      "provenance": [],
      "include_colab_link": true
    },
    "gpuClass": "standard",
    "kernelspec": {
      "display_name": "Python 3",
      "name": "python3"
    },
    "language_info": {
      "name": "python"
    },
    "widgets": {
      "application/vnd.jupyter.widget-state+json": {
        "31450c63063d438d969a10a397877c90": {
          "model_module": "@jupyter-widgets/controls",
          "model_name": "HBoxModel",
          "model_module_version": "1.5.0",
          "state": {
            "_dom_classes": [],
            "_model_module": "@jupyter-widgets/controls",
            "_model_module_version": "1.5.0",
            "_model_name": "HBoxModel",
            "_view_count": null,
            "_view_module": "@jupyter-widgets/controls",
            "_view_module_version": "1.5.0",
            "_view_name": "HBoxView",
            "box_style": "",
            "children": [
              "IPY_MODEL_c9c831f452a84714b1c876b0ebc6ecfe",
              "IPY_MODEL_bd3d5fdb4ca84291b06e4d2f9d5f8655",
              "IPY_MODEL_638b3fd8f37342cd91b9d9fa3a81fe19"
            ],
            "layout": "IPY_MODEL_3bfcb33486584c0195fd599d9ecbe064"
          }
        },
        "c9c831f452a84714b1c876b0ebc6ecfe": {
          "model_module": "@jupyter-widgets/controls",
          "model_name": "HTMLModel",
          "model_module_version": "1.5.0",
          "state": {
            "_dom_classes": [],
            "_model_module": "@jupyter-widgets/controls",
            "_model_module_version": "1.5.0",
            "_model_name": "HTMLModel",
            "_view_count": null,
            "_view_module": "@jupyter-widgets/controls",
            "_view_module_version": "1.5.0",
            "_view_name": "HTMLView",
            "description": "",
            "description_tooltip": null,
            "layout": "IPY_MODEL_fc517c23495c461db5d601799875e143",
            "placeholder": "​",
            "style": "IPY_MODEL_1c583d43a8b04b498c1c3bdf4e925929",
            "value": "100%"
          }
        },
        "bd3d5fdb4ca84291b06e4d2f9d5f8655": {
          "model_module": "@jupyter-widgets/controls",
          "model_name": "FloatProgressModel",
          "model_module_version": "1.5.0",
          "state": {
            "_dom_classes": [],
            "_model_module": "@jupyter-widgets/controls",
            "_model_module_version": "1.5.0",
            "_model_name": "FloatProgressModel",
            "_view_count": null,
            "_view_module": "@jupyter-widgets/controls",
            "_view_module_version": "1.5.0",
            "_view_name": "ProgressView",
            "bar_style": "success",
            "description": "",
            "description_tooltip": null,
            "layout": "IPY_MODEL_358e4815e6344a2f9e60bee4bd3d784b",
            "max": 24017,
            "min": 0,
            "orientation": "horizontal",
            "style": "IPY_MODEL_9863b21a227241328311fec72387eeed",
            "value": 24017
          }
        },
        "638b3fd8f37342cd91b9d9fa3a81fe19": {
          "model_module": "@jupyter-widgets/controls",
          "model_name": "HTMLModel",
          "model_module_version": "1.5.0",
          "state": {
            "_dom_classes": [],
            "_model_module": "@jupyter-widgets/controls",
            "_model_module_version": "1.5.0",
            "_model_name": "HTMLModel",
            "_view_count": null,
            "_view_module": "@jupyter-widgets/controls",
            "_view_module_version": "1.5.0",
            "_view_name": "HTMLView",
            "description": "",
            "description_tooltip": null,
            "layout": "IPY_MODEL_0b5e798230e349358cb3a910b502a8f9",
            "placeholder": "​",
            "style": "IPY_MODEL_d529e86bdb77483f9609fe35c6d117a9",
            "value": " 24017/24017 [00:05&lt;00:00, 3656.93ex/s]"
          }
        },
        "3bfcb33486584c0195fd599d9ecbe064": {
          "model_module": "@jupyter-widgets/base",
          "model_name": "LayoutModel",
          "model_module_version": "1.2.0",
          "state": {
            "_model_module": "@jupyter-widgets/base",
            "_model_module_version": "1.2.0",
            "_model_name": "LayoutModel",
            "_view_count": null,
            "_view_module": "@jupyter-widgets/base",
            "_view_module_version": "1.2.0",
            "_view_name": "LayoutView",
            "align_content": null,
            "align_items": null,
            "align_self": null,
            "border": null,
            "bottom": null,
            "display": null,
            "flex": null,
            "flex_flow": null,
            "grid_area": null,
            "grid_auto_columns": null,
            "grid_auto_flow": null,
            "grid_auto_rows": null,
            "grid_column": null,
            "grid_gap": null,
            "grid_row": null,
            "grid_template_areas": null,
            "grid_template_columns": null,
            "grid_template_rows": null,
            "height": null,
            "justify_content": null,
            "justify_items": null,
            "left": null,
            "margin": null,
            "max_height": null,
            "max_width": null,
            "min_height": null,
            "min_width": null,
            "object_fit": null,
            "object_position": null,
            "order": null,
            "overflow": null,
            "overflow_x": null,
            "overflow_y": null,
            "padding": null,
            "right": null,
            "top": null,
            "visibility": null,
            "width": null
          }
        },
        "fc517c23495c461db5d601799875e143": {
          "model_module": "@jupyter-widgets/base",
          "model_name": "LayoutModel",
          "model_module_version": "1.2.0",
          "state": {
            "_model_module": "@jupyter-widgets/base",
            "_model_module_version": "1.2.0",
            "_model_name": "LayoutModel",
            "_view_count": null,
            "_view_module": "@jupyter-widgets/base",
            "_view_module_version": "1.2.0",
            "_view_name": "LayoutView",
            "align_content": null,
            "align_items": null,
            "align_self": null,
            "border": null,
            "bottom": null,
            "display": null,
            "flex": null,
            "flex_flow": null,
            "grid_area": null,
            "grid_auto_columns": null,
            "grid_auto_flow": null,
            "grid_auto_rows": null,
            "grid_column": null,
            "grid_gap": null,
            "grid_row": null,
            "grid_template_areas": null,
            "grid_template_columns": null,
            "grid_template_rows": null,
            "height": null,
            "justify_content": null,
            "justify_items": null,
            "left": null,
            "margin": null,
            "max_height": null,
            "max_width": null,
            "min_height": null,
            "min_width": null,
            "object_fit": null,
            "object_position": null,
            "order": null,
            "overflow": null,
            "overflow_x": null,
            "overflow_y": null,
            "padding": null,
            "right": null,
            "top": null,
            "visibility": null,
            "width": null
          }
        },
        "1c583d43a8b04b498c1c3bdf4e925929": {
          "model_module": "@jupyter-widgets/controls",
          "model_name": "DescriptionStyleModel",
          "model_module_version": "1.5.0",
          "state": {
            "_model_module": "@jupyter-widgets/controls",
            "_model_module_version": "1.5.0",
            "_model_name": "DescriptionStyleModel",
            "_view_count": null,
            "_view_module": "@jupyter-widgets/base",
            "_view_module_version": "1.2.0",
            "_view_name": "StyleView",
            "description_width": ""
          }
        },
        "358e4815e6344a2f9e60bee4bd3d784b": {
          "model_module": "@jupyter-widgets/base",
          "model_name": "LayoutModel",
          "model_module_version": "1.2.0",
          "state": {
            "_model_module": "@jupyter-widgets/base",
            "_model_module_version": "1.2.0",
            "_model_name": "LayoutModel",
            "_view_count": null,
            "_view_module": "@jupyter-widgets/base",
            "_view_module_version": "1.2.0",
            "_view_name": "LayoutView",
            "align_content": null,
            "align_items": null,
            "align_self": null,
            "border": null,
            "bottom": null,
            "display": null,
            "flex": null,
            "flex_flow": null,
            "grid_area": null,
            "grid_auto_columns": null,
            "grid_auto_flow": null,
            "grid_auto_rows": null,
            "grid_column": null,
            "grid_gap": null,
            "grid_row": null,
            "grid_template_areas": null,
            "grid_template_columns": null,
            "grid_template_rows": null,
            "height": null,
            "justify_content": null,
            "justify_items": null,
            "left": null,
            "margin": null,
            "max_height": null,
            "max_width": null,
            "min_height": null,
            "min_width": null,
            "object_fit": null,
            "object_position": null,
            "order": null,
            "overflow": null,
            "overflow_x": null,
            "overflow_y": null,
            "padding": null,
            "right": null,
            "top": null,
            "visibility": null,
            "width": null
          }
        },
        "9863b21a227241328311fec72387eeed": {
          "model_module": "@jupyter-widgets/controls",
          "model_name": "ProgressStyleModel",
          "model_module_version": "1.5.0",
          "state": {
            "_model_module": "@jupyter-widgets/controls",
            "_model_module_version": "1.5.0",
            "_model_name": "ProgressStyleModel",
            "_view_count": null,
            "_view_module": "@jupyter-widgets/base",
            "_view_module_version": "1.2.0",
            "_view_name": "StyleView",
            "bar_color": null,
            "description_width": ""
          }
        },
        "0b5e798230e349358cb3a910b502a8f9": {
          "model_module": "@jupyter-widgets/base",
          "model_name": "LayoutModel",
          "model_module_version": "1.2.0",
          "state": {
            "_model_module": "@jupyter-widgets/base",
            "_model_module_version": "1.2.0",
            "_model_name": "LayoutModel",
            "_view_count": null,
            "_view_module": "@jupyter-widgets/base",
            "_view_module_version": "1.2.0",
            "_view_name": "LayoutView",
            "align_content": null,
            "align_items": null,
            "align_self": null,
            "border": null,
            "bottom": null,
            "display": null,
            "flex": null,
            "flex_flow": null,
            "grid_area": null,
            "grid_auto_columns": null,
            "grid_auto_flow": null,
            "grid_auto_rows": null,
            "grid_column": null,
            "grid_gap": null,
            "grid_row": null,
            "grid_template_areas": null,
            "grid_template_columns": null,
            "grid_template_rows": null,
            "height": null,
            "justify_content": null,
            "justify_items": null,
            "left": null,
            "margin": null,
            "max_height": null,
            "max_width": null,
            "min_height": null,
            "min_width": null,
            "object_fit": null,
            "object_position": null,
            "order": null,
            "overflow": null,
            "overflow_x": null,
            "overflow_y": null,
            "padding": null,
            "right": null,
            "top": null,
            "visibility": null,
            "width": null
          }
        },
        "d529e86bdb77483f9609fe35c6d117a9": {
          "model_module": "@jupyter-widgets/controls",
          "model_name": "DescriptionStyleModel",
          "model_module_version": "1.5.0",
          "state": {
            "_model_module": "@jupyter-widgets/controls",
            "_model_module_version": "1.5.0",
            "_model_name": "DescriptionStyleModel",
            "_view_count": null,
            "_view_module": "@jupyter-widgets/base",
            "_view_module_version": "1.2.0",
            "_view_name": "StyleView",
            "description_width": ""
          }
        },
        "04b5abd8c7364a889f95a87b231db5c8": {
          "model_module": "@jupyter-widgets/controls",
          "model_name": "HBoxModel",
          "model_module_version": "1.5.0",
          "state": {
            "_dom_classes": [],
            "_model_module": "@jupyter-widgets/controls",
            "_model_module_version": "1.5.0",
            "_model_name": "HBoxModel",
            "_view_count": null,
            "_view_module": "@jupyter-widgets/controls",
            "_view_module_version": "1.5.0",
            "_view_name": "HBoxView",
            "box_style": "",
            "children": [
              "IPY_MODEL_f61538665fe6443d95cf979b7103d26e",
              "IPY_MODEL_df3b82e8e95246c8b6039be40d7be531",
              "IPY_MODEL_fcd2f44708764567969e27d8ea44cc79"
            ],
            "layout": "IPY_MODEL_8146cde462604f13932a76b3bd7345ad"
          }
        },
        "f61538665fe6443d95cf979b7103d26e": {
          "model_module": "@jupyter-widgets/controls",
          "model_name": "HTMLModel",
          "model_module_version": "1.5.0",
          "state": {
            "_dom_classes": [],
            "_model_module": "@jupyter-widgets/controls",
            "_model_module_version": "1.5.0",
            "_model_name": "HTMLModel",
            "_view_count": null,
            "_view_module": "@jupyter-widgets/controls",
            "_view_module_version": "1.5.0",
            "_view_name": "HTMLView",
            "description": "",
            "description_tooltip": null,
            "layout": "IPY_MODEL_342e8cafb9bd459c8faf721beb12d237",
            "placeholder": "​",
            "style": "IPY_MODEL_fb70438f640349b6912606532b10ebd2",
            "value": "100%"
          }
        },
        "df3b82e8e95246c8b6039be40d7be531": {
          "model_module": "@jupyter-widgets/controls",
          "model_name": "FloatProgressModel",
          "model_module_version": "1.5.0",
          "state": {
            "_dom_classes": [],
            "_model_module": "@jupyter-widgets/controls",
            "_model_module_version": "1.5.0",
            "_model_name": "FloatProgressModel",
            "_view_count": null,
            "_view_module": "@jupyter-widgets/controls",
            "_view_module_version": "1.5.0",
            "_view_name": "ProgressView",
            "bar_style": "success",
            "description": "",
            "description_tooltip": null,
            "layout": "IPY_MODEL_340553f724e14126925ae23a47e62491",
            "max": 5983,
            "min": 0,
            "orientation": "horizontal",
            "style": "IPY_MODEL_43ff16fd282a4c58b9b39169eae9be26",
            "value": 5983
          }
        },
        "fcd2f44708764567969e27d8ea44cc79": {
          "model_module": "@jupyter-widgets/controls",
          "model_name": "HTMLModel",
          "model_module_version": "1.5.0",
          "state": {
            "_dom_classes": [],
            "_model_module": "@jupyter-widgets/controls",
            "_model_module_version": "1.5.0",
            "_model_name": "HTMLModel",
            "_view_count": null,
            "_view_module": "@jupyter-widgets/controls",
            "_view_module_version": "1.5.0",
            "_view_name": "HTMLView",
            "description": "",
            "description_tooltip": null,
            "layout": "IPY_MODEL_b7eeba6319bc40038ecbefba33a9d31a",
            "placeholder": "​",
            "style": "IPY_MODEL_ac11ba51390b4fd799a761cbfb990454",
            "value": " 5983/5983 [00:01&lt;00:00, 4461.24ex/s]"
          }
        },
        "8146cde462604f13932a76b3bd7345ad": {
          "model_module": "@jupyter-widgets/base",
          "model_name": "LayoutModel",
          "model_module_version": "1.2.0",
          "state": {
            "_model_module": "@jupyter-widgets/base",
            "_model_module_version": "1.2.0",
            "_model_name": "LayoutModel",
            "_view_count": null,
            "_view_module": "@jupyter-widgets/base",
            "_view_module_version": "1.2.0",
            "_view_name": "LayoutView",
            "align_content": null,
            "align_items": null,
            "align_self": null,
            "border": null,
            "bottom": null,
            "display": null,
            "flex": null,
            "flex_flow": null,
            "grid_area": null,
            "grid_auto_columns": null,
            "grid_auto_flow": null,
            "grid_auto_rows": null,
            "grid_column": null,
            "grid_gap": null,
            "grid_row": null,
            "grid_template_areas": null,
            "grid_template_columns": null,
            "grid_template_rows": null,
            "height": null,
            "justify_content": null,
            "justify_items": null,
            "left": null,
            "margin": null,
            "max_height": null,
            "max_width": null,
            "min_height": null,
            "min_width": null,
            "object_fit": null,
            "object_position": null,
            "order": null,
            "overflow": null,
            "overflow_x": null,
            "overflow_y": null,
            "padding": null,
            "right": null,
            "top": null,
            "visibility": null,
            "width": null
          }
        },
        "342e8cafb9bd459c8faf721beb12d237": {
          "model_module": "@jupyter-widgets/base",
          "model_name": "LayoutModel",
          "model_module_version": "1.2.0",
          "state": {
            "_model_module": "@jupyter-widgets/base",
            "_model_module_version": "1.2.0",
            "_model_name": "LayoutModel",
            "_view_count": null,
            "_view_module": "@jupyter-widgets/base",
            "_view_module_version": "1.2.0",
            "_view_name": "LayoutView",
            "align_content": null,
            "align_items": null,
            "align_self": null,
            "border": null,
            "bottom": null,
            "display": null,
            "flex": null,
            "flex_flow": null,
            "grid_area": null,
            "grid_auto_columns": null,
            "grid_auto_flow": null,
            "grid_auto_rows": null,
            "grid_column": null,
            "grid_gap": null,
            "grid_row": null,
            "grid_template_areas": null,
            "grid_template_columns": null,
            "grid_template_rows": null,
            "height": null,
            "justify_content": null,
            "justify_items": null,
            "left": null,
            "margin": null,
            "max_height": null,
            "max_width": null,
            "min_height": null,
            "min_width": null,
            "object_fit": null,
            "object_position": null,
            "order": null,
            "overflow": null,
            "overflow_x": null,
            "overflow_y": null,
            "padding": null,
            "right": null,
            "top": null,
            "visibility": null,
            "width": null
          }
        },
        "fb70438f640349b6912606532b10ebd2": {
          "model_module": "@jupyter-widgets/controls",
          "model_name": "DescriptionStyleModel",
          "model_module_version": "1.5.0",
          "state": {
            "_model_module": "@jupyter-widgets/controls",
            "_model_module_version": "1.5.0",
            "_model_name": "DescriptionStyleModel",
            "_view_count": null,
            "_view_module": "@jupyter-widgets/base",
            "_view_module_version": "1.2.0",
            "_view_name": "StyleView",
            "description_width": ""
          }
        },
        "340553f724e14126925ae23a47e62491": {
          "model_module": "@jupyter-widgets/base",
          "model_name": "LayoutModel",
          "model_module_version": "1.2.0",
          "state": {
            "_model_module": "@jupyter-widgets/base",
            "_model_module_version": "1.2.0",
            "_model_name": "LayoutModel",
            "_view_count": null,
            "_view_module": "@jupyter-widgets/base",
            "_view_module_version": "1.2.0",
            "_view_name": "LayoutView",
            "align_content": null,
            "align_items": null,
            "align_self": null,
            "border": null,
            "bottom": null,
            "display": null,
            "flex": null,
            "flex_flow": null,
            "grid_area": null,
            "grid_auto_columns": null,
            "grid_auto_flow": null,
            "grid_auto_rows": null,
            "grid_column": null,
            "grid_gap": null,
            "grid_row": null,
            "grid_template_areas": null,
            "grid_template_columns": null,
            "grid_template_rows": null,
            "height": null,
            "justify_content": null,
            "justify_items": null,
            "left": null,
            "margin": null,
            "max_height": null,
            "max_width": null,
            "min_height": null,
            "min_width": null,
            "object_fit": null,
            "object_position": null,
            "order": null,
            "overflow": null,
            "overflow_x": null,
            "overflow_y": null,
            "padding": null,
            "right": null,
            "top": null,
            "visibility": null,
            "width": null
          }
        },
        "43ff16fd282a4c58b9b39169eae9be26": {
          "model_module": "@jupyter-widgets/controls",
          "model_name": "ProgressStyleModel",
          "model_module_version": "1.5.0",
          "state": {
            "_model_module": "@jupyter-widgets/controls",
            "_model_module_version": "1.5.0",
            "_model_name": "ProgressStyleModel",
            "_view_count": null,
            "_view_module": "@jupyter-widgets/base",
            "_view_module_version": "1.2.0",
            "_view_name": "StyleView",
            "bar_color": null,
            "description_width": ""
          }
        },
        "b7eeba6319bc40038ecbefba33a9d31a": {
          "model_module": "@jupyter-widgets/base",
          "model_name": "LayoutModel",
          "model_module_version": "1.2.0",
          "state": {
            "_model_module": "@jupyter-widgets/base",
            "_model_module_version": "1.2.0",
            "_model_name": "LayoutModel",
            "_view_count": null,
            "_view_module": "@jupyter-widgets/base",
            "_view_module_version": "1.2.0",
            "_view_name": "LayoutView",
            "align_content": null,
            "align_items": null,
            "align_self": null,
            "border": null,
            "bottom": null,
            "display": null,
            "flex": null,
            "flex_flow": null,
            "grid_area": null,
            "grid_auto_columns": null,
            "grid_auto_flow": null,
            "grid_auto_rows": null,
            "grid_column": null,
            "grid_gap": null,
            "grid_row": null,
            "grid_template_areas": null,
            "grid_template_columns": null,
            "grid_template_rows": null,
            "height": null,
            "justify_content": null,
            "justify_items": null,
            "left": null,
            "margin": null,
            "max_height": null,
            "max_width": null,
            "min_height": null,
            "min_width": null,
            "object_fit": null,
            "object_position": null,
            "order": null,
            "overflow": null,
            "overflow_x": null,
            "overflow_y": null,
            "padding": null,
            "right": null,
            "top": null,
            "visibility": null,
            "width": null
          }
        },
        "ac11ba51390b4fd799a761cbfb990454": {
          "model_module": "@jupyter-widgets/controls",
          "model_name": "DescriptionStyleModel",
          "model_module_version": "1.5.0",
          "state": {
            "_model_module": "@jupyter-widgets/controls",
            "_model_module_version": "1.5.0",
            "_model_name": "DescriptionStyleModel",
            "_view_count": null,
            "_view_module": "@jupyter-widgets/base",
            "_view_module_version": "1.2.0",
            "_view_name": "StyleView",
            "description_width": ""
          }
        },
        "80a95070bd3e4c679e3dceca46b2664b": {
          "model_module": "@jupyter-widgets/controls",
          "model_name": "HBoxModel",
          "model_module_version": "1.5.0",
          "state": {
            "_dom_classes": [],
            "_model_module": "@jupyter-widgets/controls",
            "_model_module_version": "1.5.0",
            "_model_name": "HBoxModel",
            "_view_count": null,
            "_view_module": "@jupyter-widgets/controls",
            "_view_module_version": "1.5.0",
            "_view_name": "HBoxView",
            "box_style": "",
            "children": [
              "IPY_MODEL_fa1af414b7d54ad2990ec1996aad1e6d",
              "IPY_MODEL_5d266811825648a28544248f75b74b97",
              "IPY_MODEL_b2d63982a02d427fb370195b23c3f9da"
            ],
            "layout": "IPY_MODEL_ce58167b53a343ebaf59458a70345cdf"
          }
        },
        "fa1af414b7d54ad2990ec1996aad1e6d": {
          "model_module": "@jupyter-widgets/controls",
          "model_name": "HTMLModel",
          "model_module_version": "1.5.0",
          "state": {
            "_dom_classes": [],
            "_model_module": "@jupyter-widgets/controls",
            "_model_module_version": "1.5.0",
            "_model_name": "HTMLModel",
            "_view_count": null,
            "_view_module": "@jupyter-widgets/controls",
            "_view_module_version": "1.5.0",
            "_view_name": "HTMLView",
            "description": "",
            "description_tooltip": null,
            "layout": "IPY_MODEL_a66fc1d8f3d64ffea1f84933490c5851",
            "placeholder": "​",
            "style": "IPY_MODEL_2ddb182144364722a329ad6629c1be2a",
            "value": "100%"
          }
        },
        "5d266811825648a28544248f75b74b97": {
          "model_module": "@jupyter-widgets/controls",
          "model_name": "FloatProgressModel",
          "model_module_version": "1.5.0",
          "state": {
            "_dom_classes": [],
            "_model_module": "@jupyter-widgets/controls",
            "_model_module_version": "1.5.0",
            "_model_name": "FloatProgressModel",
            "_view_count": null,
            "_view_module": "@jupyter-widgets/controls",
            "_view_module_version": "1.5.0",
            "_view_name": "ProgressView",
            "bar_style": "success",
            "description": "",
            "description_tooltip": null,
            "layout": "IPY_MODEL_b50c41f9c0bd461babc342196754ba0e",
            "max": 2400,
            "min": 0,
            "orientation": "horizontal",
            "style": "IPY_MODEL_0a967c24b0c043c69e1ac465d98cd4ce",
            "value": 2400
          }
        },
        "b2d63982a02d427fb370195b23c3f9da": {
          "model_module": "@jupyter-widgets/controls",
          "model_name": "HTMLModel",
          "model_module_version": "1.5.0",
          "state": {
            "_dom_classes": [],
            "_model_module": "@jupyter-widgets/controls",
            "_model_module_version": "1.5.0",
            "_model_name": "HTMLModel",
            "_view_count": null,
            "_view_module": "@jupyter-widgets/controls",
            "_view_module_version": "1.5.0",
            "_view_name": "HTMLView",
            "description": "",
            "description_tooltip": null,
            "layout": "IPY_MODEL_bdecd854307741e39538c4582e73c7d5",
            "placeholder": "​",
            "style": "IPY_MODEL_b1a05a1096eb4824ae225af2b418716f",
            "value": " 2400/2400 [00:00&lt;00:00, 4361.78ex/s]"
          }
        },
        "ce58167b53a343ebaf59458a70345cdf": {
          "model_module": "@jupyter-widgets/base",
          "model_name": "LayoutModel",
          "model_module_version": "1.2.0",
          "state": {
            "_model_module": "@jupyter-widgets/base",
            "_model_module_version": "1.2.0",
            "_model_name": "LayoutModel",
            "_view_count": null,
            "_view_module": "@jupyter-widgets/base",
            "_view_module_version": "1.2.0",
            "_view_name": "LayoutView",
            "align_content": null,
            "align_items": null,
            "align_self": null,
            "border": null,
            "bottom": null,
            "display": null,
            "flex": null,
            "flex_flow": null,
            "grid_area": null,
            "grid_auto_columns": null,
            "grid_auto_flow": null,
            "grid_auto_rows": null,
            "grid_column": null,
            "grid_gap": null,
            "grid_row": null,
            "grid_template_areas": null,
            "grid_template_columns": null,
            "grid_template_rows": null,
            "height": null,
            "justify_content": null,
            "justify_items": null,
            "left": null,
            "margin": null,
            "max_height": null,
            "max_width": null,
            "min_height": null,
            "min_width": null,
            "object_fit": null,
            "object_position": null,
            "order": null,
            "overflow": null,
            "overflow_x": null,
            "overflow_y": null,
            "padding": null,
            "right": null,
            "top": null,
            "visibility": null,
            "width": null
          }
        },
        "a66fc1d8f3d64ffea1f84933490c5851": {
          "model_module": "@jupyter-widgets/base",
          "model_name": "LayoutModel",
          "model_module_version": "1.2.0",
          "state": {
            "_model_module": "@jupyter-widgets/base",
            "_model_module_version": "1.2.0",
            "_model_name": "LayoutModel",
            "_view_count": null,
            "_view_module": "@jupyter-widgets/base",
            "_view_module_version": "1.2.0",
            "_view_name": "LayoutView",
            "align_content": null,
            "align_items": null,
            "align_self": null,
            "border": null,
            "bottom": null,
            "display": null,
            "flex": null,
            "flex_flow": null,
            "grid_area": null,
            "grid_auto_columns": null,
            "grid_auto_flow": null,
            "grid_auto_rows": null,
            "grid_column": null,
            "grid_gap": null,
            "grid_row": null,
            "grid_template_areas": null,
            "grid_template_columns": null,
            "grid_template_rows": null,
            "height": null,
            "justify_content": null,
            "justify_items": null,
            "left": null,
            "margin": null,
            "max_height": null,
            "max_width": null,
            "min_height": null,
            "min_width": null,
            "object_fit": null,
            "object_position": null,
            "order": null,
            "overflow": null,
            "overflow_x": null,
            "overflow_y": null,
            "padding": null,
            "right": null,
            "top": null,
            "visibility": null,
            "width": null
          }
        },
        "2ddb182144364722a329ad6629c1be2a": {
          "model_module": "@jupyter-widgets/controls",
          "model_name": "DescriptionStyleModel",
          "model_module_version": "1.5.0",
          "state": {
            "_model_module": "@jupyter-widgets/controls",
            "_model_module_version": "1.5.0",
            "_model_name": "DescriptionStyleModel",
            "_view_count": null,
            "_view_module": "@jupyter-widgets/base",
            "_view_module_version": "1.2.0",
            "_view_name": "StyleView",
            "description_width": ""
          }
        },
        "b50c41f9c0bd461babc342196754ba0e": {
          "model_module": "@jupyter-widgets/base",
          "model_name": "LayoutModel",
          "model_module_version": "1.2.0",
          "state": {
            "_model_module": "@jupyter-widgets/base",
            "_model_module_version": "1.2.0",
            "_model_name": "LayoutModel",
            "_view_count": null,
            "_view_module": "@jupyter-widgets/base",
            "_view_module_version": "1.2.0",
            "_view_name": "LayoutView",
            "align_content": null,
            "align_items": null,
            "align_self": null,
            "border": null,
            "bottom": null,
            "display": null,
            "flex": null,
            "flex_flow": null,
            "grid_area": null,
            "grid_auto_columns": null,
            "grid_auto_flow": null,
            "grid_auto_rows": null,
            "grid_column": null,
            "grid_gap": null,
            "grid_row": null,
            "grid_template_areas": null,
            "grid_template_columns": null,
            "grid_template_rows": null,
            "height": null,
            "justify_content": null,
            "justify_items": null,
            "left": null,
            "margin": null,
            "max_height": null,
            "max_width": null,
            "min_height": null,
            "min_width": null,
            "object_fit": null,
            "object_position": null,
            "order": null,
            "overflow": null,
            "overflow_x": null,
            "overflow_y": null,
            "padding": null,
            "right": null,
            "top": null,
            "visibility": null,
            "width": null
          }
        },
        "0a967c24b0c043c69e1ac465d98cd4ce": {
          "model_module": "@jupyter-widgets/controls",
          "model_name": "ProgressStyleModel",
          "model_module_version": "1.5.0",
          "state": {
            "_model_module": "@jupyter-widgets/controls",
            "_model_module_version": "1.5.0",
            "_model_name": "ProgressStyleModel",
            "_view_count": null,
            "_view_module": "@jupyter-widgets/base",
            "_view_module_version": "1.2.0",
            "_view_name": "StyleView",
            "bar_color": null,
            "description_width": ""
          }
        },
        "bdecd854307741e39538c4582e73c7d5": {
          "model_module": "@jupyter-widgets/base",
          "model_name": "LayoutModel",
          "model_module_version": "1.2.0",
          "state": {
            "_model_module": "@jupyter-widgets/base",
            "_model_module_version": "1.2.0",
            "_model_name": "LayoutModel",
            "_view_count": null,
            "_view_module": "@jupyter-widgets/base",
            "_view_module_version": "1.2.0",
            "_view_name": "LayoutView",
            "align_content": null,
            "align_items": null,
            "align_self": null,
            "border": null,
            "bottom": null,
            "display": null,
            "flex": null,
            "flex_flow": null,
            "grid_area": null,
            "grid_auto_columns": null,
            "grid_auto_flow": null,
            "grid_auto_rows": null,
            "grid_column": null,
            "grid_gap": null,
            "grid_row": null,
            "grid_template_areas": null,
            "grid_template_columns": null,
            "grid_template_rows": null,
            "height": null,
            "justify_content": null,
            "justify_items": null,
            "left": null,
            "margin": null,
            "max_height": null,
            "max_width": null,
            "min_height": null,
            "min_width": null,
            "object_fit": null,
            "object_position": null,
            "order": null,
            "overflow": null,
            "overflow_x": null,
            "overflow_y": null,
            "padding": null,
            "right": null,
            "top": null,
            "visibility": null,
            "width": null
          }
        },
        "b1a05a1096eb4824ae225af2b418716f": {
          "model_module": "@jupyter-widgets/controls",
          "model_name": "DescriptionStyleModel",
          "model_module_version": "1.5.0",
          "state": {
            "_model_module": "@jupyter-widgets/controls",
            "_model_module_version": "1.5.0",
            "_model_name": "DescriptionStyleModel",
            "_view_count": null,
            "_view_module": "@jupyter-widgets/base",
            "_view_module_version": "1.2.0",
            "_view_name": "StyleView",
            "description_width": ""
          }
        },
        "d8a8197b9f054264be9fc82c78ded7d1": {
          "model_module": "@jupyter-widgets/controls",
          "model_name": "VBoxModel",
          "model_module_version": "1.5.0",
          "state": {
            "_dom_classes": [],
            "_model_module": "@jupyter-widgets/controls",
            "_model_module_version": "1.5.0",
            "_model_name": "VBoxModel",
            "_view_count": null,
            "_view_module": "@jupyter-widgets/controls",
            "_view_module_version": "1.5.0",
            "_view_name": "VBoxView",
            "box_style": "",
            "children": [
              "IPY_MODEL_d6f1977a64124689ab9401687b06f2dc",
              "IPY_MODEL_079b442d215943a698a2db2c418d3f6d",
              "IPY_MODEL_ebeabaa3d1c847458239e154288ffd7e",
              "IPY_MODEL_a2d4699a35fa4395993260ba03626e87",
              "IPY_MODEL_70e4121f9c2f4ee48f6f8bf88a329f6a"
            ],
            "layout": "IPY_MODEL_9119c101791148cbb84258b5e42628b0"
          }
        },
        "d6f1977a64124689ab9401687b06f2dc": {
          "model_module": "@jupyter-widgets/controls",
          "model_name": "HTMLModel",
          "model_module_version": "1.5.0",
          "state": {
            "_dom_classes": [],
            "_model_module": "@jupyter-widgets/controls",
            "_model_module_version": "1.5.0",
            "_model_name": "HTMLModel",
            "_view_count": null,
            "_view_module": "@jupyter-widgets/controls",
            "_view_module_version": "1.5.0",
            "_view_name": "HTMLView",
            "description": "",
            "description_tooltip": null,
            "layout": "IPY_MODEL_4049eae8f89041ffa5db6e5f77c5770d",
            "placeholder": "​",
            "style": "IPY_MODEL_50ea09a76ace4852bc361e0765ca7668",
            "value": "<center> <img\nsrc=https://huggingface.co/front/assets/huggingface_logo-noborder.svg\nalt='Hugging Face'> <br> Copy a token from <a\nhref=\"https://huggingface.co/settings/tokens\" target=\"_blank\">your Hugging Face\ntokens page</a> and paste it below. <br> Immediately click login after copying\nyour token or it might be stored in plain text in this notebook file. </center>"
          }
        },
        "079b442d215943a698a2db2c418d3f6d": {
          "model_module": "@jupyter-widgets/controls",
          "model_name": "PasswordModel",
          "model_module_version": "1.5.0",
          "state": {
            "_dom_classes": [],
            "_model_module": "@jupyter-widgets/controls",
            "_model_module_version": "1.5.0",
            "_model_name": "PasswordModel",
            "_view_count": null,
            "_view_module": "@jupyter-widgets/controls",
            "_view_module_version": "1.5.0",
            "_view_name": "PasswordView",
            "continuous_update": true,
            "description": "Token:",
            "description_tooltip": null,
            "disabled": false,
            "layout": "IPY_MODEL_edabfa3951184ac9b5ee0f84e85d821d",
            "placeholder": "​",
            "style": "IPY_MODEL_6d16e221160f4c0584bc686a605563fb",
            "value": ""
          }
        },
        "ebeabaa3d1c847458239e154288ffd7e": {
          "model_module": "@jupyter-widgets/controls",
          "model_name": "CheckboxModel",
          "model_module_version": "1.5.0",
          "state": {
            "_dom_classes": [],
            "_model_module": "@jupyter-widgets/controls",
            "_model_module_version": "1.5.0",
            "_model_name": "CheckboxModel",
            "_view_count": null,
            "_view_module": "@jupyter-widgets/controls",
            "_view_module_version": "1.5.0",
            "_view_name": "CheckboxView",
            "description": "Add token as git credential?",
            "description_tooltip": null,
            "disabled": false,
            "indent": true,
            "layout": "IPY_MODEL_76eb60cb57c2419ea15f0f05578189cc",
            "style": "IPY_MODEL_2f74352817114869a3d03941399aae2c",
            "value": true
          }
        },
        "a2d4699a35fa4395993260ba03626e87": {
          "model_module": "@jupyter-widgets/controls",
          "model_name": "ButtonModel",
          "model_module_version": "1.5.0",
          "state": {
            "_dom_classes": [],
            "_model_module": "@jupyter-widgets/controls",
            "_model_module_version": "1.5.0",
            "_model_name": "ButtonModel",
            "_view_count": null,
            "_view_module": "@jupyter-widgets/controls",
            "_view_module_version": "1.5.0",
            "_view_name": "ButtonView",
            "button_style": "",
            "description": "Login",
            "disabled": false,
            "icon": "",
            "layout": "IPY_MODEL_65e718ab3db146b08f7559761267d9c5",
            "style": "IPY_MODEL_b96d2b1986c34d0d95ef1087f82220b4",
            "tooltip": ""
          }
        },
        "70e4121f9c2f4ee48f6f8bf88a329f6a": {
          "model_module": "@jupyter-widgets/controls",
          "model_name": "HTMLModel",
          "model_module_version": "1.5.0",
          "state": {
            "_dom_classes": [],
            "_model_module": "@jupyter-widgets/controls",
            "_model_module_version": "1.5.0",
            "_model_name": "HTMLModel",
            "_view_count": null,
            "_view_module": "@jupyter-widgets/controls",
            "_view_module_version": "1.5.0",
            "_view_name": "HTMLView",
            "description": "",
            "description_tooltip": null,
            "layout": "IPY_MODEL_236175b213134256bc5f37a5a0a242ea",
            "placeholder": "​",
            "style": "IPY_MODEL_5ee06bb983ae4c64a17dadf6b35c4b8c",
            "value": "\n<b>Pro Tip:</b> If you don't already have one, you can create a dedicated\n'notebooks' token with 'write' access, that you can then easily reuse for all\nnotebooks. </center>"
          }
        },
        "9119c101791148cbb84258b5e42628b0": {
          "model_module": "@jupyter-widgets/base",
          "model_name": "LayoutModel",
          "model_module_version": "1.2.0",
          "state": {
            "_model_module": "@jupyter-widgets/base",
            "_model_module_version": "1.2.0",
            "_model_name": "LayoutModel",
            "_view_count": null,
            "_view_module": "@jupyter-widgets/base",
            "_view_module_version": "1.2.0",
            "_view_name": "LayoutView",
            "align_content": null,
            "align_items": "center",
            "align_self": null,
            "border": null,
            "bottom": null,
            "display": "flex",
            "flex": null,
            "flex_flow": "column",
            "grid_area": null,
            "grid_auto_columns": null,
            "grid_auto_flow": null,
            "grid_auto_rows": null,
            "grid_column": null,
            "grid_gap": null,
            "grid_row": null,
            "grid_template_areas": null,
            "grid_template_columns": null,
            "grid_template_rows": null,
            "height": null,
            "justify_content": null,
            "justify_items": null,
            "left": null,
            "margin": null,
            "max_height": null,
            "max_width": null,
            "min_height": null,
            "min_width": null,
            "object_fit": null,
            "object_position": null,
            "order": null,
            "overflow": null,
            "overflow_x": null,
            "overflow_y": null,
            "padding": null,
            "right": null,
            "top": null,
            "visibility": null,
            "width": "50%"
          }
        },
        "4049eae8f89041ffa5db6e5f77c5770d": {
          "model_module": "@jupyter-widgets/base",
          "model_name": "LayoutModel",
          "model_module_version": "1.2.0",
          "state": {
            "_model_module": "@jupyter-widgets/base",
            "_model_module_version": "1.2.0",
            "_model_name": "LayoutModel",
            "_view_count": null,
            "_view_module": "@jupyter-widgets/base",
            "_view_module_version": "1.2.0",
            "_view_name": "LayoutView",
            "align_content": null,
            "align_items": null,
            "align_self": null,
            "border": null,
            "bottom": null,
            "display": null,
            "flex": null,
            "flex_flow": null,
            "grid_area": null,
            "grid_auto_columns": null,
            "grid_auto_flow": null,
            "grid_auto_rows": null,
            "grid_column": null,
            "grid_gap": null,
            "grid_row": null,
            "grid_template_areas": null,
            "grid_template_columns": null,
            "grid_template_rows": null,
            "height": null,
            "justify_content": null,
            "justify_items": null,
            "left": null,
            "margin": null,
            "max_height": null,
            "max_width": null,
            "min_height": null,
            "min_width": null,
            "object_fit": null,
            "object_position": null,
            "order": null,
            "overflow": null,
            "overflow_x": null,
            "overflow_y": null,
            "padding": null,
            "right": null,
            "top": null,
            "visibility": null,
            "width": null
          }
        },
        "50ea09a76ace4852bc361e0765ca7668": {
          "model_module": "@jupyter-widgets/controls",
          "model_name": "DescriptionStyleModel",
          "model_module_version": "1.5.0",
          "state": {
            "_model_module": "@jupyter-widgets/controls",
            "_model_module_version": "1.5.0",
            "_model_name": "DescriptionStyleModel",
            "_view_count": null,
            "_view_module": "@jupyter-widgets/base",
            "_view_module_version": "1.2.0",
            "_view_name": "StyleView",
            "description_width": ""
          }
        },
        "edabfa3951184ac9b5ee0f84e85d821d": {
          "model_module": "@jupyter-widgets/base",
          "model_name": "LayoutModel",
          "model_module_version": "1.2.0",
          "state": {
            "_model_module": "@jupyter-widgets/base",
            "_model_module_version": "1.2.0",
            "_model_name": "LayoutModel",
            "_view_count": null,
            "_view_module": "@jupyter-widgets/base",
            "_view_module_version": "1.2.0",
            "_view_name": "LayoutView",
            "align_content": null,
            "align_items": null,
            "align_self": null,
            "border": null,
            "bottom": null,
            "display": null,
            "flex": null,
            "flex_flow": null,
            "grid_area": null,
            "grid_auto_columns": null,
            "grid_auto_flow": null,
            "grid_auto_rows": null,
            "grid_column": null,
            "grid_gap": null,
            "grid_row": null,
            "grid_template_areas": null,
            "grid_template_columns": null,
            "grid_template_rows": null,
            "height": null,
            "justify_content": null,
            "justify_items": null,
            "left": null,
            "margin": null,
            "max_height": null,
            "max_width": null,
            "min_height": null,
            "min_width": null,
            "object_fit": null,
            "object_position": null,
            "order": null,
            "overflow": null,
            "overflow_x": null,
            "overflow_y": null,
            "padding": null,
            "right": null,
            "top": null,
            "visibility": null,
            "width": null
          }
        },
        "6d16e221160f4c0584bc686a605563fb": {
          "model_module": "@jupyter-widgets/controls",
          "model_name": "DescriptionStyleModel",
          "model_module_version": "1.5.0",
          "state": {
            "_model_module": "@jupyter-widgets/controls",
            "_model_module_version": "1.5.0",
            "_model_name": "DescriptionStyleModel",
            "_view_count": null,
            "_view_module": "@jupyter-widgets/base",
            "_view_module_version": "1.2.0",
            "_view_name": "StyleView",
            "description_width": ""
          }
        },
        "76eb60cb57c2419ea15f0f05578189cc": {
          "model_module": "@jupyter-widgets/base",
          "model_name": "LayoutModel",
          "model_module_version": "1.2.0",
          "state": {
            "_model_module": "@jupyter-widgets/base",
            "_model_module_version": "1.2.0",
            "_model_name": "LayoutModel",
            "_view_count": null,
            "_view_module": "@jupyter-widgets/base",
            "_view_module_version": "1.2.0",
            "_view_name": "LayoutView",
            "align_content": null,
            "align_items": null,
            "align_self": null,
            "border": null,
            "bottom": null,
            "display": null,
            "flex": null,
            "flex_flow": null,
            "grid_area": null,
            "grid_auto_columns": null,
            "grid_auto_flow": null,
            "grid_auto_rows": null,
            "grid_column": null,
            "grid_gap": null,
            "grid_row": null,
            "grid_template_areas": null,
            "grid_template_columns": null,
            "grid_template_rows": null,
            "height": null,
            "justify_content": null,
            "justify_items": null,
            "left": null,
            "margin": null,
            "max_height": null,
            "max_width": null,
            "min_height": null,
            "min_width": null,
            "object_fit": null,
            "object_position": null,
            "order": null,
            "overflow": null,
            "overflow_x": null,
            "overflow_y": null,
            "padding": null,
            "right": null,
            "top": null,
            "visibility": null,
            "width": null
          }
        },
        "2f74352817114869a3d03941399aae2c": {
          "model_module": "@jupyter-widgets/controls",
          "model_name": "DescriptionStyleModel",
          "model_module_version": "1.5.0",
          "state": {
            "_model_module": "@jupyter-widgets/controls",
            "_model_module_version": "1.5.0",
            "_model_name": "DescriptionStyleModel",
            "_view_count": null,
            "_view_module": "@jupyter-widgets/base",
            "_view_module_version": "1.2.0",
            "_view_name": "StyleView",
            "description_width": ""
          }
        },
        "65e718ab3db146b08f7559761267d9c5": {
          "model_module": "@jupyter-widgets/base",
          "model_name": "LayoutModel",
          "model_module_version": "1.2.0",
          "state": {
            "_model_module": "@jupyter-widgets/base",
            "_model_module_version": "1.2.0",
            "_model_name": "LayoutModel",
            "_view_count": null,
            "_view_module": "@jupyter-widgets/base",
            "_view_module_version": "1.2.0",
            "_view_name": "LayoutView",
            "align_content": null,
            "align_items": null,
            "align_self": null,
            "border": null,
            "bottom": null,
            "display": null,
            "flex": null,
            "flex_flow": null,
            "grid_area": null,
            "grid_auto_columns": null,
            "grid_auto_flow": null,
            "grid_auto_rows": null,
            "grid_column": null,
            "grid_gap": null,
            "grid_row": null,
            "grid_template_areas": null,
            "grid_template_columns": null,
            "grid_template_rows": null,
            "height": null,
            "justify_content": null,
            "justify_items": null,
            "left": null,
            "margin": null,
            "max_height": null,
            "max_width": null,
            "min_height": null,
            "min_width": null,
            "object_fit": null,
            "object_position": null,
            "order": null,
            "overflow": null,
            "overflow_x": null,
            "overflow_y": null,
            "padding": null,
            "right": null,
            "top": null,
            "visibility": null,
            "width": null
          }
        },
        "b96d2b1986c34d0d95ef1087f82220b4": {
          "model_module": "@jupyter-widgets/controls",
          "model_name": "ButtonStyleModel",
          "model_module_version": "1.5.0",
          "state": {
            "_model_module": "@jupyter-widgets/controls",
            "_model_module_version": "1.5.0",
            "_model_name": "ButtonStyleModel",
            "_view_count": null,
            "_view_module": "@jupyter-widgets/base",
            "_view_module_version": "1.2.0",
            "_view_name": "StyleView",
            "button_color": null,
            "font_weight": ""
          }
        },
        "236175b213134256bc5f37a5a0a242ea": {
          "model_module": "@jupyter-widgets/base",
          "model_name": "LayoutModel",
          "model_module_version": "1.2.0",
          "state": {
            "_model_module": "@jupyter-widgets/base",
            "_model_module_version": "1.2.0",
            "_model_name": "LayoutModel",
            "_view_count": null,
            "_view_module": "@jupyter-widgets/base",
            "_view_module_version": "1.2.0",
            "_view_name": "LayoutView",
            "align_content": null,
            "align_items": null,
            "align_self": null,
            "border": null,
            "bottom": null,
            "display": null,
            "flex": null,
            "flex_flow": null,
            "grid_area": null,
            "grid_auto_columns": null,
            "grid_auto_flow": null,
            "grid_auto_rows": null,
            "grid_column": null,
            "grid_gap": null,
            "grid_row": null,
            "grid_template_areas": null,
            "grid_template_columns": null,
            "grid_template_rows": null,
            "height": null,
            "justify_content": null,
            "justify_items": null,
            "left": null,
            "margin": null,
            "max_height": null,
            "max_width": null,
            "min_height": null,
            "min_width": null,
            "object_fit": null,
            "object_position": null,
            "order": null,
            "overflow": null,
            "overflow_x": null,
            "overflow_y": null,
            "padding": null,
            "right": null,
            "top": null,
            "visibility": null,
            "width": null
          }
        },
        "5ee06bb983ae4c64a17dadf6b35c4b8c": {
          "model_module": "@jupyter-widgets/controls",
          "model_name": "DescriptionStyleModel",
          "model_module_version": "1.5.0",
          "state": {
            "_model_module": "@jupyter-widgets/controls",
            "_model_module_version": "1.5.0",
            "_model_name": "DescriptionStyleModel",
            "_view_count": null,
            "_view_module": "@jupyter-widgets/base",
            "_view_module_version": "1.2.0",
            "_view_name": "StyleView",
            "description_width": ""
          }
        }
      }
    }
  },
  "nbformat": 4,
  "nbformat_minor": 0
}